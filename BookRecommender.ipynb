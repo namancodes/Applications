{
  "nbformat": 4,
  "nbformat_minor": 0,
  "metadata": {
    "kernelspec": {
      "display_name": "Python 3",
      "language": "python",
      "name": "python3"
    },
    "language_info": {
      "codemirror_mode": {
        "name": "ipython",
        "version": 3
      },
      "file_extension": ".py",
      "mimetype": "text/x-python",
      "name": "python",
      "nbconvert_exporter": "python",
      "pygments_lexer": "ipython3",
      "version": "3.6.7"
    },
    "colab": {
      "name": "BookRecommender.ipynb",
      "provenance": [],
      "collapsed_sections": [],
      "toc_visible": true
    }
  },
  "cells": [
    {
      "cell_type": "markdown",
      "metadata": {
        "id": "xQXzNcZRfhen"
      },
      "source": [
        "# **Book Recommendation System**"
      ]
    },
    {
      "cell_type": "markdown",
      "metadata": {
        "id": "Rn2N-bc0fhe0"
      },
      "source": [
        "#### Read the dataset with the necessary features"
      ]
    },
    {
      "cell_type": "code",
      "metadata": {
        "id": "StqWiMpDfhe2"
      },
      "source": [
        "import pandas as pd\n",
        "import numpy as np\n",
        "import matplotlib.pyplot as plt\n",
        "%matplotlib inline"
      ],
      "execution_count": 7,
      "outputs": []
    },
    {
      "cell_type": "code",
      "metadata": {
        "colab": {
          "base_uri": "https://localhost:8080/"
        },
        "id": "sd6O_g3pgtRq",
        "outputId": "ed796228-4a09-4fb7-97f2-53bea456e7c3"
      },
      "source": [
        "books = pd.read_csv('Books.csv', sep=';', quoting=3, error_bad_lines=False, encoding=\"latin-1\")\n",
        "ratings = pd.read_csv('BookRatings.csv', sep=';', quoting=3, error_bad_lines=False, encoding=\"latin-1\")"
      ],
      "execution_count": 12,
      "outputs": [
        {
          "output_type": "stream",
          "text": [
            "b'Skipping line 6: expected 8 fields, saw 9\\nSkipping line 23: expected 8 fields, saw 9\\nSkipping line 25: expected 8 fields, saw 10\\nSkipping line 39: expected 8 fields, saw 9\\nSkipping line 85: expected 8 fields, saw 9\\nSkipping line 86: expected 8 fields, saw 9\\nSkipping line 120: expected 8 fields, saw 9\\nSkipping line 142: expected 8 fields, saw 9\\nSkipping line 193: expected 8 fields, saw 9\\nSkipping line 195: expected 8 fields, saw 9\\nSkipping line 205: expected 8 fields, saw 9\\nSkipping line 241: expected 8 fields, saw 9\\nSkipping line 293: expected 8 fields, saw 9\\nSkipping line 294: expected 8 fields, saw 9\\nSkipping line 304: expected 8 fields, saw 9\\nSkipping line 316: expected 8 fields, saw 9\\nSkipping line 351: expected 8 fields, saw 9\\nSkipping line 355: expected 8 fields, saw 9\\nSkipping line 394: expected 8 fields, saw 9\\nSkipping line 395: expected 8 fields, saw 9\\nSkipping line 427: expected 8 fields, saw 9\\nSkipping line 466: expected 8 fields, saw 9\\nSkipping line 503: expected 8 fields, saw 9\\nSkipping line 507: expected 8 fields, saw 9\\nSkipping line 508: expected 8 fields, saw 9\\nSkipping line 526: expected 8 fields, saw 9\\nSkipping line 556: expected 8 fields, saw 9\\nSkipping line 616: expected 8 fields, saw 9\\nSkipping line 624: expected 8 fields, saw 9\\nSkipping line 652: expected 8 fields, saw 9\\nSkipping line 688: expected 8 fields, saw 9\\nSkipping line 693: expected 8 fields, saw 9\\nSkipping line 765: expected 8 fields, saw 9\\nSkipping line 766: expected 8 fields, saw 9\\nSkipping line 767: expected 8 fields, saw 9\\nSkipping line 769: expected 8 fields, saw 9\\nSkipping line 791: expected 8 fields, saw 9\\nSkipping line 794: expected 8 fields, saw 9\\nSkipping line 808: expected 8 fields, saw 9\\nSkipping line 827: expected 8 fields, saw 11\\nSkipping line 845: expected 8 fields, saw 9\\nSkipping line 847: expected 8 fields, saw 9\\nSkipping line 873: expected 8 fields, saw 9\\nSkipping line 935: expected 8 fields, saw 9\\nSkipping line 936: expected 8 fields, saw 9\\nSkipping line 958: expected 8 fields, saw 9\\nSkipping line 1005: expected 8 fields, saw 9\\nSkipping line 1022: expected 8 fields, saw 9\\nSkipping line 1089: expected 8 fields, saw 9\\nSkipping line 1090: expected 8 fields, saw 9\\nSkipping line 1110: expected 8 fields, saw 9\\nSkipping line 1116: expected 8 fields, saw 9\\nSkipping line 1121: expected 8 fields, saw 9\\nSkipping line 1129: expected 8 fields, saw 9\\nSkipping line 1134: expected 8 fields, saw 9\\nSkipping line 1153: expected 8 fields, saw 9\\nSkipping line 1157: expected 8 fields, saw 9\\nSkipping line 1170: expected 8 fields, saw 9\\nSkipping line 1199: expected 8 fields, saw 9\\nSkipping line 1225: expected 8 fields, saw 9\\nSkipping line 1253: expected 8 fields, saw 9\\nSkipping line 1287: expected 8 fields, saw 9\\nSkipping line 1289: expected 8 fields, saw 9\\nSkipping line 1293: expected 8 fields, saw 9\\nSkipping line 1347: expected 8 fields, saw 9\\nSkipping line 1368: expected 8 fields, saw 9\\nSkipping line 1370: expected 8 fields, saw 9\\nSkipping line 1414: expected 8 fields, saw 9\\nSkipping line 1443: expected 8 fields, saw 9\\nSkipping line 1511: expected 8 fields, saw 9\\nSkipping line 1539: expected 8 fields, saw 9\\nSkipping line 1602: expected 8 fields, saw 9\\nSkipping line 1603: expected 8 fields, saw 9\\nSkipping line 1635: expected 8 fields, saw 9\\nSkipping line 1671: expected 8 fields, saw 9\\nSkipping line 1679: expected 8 fields, saw 9\\nSkipping line 1681: expected 8 fields, saw 9\\nSkipping line 1688: expected 8 fields, saw 9\\nSkipping line 1689: expected 8 fields, saw 9\\nSkipping line 1690: expected 8 fields, saw 10\\nSkipping line 1700: expected 8 fields, saw 9\\nSkipping line 1701: expected 8 fields, saw 9\\nSkipping line 1708: expected 8 fields, saw 9\\nSkipping line 1711: expected 8 fields, saw 9\\nSkipping line 1726: expected 8 fields, saw 9\\nSkipping line 1737: expected 8 fields, saw 9\\nSkipping line 1803: expected 8 fields, saw 9\\nSkipping line 1808: expected 8 fields, saw 9\\nSkipping line 1844: expected 8 fields, saw 9\\nSkipping line 1850: expected 8 fields, saw 9\\nSkipping line 1851: expected 8 fields, saw 9\\nSkipping line 1880: expected 8 fields, saw 9\\nSkipping line 1883: expected 8 fields, saw 9\\nSkipping line 1887: expected 8 fields, saw 9\\nSkipping line 1903: expected 8 fields, saw 9\\nSkipping line 1904: expected 8 fields, saw 10\\nSkipping line 1916: expected 8 fields, saw 9\\nSkipping line 1925: expected 8 fields, saw 9\\nSkipping line 1966: expected 8 fields, saw 9\\nSkipping line 1973: expected 8 fields, saw 9\\nSkipping line 1976: expected 8 fields, saw 9\\nSkipping line 2029: expected 8 fields, saw 9\\nSkipping line 2034: expected 8 fields, saw 9\\nSkipping line 2047: expected 8 fields, saw 9\\nSkipping line 2048: expected 8 fields, saw 9\\nSkipping line 2050: expected 8 fields, saw 9\\nSkipping line 2067: expected 8 fields, saw 9\\nSkipping line 2070: expected 8 fields, saw 9\\nSkipping line 2079: expected 8 fields, saw 9\\nSkipping line 2099: expected 8 fields, saw 9\\nSkipping line 2110: expected 8 fields, saw 9\\nSkipping line 2126: expected 8 fields, saw 9\\nSkipping line 2150: expected 8 fields, saw 9\\nSkipping line 2177: expected 8 fields, saw 9\\nSkipping line 2209: expected 8 fields, saw 9\\nSkipping line 2295: expected 8 fields, saw 9\\nSkipping line 2307: expected 8 fields, saw 9\\nSkipping line 2310: expected 8 fields, saw 9\\nSkipping line 2313: expected 8 fields, saw 9\\nSkipping line 2320: expected 8 fields, saw 9\\nSkipping line 2331: expected 8 fields, saw 9\\nSkipping line 2393: expected 8 fields, saw 9\\nSkipping line 2402: expected 8 fields, saw 9\\nSkipping line 2409: expected 8 fields, saw 9\\nSkipping line 2410: expected 8 fields, saw 9\\nSkipping line 2422: expected 8 fields, saw 9\\nSkipping line 2426: expected 8 fields, saw 9\\nSkipping line 2431: expected 8 fields, saw 9\\nSkipping line 2451: expected 8 fields, saw 9\\nSkipping line 2458: expected 8 fields, saw 9\\nSkipping line 2472: expected 8 fields, saw 9\\nSkipping line 2515: expected 8 fields, saw 9\\nSkipping line 2521: expected 8 fields, saw 9\\nSkipping line 2532: expected 8 fields, saw 9\\nSkipping line 2533: expected 8 fields, saw 9\\nSkipping line 2536: expected 8 fields, saw 9\\nSkipping line 2549: expected 8 fields, saw 9\\nSkipping line 2550: expected 8 fields, saw 9\\nSkipping line 2584: expected 8 fields, saw 9\\nSkipping line 2627: expected 8 fields, saw 9\\nSkipping line 2639: expected 8 fields, saw 9\\nSkipping line 2750: expected 8 fields, saw 9\\nSkipping line 2757: expected 8 fields, saw 9\\nSkipping line 2773: expected 8 fields, saw 9\\nSkipping line 2896: expected 8 fields, saw 9\\nSkipping line 2904: expected 8 fields, saw 9\\nSkipping line 2905: expected 8 fields, saw 9\\nSkipping line 2912: expected 8 fields, saw 9\\nSkipping line 2967: expected 8 fields, saw 9\\nSkipping line 3009: expected 8 fields, saw 9\\nSkipping line 3019: expected 8 fields, saw 9\\nSkipping line 3038: expected 8 fields, saw 10\\nSkipping line 3053: expected 8 fields, saw 9\\nSkipping line 3112: expected 8 fields, saw 9\\nSkipping line 3123: expected 8 fields, saw 9\\nSkipping line 3144: expected 8 fields, saw 9\\nSkipping line 3149: expected 8 fields, saw 9\\nSkipping line 3186: expected 8 fields, saw 9\\nSkipping line 3204: expected 8 fields, saw 9\\nSkipping line 3229: expected 8 fields, saw 9\\nSkipping line 3233: expected 8 fields, saw 9\\nSkipping line 3242: expected 8 fields, saw 9\\nSkipping line 3251: expected 8 fields, saw 9\\nSkipping line 3256: expected 8 fields, saw 9\\nSkipping line 3265: expected 8 fields, saw 9\\nSkipping line 3277: expected 8 fields, saw 9\\nSkipping line 3278: expected 8 fields, saw 9\\nSkipping line 3287: expected 8 fields, saw 9\\nSkipping line 3296: expected 8 fields, saw 9\\nSkipping line 3297: expected 8 fields, saw 9\\nSkipping line 3322: expected 8 fields, saw 9\\nSkipping line 3361: expected 8 fields, saw 9\\nSkipping line 3391: expected 8 fields, saw 9\\nSkipping line 3394: expected 8 fields, saw 9\\nSkipping line 3425: expected 8 fields, saw 9\\nSkipping line 3441: expected 8 fields, saw 9\\nSkipping line 3448: expected 8 fields, saw 9\\nSkipping line 3458: expected 8 fields, saw 9\\nSkipping line 3473: expected 8 fields, saw 9\\nSkipping line 3493: expected 8 fields, saw 9\\nSkipping line 3499: expected 8 fields, saw 9\\nSkipping line 3504: expected 8 fields, saw 9\\nSkipping line 3507: expected 8 fields, saw 9\\nSkipping line 3536: expected 8 fields, saw 9\\nSkipping line 3551: expected 8 fields, saw 9\\nSkipping line 3553: expected 8 fields, saw 9\\nSkipping line 3554: expected 8 fields, saw 9\\nSkipping line 3569: expected 8 fields, saw 9\\nSkipping line 3570: expected 8 fields, saw 9\\nSkipping line 3571: expected 8 fields, saw 9\\nSkipping line 3580: expected 8 fields, saw 9\\nSkipping line 3599: expected 8 fields, saw 9\\nSkipping line 3603: expected 8 fields, saw 11\\nSkipping line 3607: expected 8 fields, saw 9\\nSkipping line 3616: expected 8 fields, saw 9\\nSkipping line 3620: expected 8 fields, saw 9\\nSkipping line 3623: expected 8 fields, saw 9\\nSkipping line 3625: expected 8 fields, saw 9\\nSkipping line 3628: expected 8 fields, saw 9\\nSkipping line 3647: expected 8 fields, saw 9\\nSkipping line 3651: expected 8 fields, saw 9\\nSkipping line 3675: expected 8 fields, saw 9\\nSkipping line 3684: expected 8 fields, saw 9\\nSkipping line 3741: expected 8 fields, saw 9\\nSkipping line 3744: expected 8 fields, saw 9\\nSkipping line 3786: expected 8 fields, saw 9\\nSkipping line 3795: expected 8 fields, saw 9\\nSkipping line 3802: expected 8 fields, saw 9\\nSkipping line 3808: expected 8 fields, saw 9\\nSkipping line 3811: expected 8 fields, saw 9\\nSkipping line 3820: expected 8 fields, saw 9\\nSkipping line 3835: expected 8 fields, saw 9\\nSkipping line 3847: expected 8 fields, saw 10\\nSkipping line 3911: expected 8 fields, saw 9\\nSkipping line 3927: expected 8 fields, saw 9\\nSkipping line 3935: expected 8 fields, saw 9\\nSkipping line 3944: expected 8 fields, saw 9\\nSkipping line 3980: expected 8 fields, saw 9\\nSkipping line 4026: expected 8 fields, saw 10\\nSkipping line 4063: expected 8 fields, saw 9\\nSkipping line 4104: expected 8 fields, saw 9\\nSkipping line 4113: expected 8 fields, saw 9\\nSkipping line 4127: expected 8 fields, saw 9\\nSkipping line 4160: expected 8 fields, saw 10\\nSkipping line 4218: expected 8 fields, saw 9\\nSkipping line 4240: expected 8 fields, saw 9\\nSkipping line 4242: expected 8 fields, saw 9\\nSkipping line 4250: expected 8 fields, saw 9\\nSkipping line 4268: expected 8 fields, saw 9\\nSkipping line 4270: expected 8 fields, saw 9\\nSkipping line 4283: expected 8 fields, saw 9\\nSkipping line 4304: expected 8 fields, saw 9\\nSkipping line 4321: expected 8 fields, saw 9\\nSkipping line 4336: expected 8 fields, saw 9\\nSkipping line 4338: expected 8 fields, saw 9\\nSkipping line 4341: expected 8 fields, saw 9\\nSkipping line 4349: expected 8 fields, saw 9\\nSkipping line 4412: expected 8 fields, saw 9\\nSkipping line 4463: expected 8 fields, saw 9\\nSkipping line 4466: expected 8 fields, saw 9\\nSkipping line 4474: expected 8 fields, saw 9\\nSkipping line 4529: expected 8 fields, saw 9\\nSkipping line 4533: expected 8 fields, saw 9\\nSkipping line 4552: expected 8 fields, saw 9\\nSkipping line 4572: expected 8 fields, saw 9\\nSkipping line 4576: expected 8 fields, saw 9\\nSkipping line 4582: expected 8 fields, saw 9\\nSkipping line 4584: expected 8 fields, saw 9\\nSkipping line 4586: expected 8 fields, saw 9\\nSkipping line 4607: expected 8 fields, saw 9\\nSkipping line 4631: expected 8 fields, saw 9\\nSkipping line 4660: expected 8 fields, saw 9\\nSkipping line 4684: expected 8 fields, saw 9\\nSkipping line 4693: expected 8 fields, saw 9\\nSkipping line 4697: expected 8 fields, saw 9\\nSkipping line 4709: expected 8 fields, saw 9\\nSkipping line 4710: expected 8 fields, saw 9\\nSkipping line 4730: expected 8 fields, saw 9\\nSkipping line 4745: expected 8 fields, saw 9\\nSkipping line 4756: expected 8 fields, saw 9\\nSkipping line 4770: expected 8 fields, saw 9\\nSkipping line 4772: expected 8 fields, saw 9\\nSkipping line 4787: expected 8 fields, saw 9\\nSkipping line 4849: expected 8 fields, saw 9\\nSkipping line 4897: expected 8 fields, saw 9\\nSkipping line 4911: expected 8 fields, saw 9\\nSkipping line 4941: expected 8 fields, saw 9\\nSkipping line 4944: expected 8 fields, saw 9\\nSkipping line 4947: expected 8 fields, saw 9\\nSkipping line 4964: expected 8 fields, saw 9\\nSkipping line 4990: expected 8 fields, saw 9\\nSkipping line 4999: expected 8 fields, saw 9\\nSkipping line 5008: expected 8 fields, saw 9\\nSkipping line 5013: expected 8 fields, saw 9\\nSkipping line 5015: expected 8 fields, saw 9\\nSkipping line 5019: expected 8 fields, saw 9\\nSkipping line 5038: expected 8 fields, saw 9\\nSkipping line 5063: expected 8 fields, saw 9\\nSkipping line 5069: expected 8 fields, saw 9\\nSkipping line 5070: expected 8 fields, saw 10\\nSkipping line 5071: expected 8 fields, saw 9\\nSkipping line 5104: expected 8 fields, saw 9\\nSkipping line 5110: expected 8 fields, saw 9\\nSkipping line 5118: expected 8 fields, saw 9\\nSkipping line 5125: expected 8 fields, saw 9\\nSkipping line 5137: expected 8 fields, saw 9\\nSkipping line 5184: expected 8 fields, saw 9\\nSkipping line 5188: expected 8 fields, saw 9\\nSkipping line 5201: expected 8 fields, saw 9\\nSkipping line 5236: expected 8 fields, saw 9\\nSkipping line 5237: expected 8 fields, saw 9\\nSkipping line 5239: expected 8 fields, saw 9\\nSkipping line 5266: expected 8 fields, saw 9\\nSkipping line 5274: expected 8 fields, saw 9\\nSkipping line 5275: expected 8 fields, saw 9\\nSkipping line 5278: expected 8 fields, saw 9\\nSkipping line 5296: expected 8 fields, saw 9\\nSkipping line 5309: expected 8 fields, saw 9\\nSkipping line 5323: expected 8 fields, saw 9\\nSkipping line 5341: expected 8 fields, saw 9\\nSkipping line 5355: expected 8 fields, saw 9\\nSkipping line 5362: expected 8 fields, saw 9\\nSkipping line 5429: expected 8 fields, saw 9\\nSkipping line 5441: expected 8 fields, saw 9\\nSkipping line 5442: expected 8 fields, saw 9\\nSkipping line 5446: expected 8 fields, saw 9\\nSkipping line 5459: expected 8 fields, saw 9\\nSkipping line 5467: expected 8 fields, saw 9\\nSkipping line 5472: expected 8 fields, saw 9\\nSkipping line 5473: expected 8 fields, saw 9\\nSkipping line 5503: expected 8 fields, saw 9\\nSkipping line 5517: expected 8 fields, saw 9\\nSkipping line 5520: expected 8 fields, saw 9\\nSkipping line 5523: expected 8 fields, saw 9\\nSkipping line 5541: expected 8 fields, saw 10\\nSkipping line 5553: expected 8 fields, saw 9\\nSkipping line 5561: expected 8 fields, saw 9\\nSkipping line 5580: expected 8 fields, saw 9\\nSkipping line 5630: expected 8 fields, saw 9\\nSkipping line 5685: expected 8 fields, saw 9\\nSkipping line 5695: expected 8 fields, saw 9\\nSkipping line 5697: expected 8 fields, saw 9\\nSkipping line 5698: expected 8 fields, saw 9\\nSkipping line 5700: expected 8 fields, saw 9\\nSkipping line 5736: expected 8 fields, saw 9\\nSkipping line 5749: expected 8 fields, saw 10\\nSkipping line 5768: expected 8 fields, saw 9\\nSkipping line 5772: expected 8 fields, saw 9\\nSkipping line 5775: expected 8 fields, saw 9\\nSkipping line 5807: expected 8 fields, saw 9\\nSkipping line 5809: expected 8 fields, saw 9\\nSkipping line 5812: expected 8 fields, saw 9\\nSkipping line 5822: expected 8 fields, saw 9\\nSkipping line 5831: expected 8 fields, saw 9\\nSkipping line 5886: expected 8 fields, saw 9\\nSkipping line 5888: expected 8 fields, saw 9\\nSkipping line 5890: expected 8 fields, saw 9\\nSkipping line 5902: expected 8 fields, saw 9\\nSkipping line 5917: expected 8 fields, saw 9\\nSkipping line 5923: expected 8 fields, saw 10\\nSkipping line 5942: expected 8 fields, saw 9\\nSkipping line 5997: expected 8 fields, saw 9\\nSkipping line 5998: expected 8 fields, saw 9\\nSkipping line 6000: expected 8 fields, saw 10\\nSkipping line 6001: expected 8 fields, saw 9\\nSkipping line 6078: expected 8 fields, saw 9\\nSkipping line 6156: expected 8 fields, saw 9\\nSkipping line 6190: expected 8 fields, saw 9\\nSkipping line 6205: expected 8 fields, saw 9\\nSkipping line 6251: expected 8 fields, saw 9\\nSkipping line 6274: expected 8 fields, saw 9\\nSkipping line 6276: expected 8 fields, saw 9\\nSkipping line 6325: expected 8 fields, saw 9\\nSkipping line 6326: expected 8 fields, saw 9\\nSkipping line 6354: expected 8 fields, saw 10\\nSkipping line 6356: expected 8 fields, saw 9\\nSkipping line 6392: expected 8 fields, saw 9\\nSkipping line 6410: expected 8 fields, saw 9\\nSkipping line 6415: expected 8 fields, saw 9\\nSkipping line 6427: expected 8 fields, saw 9\\nSkipping line 6444: expected 8 fields, saw 9\\nSkipping line 6452: expected 8 fields, saw 9\\nSkipping line 6456: expected 8 fields, saw 9\\nSkipping line 6472: expected 8 fields, saw 9\\nSkipping line 6477: expected 8 fields, saw 10\\nSkipping line 6479: expected 8 fields, saw 9\\nSkipping line 6528: expected 8 fields, saw 9\\nSkipping line 6536: expected 8 fields, saw 9\\nSkipping line 6572: expected 8 fields, saw 9\\nSkipping line 6573: expected 8 fields, saw 9\\nSkipping line 6602: expected 8 fields, saw 9\\nSkipping line 6608: expected 8 fields, saw 9\\nSkipping line 6613: expected 8 fields, saw 9\\nSkipping line 6638: expected 8 fields, saw 9\\nSkipping line 6670: expected 8 fields, saw 9\\nSkipping line 6674: expected 8 fields, saw 9\\nSkipping line 6716: expected 8 fields, saw 9\\nSkipping line 6720: expected 8 fields, saw 9\\nSkipping line 6748: expected 8 fields, saw 9\\nSkipping line 6776: expected 8 fields, saw 9\\nSkipping line 6783: expected 8 fields, saw 9\\nSkipping line 6797: expected 8 fields, saw 9\\nSkipping line 6823: expected 8 fields, saw 9\\nSkipping line 6825: expected 8 fields, saw 9\\nSkipping line 6836: expected 8 fields, saw 10\\nSkipping line 6857: expected 8 fields, saw 9\\nSkipping line 6895: expected 8 fields, saw 9\\nSkipping line 6916: expected 8 fields, saw 9\\nSkipping line 6931: expected 8 fields, saw 9\\nSkipping line 6968: expected 8 fields, saw 9\\nSkipping line 6970: expected 8 fields, saw 9\\nSkipping line 6975: expected 8 fields, saw 9\\nSkipping line 6976: expected 8 fields, saw 9\\nSkipping line 6977: expected 8 fields, saw 9\\nSkipping line 6982: expected 8 fields, saw 9\\nSkipping line 6988: expected 8 fields, saw 9\\nSkipping line 7005: expected 8 fields, saw 9\\nSkipping line 7038: expected 8 fields, saw 9\\nSkipping line 7043: expected 8 fields, saw 10\\nSkipping line 7046: expected 8 fields, saw 9\\nSkipping line 7105: expected 8 fields, saw 9\\nSkipping line 7119: expected 8 fields, saw 9\\nSkipping line 7147: expected 8 fields, saw 9\\nSkipping line 7201: expected 8 fields, saw 9\\nSkipping line 7238: expected 8 fields, saw 9\\nSkipping line 7239: expected 8 fields, saw 9\\nSkipping line 7257: expected 8 fields, saw 9\\nSkipping line 7278: expected 8 fields, saw 9\\nSkipping line 7281: expected 8 fields, saw 9\\nSkipping line 7293: expected 8 fields, saw 9\\nSkipping line 7294: expected 8 fields, saw 9\\nSkipping line 7320: expected 8 fields, saw 9\\nSkipping line 7322: expected 8 fields, saw 9\\nSkipping line 7325: expected 8 fields, saw 9\\nSkipping line 7346: expected 8 fields, saw 9\\nSkipping line 7350: expected 8 fields, saw 9\\nSkipping line 7360: expected 8 fields, saw 9\\nSkipping line 7379: expected 8 fields, saw 9\\nSkipping line 7428: expected 8 fields, saw 9\\nSkipping line 7454: expected 8 fields, saw 9\\nSkipping line 7477: expected 8 fields, saw 9\\nSkipping line 7488: expected 8 fields, saw 9\\nSkipping line 7497: expected 8 fields, saw 9\\nSkipping line 7541: expected 8 fields, saw 9\\nSkipping line 7543: expected 8 fields, saw 9\\nSkipping line 7558: expected 8 fields, saw 9\\nSkipping line 7574: expected 8 fields, saw 9\\nSkipping line 7668: expected 8 fields, saw 9\\nSkipping line 7675: expected 8 fields, saw 9\\nSkipping line 7695: expected 8 fields, saw 9\\nSkipping line 7706: expected 8 fields, saw 9\\nSkipping line 7708: expected 8 fields, saw 9\\nSkipping line 7732: expected 8 fields, saw 9\\nSkipping line 7843: expected 8 fields, saw 9\\nSkipping line 7845: expected 8 fields, saw 9\\nSkipping line 7888: expected 8 fields, saw 9\\nSkipping line 7966: expected 8 fields, saw 9\\nSkipping line 7979: expected 8 fields, saw 9\\nSkipping line 8010: expected 8 fields, saw 9\\nSkipping line 8011: expected 8 fields, saw 10\\nSkipping line 8012: expected 8 fields, saw 9\\nSkipping line 8013: expected 8 fields, saw 9\\nSkipping line 8036: expected 8 fields, saw 9\\nSkipping line 8055: expected 8 fields, saw 9\\nSkipping line 8134: expected 8 fields, saw 9\\nSkipping line 8137: expected 8 fields, saw 9\\nSkipping line 8155: expected 8 fields, saw 9\\nSkipping line 8158: expected 8 fields, saw 9\\nSkipping line 8188: expected 8 fields, saw 9\\nSkipping line 8189: expected 8 fields, saw 9\\nSkipping line 8196: expected 8 fields, saw 9\\nSkipping line 8210: expected 8 fields, saw 10\\nSkipping line 8246: expected 8 fields, saw 9\\nSkipping line 8313: expected 8 fields, saw 9\\nSkipping line 8348: expected 8 fields, saw 9\\nSkipping line 8402: expected 8 fields, saw 9\\nSkipping line 8451: expected 8 fields, saw 9\\nSkipping line 8466: expected 8 fields, saw 9\\nSkipping line 8481: expected 8 fields, saw 9\\nSkipping line 8500: expected 8 fields, saw 9\\nSkipping line 8567: expected 8 fields, saw 9\\nSkipping line 8574: expected 8 fields, saw 9\\nSkipping line 8600: expected 8 fields, saw 9\\nSkipping line 8615: expected 8 fields, saw 9\\nSkipping line 8618: expected 8 fields, saw 9\\nSkipping line 8624: expected 8 fields, saw 9\\nSkipping line 8666: expected 8 fields, saw 9\\nSkipping line 8679: expected 8 fields, saw 9\\nSkipping line 8718: expected 8 fields, saw 9\\nSkipping line 8769: expected 8 fields, saw 9\\nSkipping line 8789: expected 8 fields, saw 9\\nSkipping line 8847: expected 8 fields, saw 9\\nSkipping line 8851: expected 8 fields, saw 9\\nSkipping line 8864: expected 8 fields, saw 9\\nSkipping line 8882: expected 8 fields, saw 9\\nSkipping line 8890: expected 8 fields, saw 9\\nSkipping line 8902: expected 8 fields, saw 9\\nSkipping line 8914: expected 8 fields, saw 9\\nSkipping line 8924: expected 8 fields, saw 9\\nSkipping line 8944: expected 8 fields, saw 9\\nSkipping line 8966: expected 8 fields, saw 9\\nSkipping line 8967: expected 8 fields, saw 9\\nSkipping line 8969: expected 8 fields, saw 9\\nSkipping line 8975: expected 8 fields, saw 9\\nSkipping line 8991: expected 8 fields, saw 9\\nSkipping line 9050: expected 8 fields, saw 9\\nSkipping line 9070: expected 8 fields, saw 10\\nSkipping line 9101: expected 8 fields, saw 9\\nSkipping line 9127: expected 8 fields, saw 9\\nSkipping line 9147: expected 8 fields, saw 10\\nSkipping line 9171: expected 8 fields, saw 9\\nSkipping line 9201: expected 8 fields, saw 9\\nSkipping line 9224: expected 8 fields, saw 9\\nSkipping line 9237: expected 8 fields, saw 9\\nSkipping line 9238: expected 8 fields, saw 9\\nSkipping line 9243: expected 8 fields, saw 9\\nSkipping line 9252: expected 8 fields, saw 9\\nSkipping line 9253: expected 8 fields, saw 9\\nSkipping line 9264: expected 8 fields, saw 9\\nSkipping line 9277: expected 8 fields, saw 9\\nSkipping line 9292: expected 8 fields, saw 9\\nSkipping line 9298: expected 8 fields, saw 9\\nSkipping line 9314: expected 8 fields, saw 9\\nSkipping line 9315: expected 8 fields, saw 9\\nSkipping line 9325: expected 8 fields, saw 9\\nSkipping line 9331: expected 8 fields, saw 9\\nSkipping line 9350: expected 8 fields, saw 9\\nSkipping line 9355: expected 8 fields, saw 9\\nSkipping line 9356: expected 8 fields, saw 9\\nSkipping line 9366: expected 8 fields, saw 9\\nSkipping line 9371: expected 8 fields, saw 9\\nSkipping line 9389: expected 8 fields, saw 9\\nSkipping line 9408: expected 8 fields, saw 9\\nSkipping line 9462: expected 8 fields, saw 9\\nSkipping line 9468: expected 8 fields, saw 10\\nSkipping line 9470: expected 8 fields, saw 9\\nSkipping line 9492: expected 8 fields, saw 9\\nSkipping line 9507: expected 8 fields, saw 9\\nSkipping line 9508: expected 8 fields, saw 9\\nSkipping line 9509: expected 8 fields, saw 9\\nSkipping line 9541: expected 8 fields, saw 9\\nSkipping line 9542: expected 8 fields, saw 9\\nSkipping line 9559: expected 8 fields, saw 9\\nSkipping line 9572: expected 8 fields, saw 9\\nSkipping line 9575: expected 8 fields, saw 9\\nSkipping line 9590: expected 8 fields, saw 9\\nSkipping line 9612: expected 8 fields, saw 9\\nSkipping line 9652: expected 8 fields, saw 9\\nSkipping line 9657: expected 8 fields, saw 9\\nSkipping line 9665: expected 8 fields, saw 9\\nSkipping line 9680: expected 8 fields, saw 10\\nSkipping line 9766: expected 8 fields, saw 9\\nSkipping line 9799: expected 8 fields, saw 9\\nSkipping line 9801: expected 8 fields, saw 9\\nSkipping line 9814: expected 8 fields, saw 9\\nSkipping line 9826: expected 8 fields, saw 9\\nSkipping line 9882: expected 8 fields, saw 9\\nSkipping line 9893: expected 8 fields, saw 9\\nSkipping line 9910: expected 8 fields, saw 9\\nSkipping line 9929: expected 8 fields, saw 11\\nSkipping line 10006: expected 8 fields, saw 9\\nSkipping line 10009: expected 8 fields, saw 9\\nSkipping line 10034: expected 8 fields, saw 9\\nSkipping line 10040: expected 8 fields, saw 9\\nSkipping line 10042: expected 8 fields, saw 9\\nSkipping line 10049: expected 8 fields, saw 9\\nSkipping line 10058: expected 8 fields, saw 9\\nSkipping line 10070: expected 8 fields, saw 9\\nSkipping line 10092: expected 8 fields, saw 9\\nSkipping line 10093: expected 8 fields, saw 9\\nSkipping line 10110: expected 8 fields, saw 9\\nSkipping line 10152: expected 8 fields, saw 9\\nSkipping line 10155: expected 8 fields, saw 9\\nSkipping line 10159: expected 8 fields, saw 9\\nSkipping line 10198: expected 8 fields, saw 9\\nSkipping line 10199: expected 8 fields, saw 9\\nSkipping line 10200: expected 8 fields, saw 9\\nSkipping line 10201: expected 8 fields, saw 9\\nSkipping line 10202: expected 8 fields, saw 9\\nSkipping line 10221: expected 8 fields, saw 9\\nSkipping line 10235: expected 8 fields, saw 10\\nSkipping line 10263: expected 8 fields, saw 10\\nSkipping line 10272: expected 8 fields, saw 9\\nSkipping line 10276: expected 8 fields, saw 9\\nSkipping line 10284: expected 8 fields, saw 9\\nSkipping line 10298: expected 8 fields, saw 9\\nSkipping line 10338: expected 8 fields, saw 9\\nSkipping line 10347: expected 8 fields, saw 9\\nSkipping line 10353: expected 8 fields, saw 10\\nSkipping line 10357: expected 8 fields, saw 9\\nSkipping line 10371: expected 8 fields, saw 9\\nSkipping line 10395: expected 8 fields, saw 9\\nSkipping line 10404: expected 8 fields, saw 9\\nSkipping line 10407: expected 8 fields, saw 9\\nSkipping line 10410: expected 8 fields, saw 9\\nSkipping line 10464: expected 8 fields, saw 9\\nSkipping line 10471: expected 8 fields, saw 9\\nSkipping line 10475: expected 8 fields, saw 9\\nSkipping line 10485: expected 8 fields, saw 9\\nSkipping line 10498: expected 8 fields, saw 9\\nSkipping line 10520: expected 8 fields, saw 9\\nSkipping line 10578: expected 8 fields, saw 9\\nSkipping line 10599: expected 8 fields, saw 9\\nSkipping line 10600: expected 8 fields, saw 9\\nSkipping line 10623: expected 8 fields, saw 9\\nSkipping line 10635: expected 8 fields, saw 9\\nSkipping line 10643: expected 8 fields, saw 9\\nSkipping line 10654: expected 8 fields, saw 9\\nSkipping line 10656: expected 8 fields, saw 10\\nSkipping line 10664: expected 8 fields, saw 9\\nSkipping line 10674: expected 8 fields, saw 9\\nSkipping line 10675: expected 8 fields, saw 9\\nSkipping line 10678: expected 8 fields, saw 9\\nSkipping line 10687: expected 8 fields, saw 9\\nSkipping line 10690: expected 8 fields, saw 9\\nSkipping line 10742: expected 8 fields, saw 9\\nSkipping line 10750: expected 8 fields, saw 9\\nSkipping line 10781: expected 8 fields, saw 9\\nSkipping line 10825: expected 8 fields, saw 9\\nSkipping line 10843: expected 8 fields, saw 9\\nSkipping line 10846: expected 8 fields, saw 9\\nSkipping line 10859: expected 8 fields, saw 9\\nSkipping line 10862: expected 8 fields, saw 9\\nSkipping line 10863: expected 8 fields, saw 9\\nSkipping line 10879: expected 8 fields, saw 9\\nSkipping line 10882: expected 8 fields, saw 9\\nSkipping line 10966: expected 8 fields, saw 9\\nSkipping line 11071: expected 8 fields, saw 10\\nSkipping line 11074: expected 8 fields, saw 9\\nSkipping line 11080: expected 8 fields, saw 9\\nSkipping line 11083: expected 8 fields, saw 9\\nSkipping line 11085: expected 8 fields, saw 9\\nSkipping line 11087: expected 8 fields, saw 9\\nSkipping line 11110: expected 8 fields, saw 9\\nSkipping line 11124: expected 8 fields, saw 9\\nSkipping line 11145: expected 8 fields, saw 9\\nSkipping line 11150: expected 8 fields, saw 9\\nSkipping line 11153: expected 8 fields, saw 9\\nSkipping line 11161: expected 8 fields, saw 9\\nSkipping line 11173: expected 8 fields, saw 9\\nSkipping line 11198: expected 8 fields, saw 9\\nSkipping line 11218: expected 8 fields, saw 9\\nSkipping line 11219: expected 8 fields, saw 9\\nSkipping line 11243: expected 8 fields, saw 9\\nSkipping line 11282: expected 8 fields, saw 9\\nSkipping line 11283: expected 8 fields, saw 9\\nSkipping line 11297: expected 8 fields, saw 9\\nSkipping line 11298: expected 8 fields, saw 9\\nSkipping line 11325: expected 8 fields, saw 9\\nSkipping line 11348: expected 8 fields, saw 9\\nSkipping line 11354: expected 8 fields, saw 9\\nSkipping line 11357: expected 8 fields, saw 9\\nSkipping line 11366: expected 8 fields, saw 9\\nSkipping line 11376: expected 8 fields, saw 9\\nSkipping line 11409: expected 8 fields, saw 9\\nSkipping line 11423: expected 8 fields, saw 9\\nSkipping line 11483: expected 8 fields, saw 9\\nSkipping line 11490: expected 8 fields, saw 9\\nSkipping line 11491: expected 8 fields, saw 9\\nSkipping line 11492: expected 8 fields, saw 9\\nSkipping line 11499: expected 8 fields, saw 9\\nSkipping line 11500: expected 8 fields, saw 9\\nSkipping line 11564: expected 8 fields, saw 9\\nSkipping line 11567: expected 8 fields, saw 9\\nSkipping line 11571: expected 8 fields, saw 9\\nSkipping line 11572: expected 8 fields, saw 9\\nSkipping line 11596: expected 8 fields, saw 9\\nSkipping line 11600: expected 8 fields, saw 9\\nSkipping line 11669: expected 8 fields, saw 9\\nSkipping line 11674: expected 8 fields, saw 9\\nSkipping line 11692: expected 8 fields, saw 9\\nSkipping line 11704: expected 8 fields, saw 9\\nSkipping line 11709: expected 8 fields, saw 9\\nSkipping line 11731: expected 8 fields, saw 9\\nSkipping line 11738: expected 8 fields, saw 9\\nSkipping line 11744: expected 8 fields, saw 9\\nSkipping line 11770: expected 8 fields, saw 9\\nSkipping line 11777: expected 8 fields, saw 9\\nSkipping line 11783: expected 8 fields, saw 9\\nSkipping line 11818: expected 8 fields, saw 9\\nSkipping line 11860: expected 8 fields, saw 9\\nSkipping line 11861: expected 8 fields, saw 9\\nSkipping line 11863: expected 8 fields, saw 9\\nSkipping line 11865: expected 8 fields, saw 9\\nSkipping line 11872: expected 8 fields, saw 9\\nSkipping line 11906: expected 8 fields, saw 9\\nSkipping line 11920: expected 8 fields, saw 9\\nSkipping line 11934: expected 8 fields, saw 9\\nSkipping line 11937: expected 8 fields, saw 9\\nSkipping line 11940: expected 8 fields, saw 9\\nSkipping line 11961: expected 8 fields, saw 9\\nSkipping line 11984: expected 8 fields, saw 9\\nSkipping line 11987: expected 8 fields, saw 9\\nSkipping line 12001: expected 8 fields, saw 9\\nSkipping line 12010: expected 8 fields, saw 9\\nSkipping line 12028: expected 8 fields, saw 9\\nSkipping line 12029: expected 8 fields, saw 9\\nSkipping line 12030: expected 8 fields, saw 9\\nSkipping line 12031: expected 8 fields, saw 9\\nSkipping line 12040: expected 8 fields, saw 9\\nSkipping line 12047: expected 8 fields, saw 9\\nSkipping line 12075: expected 8 fields, saw 9\\nSkipping line 12086: expected 8 fields, saw 9\\nSkipping line 12089: expected 8 fields, saw 9\\nSkipping line 12107: expected 8 fields, saw 9\\nSkipping line 12127: expected 8 fields, saw 9\\nSkipping line 12153: expected 8 fields, saw 9\\nSkipping line 12157: expected 8 fields, saw 9\\nSkipping line 12169: expected 8 fields, saw 9\\nSkipping line 12179: expected 8 fields, saw 9\\nSkipping line 12183: expected 8 fields, saw 9\\nSkipping line 12199: expected 8 fields, saw 9\\nSkipping line 12221: expected 8 fields, saw 9\\nSkipping line 12241: expected 8 fields, saw 9\\nSkipping line 12259: expected 8 fields, saw 9\\nSkipping line 12270: expected 8 fields, saw 10\\nSkipping line 12312: expected 8 fields, saw 9\\nSkipping line 12317: expected 8 fields, saw 9\\nSkipping line 12382: expected 8 fields, saw 9\\nSkipping line 12403: expected 8 fields, saw 9\\nSkipping line 12440: expected 8 fields, saw 9\\nSkipping line 12448: expected 8 fields, saw 9\\nSkipping line 12470: expected 8 fields, saw 9\\nSkipping line 12475: expected 8 fields, saw 9\\nSkipping line 12482: expected 8 fields, saw 9\\nSkipping line 12534: expected 8 fields, saw 9\\nSkipping line 12570: expected 8 fields, saw 9\\nSkipping line 12590: expected 8 fields, saw 9\\nSkipping line 12610: expected 8 fields, saw 9\\nSkipping line 12632: expected 8 fields, saw 9\\nSkipping line 12669: expected 8 fields, saw 9\\nSkipping line 12683: expected 8 fields, saw 9\\nSkipping line 12728: expected 8 fields, saw 9\\nSkipping line 12733: expected 8 fields, saw 9\\nSkipping line 12746: expected 8 fields, saw 9\\nSkipping line 12769: expected 8 fields, saw 9\\nSkipping line 12831: expected 8 fields, saw 9\\nSkipping line 12843: expected 8 fields, saw 9\\nSkipping line 12858: expected 8 fields, saw 9\\nSkipping line 12873: expected 8 fields, saw 9\\nSkipping line 12874: expected 8 fields, saw 9\\nSkipping line 12883: expected 8 fields, saw 9\\nSkipping line 12896: expected 8 fields, saw 9\\nSkipping line 12917: expected 8 fields, saw 9\\nSkipping line 12919: expected 8 fields, saw 9\\nSkipping line 12945: expected 8 fields, saw 9\\nSkipping line 12947: expected 8 fields, saw 9\\nSkipping line 12949: expected 8 fields, saw 9\\nSkipping line 12994: expected 8 fields, saw 9\\nSkipping line 13000: expected 8 fields, saw 9\\nSkipping line 13065: expected 8 fields, saw 9\\nSkipping line 13078: expected 8 fields, saw 9\\nSkipping line 13097: expected 8 fields, saw 9\\nSkipping line 13111: expected 8 fields, saw 9\\nSkipping line 13136: expected 8 fields, saw 9\\nSkipping line 13138: expected 8 fields, saw 9\\nSkipping line 13147: expected 8 fields, saw 9\\nSkipping line 13148: expected 8 fields, saw 9\\nSkipping line 13153: expected 8 fields, saw 9\\nSkipping line 13156: expected 8 fields, saw 9\\nSkipping line 13173: expected 8 fields, saw 9\\nSkipping line 13177: expected 8 fields, saw 9\\nSkipping line 13189: expected 8 fields, saw 9\\nSkipping line 13201: expected 8 fields, saw 10\\nSkipping line 13236: expected 8 fields, saw 9\\nSkipping line 13245: expected 8 fields, saw 9\\nSkipping line 13246: expected 8 fields, saw 9\\nSkipping line 13248: expected 8 fields, saw 9\\nSkipping line 13249: expected 8 fields, saw 9\\nSkipping line 13263: expected 8 fields, saw 9\\nSkipping line 13302: expected 8 fields, saw 9\\nSkipping line 13317: expected 8 fields, saw 9\\nSkipping line 13328: expected 8 fields, saw 9\\nSkipping line 13337: expected 8 fields, saw 10\\nSkipping line 13339: expected 8 fields, saw 9\\nSkipping line 13350: expected 8 fields, saw 9\\nSkipping line 13366: expected 8 fields, saw 9\\nSkipping line 13369: expected 8 fields, saw 9\\nSkipping line 13377: expected 8 fields, saw 9\\nSkipping line 13400: expected 8 fields, saw 9\\nSkipping line 13405: expected 8 fields, saw 9\\nSkipping line 13409: expected 8 fields, saw 9\\nSkipping line 13427: expected 8 fields, saw 9\\nSkipping line 13437: expected 8 fields, saw 9\\nSkipping line 13454: expected 8 fields, saw 9\\nSkipping line 13473: expected 8 fields, saw 9\\nSkipping line 13479: expected 8 fields, saw 9\\nSkipping line 13487: expected 8 fields, saw 9\\nSkipping line 13492: expected 8 fields, saw 9\\nSkipping line 13502: expected 8 fields, saw 9\\nSkipping line 13503: expected 8 fields, saw 9\\nSkipping line 13518: expected 8 fields, saw 9\\nSkipping line 13530: expected 8 fields, saw 9\\nSkipping line 13532: expected 8 fields, saw 9\\nSkipping line 13544: expected 8 fields, saw 9\\nSkipping line 13549: expected 8 fields, saw 9\\nSkipping line 13560: expected 8 fields, saw 9\\nSkipping line 13574: expected 8 fields, saw 9\\nSkipping line 13619: expected 8 fields, saw 9\\nSkipping line 13626: expected 8 fields, saw 9\\nSkipping line 13635: expected 8 fields, saw 9\\nSkipping line 13640: expected 8 fields, saw 9\\nSkipping line 13642: expected 8 fields, saw 9\\nSkipping line 13655: expected 8 fields, saw 9\\nSkipping line 13705: expected 8 fields, saw 9\\nSkipping line 13720: expected 8 fields, saw 9\\nSkipping line 13734: expected 8 fields, saw 10\\nSkipping line 13757: expected 8 fields, saw 9\\nSkipping line 13777: expected 8 fields, saw 9\\nSkipping line 13841: expected 8 fields, saw 9\\nSkipping line 13873: expected 8 fields, saw 9\\nSkipping line 13876: expected 8 fields, saw 9\\nSkipping line 13908: expected 8 fields, saw 9\\nSkipping line 13937: expected 8 fields, saw 9\\nSkipping line 13975: expected 8 fields, saw 9\\nSkipping line 14025: expected 8 fields, saw 9\\nSkipping line 14029: expected 8 fields, saw 9\\nSkipping line 14033: expected 8 fields, saw 9\\nSkipping line 14043: expected 8 fields, saw 9\\nSkipping line 14053: expected 8 fields, saw 9\\nSkipping line 14055: expected 8 fields, saw 9\\nSkipping line 14061: expected 8 fields, saw 9\\nSkipping line 14074: expected 8 fields, saw 9\\nSkipping line 14078: expected 8 fields, saw 9\\nSkipping line 14095: expected 8 fields, saw 9\\nSkipping line 14133: expected 8 fields, saw 9\\nSkipping line 14134: expected 8 fields, saw 9\\nSkipping line 14160: expected 8 fields, saw 9\\nSkipping line 14201: expected 8 fields, saw 9\\nSkipping line 14220: expected 8 fields, saw 9\\nSkipping line 14235: expected 8 fields, saw 9\\nSkipping line 14260: expected 8 fields, saw 9\\nSkipping line 14275: expected 8 fields, saw 9\\nSkipping line 14291: expected 8 fields, saw 9\\nSkipping line 14302: expected 8 fields, saw 9\\nSkipping line 14322: expected 8 fields, saw 9\\nSkipping line 14323: expected 8 fields, saw 9\\nSkipping line 14345: expected 8 fields, saw 9\\nSkipping line 14346: expected 8 fields, saw 9\\nSkipping line 14359: expected 8 fields, saw 9\\nSkipping line 14373: expected 8 fields, saw 9\\nSkipping line 14375: expected 8 fields, saw 9\\nSkipping line 14377: expected 8 fields, saw 9\\nSkipping line 14381: expected 8 fields, saw 9\\nSkipping line 14389: expected 8 fields, saw 9\\nSkipping line 14438: expected 8 fields, saw 9\\nSkipping line 14458: expected 8 fields, saw 9\\nSkipping line 14461: expected 8 fields, saw 9\\nSkipping line 14484: expected 8 fields, saw 9\\nSkipping line 14488: expected 8 fields, saw 9\\nSkipping line 14507: expected 8 fields, saw 9\\nSkipping line 14509: expected 8 fields, saw 9\\nSkipping line 14525: expected 8 fields, saw 9\\nSkipping line 14529: expected 8 fields, saw 9\\nSkipping line 14537: expected 8 fields, saw 9\\nSkipping line 14593: expected 8 fields, saw 9\\nSkipping line 14668: expected 8 fields, saw 9\\nSkipping line 14699: expected 8 fields, saw 9\\nSkipping line 14718: expected 8 fields, saw 9\\nSkipping line 14731: expected 8 fields, saw 9\\nSkipping line 14735: expected 8 fields, saw 9\\nSkipping line 14763: expected 8 fields, saw 9\\nSkipping line 14772: expected 8 fields, saw 9\\nSkipping line 14779: expected 8 fields, saw 9\\nSkipping line 14783: expected 8 fields, saw 9\\nSkipping line 14790: expected 8 fields, saw 9\\nSkipping line 14792: expected 8 fields, saw 9\\nSkipping line 14813: expected 8 fields, saw 9\\nSkipping line 14837: expected 8 fields, saw 9\\nSkipping line 14842: expected 8 fields, saw 9\\nSkipping line 14893: expected 8 fields, saw 9\\nSkipping line 14936: expected 8 fields, saw 9\\nSkipping line 14937: expected 8 fields, saw 9\\nSkipping line 14947: expected 8 fields, saw 9\\nSkipping line 14948: expected 8 fields, saw 9\\nSkipping line 14952: expected 8 fields, saw 9\\nSkipping line 15006: expected 8 fields, saw 9\\nSkipping line 15025: expected 8 fields, saw 9\\nSkipping line 15032: expected 8 fields, saw 9\\nSkipping line 15050: expected 8 fields, saw 9\\nSkipping line 15053: expected 8 fields, saw 9\\nSkipping line 15055: expected 8 fields, saw 9\\nSkipping line 15056: expected 8 fields, saw 9\\nSkipping line 15059: expected 8 fields, saw 9\\nSkipping line 15069: expected 8 fields, saw 9\\nSkipping line 15116: expected 8 fields, saw 9\\nSkipping line 15131: expected 8 fields, saw 9\\nSkipping line 15139: expected 8 fields, saw 9\\nSkipping line 15140: expected 8 fields, saw 9\\nSkipping line 15146: expected 8 fields, saw 9\\nSkipping line 15147: expected 8 fields, saw 9\\nSkipping line 15149: expected 8 fields, saw 9\\nSkipping line 15167: expected 8 fields, saw 9\\nSkipping line 15168: expected 8 fields, saw 9\\nSkipping line 15177: expected 8 fields, saw 9\\nSkipping line 15185: expected 8 fields, saw 9\\nSkipping line 15197: expected 8 fields, saw 9\\nSkipping line 15256: expected 8 fields, saw 9\\nSkipping line 15282: expected 8 fields, saw 9\\nSkipping line 15288: expected 8 fields, saw 9\\nSkipping line 15295: expected 8 fields, saw 9\\nSkipping line 15309: expected 8 fields, saw 12\\nSkipping line 15320: expected 8 fields, saw 9\\nSkipping line 15338: expected 8 fields, saw 9\\nSkipping line 15340: expected 8 fields, saw 9\\nSkipping line 15342: expected 8 fields, saw 9\\nSkipping line 15348: expected 8 fields, saw 9\\nSkipping line 15361: expected 8 fields, saw 9\\nSkipping line 15364: expected 8 fields, saw 10\\nSkipping line 15367: expected 8 fields, saw 9\\nSkipping line 15373: expected 8 fields, saw 9\\nSkipping line 15386: expected 8 fields, saw 9\\nSkipping line 15406: expected 8 fields, saw 9\\nSkipping line 15504: expected 8 fields, saw 9\\nSkipping line 15518: expected 8 fields, saw 9\\nSkipping line 15523: expected 8 fields, saw 9\\nSkipping line 15553: expected 8 fields, saw 9\\nSkipping line 15652: expected 8 fields, saw 9\\nSkipping line 15715: expected 8 fields, saw 9\\nSkipping line 15742: expected 8 fields, saw 9\\nSkipping line 15752: expected 8 fields, saw 9\\nSkipping line 15761: expected 8 fields, saw 9\\nSkipping line 15764: expected 8 fields, saw 9\\nSkipping line 15899: expected 8 fields, saw 10\\nSkipping line 15905: expected 8 fields, saw 9\\nSkipping line 15915: expected 8 fields, saw 9\\nSkipping line 16039: expected 8 fields, saw 9\\nSkipping line 16042: expected 8 fields, saw 9\\nSkipping line 16053: expected 8 fields, saw 9\\nSkipping line 16081: expected 8 fields, saw 9\\nSkipping line 16106: expected 8 fields, saw 9\\nSkipping line 16153: expected 8 fields, saw 9\\nSkipping line 16176: expected 8 fields, saw 9\\nSkipping line 16177: expected 8 fields, saw 9\\nSkipping line 16191: expected 8 fields, saw 9\\nSkipping line 16217: expected 8 fields, saw 9\\nSkipping line 16224: expected 8 fields, saw 9\\nSkipping line 16237: expected 8 fields, saw 9\\nSkipping line 16249: expected 8 fields, saw 9\\nSkipping line 16389: expected 8 fields, saw 9\\nSkipping line 16390: expected 8 fields, saw 9\\nSkipping line 16423: expected 8 fields, saw 9\\nSkipping line 16435: expected 8 fields, saw 9\\nSkipping line 16449: expected 8 fields, saw 9\\nSkipping line 16453: expected 8 fields, saw 9\\nSkipping line 16456: expected 8 fields, saw 9\\nSkipping line 16463: expected 8 fields, saw 9\\nSkipping line 16472: expected 8 fields, saw 9\\nSkipping line 16477: expected 8 fields, saw 9\\nSkipping line 16493: expected 8 fields, saw 9\\nSkipping line 16497: expected 8 fields, saw 9\\nSkipping line 16608: expected 8 fields, saw 9\\nSkipping line 16610: expected 8 fields, saw 9\\nSkipping line 16614: expected 8 fields, saw 9\\nSkipping line 16623: expected 8 fields, saw 9\\nSkipping line 16635: expected 8 fields, saw 9\\nSkipping line 16636: expected 8 fields, saw 9\\nSkipping line 16656: expected 8 fields, saw 9\\nSkipping line 16684: expected 8 fields, saw 9\\nSkipping line 16723: expected 8 fields, saw 9\\nSkipping line 16731: expected 8 fields, saw 9\\nSkipping line 16741: expected 8 fields, saw 9\\nSkipping line 16743: expected 8 fields, saw 9\\nSkipping line 16744: expected 8 fields, saw 9\\nSkipping line 16798: expected 8 fields, saw 9\\nSkipping line 16815: expected 8 fields, saw 10\\nSkipping line 16816: expected 8 fields, saw 10\\nSkipping line 16825: expected 8 fields, saw 9\\nSkipping line 16831: expected 8 fields, saw 9\\nSkipping line 16850: expected 8 fields, saw 9\\nSkipping line 16859: expected 8 fields, saw 9\\nSkipping line 16874: expected 8 fields, saw 9\\nSkipping line 16888: expected 8 fields, saw 9\\nSkipping line 16897: expected 8 fields, saw 9\\nSkipping line 16899: expected 8 fields, saw 9\\nSkipping line 16911: expected 8 fields, saw 9\\nSkipping line 16918: expected 8 fields, saw 9\\nSkipping line 16932: expected 8 fields, saw 9\\nSkipping line 16935: expected 8 fields, saw 9\\nSkipping line 16948: expected 8 fields, saw 9\\nSkipping line 16956: expected 8 fields, saw 9\\nSkipping line 16982: expected 8 fields, saw 9\\nSkipping line 16986: expected 8 fields, saw 9\\nSkipping line 16990: expected 8 fields, saw 9\\nSkipping line 17007: expected 8 fields, saw 9\\nSkipping line 17025: expected 8 fields, saw 9\\nSkipping line 17090: expected 8 fields, saw 9\\nSkipping line 17099: expected 8 fields, saw 9\\nSkipping line 17120: expected 8 fields, saw 9\\nSkipping line 17129: expected 8 fields, saw 9\\nSkipping line 17137: expected 8 fields, saw 9\\nSkipping line 17142: expected 8 fields, saw 9\\nSkipping line 17154: expected 8 fields, saw 9\\nSkipping line 17157: expected 8 fields, saw 9\\nSkipping line 17158: expected 8 fields, saw 9\\nSkipping line 17164: expected 8 fields, saw 9\\nSkipping line 17210: expected 8 fields, saw 9\\nSkipping line 17222: expected 8 fields, saw 9\\nSkipping line 17240: expected 8 fields, saw 9\\nSkipping line 17246: expected 8 fields, saw 9\\nSkipping line 17248: expected 8 fields, saw 9\\nSkipping line 17250: expected 8 fields, saw 9\\nSkipping line 17254: expected 8 fields, saw 9\\nSkipping line 17261: expected 8 fields, saw 9\\nSkipping line 17262: expected 8 fields, saw 9\\nSkipping line 17267: expected 8 fields, saw 9\\nSkipping line 17268: expected 8 fields, saw 9\\nSkipping line 17271: expected 8 fields, saw 9\\nSkipping line 17275: expected 8 fields, saw 9\\nSkipping line 17280: expected 8 fields, saw 9\\nSkipping line 17300: expected 8 fields, saw 9\\nSkipping line 17330: expected 8 fields, saw 9\\nSkipping line 17344: expected 8 fields, saw 9\\nSkipping line 17349: expected 8 fields, saw 9\\nSkipping line 17350: expected 8 fields, saw 9\\nSkipping line 17362: expected 8 fields, saw 9\\nSkipping line 17368: expected 8 fields, saw 9\\nSkipping line 17369: expected 8 fields, saw 9\\nSkipping line 17378: expected 8 fields, saw 9\\nSkipping line 17408: expected 8 fields, saw 9\\nSkipping line 17448: expected 8 fields, saw 9\\nSkipping line 17453: expected 8 fields, saw 9\\nSkipping line 17464: expected 8 fields, saw 9\\nSkipping line 17465: expected 8 fields, saw 9\\nSkipping line 17489: expected 8 fields, saw 9\\nSkipping line 17524: expected 8 fields, saw 9\\nSkipping line 17525: expected 8 fields, saw 9\\nSkipping line 17528: expected 8 fields, saw 9\\nSkipping line 17553: expected 8 fields, saw 9\\nSkipping line 17571: expected 8 fields, saw 9\\nSkipping line 17577: expected 8 fields, saw 9\\nSkipping line 17593: expected 8 fields, saw 11\\nSkipping line 17601: expected 8 fields, saw 9\\nSkipping line 17609: expected 8 fields, saw 9\\nSkipping line 17628: expected 8 fields, saw 9\\nSkipping line 17631: expected 8 fields, saw 10\\nSkipping line 17639: expected 8 fields, saw 9\\nSkipping line 17672: expected 8 fields, saw 9\\nSkipping line 17693: expected 8 fields, saw 9\\nSkipping line 17708: expected 8 fields, saw 9\\nSkipping line 17734: expected 8 fields, saw 10\\nSkipping line 17735: expected 8 fields, saw 9\\nSkipping line 17747: expected 8 fields, saw 9\\nSkipping line 17748: expected 8 fields, saw 10\\nSkipping line 17761: expected 8 fields, saw 9\\nSkipping line 17765: expected 8 fields, saw 10\\nSkipping line 17774: expected 8 fields, saw 9\\nSkipping line 17779: expected 8 fields, saw 9\\nSkipping line 17792: expected 8 fields, saw 9\\nSkipping line 17820: expected 8 fields, saw 9\\nSkipping line 17821: expected 8 fields, saw 9\\nSkipping line 17902: expected 8 fields, saw 9\\nSkipping line 17916: expected 8 fields, saw 9\\nSkipping line 17934: expected 8 fields, saw 9\\nSkipping line 17958: expected 8 fields, saw 9\\nSkipping line 17976: expected 8 fields, saw 9\\nSkipping line 17981: expected 8 fields, saw 10\\nSkipping line 17983: expected 8 fields, saw 9\\nSkipping line 18075: expected 8 fields, saw 9\\nSkipping line 18076: expected 8 fields, saw 9\\nSkipping line 18285: expected 8 fields, saw 9\\nSkipping line 18313: expected 8 fields, saw 9\\nSkipping line 18327: expected 8 fields, saw 9\\nSkipping line 18329: expected 8 fields, saw 9\\nSkipping line 18332: expected 8 fields, saw 9\\nSkipping line 18338: expected 8 fields, saw 9\\nSkipping line 18346: expected 8 fields, saw 9\\nSkipping line 18351: expected 8 fields, saw 9\\nSkipping line 18352: expected 8 fields, saw 9\\nSkipping line 18355: expected 8 fields, saw 9\\nSkipping line 18376: expected 8 fields, saw 9\\nSkipping line 18382: expected 8 fields, saw 9\\nSkipping line 18413: expected 8 fields, saw 9\\nSkipping line 18426: expected 8 fields, saw 9\\nSkipping line 18433: expected 8 fields, saw 9\\nSkipping line 18471: expected 8 fields, saw 9\\nSkipping line 18507: expected 8 fields, saw 9\\nSkipping line 18532: expected 8 fields, saw 9\\nSkipping line 18539: expected 8 fields, saw 10\\nSkipping line 18541: expected 8 fields, saw 9\\nSkipping line 18551: expected 8 fields, saw 9\\nSkipping line 18555: expected 8 fields, saw 9\\nSkipping line 18556: expected 8 fields, saw 9\\nSkipping line 18558: expected 8 fields, saw 9\\nSkipping line 18582: expected 8 fields, saw 9\\nSkipping line 18584: expected 8 fields, saw 9\\nSkipping line 18590: expected 8 fields, saw 9\\nSkipping line 18592: expected 8 fields, saw 9\\nSkipping line 18617: expected 8 fields, saw 9\\nSkipping line 18620: expected 8 fields, saw 9\\nSkipping line 18703: expected 8 fields, saw 9\\nSkipping line 18709: expected 8 fields, saw 9\\nSkipping line 18711: expected 8 fields, saw 9\\nSkipping line 18733: expected 8 fields, saw 9\\nSkipping line 18743: expected 8 fields, saw 9\\nSkipping line 18752: expected 8 fields, saw 9\\nSkipping line 18755: expected 8 fields, saw 9\\nSkipping line 18773: expected 8 fields, saw 9\\nSkipping line 18777: expected 8 fields, saw 9\\nSkipping line 18783: expected 8 fields, saw 9\\nSkipping line 18796: expected 8 fields, saw 9\\nSkipping line 18797: expected 8 fields, saw 9\\nSkipping line 18803: expected 8 fields, saw 9\\nSkipping line 18818: expected 8 fields, saw 9\\nSkipping line 18829: expected 8 fields, saw 9\\nSkipping line 18858: expected 8 fields, saw 9\\nSkipping line 18863: expected 8 fields, saw 9\\nSkipping line 18877: expected 8 fields, saw 9\\nSkipping line 18889: expected 8 fields, saw 9\\nSkipping line 18918: expected 8 fields, saw 9\\nSkipping line 18935: expected 8 fields, saw 9\\nSkipping line 18936: expected 8 fields, saw 9\\nSkipping line 18967: expected 8 fields, saw 9\\nSkipping line 18978: expected 8 fields, saw 9\\nSkipping line 18979: expected 8 fields, saw 9\\nSkipping line 18982: expected 8 fields, saw 9\\nSkipping line 18997: expected 8 fields, saw 9\\nSkipping line 19002: expected 8 fields, saw 9\\nSkipping line 19044: expected 8 fields, saw 10\\nSkipping line 19066: expected 8 fields, saw 9\\nSkipping line 19107: expected 8 fields, saw 9\\nSkipping line 19110: expected 8 fields, saw 9\\nSkipping line 19118: expected 8 fields, saw 9\\nSkipping line 19130: expected 8 fields, saw 9\\nSkipping line 19149: expected 8 fields, saw 9\\nSkipping line 19161: expected 8 fields, saw 9\\nSkipping line 19182: expected 8 fields, saw 9\\nSkipping line 19238: expected 8 fields, saw 9\\nSkipping line 19245: expected 8 fields, saw 9\\nSkipping line 19246: expected 8 fields, saw 9\\nSkipping line 19250: expected 8 fields, saw 9\\nSkipping line 19260: expected 8 fields, saw 9\\nSkipping line 19281: expected 8 fields, saw 9\\nSkipping line 19283: expected 8 fields, saw 9\\nSkipping line 19286: expected 8 fields, saw 9\\nSkipping line 19298: expected 8 fields, saw 9\\nSkipping line 19306: expected 8 fields, saw 9\\nSkipping line 19315: expected 8 fields, saw 9\\nSkipping line 19341: expected 8 fields, saw 9\\nSkipping line 19342: expected 8 fields, saw 9\\nSkipping line 19343: expected 8 fields, saw 9\\nSkipping line 19350: expected 8 fields, saw 9\\nSkipping line 19352: expected 8 fields, saw 9\\nSkipping line 19369: expected 8 fields, saw 9\\nSkipping line 19377: expected 8 fields, saw 9\\nSkipping line 19385: expected 8 fields, saw 9\\nSkipping line 19386: expected 8 fields, saw 9\\nSkipping line 19395: expected 8 fields, saw 9\\nSkipping line 19430: expected 8 fields, saw 9\\nSkipping line 19437: expected 8 fields, saw 9\\nSkipping line 19459: expected 8 fields, saw 9\\nSkipping line 19475: expected 8 fields, saw 9\\nSkipping line 19495: expected 8 fields, saw 9\\nSkipping line 19533: expected 8 fields, saw 9\\nSkipping line 19547: expected 8 fields, saw 9\\nSkipping line 19561: expected 8 fields, saw 9\\nSkipping line 19563: expected 8 fields, saw 9\\nSkipping line 19565: expected 8 fields, saw 9\\nSkipping line 19603: expected 8 fields, saw 9\\nSkipping line 19608: expected 8 fields, saw 9\\nSkipping line 19609: expected 8 fields, saw 9\\nSkipping line 19610: expected 8 fields, saw 9\\nSkipping line 19619: expected 8 fields, saw 9\\nSkipping line 19623: expected 8 fields, saw 9\\nSkipping line 19630: expected 8 fields, saw 9\\nSkipping line 19631: expected 8 fields, saw 9\\nSkipping line 19632: expected 8 fields, saw 9\\nSkipping line 19637: expected 8 fields, saw 9\\nSkipping line 19643: expected 8 fields, saw 9\\nSkipping line 19671: expected 8 fields, saw 9\\nSkipping line 19683: expected 8 fields, saw 9\\nSkipping line 19728: expected 8 fields, saw 9\\nSkipping line 19751: expected 8 fields, saw 9\\nSkipping line 19787: expected 8 fields, saw 9\\nSkipping line 19788: expected 8 fields, saw 9\\nSkipping line 19801: expected 8 fields, saw 9\\nSkipping line 19802: expected 8 fields, saw 9\\nSkipping line 19834: expected 8 fields, saw 9\\nSkipping line 19841: expected 8 fields, saw 9\\nSkipping line 19852: expected 8 fields, saw 9\\nSkipping line 19873: expected 8 fields, saw 9\\nSkipping line 19876: expected 8 fields, saw 9\\nSkipping line 19922: expected 8 fields, saw 9\\nSkipping line 19924: expected 8 fields, saw 9\\nSkipping line 19949: expected 8 fields, saw 10\\nSkipping line 19950: expected 8 fields, saw 9\\nSkipping line 19999: expected 8 fields, saw 9\\nSkipping line 20008: expected 8 fields, saw 9\\nSkipping line 20070: expected 8 fields, saw 9\\nSkipping line 20106: expected 8 fields, saw 9\\nSkipping line 20118: expected 8 fields, saw 9\\nSkipping line 20133: expected 8 fields, saw 9\\nSkipping line 20168: expected 8 fields, saw 9\\nSkipping line 20170: expected 8 fields, saw 9\\nSkipping line 20177: expected 8 fields, saw 9\\nSkipping line 20186: expected 8 fields, saw 9\\nSkipping line 20187: expected 8 fields, saw 9\\nSkipping line 20191: expected 8 fields, saw 9\\nSkipping line 20217: expected 8 fields, saw 9\\nSkipping line 20222: expected 8 fields, saw 9\\nSkipping line 20241: expected 8 fields, saw 9\\nSkipping line 20246: expected 8 fields, saw 9\\nSkipping line 20249: expected 8 fields, saw 9\\nSkipping line 20250: expected 8 fields, saw 9\\nSkipping line 20266: expected 8 fields, saw 9\\nSkipping line 20270: expected 8 fields, saw 9\\nSkipping line 20281: expected 8 fields, saw 9\\nSkipping line 20310: expected 8 fields, saw 9\\nSkipping line 20328: expected 8 fields, saw 9\\nSkipping line 20371: expected 8 fields, saw 9\\nSkipping line 20377: expected 8 fields, saw 9\\nSkipping line 20398: expected 8 fields, saw 9\\nSkipping line 20420: expected 8 fields, saw 9\\nSkipping line 20421: expected 8 fields, saw 9\\nSkipping line 20422: expected 8 fields, saw 9\\nSkipping line 20423: expected 8 fields, saw 9\\nSkipping line 20424: expected 8 fields, saw 9\\nSkipping line 20425: expected 8 fields, saw 9\\nSkipping line 20426: expected 8 fields, saw 9\\nSkipping line 20429: expected 8 fields, saw 10\\nSkipping line 20436: expected 8 fields, saw 9\\nSkipping line 20442: expected 8 fields, saw 9\\nSkipping line 20443: expected 8 fields, saw 9\\nSkipping line 20448: expected 8 fields, saw 9\\nSkipping line 20450: expected 8 fields, saw 9\\nSkipping line 20461: expected 8 fields, saw 9\\nSkipping line 20468: expected 8 fields, saw 9\\nSkipping line 20487: expected 8 fields, saw 9\\nSkipping line 20577: expected 8 fields, saw 9\\nSkipping line 20604: expected 8 fields, saw 9\\nSkipping line 20616: expected 8 fields, saw 9\\nSkipping line 20636: expected 8 fields, saw 9\\nSkipping line 20656: expected 8 fields, saw 9\\nSkipping line 20693: expected 8 fields, saw 10\\nSkipping line 20700: expected 8 fields, saw 9\\nSkipping line 20701: expected 8 fields, saw 9\\nSkipping line 20716: expected 8 fields, saw 9\\nSkipping line 20728: expected 8 fields, saw 9\\nSkipping line 20775: expected 8 fields, saw 9\\nSkipping line 20790: expected 8 fields, saw 9\\nSkipping line 20803: expected 8 fields, saw 9\\nSkipping line 20813: expected 8 fields, saw 11\\nSkipping line 20824: expected 8 fields, saw 9\\nSkipping line 20826: expected 8 fields, saw 9\\nSkipping line 20830: expected 8 fields, saw 9\\nSkipping line 20853: expected 8 fields, saw 9\\nSkipping line 20861: expected 8 fields, saw 9\\nSkipping line 20868: expected 8 fields, saw 9\\nSkipping line 20898: expected 8 fields, saw 9\\nSkipping line 20905: expected 8 fields, saw 9\\nSkipping line 20906: expected 8 fields, saw 9\\nSkipping line 20942: expected 8 fields, saw 9\\nSkipping line 20943: expected 8 fields, saw 9\\nSkipping line 20945: expected 8 fields, saw 9\\nSkipping line 20946: expected 8 fields, saw 9\\nSkipping line 20971: expected 8 fields, saw 9\\nSkipping line 20982: expected 8 fields, saw 9\\nSkipping line 20988: expected 8 fields, saw 9\\nSkipping line 20991: expected 8 fields, saw 9\\nSkipping line 20995: expected 8 fields, saw 9\\nSkipping line 21106: expected 8 fields, saw 9\\nSkipping line 21129: expected 8 fields, saw 9\\nSkipping line 21138: expected 8 fields, saw 9\\nSkipping line 21139: expected 8 fields, saw 9\\nSkipping line 21157: expected 8 fields, saw 9\\nSkipping line 21170: expected 8 fields, saw 9\\nSkipping line 21180: expected 8 fields, saw 10\\nSkipping line 21224: expected 8 fields, saw 9\\nSkipping line 21240: expected 8 fields, saw 9\\nSkipping line 21248: expected 8 fields, saw 9\\nSkipping line 21250: expected 8 fields, saw 9\\nSkipping line 21256: expected 8 fields, saw 9\\nSkipping line 21289: expected 8 fields, saw 9\\nSkipping line 21325: expected 8 fields, saw 9\\nSkipping line 21346: expected 8 fields, saw 9\\nSkipping line 21381: expected 8 fields, saw 9\\nSkipping line 21390: expected 8 fields, saw 10\\nSkipping line 21429: expected 8 fields, saw 9\\nSkipping line 21447: expected 8 fields, saw 9\\nSkipping line 21451: expected 8 fields, saw 9\\nSkipping line 21472: expected 8 fields, saw 9\\nSkipping line 21473: expected 8 fields, saw 9\\nSkipping line 21477: expected 8 fields, saw 9\\nSkipping line 21478: expected 8 fields, saw 9\\nSkipping line 21486: expected 8 fields, saw 9\\nSkipping line 21492: expected 8 fields, saw 9\\nSkipping line 21494: expected 8 fields, saw 9\\nSkipping line 21503: expected 8 fields, saw 9\\nSkipping line 21511: expected 8 fields, saw 9\\nSkipping line 21538: expected 8 fields, saw 9\\nSkipping line 21545: expected 8 fields, saw 9\\nSkipping line 21556: expected 8 fields, saw 9\\nSkipping line 21602: expected 8 fields, saw 9\\nSkipping line 21609: expected 8 fields, saw 9\\nSkipping line 21616: expected 8 fields, saw 9\\nSkipping line 21621: expected 8 fields, saw 9\\nSkipping line 21627: expected 8 fields, saw 9\\nSkipping line 21748: expected 8 fields, saw 9\\nSkipping line 21752: expected 8 fields, saw 9\\nSkipping line 21753: expected 8 fields, saw 9\\nSkipping line 21791: expected 8 fields, saw 9\\nSkipping line 21846: expected 8 fields, saw 9\\nSkipping line 21852: expected 8 fields, saw 9\\nSkipping line 21876: expected 8 fields, saw 9\\nSkipping line 21958: expected 8 fields, saw 9\\nSkipping line 21959: expected 8 fields, saw 9\\nSkipping line 21960: expected 8 fields, saw 9\\nSkipping line 21961: expected 8 fields, saw 9\\nSkipping line 21962: expected 8 fields, saw 9\\nSkipping line 21963: expected 8 fields, saw 9\\nSkipping line 21964: expected 8 fields, saw 9\\nSkipping line 21965: expected 8 fields, saw 9\\nSkipping line 21966: expected 8 fields, saw 9\\nSkipping line 21967: expected 8 fields, saw 9\\nSkipping line 21968: expected 8 fields, saw 9\\nSkipping line 21969: expected 8 fields, saw 9\\nSkipping line 21970: expected 8 fields, saw 9\\nSkipping line 21971: expected 8 fields, saw 9\\nSkipping line 21972: expected 8 fields, saw 9\\nSkipping line 21973: expected 8 fields, saw 9\\nSkipping line 21974: expected 8 fields, saw 9\\nSkipping line 21975: expected 8 fields, saw 9\\nSkipping line 21976: expected 8 fields, saw 9\\nSkipping line 21977: expected 8 fields, saw 9\\nSkipping line 21978: expected 8 fields, saw 9\\nSkipping line 21979: expected 8 fields, saw 9\\nSkipping line 21980: expected 8 fields, saw 9\\nSkipping line 21981: expected 8 fields, saw 9\\nSkipping line 21982: expected 8 fields, saw 9\\nSkipping line 21983: expected 8 fields, saw 9\\nSkipping line 21984: expected 8 fields, saw 9\\nSkipping line 21985: expected 8 fields, saw 9\\nSkipping line 21986: expected 8 fields, saw 9\\nSkipping line 21987: expected 8 fields, saw 9\\nSkipping line 22072: expected 8 fields, saw 9\\nSkipping line 22113: expected 8 fields, saw 9\\nSkipping line 22134: expected 8 fields, saw 9\\nSkipping line 22199: expected 8 fields, saw 9\\nSkipping line 22202: expected 8 fields, saw 9\\nSkipping line 22203: expected 8 fields, saw 9\\nSkipping line 22206: expected 8 fields, saw 9\\nSkipping line 22208: expected 8 fields, saw 9\\nSkipping line 22210: expected 8 fields, saw 9\\nSkipping line 22211: expected 8 fields, saw 9\\nSkipping line 22217: expected 8 fields, saw 9\\nSkipping line 22219: expected 8 fields, saw 9\\nSkipping line 22220: expected 8 fields, saw 9\\nSkipping line 22232: expected 8 fields, saw 9\\nSkipping line 22239: expected 8 fields, saw 9\\nSkipping line 22260: expected 8 fields, saw 9\\nSkipping line 22277: expected 8 fields, saw 9\\nSkipping line 22292: expected 8 fields, saw 9\\nSkipping line 22298: expected 8 fields, saw 9\\nSkipping line 22371: expected 8 fields, saw 9\\nSkipping line 22374: expected 8 fields, saw 9\\nSkipping line 22405: expected 8 fields, saw 9\\nSkipping line 22429: expected 8 fields, saw 9\\nSkipping line 22470: expected 8 fields, saw 9\\nSkipping line 22479: expected 8 fields, saw 9\\nSkipping line 22591: expected 8 fields, saw 9\\nSkipping line 22610: expected 8 fields, saw 9\\nSkipping line 22628: expected 8 fields, saw 9\\nSkipping line 22633: expected 8 fields, saw 9\\nSkipping line 22647: expected 8 fields, saw 9\\nSkipping line 22653: expected 8 fields, saw 9\\nSkipping line 22670: expected 8 fields, saw 9\\nSkipping line 22672: expected 8 fields, saw 9\\nSkipping line 22682: expected 8 fields, saw 9\\nSkipping line 22687: expected 8 fields, saw 9\\nSkipping line 22783: expected 8 fields, saw 9\\nSkipping line 22802: expected 8 fields, saw 9\\nSkipping line 22811: expected 8 fields, saw 10\\nSkipping line 22834: expected 8 fields, saw 9\\nSkipping line 22840: expected 8 fields, saw 9\\nSkipping line 22860: expected 8 fields, saw 9\\nSkipping line 22869: expected 8 fields, saw 9\\nSkipping line 22887: expected 8 fields, saw 9\\nSkipping line 22973: expected 8 fields, saw 9\\nSkipping line 23005: expected 8 fields, saw 9\\nSkipping line 23019: expected 8 fields, saw 9\\nSkipping line 23030: expected 8 fields, saw 9\\nSkipping line 23031: expected 8 fields, saw 9\\nSkipping line 23040: expected 8 fields, saw 9\\nSkipping line 23067: expected 8 fields, saw 9\\nSkipping line 23083: expected 8 fields, saw 9\\nSkipping line 23097: expected 8 fields, saw 9\\nSkipping line 23113: expected 8 fields, saw 9\\nSkipping line 23114: expected 8 fields, saw 9\\nSkipping line 23122: expected 8 fields, saw 9\\nSkipping line 23136: expected 8 fields, saw 9\\nSkipping line 23137: expected 8 fields, saw 9\\nSkipping line 23155: expected 8 fields, saw 9\\nSkipping line 23161: expected 8 fields, saw 9\\nSkipping line 23163: expected 8 fields, saw 9\\nSkipping line 23167: expected 8 fields, saw 9\\nSkipping line 23170: expected 8 fields, saw 9\\nSkipping line 23171: expected 8 fields, saw 9\\nSkipping line 23172: expected 8 fields, saw 9\\nSkipping line 23199: expected 8 fields, saw 10\\nSkipping line 23204: expected 8 fields, saw 9\\nSkipping line 23217: expected 8 fields, saw 9\\nSkipping line 23226: expected 8 fields, saw 9\\nSkipping line 23239: expected 8 fields, saw 9\\nSkipping line 23249: expected 8 fields, saw 9\\nSkipping line 23252: expected 8 fields, saw 9\\nSkipping line 23253: expected 8 fields, saw 9\\nSkipping line 23257: expected 8 fields, saw 9\\nSkipping line 23258: expected 8 fields, saw 9\\nSkipping line 23269: expected 8 fields, saw 9\\nSkipping line 23272: expected 8 fields, saw 9\\nSkipping line 23305: expected 8 fields, saw 9\\nSkipping line 23314: expected 8 fields, saw 9\\nSkipping line 23364: expected 8 fields, saw 9\\nSkipping line 23375: expected 8 fields, saw 9\\nSkipping line 23395: expected 8 fields, saw 9\\nSkipping line 23409: expected 8 fields, saw 9\\nSkipping line 23430: expected 8 fields, saw 9\\nSkipping line 23462: expected 8 fields, saw 9\\nSkipping line 23465: expected 8 fields, saw 9\\nSkipping line 23471: expected 8 fields, saw 9\\nSkipping line 23472: expected 8 fields, saw 9\\nSkipping line 23475: expected 8 fields, saw 9\\nSkipping line 23486: expected 8 fields, saw 9\\nSkipping line 23552: expected 8 fields, saw 9\\nSkipping line 23556: expected 8 fields, saw 9\\nSkipping line 23571: expected 8 fields, saw 9\\nSkipping line 23582: expected 8 fields, saw 9\\nSkipping line 23594: expected 8 fields, saw 9\\nSkipping line 23633: expected 8 fields, saw 9\\nSkipping line 23634: expected 8 fields, saw 9\\nSkipping line 23656: expected 8 fields, saw 9\\nSkipping line 23666: expected 8 fields, saw 9\\nSkipping line 23668: expected 8 fields, saw 9\\nSkipping line 23669: expected 8 fields, saw 9\\nSkipping line 23670: expected 8 fields, saw 9\\nSkipping line 23674: expected 8 fields, saw 9\\nSkipping line 23678: expected 8 fields, saw 9\\nSkipping line 23680: expected 8 fields, saw 9\\nSkipping line 23681: expected 8 fields, saw 9\\nSkipping line 23687: expected 8 fields, saw 9\\nSkipping line 23692: expected 8 fields, saw 9\\nSkipping line 23727: expected 8 fields, saw 9\\nSkipping line 23733: expected 8 fields, saw 9\\nSkipping line 23764: expected 8 fields, saw 9\\nSkipping line 23785: expected 8 fields, saw 9\\nSkipping line 23792: expected 8 fields, saw 9\\nSkipping line 23799: expected 8 fields, saw 9\\nSkipping line 23804: expected 8 fields, saw 9\\nSkipping line 23810: expected 8 fields, saw 9\\nSkipping line 23828: expected 8 fields, saw 9\\nSkipping line 23898: expected 8 fields, saw 9\\nSkipping line 23902: expected 8 fields, saw 9\\nSkipping line 23910: expected 8 fields, saw 9\\nSkipping line 23912: expected 8 fields, saw 9\\nSkipping line 23926: expected 8 fields, saw 9\\nSkipping line 23935: expected 8 fields, saw 9\\nSkipping line 23967: expected 8 fields, saw 9\\nSkipping line 23990: expected 8 fields, saw 9\\nSkipping line 24027: expected 8 fields, saw 9\\nSkipping line 24047: expected 8 fields, saw 9\\nSkipping line 24050: expected 8 fields, saw 9\\nSkipping line 24073: expected 8 fields, saw 9\\nSkipping line 24075: expected 8 fields, saw 9\\nSkipping line 24091: expected 8 fields, saw 9\\nSkipping line 24092: expected 8 fields, saw 9\\nSkipping line 24099: expected 8 fields, saw 9\\nSkipping line 24110: expected 8 fields, saw 9\\nSkipping line 24124: expected 8 fields, saw 9\\nSkipping line 24210: expected 8 fields, saw 9\\nSkipping line 24235: expected 8 fields, saw 9\\nSkipping line 24252: expected 8 fields, saw 9\\nSkipping line 24290: expected 8 fields, saw 9\\nSkipping line 24312: expected 8 fields, saw 9\\nSkipping line 24332: expected 8 fields, saw 9\\nSkipping line 24352: expected 8 fields, saw 9\\nSkipping line 24356: expected 8 fields, saw 9\\nSkipping line 24359: expected 8 fields, saw 9\\nSkipping line 24360: expected 8 fields, saw 9\\nSkipping line 24371: expected 8 fields, saw 9\\nSkipping line 24373: expected 8 fields, saw 9\\nSkipping line 24375: expected 8 fields, saw 10\\nSkipping line 24384: expected 8 fields, saw 9\\nSkipping line 24416: expected 8 fields, saw 9\\nSkipping line 24448: expected 8 fields, saw 9\\nSkipping line 24528: expected 8 fields, saw 9\\nSkipping line 24540: expected 8 fields, saw 9\\nSkipping line 24559: expected 8 fields, saw 9\\nSkipping line 24625: expected 8 fields, saw 9\\nSkipping line 24713: expected 8 fields, saw 10\\nSkipping line 24715: expected 8 fields, saw 9\\nSkipping line 24733: expected 8 fields, saw 9\\nSkipping line 24741: expected 8 fields, saw 9\\nSkipping line 24761: expected 8 fields, saw 9\\nSkipping line 24771: expected 8 fields, saw 9\\nSkipping line 24808: expected 8 fields, saw 9\\nSkipping line 24819: expected 8 fields, saw 9\\nSkipping line 24835: expected 8 fields, saw 9\\nSkipping line 24878: expected 8 fields, saw 9\\nSkipping line 24933: expected 8 fields, saw 9\\nSkipping line 24965: expected 8 fields, saw 9\\nSkipping line 24968: expected 8 fields, saw 9\\nSkipping line 24976: expected 8 fields, saw 9\\nSkipping line 24993: expected 8 fields, saw 9\\nSkipping line 25007: expected 8 fields, saw 9\\nSkipping line 25049: expected 8 fields, saw 9\\nSkipping line 25085: expected 8 fields, saw 9\\nSkipping line 25149: expected 8 fields, saw 9\\nSkipping line 25214: expected 8 fields, saw 9\\nSkipping line 25246: expected 8 fields, saw 9\\nSkipping line 25275: expected 8 fields, saw 9\\nSkipping line 25369: expected 8 fields, saw 10\\nSkipping line 25462: expected 8 fields, saw 9\\nSkipping line 25495: expected 8 fields, saw 9\\nSkipping line 25500: expected 8 fields, saw 9\\nSkipping line 25541: expected 8 fields, saw 9\\nSkipping line 25562: expected 8 fields, saw 9\\nSkipping line 25563: expected 8 fields, saw 9\\nSkipping line 25616: expected 8 fields, saw 9\\nSkipping line 25624: expected 8 fields, saw 9\\nSkipping line 25627: expected 8 fields, saw 9\\nSkipping line 25628: expected 8 fields, saw 9\\nSkipping line 25667: expected 8 fields, saw 9\\nSkipping line 25716: expected 8 fields, saw 9\\nSkipping line 25721: expected 8 fields, saw 9\\nSkipping line 25742: expected 8 fields, saw 9\\nSkipping line 25750: expected 8 fields, saw 9\\nSkipping line 25751: expected 8 fields, saw 9\\nSkipping line 25771: expected 8 fields, saw 9\\nSkipping line 25800: expected 8 fields, saw 9\\nSkipping line 25806: expected 8 fields, saw 9\\nSkipping line 25811: expected 8 fields, saw 9\\nSkipping line 25838: expected 8 fields, saw 9\\nSkipping line 25840: expected 8 fields, saw 9\\nSkipping line 25855: expected 8 fields, saw 9\\nSkipping line 25862: expected 8 fields, saw 9\\nSkipping line 25873: expected 8 fields, saw 9\\nSkipping line 25889: expected 8 fields, saw 9\\nSkipping line 25893: expected 8 fields, saw 9\\nSkipping line 25895: expected 8 fields, saw 9\\nSkipping line 25917: expected 8 fields, saw 9\\nSkipping line 25969: expected 8 fields, saw 9\\nSkipping line 25974: expected 8 fields, saw 9\\nSkipping line 25975: expected 8 fields, saw 9\\nSkipping line 26038: expected 8 fields, saw 9\\nSkipping line 26042: expected 8 fields, saw 9\\nSkipping line 26046: expected 8 fields, saw 9\\nSkipping line 26052: expected 8 fields, saw 9\\nSkipping line 26055: expected 8 fields, saw 9\\nSkipping line 26057: expected 8 fields, saw 9\\nSkipping line 26106: expected 8 fields, saw 9\\nSkipping line 26108: expected 8 fields, saw 9\\nSkipping line 26121: expected 8 fields, saw 9\\nSkipping line 26156: expected 8 fields, saw 9\\nSkipping line 26197: expected 8 fields, saw 9\\nSkipping line 26226: expected 8 fields, saw 9\\nSkipping line 26231: expected 8 fields, saw 9\\nSkipping line 26245: expected 8 fields, saw 9\\nSkipping line 26270: expected 8 fields, saw 9\\nSkipping line 26278: expected 8 fields, saw 9\\nSkipping line 26282: expected 8 fields, saw 9\\nSkipping line 26298: expected 8 fields, saw 9\\nSkipping line 26300: expected 8 fields, saw 9\\nSkipping line 26311: expected 8 fields, saw 9\\nSkipping line 26312: expected 8 fields, saw 9\\nSkipping line 26332: expected 8 fields, saw 9\\nSkipping line 26348: expected 8 fields, saw 9\\nSkipping line 26353: expected 8 fields, saw 9\\nSkipping line 26355: expected 8 fields, saw 9\\nSkipping line 26364: expected 8 fields, saw 9\\nSkipping line 26370: expected 8 fields, saw 9\\nSkipping line 26382: expected 8 fields, saw 9\\nSkipping line 26415: expected 8 fields, saw 9\\nSkipping line 26423: expected 8 fields, saw 9\\nSkipping line 26424: expected 8 fields, saw 9\\nSkipping line 26427: expected 8 fields, saw 9\\nSkipping line 26428: expected 8 fields, saw 9\\nSkipping line 26444: expected 8 fields, saw 9\\nSkipping line 26493: expected 8 fields, saw 9\\nSkipping line 26504: expected 8 fields, saw 9\\nSkipping line 26505: expected 8 fields, saw 9\\nSkipping line 26508: expected 8 fields, saw 9\\nSkipping line 26511: expected 8 fields, saw 9\\nSkipping line 26516: expected 8 fields, saw 9\\nSkipping line 26519: expected 8 fields, saw 9\\nSkipping line 26526: expected 8 fields, saw 9\\nSkipping line 26531: expected 8 fields, saw 10\\nSkipping line 26532: expected 8 fields, saw 9\\nSkipping line 26545: expected 8 fields, saw 9\\nSkipping line 26547: expected 8 fields, saw 9\\nSkipping line 26558: expected 8 fields, saw 9\\nSkipping line 26562: expected 8 fields, saw 9\\nSkipping line 26575: expected 8 fields, saw 9\\nSkipping line 26606: expected 8 fields, saw 9\\nSkipping line 26682: expected 8 fields, saw 9\\nSkipping line 26694: expected 8 fields, saw 9\\nSkipping line 26699: expected 8 fields, saw 9\\nSkipping line 26700: expected 8 fields, saw 9\\nSkipping line 26726: expected 8 fields, saw 9\\nSkipping line 26728: expected 8 fields, saw 9\\nSkipping line 26731: expected 8 fields, saw 9\\nSkipping line 26732: expected 8 fields, saw 9\\nSkipping line 26736: expected 8 fields, saw 9\\nSkipping line 26743: expected 8 fields, saw 9\\nSkipping line 26757: expected 8 fields, saw 9\\nSkipping line 26761: expected 8 fields, saw 9\\nSkipping line 26774: expected 8 fields, saw 9\\nSkipping line 26781: expected 8 fields, saw 9\\nSkipping line 26827: expected 8 fields, saw 9\\nSkipping line 26837: expected 8 fields, saw 9\\nSkipping line 26897: expected 8 fields, saw 9\\nSkipping line 26917: expected 8 fields, saw 9\\nSkipping line 26928: expected 8 fields, saw 9\\nSkipping line 26965: expected 8 fields, saw 9\\nSkipping line 26974: expected 8 fields, saw 9\\nSkipping line 26989: expected 8 fields, saw 9\\nSkipping line 27016: expected 8 fields, saw 9\\nSkipping line 27057: expected 8 fields, saw 9\\nSkipping line 27093: expected 8 fields, saw 9\\nSkipping line 27109: expected 8 fields, saw 9\\nSkipping line 27156: expected 8 fields, saw 9\\nSkipping line 27169: expected 8 fields, saw 9\\nSkipping line 27171: expected 8 fields, saw 9\\nSkipping line 27188: expected 8 fields, saw 9\\nSkipping line 27254: expected 8 fields, saw 9\\nSkipping line 27258: expected 8 fields, saw 9\\nSkipping line 27262: expected 8 fields, saw 9\\nSkipping line 27276: expected 8 fields, saw 9\\nSkipping line 27277: expected 8 fields, saw 9\\nSkipping line 27289: expected 8 fields, saw 9\\nSkipping line 27292: expected 8 fields, saw 9\\nSkipping line 27331: expected 8 fields, saw 9\\nSkipping line 27341: expected 8 fields, saw 9\\nSkipping line 27342: expected 8 fields, saw 9\\nSkipping line 27343: expected 8 fields, saw 9\\nSkipping line 27425: expected 8 fields, saw 9\\nSkipping line 27431: expected 8 fields, saw 9\\nSkipping line 27447: expected 8 fields, saw 9\\nSkipping line 27467: expected 8 fields, saw 10\\nSkipping line 27483: expected 8 fields, saw 9\\nSkipping line 27492: expected 8 fields, saw 9\\nSkipping line 27493: expected 8 fields, saw 9\\nSkipping line 27561: expected 8 fields, saw 9\\nSkipping line 27567: expected 8 fields, saw 9\\nSkipping line 27568: expected 8 fields, saw 9\\nSkipping line 27594: expected 8 fields, saw 9\\nSkipping line 27600: expected 8 fields, saw 9\\nSkipping line 27612: expected 8 fields, saw 9\\nSkipping line 27614: expected 8 fields, saw 9\\nSkipping line 27616: expected 8 fields, saw 9\\nSkipping line 27619: expected 8 fields, saw 9\\nSkipping line 27629: expected 8 fields, saw 9\\nSkipping line 27636: expected 8 fields, saw 9\\nSkipping line 27642: expected 8 fields, saw 9\\nSkipping line 27645: expected 8 fields, saw 9\\nSkipping line 27648: expected 8 fields, saw 9\\nSkipping line 27649: expected 8 fields, saw 9\\nSkipping line 27651: expected 8 fields, saw 9\\nSkipping line 27653: expected 8 fields, saw 9\\nSkipping line 27655: expected 8 fields, saw 9\\nSkipping line 27657: expected 8 fields, saw 9\\nSkipping line 27658: expected 8 fields, saw 9\\nSkipping line 27659: expected 8 fields, saw 9\\nSkipping line 27674: expected 8 fields, saw 9\\nSkipping line 27718: expected 8 fields, saw 9\\nSkipping line 27727: expected 8 fields, saw 9\\nSkipping line 27739: expected 8 fields, saw 9\\nSkipping line 27756: expected 8 fields, saw 9\\nSkipping line 27765: expected 8 fields, saw 9\\nSkipping line 27779: expected 8 fields, saw 9\\nSkipping line 27782: expected 8 fields, saw 9\\nSkipping line 27808: expected 8 fields, saw 9\\nSkipping line 27831: expected 8 fields, saw 9\\nSkipping line 27841: expected 8 fields, saw 9\\nSkipping line 27864: expected 8 fields, saw 9\\nSkipping line 27865: expected 8 fields, saw 9\\nSkipping line 27881: expected 8 fields, saw 9\\nSkipping line 27884: expected 8 fields, saw 9\\nSkipping line 27899: expected 8 fields, saw 9\\nSkipping line 27948: expected 8 fields, saw 9\\nSkipping line 27963: expected 8 fields, saw 9\\nSkipping line 27976: expected 8 fields, saw 9\\nSkipping line 27985: expected 8 fields, saw 9\\nSkipping line 27988: expected 8 fields, saw 9\\nSkipping line 27994: expected 8 fields, saw 9\\nSkipping line 28005: expected 8 fields, saw 9\\nSkipping line 28035: expected 8 fields, saw 9\\nSkipping line 28049: expected 8 fields, saw 10\\nSkipping line 28065: expected 8 fields, saw 9\\nSkipping line 28102: expected 8 fields, saw 9\\nSkipping line 28116: expected 8 fields, saw 9\\nSkipping line 28129: expected 8 fields, saw 9\\nSkipping line 28138: expected 8 fields, saw 10\\nSkipping line 28140: expected 8 fields, saw 9\\nSkipping line 28145: expected 8 fields, saw 9\\nSkipping line 28172: expected 8 fields, saw 9\\nSkipping line 28184: expected 8 fields, saw 9\\nSkipping line 28202: expected 8 fields, saw 9\\nSkipping line 28241: expected 8 fields, saw 9\\nSkipping line 28262: expected 8 fields, saw 9\\nSkipping line 28291: expected 8 fields, saw 9\\nSkipping line 28293: expected 8 fields, saw 9\\nSkipping line 28314: expected 8 fields, saw 9\\nSkipping line 28358: expected 8 fields, saw 9\\nSkipping line 28391: expected 8 fields, saw 9\\nSkipping line 28392: expected 8 fields, saw 9\\nSkipping line 28396: expected 8 fields, saw 10\\nSkipping line 28398: expected 8 fields, saw 9\\nSkipping line 28399: expected 8 fields, saw 10\\nSkipping line 28400: expected 8 fields, saw 11\\nSkipping line 28402: expected 8 fields, saw 9\\nSkipping line 28412: expected 8 fields, saw 9\\nSkipping line 28419: expected 8 fields, saw 9\\nSkipping line 28444: expected 8 fields, saw 9\\nSkipping line 28514: expected 8 fields, saw 9\\nSkipping line 28519: expected 8 fields, saw 9\\nSkipping line 28526: expected 8 fields, saw 9\\nSkipping line 28540: expected 8 fields, saw 10\\nSkipping line 28547: expected 8 fields, saw 10\\nSkipping line 28613: expected 8 fields, saw 9\\nSkipping line 28668: expected 8 fields, saw 9\\nSkipping line 28669: expected 8 fields, saw 9\\nSkipping line 28670: expected 8 fields, saw 9\\nSkipping line 28676: expected 8 fields, saw 9\\nSkipping line 28679: expected 8 fields, saw 9\\nSkipping line 28683: expected 8 fields, saw 9\\nSkipping line 28687: expected 8 fields, saw 9\\nSkipping line 28691: expected 8 fields, saw 9\\nSkipping line 28693: expected 8 fields, saw 9\\nSkipping line 28713: expected 8 fields, saw 9\\nSkipping line 28726: expected 8 fields, saw 9\\nSkipping line 28729: expected 8 fields, saw 9\\nSkipping line 28733: expected 8 fields, saw 9\\nSkipping line 28737: expected 8 fields, saw 9\\nSkipping line 28739: expected 8 fields, saw 9\\nSkipping line 28763: expected 8 fields, saw 9\\nSkipping line 28777: expected 8 fields, saw 9\\nSkipping line 28778: expected 8 fields, saw 10\\nSkipping line 28790: expected 8 fields, saw 9\\nSkipping line 28794: expected 8 fields, saw 9\\nSkipping line 28824: expected 8 fields, saw 9\\nSkipping line 28834: expected 8 fields, saw 9\\nSkipping line 28852: expected 8 fields, saw 9\\nSkipping line 28881: expected 8 fields, saw 9\\nSkipping line 28902: expected 8 fields, saw 9\\nSkipping line 28910: expected 8 fields, saw 9\\nSkipping line 28911: expected 8 fields, saw 9\\nSkipping line 28919: expected 8 fields, saw 9\\nSkipping line 28929: expected 8 fields, saw 9\\nSkipping line 28950: expected 8 fields, saw 9\\nSkipping line 28971: expected 8 fields, saw 9\\nSkipping line 28984: expected 8 fields, saw 9\\nSkipping line 28996: expected 8 fields, saw 9\\nSkipping line 29011: expected 8 fields, saw 9\\nSkipping line 29054: expected 8 fields, saw 9\\nSkipping line 29066: expected 8 fields, saw 9\\nSkipping line 29074: expected 8 fields, saw 9\\nSkipping line 29076: expected 8 fields, saw 9\\nSkipping line 29077: expected 8 fields, saw 9\\nSkipping line 29088: expected 8 fields, saw 9\\nSkipping line 29133: expected 8 fields, saw 9\\nSkipping line 29147: expected 8 fields, saw 9\\nSkipping line 29192: expected 8 fields, saw 9\\nSkipping line 29201: expected 8 fields, saw 9\\nSkipping line 29208: expected 8 fields, saw 9\\nSkipping line 29210: expected 8 fields, saw 9\\nSkipping line 29221: expected 8 fields, saw 9\\nSkipping line 29234: expected 8 fields, saw 9\\nSkipping line 29235: expected 8 fields, saw 9\\nSkipping line 29242: expected 8 fields, saw 10\\nSkipping line 29252: expected 8 fields, saw 9\\nSkipping line 29264: expected 8 fields, saw 9\\nSkipping line 29267: expected 8 fields, saw 9\\nSkipping line 29271: expected 8 fields, saw 9\\nSkipping line 29279: expected 8 fields, saw 9\\nSkipping line 29288: expected 8 fields, saw 9\\nSkipping line 29294: expected 8 fields, saw 9\\nSkipping line 29297: expected 8 fields, saw 9\\nSkipping line 29301: expected 8 fields, saw 9\\nSkipping line 29321: expected 8 fields, saw 9\\nSkipping line 29324: expected 8 fields, saw 9\\nSkipping line 29332: expected 8 fields, saw 9\\nSkipping line 29340: expected 8 fields, saw 9\\nSkipping line 29358: expected 8 fields, saw 9\\nSkipping line 29405: expected 8 fields, saw 9\\nSkipping line 29431: expected 8 fields, saw 9\\nSkipping line 29461: expected 8 fields, saw 9\\nSkipping line 29468: expected 8 fields, saw 9\\nSkipping line 29509: expected 8 fields, saw 9\\nSkipping line 29532: expected 8 fields, saw 9\\nSkipping line 29536: expected 8 fields, saw 9\\nSkipping line 29544: expected 8 fields, saw 9\\nSkipping line 29572: expected 8 fields, saw 9\\nSkipping line 29577: expected 8 fields, saw 9\\nSkipping line 29593: expected 8 fields, saw 9\\nSkipping line 29595: expected 8 fields, saw 9\\nSkipping line 29598: expected 8 fields, saw 9\\nSkipping line 29612: expected 8 fields, saw 9\\nSkipping line 29616: expected 8 fields, saw 9\\nSkipping line 29651: expected 8 fields, saw 9\\nSkipping line 29659: expected 8 fields, saw 9\\nSkipping line 29661: expected 8 fields, saw 9\\nSkipping line 29678: expected 8 fields, saw 9\\nSkipping line 29696: expected 8 fields, saw 9\\nSkipping line 29701: expected 8 fields, saw 9\\nSkipping line 29708: expected 8 fields, saw 9\\nSkipping line 29709: expected 8 fields, saw 9\\nSkipping line 29713: expected 8 fields, saw 9\\nSkipping line 29719: expected 8 fields, saw 9\\nSkipping line 29758: expected 8 fields, saw 9\\nSkipping line 29780: expected 8 fields, saw 9\\nSkipping line 29788: expected 8 fields, saw 9\\nSkipping line 29791: expected 8 fields, saw 9\\nSkipping line 29792: expected 8 fields, saw 9\\nSkipping line 29816: expected 8 fields, saw 10\\nSkipping line 29823: expected 8 fields, saw 9\\nSkipping line 29832: expected 8 fields, saw 9\\nSkipping line 29836: expected 8 fields, saw 9\\nSkipping line 29861: expected 8 fields, saw 9\\nSkipping line 29867: expected 8 fields, saw 9\\nSkipping line 29878: expected 8 fields, saw 9\\nSkipping line 29901: expected 8 fields, saw 9\\nSkipping line 29902: expected 8 fields, saw 9\\nSkipping line 29924: expected 8 fields, saw 9\\nSkipping line 29925: expected 8 fields, saw 9\\nSkipping line 29936: expected 8 fields, saw 9\\nSkipping line 29948: expected 8 fields, saw 9\\nSkipping line 29966: expected 8 fields, saw 9\\nSkipping line 29970: expected 8 fields, saw 9\\nSkipping line 29974: expected 8 fields, saw 9\\nSkipping line 29988: expected 8 fields, saw 9\\nSkipping line 29993: expected 8 fields, saw 9\\nSkipping line 29997: expected 8 fields, saw 9\\nSkipping line 30000: expected 8 fields, saw 9\\nSkipping line 30007: expected 8 fields, saw 9\\nSkipping line 30013: expected 8 fields, saw 9\\nSkipping line 30025: expected 8 fields, saw 9\\nSkipping line 30046: expected 8 fields, saw 9\\nSkipping line 30050: expected 8 fields, saw 9\\nSkipping line 30059: expected 8 fields, saw 9\\nSkipping line 30062: expected 8 fields, saw 9\\nSkipping line 30066: expected 8 fields, saw 9\\nSkipping line 30068: expected 8 fields, saw 9\\nSkipping line 30093: expected 8 fields, saw 9\\nSkipping line 30124: expected 8 fields, saw 9\\nSkipping line 30134: expected 8 fields, saw 9\\nSkipping line 30139: expected 8 fields, saw 9\\nSkipping line 30144: expected 8 fields, saw 9\\nSkipping line 30154: expected 8 fields, saw 9\\nSkipping line 30181: expected 8 fields, saw 9\\nSkipping line 30206: expected 8 fields, saw 9\\nSkipping line 30232: expected 8 fields, saw 9\\nSkipping line 30264: expected 8 fields, saw 10\\nSkipping line 30283: expected 8 fields, saw 9\\nSkipping line 30293: expected 8 fields, saw 9\\nSkipping line 30297: expected 8 fields, saw 9\\nSkipping line 30299: expected 8 fields, saw 9\\nSkipping line 30314: expected 8 fields, saw 9\\nSkipping line 30348: expected 8 fields, saw 9\\nSkipping line 30367: expected 8 fields, saw 9\\nSkipping line 30381: expected 8 fields, saw 9\\nSkipping line 30398: expected 8 fields, saw 9\\nSkipping line 30401: expected 8 fields, saw 9\\nSkipping line 30405: expected 8 fields, saw 9\\nSkipping line 30415: expected 8 fields, saw 9\\nSkipping line 30423: expected 8 fields, saw 9\\nSkipping line 30428: expected 8 fields, saw 9\\nSkipping line 30431: expected 8 fields, saw 9\\nSkipping line 30437: expected 8 fields, saw 9\\nSkipping line 30461: expected 8 fields, saw 10\\nSkipping line 30468: expected 8 fields, saw 9\\nSkipping line 30496: expected 8 fields, saw 9\\nSkipping line 30503: expected 8 fields, saw 9\\nSkipping line 30526: expected 8 fields, saw 9\\nSkipping line 30528: expected 8 fields, saw 9\\nSkipping line 30556: expected 8 fields, saw 9\\nSkipping line 30581: expected 8 fields, saw 9\\nSkipping line 30588: expected 8 fields, saw 9\\nSkipping line 30604: expected 8 fields, saw 9\\nSkipping line 30617: expected 8 fields, saw 9\\nSkipping line 30618: expected 8 fields, saw 9\\nSkipping line 30657: expected 8 fields, saw 9\\nSkipping line 30666: expected 8 fields, saw 9\\nSkipping line 30673: expected 8 fields, saw 9\\nSkipping line 30680: expected 8 fields, saw 9\\nSkipping line 30683: expected 8 fields, saw 9\\nSkipping line 30728: expected 8 fields, saw 9\\nSkipping line 30736: expected 8 fields, saw 9\\nSkipping line 30758: expected 8 fields, saw 9\\nSkipping line 30809: expected 8 fields, saw 9\\nSkipping line 30810: expected 8 fields, saw 9\\nSkipping line 30817: expected 8 fields, saw 9\\nSkipping line 30828: expected 8 fields, saw 9\\nSkipping line 30849: expected 8 fields, saw 9\\nSkipping line 30869: expected 8 fields, saw 9\\nSkipping line 30873: expected 8 fields, saw 9\\nSkipping line 30892: expected 8 fields, saw 9\\nSkipping line 30911: expected 8 fields, saw 10\\nSkipping line 30941: expected 8 fields, saw 9\\nSkipping line 30947: expected 8 fields, saw 9\\nSkipping line 30948: expected 8 fields, saw 9\\nSkipping line 30954: expected 8 fields, saw 9\\nSkipping line 31016: expected 8 fields, saw 9\\nSkipping line 31044: expected 8 fields, saw 9\\nSkipping line 31073: expected 8 fields, saw 9\\nSkipping line 31090: expected 8 fields, saw 9\\nSkipping line 31119: expected 8 fields, saw 9\\nSkipping line 31195: expected 8 fields, saw 9\\nSkipping line 31233: expected 8 fields, saw 9\\nSkipping line 31246: expected 8 fields, saw 9\\nSkipping line 31255: expected 8 fields, saw 9\\nSkipping line 31269: expected 8 fields, saw 9\\nSkipping line 31307: expected 8 fields, saw 9\\nSkipping line 31309: expected 8 fields, saw 9\\nSkipping line 31311: expected 8 fields, saw 9\\nSkipping line 31324: expected 8 fields, saw 9\\nSkipping line 31342: expected 8 fields, saw 9\\nSkipping line 31358: expected 8 fields, saw 9\\nSkipping line 31365: expected 8 fields, saw 9\\nSkipping line 31368: expected 8 fields, saw 9\\nSkipping line 31373: expected 8 fields, saw 9\\nSkipping line 31383: expected 8 fields, saw 9\\nSkipping line 31387: expected 8 fields, saw 9\\nSkipping line 31431: expected 8 fields, saw 9\\nSkipping line 31493: expected 8 fields, saw 9\\nSkipping line 31501: expected 8 fields, saw 9\\nSkipping line 31504: expected 8 fields, saw 9\\nSkipping line 31520: expected 8 fields, saw 9\\nSkipping line 31582: expected 8 fields, saw 9\\nSkipping line 31587: expected 8 fields, saw 9\\nSkipping line 31592: expected 8 fields, saw 9\\nSkipping line 31594: expected 8 fields, saw 9\\nSkipping line 31604: expected 8 fields, saw 9\\nSkipping line 31653: expected 8 fields, saw 9\\nSkipping line 31654: expected 8 fields, saw 9\\nSkipping line 31743: expected 8 fields, saw 9\\nSkipping line 31746: expected 8 fields, saw 9\\nSkipping line 31776: expected 8 fields, saw 9\\nSkipping line 31791: expected 8 fields, saw 9\\nSkipping line 31945: expected 8 fields, saw 9\\nSkipping line 31957: expected 8 fields, saw 9\\nSkipping line 31981: expected 8 fields, saw 9\\nSkipping line 31982: expected 8 fields, saw 9\\nSkipping line 31985: expected 8 fields, saw 9\\nSkipping line 31987: expected 8 fields, saw 9\\nSkipping line 32089: expected 8 fields, saw 9\\nSkipping line 32127: expected 8 fields, saw 9\\nSkipping line 32177: expected 8 fields, saw 9\\nSkipping line 32208: expected 8 fields, saw 9\\nSkipping line 32227: expected 8 fields, saw 9\\nSkipping line 32232: expected 8 fields, saw 9\\nSkipping line 32239: expected 8 fields, saw 9\\nSkipping line 32241: expected 8 fields, saw 9\\nSkipping line 32246: expected 8 fields, saw 9\\nSkipping line 32272: expected 8 fields, saw 9\\nSkipping line 32279: expected 8 fields, saw 9\\nSkipping line 32293: expected 8 fields, saw 9\\nSkipping line 32305: expected 8 fields, saw 9\\nSkipping line 32307: expected 8 fields, saw 9\\nSkipping line 32310: expected 8 fields, saw 9\\nSkipping line 32311: expected 8 fields, saw 9\\nSkipping line 32315: expected 8 fields, saw 9\\nSkipping line 32318: expected 8 fields, saw 9\\nSkipping line 32319: expected 8 fields, saw 9\\nSkipping line 32324: expected 8 fields, saw 9\\nSkipping line 32330: expected 8 fields, saw 9\\nSkipping line 32353: expected 8 fields, saw 9\\nSkipping line 32367: expected 8 fields, saw 9\\nSkipping line 32374: expected 8 fields, saw 9\\nSkipping line 32399: expected 8 fields, saw 9\\nSkipping line 32413: expected 8 fields, saw 9\\nSkipping line 32427: expected 8 fields, saw 9\\nSkipping line 32433: expected 8 fields, saw 9\\nSkipping line 32454: expected 8 fields, saw 9\\nSkipping line 32455: expected 8 fields, saw 9\\nSkipping line 32458: expected 8 fields, saw 9\\nSkipping line 32460: expected 8 fields, saw 9\\nSkipping line 32483: expected 8 fields, saw 9\\nSkipping line 32489: expected 8 fields, saw 9\\nSkipping line 32526: expected 8 fields, saw 9\\nSkipping line 32532: expected 8 fields, saw 9\\nSkipping line 32536: expected 8 fields, saw 9\\nSkipping line 32559: expected 8 fields, saw 9\\nSkipping line 32585: expected 8 fields, saw 9\\nSkipping line 32706: expected 8 fields, saw 9\\nSkipping line 32709: expected 8 fields, saw 9\\nSkipping line 32724: expected 8 fields, saw 9\\nSkipping line 32730: expected 8 fields, saw 9\\nSkipping line 32734: expected 8 fields, saw 9\\nSkipping line 32743: expected 8 fields, saw 10\\nSkipping line 32750: expected 8 fields, saw 9\\nSkipping line 32799: expected 8 fields, saw 10\\nSkipping line 32829: expected 8 fields, saw 9\\nSkipping line 32834: expected 8 fields, saw 9\\nSkipping line 32891: expected 8 fields, saw 9\\nSkipping line 32893: expected 8 fields, saw 9\\nSkipping line 32901: expected 8 fields, saw 9\\nSkipping line 32905: expected 8 fields, saw 9\\nSkipping line 32918: expected 8 fields, saw 9\\nSkipping line 32919: expected 8 fields, saw 9\\nSkipping line 32951: expected 8 fields, saw 9\\nSkipping line 32964: expected 8 fields, saw 9\\nSkipping line 33045: expected 8 fields, saw 9\\nSkipping line 33088: expected 8 fields, saw 9\\nSkipping line 33113: expected 8 fields, saw 10\\nSkipping line 33161: expected 8 fields, saw 9\\nSkipping line 33202: expected 8 fields, saw 9\\nSkipping line 33210: expected 8 fields, saw 9\\nSkipping line 33220: expected 8 fields, saw 9\\nSkipping line 33227: expected 8 fields, saw 9\\nSkipping line 33232: expected 8 fields, saw 9\\nSkipping line 33241: expected 8 fields, saw 9\\nSkipping line 33244: expected 8 fields, saw 9\\nSkipping line 33254: expected 8 fields, saw 9\\nSkipping line 33282: expected 8 fields, saw 9\\nSkipping line 33284: expected 8 fields, saw 9\\nSkipping line 33289: expected 8 fields, saw 9\\nSkipping line 33343: expected 8 fields, saw 9\\nSkipping line 33356: expected 8 fields, saw 9\\nSkipping line 33394: expected 8 fields, saw 9\\nSkipping line 33404: expected 8 fields, saw 9\\nSkipping line 33435: expected 8 fields, saw 9\\nSkipping line 33445: expected 8 fields, saw 9\\nSkipping line 33498: expected 8 fields, saw 9\\nSkipping line 33547: expected 8 fields, saw 9\\nSkipping line 33557: expected 8 fields, saw 9\\nSkipping line 33568: expected 8 fields, saw 9\\nSkipping line 33605: expected 8 fields, saw 9\\nSkipping line 33628: expected 8 fields, saw 9\\nSkipping line 33654: expected 8 fields, saw 9\\nSkipping line 33657: expected 8 fields, saw 9\\nSkipping line 33662: expected 8 fields, saw 9\\nSkipping line 33663: expected 8 fields, saw 10\\nSkipping line 33665: expected 8 fields, saw 9\\nSkipping line 33667: expected 8 fields, saw 9\\nSkipping line 33687: expected 8 fields, saw 9\\nSkipping line 33701: expected 8 fields, saw 9\\nSkipping line 33702: expected 8 fields, saw 9\\nSkipping line 33710: expected 8 fields, saw 9\\nSkipping line 33721: expected 8 fields, saw 9\\nSkipping line 33748: expected 8 fields, saw 9\\nSkipping line 33773: expected 8 fields, saw 9\\nSkipping line 33791: expected 8 fields, saw 9\\nSkipping line 33802: expected 8 fields, saw 9\\nSkipping line 33835: expected 8 fields, saw 9\\nSkipping line 33867: expected 8 fields, saw 9\\nSkipping line 33879: expected 8 fields, saw 9\\nSkipping line 33927: expected 8 fields, saw 9\\nSkipping line 33948: expected 8 fields, saw 9\\nSkipping line 33954: expected 8 fields, saw 9\\nSkipping line 33955: expected 8 fields, saw 9\\nSkipping line 33983: expected 8 fields, saw 9\\nSkipping line 34000: expected 8 fields, saw 9\\nSkipping line 34003: expected 8 fields, saw 9\\nSkipping line 34049: expected 8 fields, saw 9\\nSkipping line 34062: expected 8 fields, saw 9\\nSkipping line 34093: expected 8 fields, saw 9\\nSkipping line 34107: expected 8 fields, saw 9\\nSkipping line 34130: expected 8 fields, saw 9\\nSkipping line 34140: expected 8 fields, saw 9\\nSkipping line 34148: expected 8 fields, saw 9\\nSkipping line 34163: expected 8 fields, saw 9\\nSkipping line 34170: expected 8 fields, saw 9\\nSkipping line 34178: expected 8 fields, saw 9\\nSkipping line 34184: expected 8 fields, saw 9\\nSkipping line 34198: expected 8 fields, saw 9\\nSkipping line 34230: expected 8 fields, saw 9\\nSkipping line 34256: expected 8 fields, saw 9\\nSkipping line 34260: expected 8 fields, saw 9\\nSkipping line 34265: expected 8 fields, saw 9\\nSkipping line 34278: expected 8 fields, saw 9\\nSkipping line 34299: expected 8 fields, saw 9\\nSkipping line 34306: expected 8 fields, saw 9\\nSkipping line 34343: expected 8 fields, saw 9\\nSkipping line 34366: expected 8 fields, saw 9\\nSkipping line 34370: expected 8 fields, saw 9\\nSkipping line 34371: expected 8 fields, saw 9\\nSkipping line 34373: expected 8 fields, saw 9\\nSkipping line 34377: expected 8 fields, saw 9\\nSkipping line 34384: expected 8 fields, saw 9\\nSkipping line 34409: expected 8 fields, saw 9\\nSkipping line 34411: expected 8 fields, saw 9\\nSkipping line 34422: expected 8 fields, saw 9\\nSkipping line 34431: expected 8 fields, saw 9\\nSkipping line 34432: expected 8 fields, saw 9\\nSkipping line 34457: expected 8 fields, saw 9\\nSkipping line 34463: expected 8 fields, saw 9\\nSkipping line 34479: expected 8 fields, saw 9\\nSkipping line 34487: expected 8 fields, saw 9\\nSkipping line 34500: expected 8 fields, saw 9\\nSkipping line 34501: expected 8 fields, saw 9\\nSkipping line 34512: expected 8 fields, saw 9\\nSkipping line 34536: expected 8 fields, saw 9\\nSkipping line 34550: expected 8 fields, saw 9\\nSkipping line 34560: expected 8 fields, saw 9\\nSkipping line 34571: expected 8 fields, saw 9\\nSkipping line 34592: expected 8 fields, saw 9\\nSkipping line 34593: expected 8 fields, saw 9\\nSkipping line 34603: expected 8 fields, saw 9\\nSkipping line 34606: expected 8 fields, saw 9\\nSkipping line 34619: expected 8 fields, saw 9\\nSkipping line 34740: expected 8 fields, saw 10\\nSkipping line 34760: expected 8 fields, saw 9\\nSkipping line 34762: expected 8 fields, saw 9\\nSkipping line 34771: expected 8 fields, saw 9\\nSkipping line 34778: expected 8 fields, saw 9\\nSkipping line 34789: expected 8 fields, saw 9\\nSkipping line 34794: expected 8 fields, saw 9\\nSkipping line 34814: expected 8 fields, saw 9\\nSkipping line 34825: expected 8 fields, saw 9\\nSkipping line 34854: expected 8 fields, saw 9\\nSkipping line 34855: expected 8 fields, saw 9\\nSkipping line 34878: expected 8 fields, saw 9\\nSkipping line 34984: expected 8 fields, saw 9\\nSkipping line 35028: expected 8 fields, saw 9\\nSkipping line 35049: expected 8 fields, saw 9\\nSkipping line 35085: expected 8 fields, saw 9\\nSkipping line 35092: expected 8 fields, saw 9\\nSkipping line 35102: expected 8 fields, saw 9\\nSkipping line 35116: expected 8 fields, saw 9\\nSkipping line 35146: expected 8 fields, saw 9\\nSkipping line 35155: expected 8 fields, saw 9\\nSkipping line 35168: expected 8 fields, saw 9\\nSkipping line 35178: expected 8 fields, saw 9\\nSkipping line 35182: expected 8 fields, saw 9\\nSkipping line 35188: expected 8 fields, saw 9\\nSkipping line 35214: expected 8 fields, saw 9\\nSkipping line 35220: expected 8 fields, saw 9\\nSkipping line 35223: expected 8 fields, saw 9\\nSkipping line 35245: expected 8 fields, saw 9\\nSkipping line 35248: expected 8 fields, saw 9\\nSkipping line 35343: expected 8 fields, saw 9\\nSkipping line 35346: expected 8 fields, saw 9\\nSkipping line 35367: expected 8 fields, saw 9\\nSkipping line 35370: expected 8 fields, saw 9\\nSkipping line 35420: expected 8 fields, saw 9\\nSkipping line 35477: expected 8 fields, saw 9\\nSkipping line 35553: expected 8 fields, saw 9\\nSkipping line 35577: expected 8 fields, saw 9\\nSkipping line 35596: expected 8 fields, saw 9\\nSkipping line 35607: expected 8 fields, saw 9\\nSkipping line 35608: expected 8 fields, saw 9\\nSkipping line 35614: expected 8 fields, saw 9\\nSkipping line 35616: expected 8 fields, saw 9\\nSkipping line 35617: expected 8 fields, saw 9\\nSkipping line 35641: expected 8 fields, saw 9\\nSkipping line 35665: expected 8 fields, saw 9\\nSkipping line 35666: expected 8 fields, saw 9\\nSkipping line 35671: expected 8 fields, saw 9\\nSkipping line 35687: expected 8 fields, saw 9\\nSkipping line 35694: expected 8 fields, saw 9\\nSkipping line 35695: expected 8 fields, saw 9\\nSkipping line 35735: expected 8 fields, saw 9\\nSkipping line 35737: expected 8 fields, saw 9\\nSkipping line 35738: expected 8 fields, saw 9\\nSkipping line 35834: expected 8 fields, saw 9\\nSkipping line 35857: expected 8 fields, saw 9\\nSkipping line 35859: expected 8 fields, saw 9\\nSkipping line 35862: expected 8 fields, saw 9\\nSkipping line 35876: expected 8 fields, saw 9\\nSkipping line 35897: expected 8 fields, saw 9\\nSkipping line 35912: expected 8 fields, saw 9\\nSkipping line 35914: expected 8 fields, saw 9\\nSkipping line 35922: expected 8 fields, saw 9\\nSkipping line 35924: expected 8 fields, saw 9\\nSkipping line 35932: expected 8 fields, saw 9\\nSkipping line 35938: expected 8 fields, saw 9\\nSkipping line 35939: expected 8 fields, saw 9\\nSkipping line 35949: expected 8 fields, saw 9\\nSkipping line 35978: expected 8 fields, saw 9\\nSkipping line 35984: expected 8 fields, saw 9\\nSkipping line 36000: expected 8 fields, saw 9\\nSkipping line 36008: expected 8 fields, saw 9\\nSkipping line 36018: expected 8 fields, saw 9\\nSkipping line 36021: expected 8 fields, saw 9\\nSkipping line 36032: expected 8 fields, saw 9\\nSkipping line 36044: expected 8 fields, saw 10\\nSkipping line 36109: expected 8 fields, saw 9\\nSkipping line 36135: expected 8 fields, saw 9\\nSkipping line 36144: expected 8 fields, saw 9\\nSkipping line 36160: expected 8 fields, saw 9\\nSkipping line 36167: expected 8 fields, saw 9\\nSkipping line 36168: expected 8 fields, saw 9\\nSkipping line 36171: expected 8 fields, saw 9\\nSkipping line 36178: expected 8 fields, saw 9\\nSkipping line 36206: expected 8 fields, saw 9\\nSkipping line 36214: expected 8 fields, saw 9\\nSkipping line 36217: expected 8 fields, saw 9\\nSkipping line 36245: expected 8 fields, saw 9\\nSkipping line 36250: expected 8 fields, saw 9\\nSkipping line 36313: expected 8 fields, saw 9\\nSkipping line 36315: expected 8 fields, saw 9\\nSkipping line 36316: expected 8 fields, saw 9\\nSkipping line 36317: expected 8 fields, saw 9\\nSkipping line 36329: expected 8 fields, saw 9\\nSkipping line 36335: expected 8 fields, saw 9\\nSkipping line 36339: expected 8 fields, saw 9\\nSkipping line 36350: expected 8 fields, saw 9\\nSkipping line 36363: expected 8 fields, saw 9\\nSkipping line 36375: expected 8 fields, saw 9\\nSkipping line 36376: expected 8 fields, saw 9\\nSkipping line 36386: expected 8 fields, saw 9\\nSkipping line 36397: expected 8 fields, saw 9\\nSkipping line 36407: expected 8 fields, saw 9\\nSkipping line 36414: expected 8 fields, saw 9\\nSkipping line 36478: expected 8 fields, saw 9\\nSkipping line 36481: expected 8 fields, saw 9\\nSkipping line 36513: expected 8 fields, saw 10\\nSkipping line 36521: expected 8 fields, saw 9\\nSkipping line 36572: expected 8 fields, saw 9\\nSkipping line 36594: expected 8 fields, saw 9\\nSkipping line 36622: expected 8 fields, saw 9\\nSkipping line 36623: expected 8 fields, saw 9\\nSkipping line 36624: expected 8 fields, saw 9\\nSkipping line 36626: expected 8 fields, saw 9\\nSkipping line 36632: expected 8 fields, saw 9\\nSkipping line 36641: expected 8 fields, saw 9\\nSkipping line 36643: expected 8 fields, saw 9\\nSkipping line 36644: expected 8 fields, saw 9\\nSkipping line 36647: expected 8 fields, saw 9\\nSkipping line 36651: expected 8 fields, saw 9\\nSkipping line 36658: expected 8 fields, saw 9\\nSkipping line 36660: expected 8 fields, saw 9\\nSkipping line 36667: expected 8 fields, saw 9\\nSkipping line 36677: expected 8 fields, saw 9\\nSkipping line 36678: expected 8 fields, saw 9\\nSkipping line 36679: expected 8 fields, saw 9\\nSkipping line 36680: expected 8 fields, saw 9\\nSkipping line 36681: expected 8 fields, saw 9\\nSkipping line 36687: expected 8 fields, saw 9\\nSkipping line 36693: expected 8 fields, saw 9\\nSkipping line 36695: expected 8 fields, saw 9\\nSkipping line 36699: expected 8 fields, saw 9\\nSkipping line 36700: expected 8 fields, saw 9\\nSkipping line 36701: expected 8 fields, saw 9\\nSkipping line 36704: expected 8 fields, saw 9\\nSkipping line 36705: expected 8 fields, saw 9\\nSkipping line 36716: expected 8 fields, saw 9\\nSkipping line 36717: expected 8 fields, saw 9\\nSkipping line 36718: expected 8 fields, saw 9\\nSkipping line 36719: expected 8 fields, saw 9\\nSkipping line 36727: expected 8 fields, saw 9\\nSkipping line 36737: expected 8 fields, saw 9\\nSkipping line 36742: expected 8 fields, saw 9\\nSkipping line 36743: expected 8 fields, saw 9\\nSkipping line 36773: expected 8 fields, saw 9\\nSkipping line 36780: expected 8 fields, saw 10\\nSkipping line 36788: expected 8 fields, saw 9\\nSkipping line 36793: expected 8 fields, saw 9\\nSkipping line 36811: expected 8 fields, saw 9\\nSkipping line 36829: expected 8 fields, saw 9\\nSkipping line 36833: expected 8 fields, saw 9\\nSkipping line 36840: expected 8 fields, saw 9\\nSkipping line 36855: expected 8 fields, saw 9\\nSkipping line 36868: expected 8 fields, saw 10\\nSkipping line 36891: expected 8 fields, saw 9\\nSkipping line 36892: expected 8 fields, saw 9\\nSkipping line 36903: expected 8 fields, saw 9\\nSkipping line 36908: expected 8 fields, saw 9\\nSkipping line 36909: expected 8 fields, saw 9\\nSkipping line 36911: expected 8 fields, saw 9\\nSkipping line 36916: expected 8 fields, saw 9\\nSkipping line 36930: expected 8 fields, saw 9\\nSkipping line 36931: expected 8 fields, saw 9\\nSkipping line 36938: expected 8 fields, saw 9\\nSkipping line 36941: expected 8 fields, saw 9\\nSkipping line 36948: expected 8 fields, saw 9\\nSkipping line 36954: expected 8 fields, saw 9\\nSkipping line 36966: expected 8 fields, saw 9\\nSkipping line 36992: expected 8 fields, saw 10\\nSkipping line 37033: expected 8 fields, saw 9\\nSkipping line 37074: expected 8 fields, saw 9\\nSkipping line 37119: expected 8 fields, saw 10\\nSkipping line 37122: expected 8 fields, saw 9\\nSkipping line 37123: expected 8 fields, saw 9\\nSkipping line 37128: expected 8 fields, saw 9\\nSkipping line 37132: expected 8 fields, saw 9\\nSkipping line 37135: expected 8 fields, saw 9\\nSkipping line 37144: expected 8 fields, saw 9\\nSkipping line 37175: expected 8 fields, saw 9\\nSkipping line 37188: expected 8 fields, saw 9\\nSkipping line 37192: expected 8 fields, saw 9\\nSkipping line 37221: expected 8 fields, saw 9\\nSkipping line 37222: expected 8 fields, saw 9\\nSkipping line 37228: expected 8 fields, saw 9\\nSkipping line 37232: expected 8 fields, saw 9\\nSkipping line 37247: expected 8 fields, saw 9\\nSkipping line 37316: expected 8 fields, saw 9\\nSkipping line 37321: expected 8 fields, saw 9\\nSkipping line 37373: expected 8 fields, saw 9\\nSkipping line 37414: expected 8 fields, saw 9\\nSkipping line 37416: expected 8 fields, saw 9\\nSkipping line 37435: expected 8 fields, saw 9\\nSkipping line 37438: expected 8 fields, saw 9\\nSkipping line 37444: expected 8 fields, saw 9\\nSkipping line 37449: expected 8 fields, saw 9\\nSkipping line 37458: expected 8 fields, saw 9\\nSkipping line 37463: expected 8 fields, saw 9\\nSkipping line 37472: expected 8 fields, saw 9\\nSkipping line 37473: expected 8 fields, saw 9\\nSkipping line 37519: expected 8 fields, saw 9\\nSkipping line 37524: expected 8 fields, saw 9\\nSkipping line 37530: expected 8 fields, saw 9\\nSkipping line 37545: expected 8 fields, saw 9\\nSkipping line 37567: expected 8 fields, saw 9\\nSkipping line 37576: expected 8 fields, saw 9\\nSkipping line 37577: expected 8 fields, saw 9\\nSkipping line 37585: expected 8 fields, saw 9\\nSkipping line 37651: expected 8 fields, saw 9\\nSkipping line 37668: expected 8 fields, saw 9\\nSkipping line 37699: expected 8 fields, saw 9\\nSkipping line 37715: expected 8 fields, saw 10\\nSkipping line 37719: expected 8 fields, saw 9\\nSkipping line 37729: expected 8 fields, saw 9\\nSkipping line 37748: expected 8 fields, saw 9\\nSkipping line 37807: expected 8 fields, saw 9\\nSkipping line 37835: expected 8 fields, saw 9\\nSkipping line 37837: expected 8 fields, saw 9\\nSkipping line 37839: expected 8 fields, saw 9\\nSkipping line 37851: expected 8 fields, saw 9\\nSkipping line 37853: expected 8 fields, saw 9\\nSkipping line 37879: expected 8 fields, saw 9\\nSkipping line 37882: expected 8 fields, saw 9\\nSkipping line 37886: expected 8 fields, saw 9\\nSkipping line 37910: expected 8 fields, saw 9\\nSkipping line 37912: expected 8 fields, saw 9\\nSkipping line 37916: expected 8 fields, saw 9\\nSkipping line 37931: expected 8 fields, saw 9\\nSkipping line 37960: expected 8 fields, saw 9\\nSkipping line 37966: expected 8 fields, saw 9\\nSkipping line 38000: expected 8 fields, saw 9\\nSkipping line 38042: expected 8 fields, saw 9\\nSkipping line 38043: expected 8 fields, saw 9\\nSkipping line 38054: expected 8 fields, saw 9\\nSkipping line 38060: expected 8 fields, saw 9\\nSkipping line 38062: expected 8 fields, saw 9\\nSkipping line 38070: expected 8 fields, saw 9\\nSkipping line 38082: expected 8 fields, saw 10\\nSkipping line 38113: expected 8 fields, saw 9\\nSkipping line 38123: expected 8 fields, saw 9\\nSkipping line 38124: expected 8 fields, saw 9\\nSkipping line 38128: expected 8 fields, saw 9\\nSkipping line 38138: expected 8 fields, saw 9\\nSkipping line 38139: expected 8 fields, saw 9\\nSkipping line 38143: expected 8 fields, saw 9\\nSkipping line 38146: expected 8 fields, saw 9\\nSkipping line 38175: expected 8 fields, saw 9\\nSkipping line 38188: expected 8 fields, saw 9\\nSkipping line 38189: expected 8 fields, saw 9\\nSkipping line 38219: expected 8 fields, saw 9\\nSkipping line 38221: expected 8 fields, saw 9\\nSkipping line 38229: expected 8 fields, saw 9\\nSkipping line 38242: expected 8 fields, saw 10\\nSkipping line 38250: expected 8 fields, saw 9\\nSkipping line 38284: expected 8 fields, saw 9\\nSkipping line 38296: expected 8 fields, saw 9\\nSkipping line 38304: expected 8 fields, saw 9\\nSkipping line 38392: expected 8 fields, saw 10\\nSkipping line 38400: expected 8 fields, saw 9\\nSkipping line 38420: expected 8 fields, saw 9\\nSkipping line 38446: expected 8 fields, saw 9\\nSkipping line 38470: expected 8 fields, saw 9\\nSkipping line 38485: expected 8 fields, saw 9\\nSkipping line 38489: expected 8 fields, saw 9\\nSkipping line 38500: expected 8 fields, saw 9\\nSkipping line 38513: expected 8 fields, saw 9\\nSkipping line 38533: expected 8 fields, saw 9\\nSkipping line 38536: expected 8 fields, saw 9\\nSkipping line 38539: expected 8 fields, saw 9\\nSkipping line 38550: expected 8 fields, saw 9\\nSkipping line 38557: expected 8 fields, saw 9\\nSkipping line 38562: expected 8 fields, saw 9\\nSkipping line 38570: expected 8 fields, saw 9\\nSkipping line 38576: expected 8 fields, saw 10\\nSkipping line 38620: expected 8 fields, saw 9\\nSkipping line 38632: expected 8 fields, saw 9\\nSkipping line 38634: expected 8 fields, saw 9\\nSkipping line 38638: expected 8 fields, saw 10\\nSkipping line 38652: expected 8 fields, saw 9\\nSkipping line 38656: expected 8 fields, saw 9\\nSkipping line 38670: expected 8 fields, saw 9\\nSkipping line 38680: expected 8 fields, saw 9\\nSkipping line 38682: expected 8 fields, saw 9\\nSkipping line 38688: expected 8 fields, saw 9\\nSkipping line 38727: expected 8 fields, saw 9\\nSkipping line 38739: expected 8 fields, saw 9\\nSkipping line 38743: expected 8 fields, saw 9\\nSkipping line 38771: expected 8 fields, saw 9\\nSkipping line 38785: expected 8 fields, saw 9\\nSkipping line 38791: expected 8 fields, saw 9\\nSkipping line 38841: expected 8 fields, saw 9\\nSkipping line 38865: expected 8 fields, saw 9\\nSkipping line 38872: expected 8 fields, saw 9\\nSkipping line 38874: expected 8 fields, saw 9\\nSkipping line 38883: expected 8 fields, saw 9\\nSkipping line 38885: expected 8 fields, saw 9\\nSkipping line 38887: expected 8 fields, saw 9\\nSkipping line 38904: expected 8 fields, saw 9\\nSkipping line 38911: expected 8 fields, saw 9\\nSkipping line 38913: expected 8 fields, saw 9\\nSkipping line 38925: expected 8 fields, saw 9\\nSkipping line 38926: expected 8 fields, saw 9\\nSkipping line 38927: expected 8 fields, saw 9\\nSkipping line 38946: expected 8 fields, saw 9\\nSkipping line 38978: expected 8 fields, saw 9\\nSkipping line 39001: expected 8 fields, saw 9\\nSkipping line 39002: expected 8 fields, saw 9\\nSkipping line 39006: expected 8 fields, saw 9\\nSkipping line 39031: expected 8 fields, saw 9\\nSkipping line 39033: expected 8 fields, saw 9\\nSkipping line 39042: expected 8 fields, saw 9\\nSkipping line 39069: expected 8 fields, saw 9\\nSkipping line 39070: expected 8 fields, saw 9\\nSkipping line 39071: expected 8 fields, saw 9\\nSkipping line 39076: expected 8 fields, saw 9\\nSkipping line 39082: expected 8 fields, saw 9\\nSkipping line 39110: expected 8 fields, saw 9\\nSkipping line 39122: expected 8 fields, saw 9\\nSkipping line 39130: expected 8 fields, saw 9\\nSkipping line 39135: expected 8 fields, saw 9\\nSkipping line 39138: expected 8 fields, saw 9\\nSkipping line 39157: expected 8 fields, saw 9\\nSkipping line 39160: expected 8 fields, saw 9\\nSkipping line 39172: expected 8 fields, saw 9\\nSkipping line 39175: expected 8 fields, saw 9\\nSkipping line 39188: expected 8 fields, saw 9\\nSkipping line 39206: expected 8 fields, saw 9\\nSkipping line 39213: expected 8 fields, saw 9\\nSkipping line 39230: expected 8 fields, saw 9\\nSkipping line 39231: expected 8 fields, saw 9\\nSkipping line 39233: expected 8 fields, saw 9\\nSkipping line 39241: expected 8 fields, saw 9\\nSkipping line 39260: expected 8 fields, saw 9\\nSkipping line 39275: expected 8 fields, saw 9\\nSkipping line 39304: expected 8 fields, saw 9\\nSkipping line 39312: expected 8 fields, saw 9\\nSkipping line 39376: expected 8 fields, saw 9\\nSkipping line 39406: expected 8 fields, saw 9\\nSkipping line 39416: expected 8 fields, saw 9\\nSkipping line 39426: expected 8 fields, saw 9\\nSkipping line 39428: expected 8 fields, saw 9\\nSkipping line 39438: expected 8 fields, saw 9\\nSkipping line 39444: expected 8 fields, saw 9\\nSkipping line 39459: expected 8 fields, saw 9\\nSkipping line 39467: expected 8 fields, saw 9\\nSkipping line 39506: expected 8 fields, saw 9\\nSkipping line 39533: expected 8 fields, saw 9\\nSkipping line 39539: expected 8 fields, saw 9\\nSkipping line 39580: expected 8 fields, saw 9\\nSkipping line 39599: expected 8 fields, saw 9\\nSkipping line 39647: expected 8 fields, saw 9\\nSkipping line 39664: expected 8 fields, saw 9\\nSkipping line 39673: expected 8 fields, saw 9\\nSkipping line 39686: expected 8 fields, saw 9\\nSkipping line 39690: expected 8 fields, saw 9\\nSkipping line 39710: expected 8 fields, saw 9\\nSkipping line 39723: expected 8 fields, saw 9\\nSkipping line 39742: expected 8 fields, saw 9\\nSkipping line 39763: expected 8 fields, saw 9\\nSkipping line 39765: expected 8 fields, saw 9\\nSkipping line 39778: expected 8 fields, saw 9\\nSkipping line 39780: expected 8 fields, saw 9\\nSkipping line 39816: expected 8 fields, saw 9\\nSkipping line 39913: expected 8 fields, saw 9\\nSkipping line 39917: expected 8 fields, saw 9\\nSkipping line 39923: expected 8 fields, saw 9\\nSkipping line 39926: expected 8 fields, saw 9\\nSkipping line 39927: expected 8 fields, saw 9\\nSkipping line 39929: expected 8 fields, saw 9\\nSkipping line 39932: expected 8 fields, saw 9\\nSkipping line 39942: expected 8 fields, saw 9\\nSkipping line 39943: expected 8 fields, saw 9\\nSkipping line 39944: expected 8 fields, saw 9\\nSkipping line 39945: expected 8 fields, saw 9\\nSkipping line 39956: expected 8 fields, saw 9\\nSkipping line 39972: expected 8 fields, saw 9\\nSkipping line 39987: expected 8 fields, saw 9\\nSkipping line 39991: expected 8 fields, saw 9\\nSkipping line 40008: expected 8 fields, saw 9\\nSkipping line 40010: expected 8 fields, saw 9\\nSkipping line 40057: expected 8 fields, saw 9\\nSkipping line 40084: expected 8 fields, saw 9\\nSkipping line 40104: expected 8 fields, saw 9\\nSkipping line 40107: expected 8 fields, saw 10\\nSkipping line 40121: expected 8 fields, saw 9\\nSkipping line 40123: expected 8 fields, saw 9\\nSkipping line 40141: expected 8 fields, saw 9\\nSkipping line 40144: expected 8 fields, saw 9\\nSkipping line 40145: expected 8 fields, saw 9\\nSkipping line 40171: expected 8 fields, saw 9\\nSkipping line 40181: expected 8 fields, saw 9\\nSkipping line 40217: expected 8 fields, saw 9\\nSkipping line 40236: expected 8 fields, saw 9\\nSkipping line 40242: expected 8 fields, saw 9\\nSkipping line 40256: expected 8 fields, saw 9\\nSkipping line 40258: expected 8 fields, saw 9\\nSkipping line 40262: expected 8 fields, saw 9\\nSkipping line 40265: expected 8 fields, saw 9\\nSkipping line 40282: expected 8 fields, saw 9\\nSkipping line 40327: expected 8 fields, saw 9\\nSkipping line 40338: expected 8 fields, saw 9\\nSkipping line 40361: expected 8 fields, saw 9\\nSkipping line 40365: expected 8 fields, saw 9\\nSkipping line 40380: expected 8 fields, saw 9\\nSkipping line 40390: expected 8 fields, saw 9\\nSkipping line 40396: expected 8 fields, saw 9\\nSkipping line 40403: expected 8 fields, saw 9\\nSkipping line 40428: expected 8 fields, saw 9\\nSkipping line 40442: expected 8 fields, saw 10\\nSkipping line 40485: expected 8 fields, saw 9\\nSkipping line 40499: expected 8 fields, saw 10\\nSkipping line 40512: expected 8 fields, saw 9\\nSkipping line 40515: expected 8 fields, saw 9\\nSkipping line 40529: expected 8 fields, saw 9\\nSkipping line 40552: expected 8 fields, saw 9\\nSkipping line 40563: expected 8 fields, saw 9\\nSkipping line 40566: expected 8 fields, saw 9\\nSkipping line 40567: expected 8 fields, saw 9\\nSkipping line 40580: expected 8 fields, saw 9\\nSkipping line 40589: expected 8 fields, saw 9\\nSkipping line 40597: expected 8 fields, saw 9\\nSkipping line 40601: expected 8 fields, saw 9\\nSkipping line 40622: expected 8 fields, saw 9\\nSkipping line 40623: expected 8 fields, saw 9\\nSkipping line 40645: expected 8 fields, saw 9\\nSkipping line 40646: expected 8 fields, saw 9\\nSkipping line 40657: expected 8 fields, saw 9\\nSkipping line 40676: expected 8 fields, saw 9\\nSkipping line 40704: expected 8 fields, saw 9\\nSkipping line 40754: expected 8 fields, saw 9\\nSkipping line 40757: expected 8 fields, saw 9\\nSkipping line 40760: expected 8 fields, saw 9\\nSkipping line 40762: expected 8 fields, saw 9\\nSkipping line 40776: expected 8 fields, saw 9\\nSkipping line 40781: expected 8 fields, saw 9\\nSkipping line 40782: expected 8 fields, saw 9\\nSkipping line 40841: expected 8 fields, saw 9\\nSkipping line 40890: expected 8 fields, saw 9\\nSkipping line 40896: expected 8 fields, saw 9\\nSkipping line 40897: expected 8 fields, saw 9\\nSkipping line 40898: expected 8 fields, saw 9\\nSkipping line 40901: expected 8 fields, saw 9\\nSkipping line 40902: expected 8 fields, saw 9\\nSkipping line 40914: expected 8 fields, saw 9\\nSkipping line 40938: expected 8 fields, saw 9\\nSkipping line 40944: expected 8 fields, saw 9\\nSkipping line 40951: expected 8 fields, saw 9\\nSkipping line 40962: expected 8 fields, saw 9\\nSkipping line 40991: expected 8 fields, saw 9\\nSkipping line 40998: expected 8 fields, saw 9\\nSkipping line 41005: expected 8 fields, saw 9\\nSkipping line 41016: expected 8 fields, saw 9\\nSkipping line 41027: expected 8 fields, saw 9\\nSkipping line 41028: expected 8 fields, saw 9\\nSkipping line 41085: expected 8 fields, saw 9\\nSkipping line 41102: expected 8 fields, saw 9\\nSkipping line 41107: expected 8 fields, saw 9\\nSkipping line 41113: expected 8 fields, saw 9\\nSkipping line 41115: expected 8 fields, saw 9\\nSkipping line 41130: expected 8 fields, saw 9\\nSkipping line 41136: expected 8 fields, saw 9\\nSkipping line 41143: expected 8 fields, saw 9\\nSkipping line 41148: expected 8 fields, saw 9\\nSkipping line 41152: expected 8 fields, saw 9\\nSkipping line 41155: expected 8 fields, saw 9\\nSkipping line 41158: expected 8 fields, saw 9\\nSkipping line 41160: expected 8 fields, saw 9\\nSkipping line 41167: expected 8 fields, saw 9\\nSkipping line 41168: expected 8 fields, saw 9\\nSkipping line 41169: expected 8 fields, saw 9\\nSkipping line 41175: expected 8 fields, saw 9\\nSkipping line 41178: expected 8 fields, saw 9\\nSkipping line 41179: expected 8 fields, saw 9\\nSkipping line 41182: expected 8 fields, saw 9\\nSkipping line 41199: expected 8 fields, saw 9\\nSkipping line 41208: expected 8 fields, saw 9\\nSkipping line 41213: expected 8 fields, saw 9\\nSkipping line 41215: expected 8 fields, saw 9\\nSkipping line 41216: expected 8 fields, saw 9\\nSkipping line 41238: expected 8 fields, saw 9\\nSkipping line 41250: expected 8 fields, saw 9\\nSkipping line 41262: expected 8 fields, saw 10\\nSkipping line 41275: expected 8 fields, saw 9\\nSkipping line 41297: expected 8 fields, saw 9\\nSkipping line 41300: expected 8 fields, saw 9\\nSkipping line 41320: expected 8 fields, saw 9\\nSkipping line 41330: expected 8 fields, saw 10\\nSkipping line 41337: expected 8 fields, saw 9\\nSkipping line 41417: expected 8 fields, saw 9\\nSkipping line 41419: expected 8 fields, saw 9\\nSkipping line 41429: expected 8 fields, saw 9\\nSkipping line 41439: expected 8 fields, saw 9\\nSkipping line 41441: expected 8 fields, saw 9\\nSkipping line 41478: expected 8 fields, saw 9\\nSkipping line 41479: expected 8 fields, saw 9\\nSkipping line 41480: expected 8 fields, saw 9\\nSkipping line 41493: expected 8 fields, saw 9\\nSkipping line 41503: expected 8 fields, saw 9\\nSkipping line 41519: expected 8 fields, saw 9\\nSkipping line 41523: expected 8 fields, saw 9\\nSkipping line 41535: expected 8 fields, saw 9\\nSkipping line 41538: expected 8 fields, saw 9\\nSkipping line 41549: expected 8 fields, saw 9\\nSkipping line 41555: expected 8 fields, saw 10\\nSkipping line 41556: expected 8 fields, saw 9\\nSkipping line 41564: expected 8 fields, saw 9\\nSkipping line 41574: expected 8 fields, saw 9\\nSkipping line 41575: expected 8 fields, saw 9\\nSkipping line 41576: expected 8 fields, saw 9\\nSkipping line 41587: expected 8 fields, saw 9\\nSkipping line 41589: expected 8 fields, saw 9\\nSkipping line 41592: expected 8 fields, saw 9\\nSkipping line 41594: expected 8 fields, saw 9\\nSkipping line 41596: expected 8 fields, saw 9\\nSkipping line 41609: expected 8 fields, saw 9\\nSkipping line 41634: expected 8 fields, saw 9\\nSkipping line 41645: expected 8 fields, saw 9\\nSkipping line 41649: expected 8 fields, saw 9\\nSkipping line 41651: expected 8 fields, saw 9\\nSkipping line 41655: expected 8 fields, saw 9\\nSkipping line 41658: expected 8 fields, saw 9\\nSkipping line 41671: expected 8 fields, saw 9\\nSkipping line 41677: expected 8 fields, saw 9\\nSkipping line 41687: expected 8 fields, saw 9\\nSkipping line 41711: expected 8 fields, saw 9\\nSkipping line 41717: expected 8 fields, saw 9\\nSkipping line 41721: expected 8 fields, saw 9\\nSkipping line 41730: expected 8 fields, saw 9\\nSkipping line 41732: expected 8 fields, saw 9\\nSkipping line 41758: expected 8 fields, saw 9\\nSkipping line 41783: expected 8 fields, saw 9\\nSkipping line 41817: expected 8 fields, saw 9\\nSkipping line 41829: expected 8 fields, saw 9\\nSkipping line 41835: expected 8 fields, saw 9\\nSkipping line 41852: expected 8 fields, saw 9\\nSkipping line 41854: expected 8 fields, saw 9\\nSkipping line 41858: expected 8 fields, saw 9\\nSkipping line 41859: expected 8 fields, saw 9\\nSkipping line 41860: expected 8 fields, saw 10\\nSkipping line 41863: expected 8 fields, saw 9\\nSkipping line 41881: expected 8 fields, saw 9\\nSkipping line 41886: expected 8 fields, saw 9\\nSkipping line 41901: expected 8 fields, saw 10\\nSkipping line 41902: expected 8 fields, saw 10\\nSkipping line 41903: expected 8 fields, saw 9\\nSkipping line 41904: expected 8 fields, saw 9\\nSkipping line 41905: expected 8 fields, saw 9\\nSkipping line 41906: expected 8 fields, saw 10\\nSkipping line 41907: expected 8 fields, saw 10\\nSkipping line 41908: expected 8 fields, saw 9\\nSkipping line 41909: expected 8 fields, saw 9\\nSkipping line 41910: expected 8 fields, saw 9\\nSkipping line 41915: expected 8 fields, saw 9\\nSkipping line 41923: expected 8 fields, saw 9\\nSkipping line 41927: expected 8 fields, saw 9\\nSkipping line 41930: expected 8 fields, saw 9\\nSkipping line 41950: expected 8 fields, saw 9\\nSkipping line 41979: expected 8 fields, saw 9\\nSkipping line 41980: expected 8 fields, saw 9\\nSkipping line 41983: expected 8 fields, saw 9\\nSkipping line 41990: expected 8 fields, saw 9\\nSkipping line 41991: expected 8 fields, saw 9\\nSkipping line 42010: expected 8 fields, saw 9\\nSkipping line 42012: expected 8 fields, saw 9\\nSkipping line 42036: expected 8 fields, saw 9\\nSkipping line 42039: expected 8 fields, saw 9\\nSkipping line 42050: expected 8 fields, saw 10\\nSkipping line 42052: expected 8 fields, saw 9\\nSkipping line 42101: expected 8 fields, saw 9\\nSkipping line 42113: expected 8 fields, saw 9\\nSkipping line 42114: expected 8 fields, saw 9\\nSkipping line 42118: expected 8 fields, saw 9\\nSkipping line 42123: expected 8 fields, saw 9\\nSkipping line 42132: expected 8 fields, saw 9\\nSkipping line 42140: expected 8 fields, saw 9\\nSkipping line 42145: expected 8 fields, saw 9\\nSkipping line 42146: expected 8 fields, saw 9\\nSkipping line 42155: expected 8 fields, saw 9\\nSkipping line 42161: expected 8 fields, saw 9\\nSkipping line 42197: expected 8 fields, saw 9\\nSkipping line 42210: expected 8 fields, saw 9\\nSkipping line 42222: expected 8 fields, saw 10\\nSkipping line 42227: expected 8 fields, saw 9\\nSkipping line 42256: expected 8 fields, saw 9\\nSkipping line 42258: expected 8 fields, saw 10\\nSkipping line 42271: expected 8 fields, saw 9\\nSkipping line 42275: expected 8 fields, saw 9\\nSkipping line 42276: expected 8 fields, saw 9\\nSkipping line 42282: expected 8 fields, saw 9\\nSkipping line 42287: expected 8 fields, saw 9\\nSkipping line 42288: expected 8 fields, saw 9\\nSkipping line 42305: expected 8 fields, saw 9\\nSkipping line 42328: expected 8 fields, saw 9\\nSkipping line 42345: expected 8 fields, saw 9\\nSkipping line 42349: expected 8 fields, saw 9\\nSkipping line 42363: expected 8 fields, saw 10\\nSkipping line 42374: expected 8 fields, saw 9\\nSkipping line 42378: expected 8 fields, saw 9\\nSkipping line 42382: expected 8 fields, saw 9\\nSkipping line 42399: expected 8 fields, saw 10\\nSkipping line 42407: expected 8 fields, saw 9\\nSkipping line 42413: expected 8 fields, saw 9\\nSkipping line 42427: expected 8 fields, saw 9\\nSkipping line 42435: expected 8 fields, saw 9\\nSkipping line 42440: expected 8 fields, saw 9\\nSkipping line 42446: expected 8 fields, saw 9\\nSkipping line 42461: expected 8 fields, saw 9\\nSkipping line 42466: expected 8 fields, saw 9\\nSkipping line 42488: expected 8 fields, saw 9\\nSkipping line 42499: expected 8 fields, saw 9\\nSkipping line 42501: expected 8 fields, saw 9\\nSkipping line 42503: expected 8 fields, saw 9\\nSkipping line 42506: expected 8 fields, saw 9\\nSkipping line 42519: expected 8 fields, saw 9\\nSkipping line 42520: expected 8 fields, saw 9\\nSkipping line 42526: expected 8 fields, saw 9\\nSkipping line 42527: expected 8 fields, saw 9\\nSkipping line 42533: expected 8 fields, saw 9\\nSkipping line 42574: expected 8 fields, saw 9\\nSkipping line 42582: expected 8 fields, saw 9\\nSkipping line 42585: expected 8 fields, saw 9\\nSkipping line 42586: expected 8 fields, saw 9\\nSkipping line 42588: expected 8 fields, saw 9\\nSkipping line 42590: expected 8 fields, saw 9\\nSkipping line 42624: expected 8 fields, saw 9\\nSkipping line 42645: expected 8 fields, saw 9\\nSkipping line 42655: expected 8 fields, saw 9\\nSkipping line 42659: expected 8 fields, saw 9\\nSkipping line 42661: expected 8 fields, saw 10\\nSkipping line 42664: expected 8 fields, saw 10\\nSkipping line 42682: expected 8 fields, saw 9\\nSkipping line 42701: expected 8 fields, saw 9\\nSkipping line 42703: expected 8 fields, saw 9\\nSkipping line 42704: expected 8 fields, saw 9\\nSkipping line 42707: expected 8 fields, saw 9\\nSkipping line 42728: expected 8 fields, saw 10\\nSkipping line 42731: expected 8 fields, saw 10\\nSkipping line 42738: expected 8 fields, saw 9\\nSkipping line 42740: expected 8 fields, saw 9\\nSkipping line 42749: expected 8 fields, saw 9\\nSkipping line 42750: expected 8 fields, saw 9\\nSkipping line 42767: expected 8 fields, saw 9\\nSkipping line 42788: expected 8 fields, saw 9\\nSkipping line 42791: expected 8 fields, saw 9\\nSkipping line 42792: expected 8 fields, saw 9\\nSkipping line 42812: expected 8 fields, saw 9\\nSkipping line 42829: expected 8 fields, saw 9\\nSkipping line 42832: expected 8 fields, saw 9\\nSkipping line 42837: expected 8 fields, saw 9\\nSkipping line 42840: expected 8 fields, saw 9\\nSkipping line 42842: expected 8 fields, saw 9\\nSkipping line 42846: expected 8 fields, saw 10\\nSkipping line 42850: expected 8 fields, saw 9\\nSkipping line 42853: expected 8 fields, saw 9\\nSkipping line 42858: expected 8 fields, saw 9\\nSkipping line 42863: expected 8 fields, saw 9\\nSkipping line 42865: expected 8 fields, saw 9\\nSkipping line 42874: expected 8 fields, saw 9\\nSkipping line 42880: expected 8 fields, saw 9\\nSkipping line 42883: expected 8 fields, saw 9\\nSkipping line 42893: expected 8 fields, saw 9\\nSkipping line 42894: expected 8 fields, saw 9\\nSkipping line 42899: expected 8 fields, saw 9\\nSkipping line 42902: expected 8 fields, saw 9\\nSkipping line 42907: expected 8 fields, saw 9\\nSkipping line 42909: expected 8 fields, saw 9\\nSkipping line 42916: expected 8 fields, saw 9\\nSkipping line 42918: expected 8 fields, saw 9\\nSkipping line 42923: expected 8 fields, saw 9\\nSkipping line 42928: expected 8 fields, saw 9\\nSkipping line 42934: expected 8 fields, saw 9\\nSkipping line 42960: expected 8 fields, saw 10\\nSkipping line 42967: expected 8 fields, saw 10\\nSkipping line 42972: expected 8 fields, saw 9\\nSkipping line 42982: expected 8 fields, saw 9\\nSkipping line 42993: expected 8 fields, saw 9\\nSkipping line 43002: expected 8 fields, saw 9\\nSkipping line 43004: expected 8 fields, saw 9\\nSkipping line 43005: expected 8 fields, saw 9\\nSkipping line 43012: expected 8 fields, saw 9\\nSkipping line 43020: expected 8 fields, saw 9\\nSkipping line 43049: expected 8 fields, saw 9\\nSkipping line 43055: expected 8 fields, saw 9\\nSkipping line 43067: expected 8 fields, saw 9\\nSkipping line 43096: expected 8 fields, saw 9\\nSkipping line 43147: expected 8 fields, saw 9\\nSkipping line 43195: expected 8 fields, saw 9\\nSkipping line 43196: expected 8 fields, saw 9\\nSkipping line 43213: expected 8 fields, saw 9\\nSkipping line 43215: expected 8 fields, saw 9\\nSkipping line 43233: expected 8 fields, saw 9\\nSkipping line 43242: expected 8 fields, saw 9\\nSkipping line 43256: expected 8 fields, saw 9\\nSkipping line 43259: expected 8 fields, saw 9\\nSkipping line 43260: expected 8 fields, saw 9\\nSkipping line 43267: expected 8 fields, saw 9\\nSkipping line 43288: expected 8 fields, saw 9\\nSkipping line 43296: expected 8 fields, saw 9\\nSkipping line 43312: expected 8 fields, saw 10\\nSkipping line 43338: expected 8 fields, saw 9\\nSkipping line 43405: expected 8 fields, saw 9\\nSkipping line 43414: expected 8 fields, saw 9\\nSkipping line 43422: expected 8 fields, saw 9\\nSkipping line 43439: expected 8 fields, saw 9\\nSkipping line 43442: expected 8 fields, saw 9\\nSkipping line 43452: expected 8 fields, saw 9\\nSkipping line 43458: expected 8 fields, saw 9\\nSkipping line 43502: expected 8 fields, saw 9\\nSkipping line 43537: expected 8 fields, saw 9\\nSkipping line 43547: expected 8 fields, saw 9\\nSkipping line 43558: expected 8 fields, saw 9\\nSkipping line 43559: expected 8 fields, saw 9\\nSkipping line 43563: expected 8 fields, saw 9\\nSkipping line 43567: expected 8 fields, saw 9\\nSkipping line 43579: expected 8 fields, saw 9\\nSkipping line 43588: expected 8 fields, saw 9\\nSkipping line 43593: expected 8 fields, saw 9\\nSkipping line 43598: expected 8 fields, saw 9\\nSkipping line 43599: expected 8 fields, saw 9\\nSkipping line 43609: expected 8 fields, saw 9\\nSkipping line 43612: expected 8 fields, saw 9\\nSkipping line 43616: expected 8 fields, saw 9\\nSkipping line 43635: expected 8 fields, saw 9\\nSkipping line 43641: expected 8 fields, saw 9\\nSkipping line 43667: expected 8 fields, saw 10\\nSkipping line 43669: expected 8 fields, saw 9\\nSkipping line 43690: expected 8 fields, saw 9\\nSkipping line 43726: expected 8 fields, saw 9\\nSkipping line 43727: expected 8 fields, saw 9\\nSkipping line 43734: expected 8 fields, saw 9\\nSkipping line 43746: expected 8 fields, saw 10\\nSkipping line 43767: expected 8 fields, saw 9\\nSkipping line 43798: expected 8 fields, saw 9\\nSkipping line 43819: expected 8 fields, saw 9\\nSkipping line 43846: expected 8 fields, saw 9\\nSkipping line 43854: expected 8 fields, saw 9\\nSkipping line 43856: expected 8 fields, saw 10\\nSkipping line 43860: expected 8 fields, saw 9\\nSkipping line 43862: expected 8 fields, saw 9\\nSkipping line 43876: expected 8 fields, saw 9\\nSkipping line 43896: expected 8 fields, saw 9\\nSkipping line 43912: expected 8 fields, saw 9\\nSkipping line 43920: expected 8 fields, saw 9\\nSkipping line 43926: expected 8 fields, saw 9\\nSkipping line 43961: expected 8 fields, saw 9\\nSkipping line 43967: expected 8 fields, saw 9\\nSkipping line 43983: expected 8 fields, saw 9\\nSkipping line 43995: expected 8 fields, saw 9\\nSkipping line 44003: expected 8 fields, saw 9\\nSkipping line 44004: expected 8 fields, saw 9\\nSkipping line 44023: expected 8 fields, saw 10\\nSkipping line 44047: expected 8 fields, saw 9\\nSkipping line 44059: expected 8 fields, saw 9\\nSkipping line 44062: expected 8 fields, saw 9\\nSkipping line 44070: expected 8 fields, saw 9\\nSkipping line 44078: expected 8 fields, saw 9\\nSkipping line 44094: expected 8 fields, saw 9\\nSkipping line 44101: expected 8 fields, saw 9\\nSkipping line 44104: expected 8 fields, saw 9\\nSkipping line 44107: expected 8 fields, saw 9\\nSkipping line 44130: expected 8 fields, saw 9\\nSkipping line 44140: expected 8 fields, saw 9\\nSkipping line 44143: expected 8 fields, saw 9\\nSkipping line 44149: expected 8 fields, saw 9\\nSkipping line 44155: expected 8 fields, saw 9\\nSkipping line 44159: expected 8 fields, saw 9\\nSkipping line 44161: expected 8 fields, saw 9\\nSkipping line 44166: expected 8 fields, saw 9\\nSkipping line 44193: expected 8 fields, saw 9\\nSkipping line 44202: expected 8 fields, saw 9\\nSkipping line 44207: expected 8 fields, saw 9\\nSkipping line 44214: expected 8 fields, saw 9\\nSkipping line 44230: expected 8 fields, saw 9\\nSkipping line 44244: expected 8 fields, saw 9\\nSkipping line 44261: expected 8 fields, saw 9\\nSkipping line 44263: expected 8 fields, saw 9\\nSkipping line 44280: expected 8 fields, saw 9\\nSkipping line 44330: expected 8 fields, saw 9\\nSkipping line 44335: expected 8 fields, saw 9\\nSkipping line 44347: expected 8 fields, saw 9\\nSkipping line 44358: expected 8 fields, saw 10\\nSkipping line 44359: expected 8 fields, saw 9\\nSkipping line 44375: expected 8 fields, saw 9\\nSkipping line 44379: expected 8 fields, saw 9\\nSkipping line 44382: expected 8 fields, saw 9\\nSkipping line 44394: expected 8 fields, saw 9\\nSkipping line 44402: expected 8 fields, saw 9\\nSkipping line 44500: expected 8 fields, saw 9\\nSkipping line 44568: expected 8 fields, saw 9\\nSkipping line 44592: expected 8 fields, saw 9\\nSkipping line 44593: expected 8 fields, saw 9\\nSkipping line 44595: expected 8 fields, saw 9\\nSkipping line 44606: expected 8 fields, saw 9\\nSkipping line 44609: expected 8 fields, saw 9\\nSkipping line 44627: expected 8 fields, saw 9\\nSkipping line 44649: expected 8 fields, saw 9\\nSkipping line 44665: expected 8 fields, saw 9\\nSkipping line 44676: expected 8 fields, saw 9\\nSkipping line 44687: expected 8 fields, saw 9\\nSkipping line 44699: expected 8 fields, saw 9\\nSkipping line 44703: expected 8 fields, saw 9\\nSkipping line 44732: expected 8 fields, saw 9\\nSkipping line 44734: expected 8 fields, saw 9\\nSkipping line 44737: expected 8 fields, saw 9\\nSkipping line 44746: expected 8 fields, saw 9\\nSkipping line 44777: expected 8 fields, saw 9\\nSkipping line 44819: expected 8 fields, saw 9\\nSkipping line 44826: expected 8 fields, saw 9\\nSkipping line 44830: expected 8 fields, saw 9\\nSkipping line 44831: expected 8 fields, saw 9\\nSkipping line 44833: expected 8 fields, saw 9\\nSkipping line 44838: expected 8 fields, saw 9\\nSkipping line 44863: expected 8 fields, saw 9\\nSkipping line 44879: expected 8 fields, saw 9\\nSkipping line 44892: expected 8 fields, saw 9\\nSkipping line 44893: expected 8 fields, saw 9\\nSkipping line 44895: expected 8 fields, saw 9\\nSkipping line 44897: expected 8 fields, saw 9\\nSkipping line 44932: expected 8 fields, saw 9\\nSkipping line 44935: expected 8 fields, saw 9\\nSkipping line 44941: expected 8 fields, saw 9\\nSkipping line 44945: expected 8 fields, saw 9\\nSkipping line 44976: expected 8 fields, saw 9\\nSkipping line 44995: expected 8 fields, saw 9\\nSkipping line 44996: expected 8 fields, saw 9\\nSkipping line 44999: expected 8 fields, saw 9\\nSkipping line 45014: expected 8 fields, saw 9\\nSkipping line 45015: expected 8 fields, saw 9\\nSkipping line 45026: expected 8 fields, saw 9\\nSkipping line 45036: expected 8 fields, saw 9\\nSkipping line 45060: expected 8 fields, saw 9\\nSkipping line 45071: expected 8 fields, saw 9\\nSkipping line 45072: expected 8 fields, saw 10\\nSkipping line 45075: expected 8 fields, saw 10\\nSkipping line 45082: expected 8 fields, saw 9\\nSkipping line 45084: expected 8 fields, saw 9\\nSkipping line 45089: expected 8 fields, saw 9\\nSkipping line 45149: expected 8 fields, saw 9\\nSkipping line 45176: expected 8 fields, saw 9\\nSkipping line 45184: expected 8 fields, saw 9\\nSkipping line 45217: expected 8 fields, saw 9\\nSkipping line 45331: expected 8 fields, saw 9\\nSkipping line 45365: expected 8 fields, saw 9\\nSkipping line 45396: expected 8 fields, saw 9\\nSkipping line 45429: expected 8 fields, saw 9\\nSkipping line 45434: expected 8 fields, saw 9\\nSkipping line 45438: expected 8 fields, saw 9\\nSkipping line 45440: expected 8 fields, saw 9\\nSkipping line 45452: expected 8 fields, saw 9\\nSkipping line 45469: expected 8 fields, saw 9\\nSkipping line 45473: expected 8 fields, saw 9\\nSkipping line 45485: expected 8 fields, saw 9\\nSkipping line 45490: expected 8 fields, saw 9\\nSkipping line 45493: expected 8 fields, saw 9\\nSkipping line 45495: expected 8 fields, saw 9\\nSkipping line 45496: expected 8 fields, saw 9\\nSkipping line 45506: expected 8 fields, saw 9\\nSkipping line 45517: expected 8 fields, saw 9\\nSkipping line 45520: expected 8 fields, saw 9\\nSkipping line 45521: expected 8 fields, saw 9\\nSkipping line 45530: expected 8 fields, saw 9\\nSkipping line 45537: expected 8 fields, saw 9\\nSkipping line 45540: expected 8 fields, saw 9\\nSkipping line 45544: expected 8 fields, saw 10\\nSkipping line 45569: expected 8 fields, saw 9\\nSkipping line 45570: expected 8 fields, saw 9\\nSkipping line 45572: expected 8 fields, saw 9\\nSkipping line 45589: expected 8 fields, saw 9\\nSkipping line 45591: expected 8 fields, saw 9\\nSkipping line 45593: expected 8 fields, saw 9\\nSkipping line 45606: expected 8 fields, saw 9\\nSkipping line 45612: expected 8 fields, saw 9\\nSkipping line 45613: expected 8 fields, saw 9\\nSkipping line 45614: expected 8 fields, saw 9\\nSkipping line 45626: expected 8 fields, saw 9\\nSkipping line 45627: expected 8 fields, saw 9\\nSkipping line 45628: expected 8 fields, saw 10\\nSkipping line 45629: expected 8 fields, saw 9\\nSkipping line 45630: expected 8 fields, saw 9\\nSkipping line 45633: expected 8 fields, saw 9\\nSkipping line 45659: expected 8 fields, saw 9\\nSkipping line 45669: expected 8 fields, saw 9\\nSkipping line 45672: expected 8 fields, saw 9\\nSkipping line 45704: expected 8 fields, saw 9\\nSkipping line 45716: expected 8 fields, saw 9\\nSkipping line 45717: expected 8 fields, saw 9\\nSkipping line 45718: expected 8 fields, saw 9\\nSkipping line 45776: expected 8 fields, saw 9\\nSkipping line 45782: expected 8 fields, saw 9\\nSkipping line 45793: expected 8 fields, saw 9\\nSkipping line 45800: expected 8 fields, saw 9\\nSkipping line 45813: expected 8 fields, saw 9\\nSkipping line 45820: expected 8 fields, saw 9\\nSkipping line 45822: expected 8 fields, saw 9\\nSkipping line 45825: expected 8 fields, saw 9\\nSkipping line 45830: expected 8 fields, saw 9\\nSkipping line 45836: expected 8 fields, saw 9\\nSkipping line 45837: expected 8 fields, saw 9\\nSkipping line 45843: expected 8 fields, saw 9\\nSkipping line 45851: expected 8 fields, saw 9\\nSkipping line 45865: expected 8 fields, saw 9\\nSkipping line 45866: expected 8 fields, saw 9\\nSkipping line 45876: expected 8 fields, saw 10\\nSkipping line 45916: expected 8 fields, saw 9\\nSkipping line 45922: expected 8 fields, saw 9\\nSkipping line 45929: expected 8 fields, saw 9\\nSkipping line 45936: expected 8 fields, saw 9\\nSkipping line 45937: expected 8 fields, saw 9\\nSkipping line 45941: expected 8 fields, saw 9\\nSkipping line 45948: expected 8 fields, saw 9\\nSkipping line 45960: expected 8 fields, saw 9\\nSkipping line 45986: expected 8 fields, saw 9\\nSkipping line 46002: expected 8 fields, saw 9\\nSkipping line 46007: expected 8 fields, saw 9\\nSkipping line 46034: expected 8 fields, saw 9\\nSkipping line 46037: expected 8 fields, saw 9\\nSkipping line 46046: expected 8 fields, saw 9\\nSkipping line 46050: expected 8 fields, saw 9\\nSkipping line 46126: expected 8 fields, saw 9\\nSkipping line 46127: expected 8 fields, saw 9\\nSkipping line 46130: expected 8 fields, saw 9\\nSkipping line 46151: expected 8 fields, saw 9\\nSkipping line 46160: expected 8 fields, saw 10\\nSkipping line 46162: expected 8 fields, saw 9\\nSkipping line 46243: expected 8 fields, saw 9\\nSkipping line 46253: expected 8 fields, saw 9\\nSkipping line 46266: expected 8 fields, saw 10\\nSkipping line 46271: expected 8 fields, saw 9\\nSkipping line 46331: expected 8 fields, saw 9\\nSkipping line 46340: expected 8 fields, saw 9\\nSkipping line 46408: expected 8 fields, saw 9\\nSkipping line 46419: expected 8 fields, saw 9\\nSkipping line 46426: expected 8 fields, saw 9\\nSkipping line 46431: expected 8 fields, saw 9\\nSkipping line 46451: expected 8 fields, saw 9\\nSkipping line 46453: expected 8 fields, saw 9\\nSkipping line 46464: expected 8 fields, saw 9\\nSkipping line 46468: expected 8 fields, saw 9\\nSkipping line 46473: expected 8 fields, saw 9\\nSkipping line 46493: expected 8 fields, saw 9\\nSkipping line 46496: expected 8 fields, saw 9\\nSkipping line 46500: expected 8 fields, saw 9\\nSkipping line 46516: expected 8 fields, saw 9\\nSkipping line 46550: expected 8 fields, saw 9\\nSkipping line 46573: expected 8 fields, saw 9\\nSkipping line 46585: expected 8 fields, saw 9\\nSkipping line 46592: expected 8 fields, saw 9\\nSkipping line 46593: expected 8 fields, saw 9\\nSkipping line 46594: expected 8 fields, saw 9\\nSkipping line 46595: expected 8 fields, saw 9\\nSkipping line 46615: expected 8 fields, saw 9\\nSkipping line 46621: expected 8 fields, saw 10\\nSkipping line 46667: expected 8 fields, saw 9\\nSkipping line 46679: expected 8 fields, saw 9\\nSkipping line 46694: expected 8 fields, saw 9\\nSkipping line 46700: expected 8 fields, saw 9\\nSkipping line 46704: expected 8 fields, saw 9\\nSkipping line 46709: expected 8 fields, saw 9\\nSkipping line 46717: expected 8 fields, saw 9\\nSkipping line 46752: expected 8 fields, saw 10\\nSkipping line 46755: expected 8 fields, saw 9\\nSkipping line 46763: expected 8 fields, saw 9\\nSkipping line 46804: expected 8 fields, saw 9\\nSkipping line 46862: expected 8 fields, saw 9\\nSkipping line 46900: expected 8 fields, saw 9\\nSkipping line 46903: expected 8 fields, saw 10\\nSkipping line 46906: expected 8 fields, saw 9\\nSkipping line 46914: expected 8 fields, saw 9\\nSkipping line 46918: expected 8 fields, saw 9\\nSkipping line 46934: expected 8 fields, saw 9\\nSkipping line 46938: expected 8 fields, saw 9\\nSkipping line 46946: expected 8 fields, saw 9\\nSkipping line 46955: expected 8 fields, saw 9\\nSkipping line 46963: expected 8 fields, saw 9\\nSkipping line 46964: expected 8 fields, saw 9\\nSkipping line 46966: expected 8 fields, saw 9\\nSkipping line 46967: expected 8 fields, saw 9\\nSkipping line 46968: expected 8 fields, saw 9\\nSkipping line 46969: expected 8 fields, saw 9\\nSkipping line 46972: expected 8 fields, saw 9\\nSkipping line 46991: expected 8 fields, saw 9\\nSkipping line 46999: expected 8 fields, saw 9\\nSkipping line 47014: expected 8 fields, saw 10\\nSkipping line 47015: expected 8 fields, saw 9\\nSkipping line 47037: expected 8 fields, saw 10\\nSkipping line 47064: expected 8 fields, saw 9\\nSkipping line 47099: expected 8 fields, saw 9\\nSkipping line 47100: expected 8 fields, saw 9\\nSkipping line 47110: expected 8 fields, saw 9\\nSkipping line 47181: expected 8 fields, saw 9\\nSkipping line 47196: expected 8 fields, saw 9\\nSkipping line 47199: expected 8 fields, saw 9\\nSkipping line 47216: expected 8 fields, saw 9\\nSkipping line 47275: expected 8 fields, saw 9\\nSkipping line 47283: expected 8 fields, saw 9\\nSkipping line 47295: expected 8 fields, saw 9\\nSkipping line 47376: expected 8 fields, saw 9\\nSkipping line 47402: expected 8 fields, saw 9\\nSkipping line 47403: expected 8 fields, saw 9\\nSkipping line 47406: expected 8 fields, saw 9\\nSkipping line 47413: expected 8 fields, saw 9\\nSkipping line 47448: expected 8 fields, saw 9\\nSkipping line 47462: expected 8 fields, saw 9\\nSkipping line 47693: expected 8 fields, saw 9\\nSkipping line 47714: expected 8 fields, saw 9\\nSkipping line 47725: expected 8 fields, saw 9\\nSkipping line 47759: expected 8 fields, saw 9\\nSkipping line 47794: expected 8 fields, saw 9\\nSkipping line 47799: expected 8 fields, saw 9\\nSkipping line 47840: expected 8 fields, saw 9\\nSkipping line 47850: expected 8 fields, saw 10\\nSkipping line 47864: expected 8 fields, saw 9\\nSkipping line 47868: expected 8 fields, saw 9\\nSkipping line 47872: expected 8 fields, saw 9\\nSkipping line 47884: expected 8 fields, saw 9\\nSkipping line 47887: expected 8 fields, saw 9\\nSkipping line 47900: expected 8 fields, saw 9\\nSkipping line 47953: expected 8 fields, saw 9\\nSkipping line 47992: expected 8 fields, saw 9\\nSkipping line 48020: expected 8 fields, saw 11\\nSkipping line 48021: expected 8 fields, saw 9\\nSkipping line 48069: expected 8 fields, saw 10\\nSkipping line 48070: expected 8 fields, saw 9\\nSkipping line 48107: expected 8 fields, saw 9\\nSkipping line 48108: expected 8 fields, saw 9\\nSkipping line 48118: expected 8 fields, saw 9\\nSkipping line 48123: expected 8 fields, saw 9\\nSkipping line 48131: expected 8 fields, saw 9\\nSkipping line 48135: expected 8 fields, saw 9\\nSkipping line 48136: expected 8 fields, saw 9\\nSkipping line 48151: expected 8 fields, saw 9\\nSkipping line 48158: expected 8 fields, saw 9\\nSkipping line 48159: expected 8 fields, saw 9\\nSkipping line 48193: expected 8 fields, saw 9\\nSkipping line 48235: expected 8 fields, saw 9\\nSkipping line 48282: expected 8 fields, saw 9\\nSkipping line 48296: expected 8 fields, saw 9\\nSkipping line 48306: expected 8 fields, saw 9\\nSkipping line 48319: expected 8 fields, saw 9\\nSkipping line 48349: expected 8 fields, saw 9\\nSkipping line 48355: expected 8 fields, saw 9\\nSkipping line 48380: expected 8 fields, saw 9\\nSkipping line 48398: expected 8 fields, saw 9\\nSkipping line 48449: expected 8 fields, saw 9\\nSkipping line 48466: expected 8 fields, saw 9\\nSkipping line 48469: expected 8 fields, saw 9\\nSkipping line 48502: expected 8 fields, saw 9\\nSkipping line 48512: expected 8 fields, saw 9\\nSkipping line 48525: expected 8 fields, saw 9\\nSkipping line 48527: expected 8 fields, saw 9\\nSkipping line 48535: expected 8 fields, saw 9\\nSkipping line 48541: expected 8 fields, saw 9\\nSkipping line 48545: expected 8 fields, saw 10\\nSkipping line 48548: expected 8 fields, saw 9\\nSkipping line 48552: expected 8 fields, saw 9\\nSkipping line 48577: expected 8 fields, saw 9\\nSkipping line 48589: expected 8 fields, saw 9\\nSkipping line 48595: expected 8 fields, saw 9\\nSkipping line 48604: expected 8 fields, saw 10\\nSkipping line 48615: expected 8 fields, saw 9\\nSkipping line 48619: expected 8 fields, saw 9\\nSkipping line 48637: expected 8 fields, saw 9\\nSkipping line 48651: expected 8 fields, saw 9\\nSkipping line 48664: expected 8 fields, saw 9\\nSkipping line 48675: expected 8 fields, saw 9\\nSkipping line 48683: expected 8 fields, saw 9\\nSkipping line 48684: expected 8 fields, saw 9\\nSkipping line 48688: expected 8 fields, saw 9\\nSkipping line 48697: expected 8 fields, saw 9\\nSkipping line 48702: expected 8 fields, saw 9\\nSkipping line 48705: expected 8 fields, saw 9\\nSkipping line 48712: expected 8 fields, saw 9\\nSkipping line 48743: expected 8 fields, saw 9\\nSkipping line 48765: expected 8 fields, saw 9\\nSkipping line 48772: expected 8 fields, saw 9\\nSkipping line 48774: expected 8 fields, saw 9\\nSkipping line 48793: expected 8 fields, saw 9\\nSkipping line 48828: expected 8 fields, saw 9\\nSkipping line 48835: expected 8 fields, saw 9\\nSkipping line 48838: expected 8 fields, saw 9\\nSkipping line 48859: expected 8 fields, saw 9\\nSkipping line 48873: expected 8 fields, saw 9\\nSkipping line 48875: expected 8 fields, saw 9\\nSkipping line 48883: expected 8 fields, saw 9\\nSkipping line 48893: expected 8 fields, saw 9\\nSkipping line 48897: expected 8 fields, saw 9\\nSkipping line 48900: expected 8 fields, saw 9\\nSkipping line 48901: expected 8 fields, saw 9\\nSkipping line 48934: expected 8 fields, saw 9\\nSkipping line 48935: expected 8 fields, saw 9\\nSkipping line 48950: expected 8 fields, saw 9\\nSkipping line 48952: expected 8 fields, saw 9\\nSkipping line 48961: expected 8 fields, saw 9\\nSkipping line 48964: expected 8 fields, saw 9\\nSkipping line 48969: expected 8 fields, saw 9\\nSkipping line 48970: expected 8 fields, saw 9\\nSkipping line 48971: expected 8 fields, saw 12\\nSkipping line 48984: expected 8 fields, saw 9\\nSkipping line 48994: expected 8 fields, saw 9\\nSkipping line 48998: expected 8 fields, saw 9\\nSkipping line 49001: expected 8 fields, saw 9\\nSkipping line 49004: expected 8 fields, saw 9\\nSkipping line 49014: expected 8 fields, saw 9\\nSkipping line 49023: expected 8 fields, saw 9\\nSkipping line 49032: expected 8 fields, saw 9\\nSkipping line 49040: expected 8 fields, saw 9\\nSkipping line 49053: expected 8 fields, saw 9\\nSkipping line 49054: expected 8 fields, saw 9\\nSkipping line 49065: expected 8 fields, saw 9\\nSkipping line 49073: expected 8 fields, saw 10\\nSkipping line 49082: expected 8 fields, saw 9\\nSkipping line 49114: expected 8 fields, saw 9\\nSkipping line 49115: expected 8 fields, saw 9\\nSkipping line 49124: expected 8 fields, saw 9\\nSkipping line 49148: expected 8 fields, saw 9\\nSkipping line 49152: expected 8 fields, saw 9\\nSkipping line 49156: expected 8 fields, saw 9\\nSkipping line 49166: expected 8 fields, saw 9\\nSkipping line 49168: expected 8 fields, saw 9\\nSkipping line 49196: expected 8 fields, saw 9\\nSkipping line 49206: expected 8 fields, saw 9\\nSkipping line 49207: expected 8 fields, saw 9\\nSkipping line 49220: expected 8 fields, saw 9\\nSkipping line 49229: expected 8 fields, saw 9\\nSkipping line 49247: expected 8 fields, saw 9\\nSkipping line 49257: expected 8 fields, saw 9\\nSkipping line 49260: expected 8 fields, saw 9\\nSkipping line 49279: expected 8 fields, saw 9\\nSkipping line 49280: expected 8 fields, saw 9\\nSkipping line 49281: expected 8 fields, saw 9\\nSkipping line 49293: expected 8 fields, saw 9\\nSkipping line 49308: expected 8 fields, saw 9\\nSkipping line 49321: expected 8 fields, saw 9\\nSkipping line 49323: expected 8 fields, saw 9\\nSkipping line 49327: expected 8 fields, saw 9\\nSkipping line 49331: expected 8 fields, saw 9\\nSkipping line 49340: expected 8 fields, saw 9\\nSkipping line 49361: expected 8 fields, saw 9\\nSkipping line 49433: expected 8 fields, saw 9\\nSkipping line 49437: expected 8 fields, saw 9\\nSkipping line 49446: expected 8 fields, saw 9\\nSkipping line 49465: expected 8 fields, saw 9\\nSkipping line 49505: expected 8 fields, saw 9\\nSkipping line 49524: expected 8 fields, saw 9\\nSkipping line 49529: expected 8 fields, saw 9\\nSkipping line 49532: expected 8 fields, saw 9\\nSkipping line 49537: expected 8 fields, saw 9\\nSkipping line 49540: expected 8 fields, saw 9\\nSkipping line 49542: expected 8 fields, saw 14\\nSkipping line 49554: expected 8 fields, saw 9\\nSkipping line 49555: expected 8 fields, saw 9\\nSkipping line 49558: expected 8 fields, saw 9\\nSkipping line 49560: expected 8 fields, saw 9\\nSkipping line 49565: expected 8 fields, saw 9\\nSkipping line 49566: expected 8 fields, saw 9\\nSkipping line 49593: expected 8 fields, saw 9\\nSkipping line 49610: expected 8 fields, saw 9\\nSkipping line 49728: expected 8 fields, saw 9\\nSkipping line 49742: expected 8 fields, saw 9\\nSkipping line 49818: expected 8 fields, saw 9\\nSkipping line 49857: expected 8 fields, saw 9\\nSkipping line 49860: expected 8 fields, saw 9\\nSkipping line 49862: expected 8 fields, saw 9\\nSkipping line 49863: expected 8 fields, saw 9\\nSkipping line 49876: expected 8 fields, saw 9\\nSkipping line 49890: expected 8 fields, saw 9\\nSkipping line 49902: expected 8 fields, saw 9\\nSkipping line 49903: expected 8 fields, saw 9\\nSkipping line 49906: expected 8 fields, saw 9\\nSkipping line 49915: expected 8 fields, saw 9\\nSkipping line 49917: expected 8 fields, saw 9\\nSkipping line 49924: expected 8 fields, saw 9\\nSkipping line 49925: expected 8 fields, saw 9\\nSkipping line 49933: expected 8 fields, saw 9\\nSkipping line 49935: expected 8 fields, saw 9\\nSkipping line 49939: expected 8 fields, saw 9\\nSkipping line 49942: expected 8 fields, saw 9\\nSkipping line 49943: expected 8 fields, saw 9\\nSkipping line 49944: expected 8 fields, saw 9\\nSkipping line 49950: expected 8 fields, saw 9\\nSkipping line 49972: expected 8 fields, saw 9\\nSkipping line 49974: expected 8 fields, saw 9\\nSkipping line 49977: expected 8 fields, saw 9\\nSkipping line 49983: expected 8 fields, saw 9\\nSkipping line 49988: expected 8 fields, saw 9\\nSkipping line 49995: expected 8 fields, saw 9\\nSkipping line 49997: expected 8 fields, saw 9\\nSkipping line 49998: expected 8 fields, saw 9\\nSkipping line 49999: expected 8 fields, saw 9\\nSkipping line 50007: expected 8 fields, saw 9\\nSkipping line 50013: expected 8 fields, saw 9\\nSkipping line 50014: expected 8 fields, saw 9\\nSkipping line 50028: expected 8 fields, saw 9\\nSkipping line 50033: expected 8 fields, saw 9\\nSkipping line 50042: expected 8 fields, saw 9\\nSkipping line 50053: expected 8 fields, saw 9\\nSkipping line 50074: expected 8 fields, saw 9\\nSkipping line 50079: expected 8 fields, saw 9\\nSkipping line 50092: expected 8 fields, saw 9\\nSkipping line 50095: expected 8 fields, saw 9\\nSkipping line 50109: expected 8 fields, saw 9\\nSkipping line 50170: expected 8 fields, saw 9\\nSkipping line 50187: expected 8 fields, saw 9\\nSkipping line 50195: expected 8 fields, saw 9\\nSkipping line 50201: expected 8 fields, saw 9\\nSkipping line 50202: expected 8 fields, saw 9\\nSkipping line 50214: expected 8 fields, saw 9\\nSkipping line 50226: expected 8 fields, saw 9\\nSkipping line 50233: expected 8 fields, saw 9\\nSkipping line 50241: expected 8 fields, saw 9\\nSkipping line 50271: expected 8 fields, saw 9\\nSkipping line 50308: expected 8 fields, saw 9\\nSkipping line 50327: expected 8 fields, saw 9\\nSkipping line 50333: expected 8 fields, saw 9\\nSkipping line 50369: expected 8 fields, saw 9\\nSkipping line 50380: expected 8 fields, saw 9\\nSkipping line 50388: expected 8 fields, saw 9\\nSkipping line 50396: expected 8 fields, saw 9\\nSkipping line 50426: expected 8 fields, saw 9\\nSkipping line 50428: expected 8 fields, saw 9\\nSkipping line 50455: expected 8 fields, saw 9\\nSkipping line 50484: expected 8 fields, saw 9\\nSkipping line 50501: expected 8 fields, saw 9\\nSkipping line 50537: expected 8 fields, saw 9\\nSkipping line 50545: expected 8 fields, saw 9\\nSkipping line 50566: expected 8 fields, saw 9\\nSkipping line 50569: expected 8 fields, saw 9\\nSkipping line 50576: expected 8 fields, saw 9\\nSkipping line 50604: expected 8 fields, saw 9\\nSkipping line 50607: expected 8 fields, saw 9\\nSkipping line 50617: expected 8 fields, saw 9\\nSkipping line 50639: expected 8 fields, saw 9\\nSkipping line 50648: expected 8 fields, saw 9\\nSkipping line 50661: expected 8 fields, saw 9\\nSkipping line 50685: expected 8 fields, saw 9\\nSkipping line 50690: expected 8 fields, saw 9\\nSkipping line 50713: expected 8 fields, saw 9\\nSkipping line 50718: expected 8 fields, saw 9\\nSkipping line 50768: expected 8 fields, saw 9\\nSkipping line 50772: expected 8 fields, saw 9\\nSkipping line 50776: expected 8 fields, saw 9\\nSkipping line 50798: expected 8 fields, saw 9\\nSkipping line 50799: expected 8 fields, saw 9\\nSkipping line 50853: expected 8 fields, saw 9\\nSkipping line 50859: expected 8 fields, saw 9\\nSkipping line 50887: expected 8 fields, saw 9\\nSkipping line 50904: expected 8 fields, saw 10\\nSkipping line 50909: expected 8 fields, saw 9\\nSkipping line 50919: expected 8 fields, saw 9\\nSkipping line 50925: expected 8 fields, saw 9\\nSkipping line 50977: expected 8 fields, saw 9\\nSkipping line 50998: expected 8 fields, saw 9\\nSkipping line 51026: expected 8 fields, saw 10\\nSkipping line 51027: expected 8 fields, saw 9\\nSkipping line 51029: expected 8 fields, saw 9\\nSkipping line 51031: expected 8 fields, saw 9\\nSkipping line 51034: expected 8 fields, saw 9\\nSkipping line 51035: expected 8 fields, saw 9\\nSkipping line 51039: expected 8 fields, saw 10\\nSkipping line 51046: expected 8 fields, saw 9\\nSkipping line 51049: expected 8 fields, saw 9\\nSkipping line 51055: expected 8 fields, saw 10\\nSkipping line 51061: expected 8 fields, saw 9\\nSkipping line 51082: expected 8 fields, saw 9\\nSkipping line 51116: expected 8 fields, saw 9\\nSkipping line 51118: expected 8 fields, saw 9\\nSkipping line 51120: expected 8 fields, saw 9\\nSkipping line 51147: expected 8 fields, saw 9\\nSkipping line 51178: expected 8 fields, saw 9\\nSkipping line 51227: expected 8 fields, saw 9\\nSkipping line 51232: expected 8 fields, saw 9\\nSkipping line 51240: expected 8 fields, saw 9\\nSkipping line 51243: expected 8 fields, saw 9\\nSkipping line 51249: expected 8 fields, saw 9\\nSkipping line 51251: expected 8 fields, saw 9\\nSkipping line 51252: expected 8 fields, saw 9\\nSkipping line 51260: expected 8 fields, saw 9\\nSkipping line 51271: expected 8 fields, saw 9\\nSkipping line 51272: expected 8 fields, saw 9\\nSkipping line 51273: expected 8 fields, saw 9\\nSkipping line 51286: expected 8 fields, saw 9\\nSkipping line 51291: expected 8 fields, saw 9\\nSkipping line 51309: expected 8 fields, saw 9\\nSkipping line 51323: expected 8 fields, saw 9\\nSkipping line 51325: expected 8 fields, saw 9\\nSkipping line 51328: expected 8 fields, saw 9\\nSkipping line 51341: expected 8 fields, saw 9\\nSkipping line 51359: expected 8 fields, saw 9\\nSkipping line 51419: expected 8 fields, saw 9\\nSkipping line 51484: expected 8 fields, saw 9\\nSkipping line 51514: expected 8 fields, saw 9\\nSkipping line 51516: expected 8 fields, saw 9\\nSkipping line 51520: expected 8 fields, saw 9\\nSkipping line 51523: expected 8 fields, saw 9\\nSkipping line 51527: expected 8 fields, saw 9\\nSkipping line 51533: expected 8 fields, saw 9\\nSkipping line 51534: expected 8 fields, saw 9\\nSkipping line 51538: expected 8 fields, saw 11\\nSkipping line 51561: expected 8 fields, saw 9\\nSkipping line 51572: expected 8 fields, saw 9\\nSkipping line 51577: expected 8 fields, saw 9\\nSkipping line 51588: expected 8 fields, saw 9\\nSkipping line 51590: expected 8 fields, saw 9\\nSkipping line 51600: expected 8 fields, saw 9\\nSkipping line 51633: expected 8 fields, saw 9\\nSkipping line 51636: expected 8 fields, saw 9\\nSkipping line 51663: expected 8 fields, saw 9\\nSkipping line 51690: expected 8 fields, saw 9\\nSkipping line 51693: expected 8 fields, saw 9\\nSkipping line 51694: expected 8 fields, saw 9\\nSkipping line 51717: expected 8 fields, saw 9\\nSkipping line 51718: expected 8 fields, saw 9\\nSkipping line 51728: expected 8 fields, saw 9\\nSkipping line 51733: expected 8 fields, saw 9\\nSkipping line 51738: expected 8 fields, saw 9\\nSkipping line 51748: expected 8 fields, saw 9\\nSkipping line 51750: expected 8 fields, saw 9\\nSkipping line 51751: expected 8 fields, saw 9\\nSkipping line 51767: expected 8 fields, saw 9\\nSkipping line 51772: expected 8 fields, saw 10\\nSkipping line 51776: expected 8 fields, saw 9\\nSkipping line 51795: expected 8 fields, saw 9\\nSkipping line 51802: expected 8 fields, saw 9\\nSkipping line 51835: expected 8 fields, saw 9\\nSkipping line 51865: expected 8 fields, saw 9\\nSkipping line 51866: expected 8 fields, saw 9\\nSkipping line 51873: expected 8 fields, saw 9\\nSkipping line 51875: expected 8 fields, saw 9\\nSkipping line 51881: expected 8 fields, saw 9\\nSkipping line 51890: expected 8 fields, saw 9\\nSkipping line 51898: expected 8 fields, saw 9\\nSkipping line 51908: expected 8 fields, saw 10\\nSkipping line 51930: expected 8 fields, saw 9\\nSkipping line 51967: expected 8 fields, saw 9\\nSkipping line 51986: expected 8 fields, saw 9\\nSkipping line 51988: expected 8 fields, saw 9\\nSkipping line 52005: expected 8 fields, saw 9\\nSkipping line 52024: expected 8 fields, saw 9\\nSkipping line 52074: expected 8 fields, saw 9\\nSkipping line 52172: expected 8 fields, saw 9\\nSkipping line 52175: expected 8 fields, saw 9\\nSkipping line 52177: expected 8 fields, saw 9\\nSkipping line 52189: expected 8 fields, saw 9\\nSkipping line 52246: expected 8 fields, saw 9\\nSkipping line 52260: expected 8 fields, saw 9\\nSkipping line 52268: expected 8 fields, saw 9\\nSkipping line 52293: expected 8 fields, saw 9\\nSkipping line 52302: expected 8 fields, saw 9\\nSkipping line 52307: expected 8 fields, saw 9\\nSkipping line 52328: expected 8 fields, saw 9\\nSkipping line 52336: expected 8 fields, saw 9\\nSkipping line 52340: expected 8 fields, saw 9\\nSkipping line 52354: expected 8 fields, saw 9\\nSkipping line 52355: expected 8 fields, saw 9\\nSkipping line 52370: expected 8 fields, saw 9\\nSkipping line 52392: expected 8 fields, saw 9\\nSkipping line 52394: expected 8 fields, saw 9\\nSkipping line 52431: expected 8 fields, saw 9\\nSkipping line 52435: expected 8 fields, saw 9\\nSkipping line 52457: expected 8 fields, saw 9\\nSkipping line 52468: expected 8 fields, saw 9\\nSkipping line 52487: expected 8 fields, saw 9\\nSkipping line 52502: expected 8 fields, saw 9\\nSkipping line 52504: expected 8 fields, saw 9\\nSkipping line 52510: expected 8 fields, saw 9\\nSkipping line 52511: expected 8 fields, saw 9\\nSkipping line 52538: expected 8 fields, saw 9\\nSkipping line 52547: expected 8 fields, saw 9\\nSkipping line 52549: expected 8 fields, saw 9\\nSkipping line 52559: expected 8 fields, saw 9\\nSkipping line 52563: expected 8 fields, saw 9\\nSkipping line 52580: expected 8 fields, saw 9\\nSkipping line 52596: expected 8 fields, saw 9\\nSkipping line 52598: expected 8 fields, saw 9\\nSkipping line 52602: expected 8 fields, saw 9\\nSkipping line 52605: expected 8 fields, saw 9\\nSkipping line 52625: expected 8 fields, saw 9\\nSkipping line 52627: expected 8 fields, saw 9\\nSkipping line 52651: expected 8 fields, saw 9\\nSkipping line 52660: expected 8 fields, saw 9\\nSkipping line 52677: expected 8 fields, saw 9\\nSkipping line 52697: expected 8 fields, saw 9\\nSkipping line 52706: expected 8 fields, saw 9\\nSkipping line 52718: expected 8 fields, saw 9\\nSkipping line 52721: expected 8 fields, saw 9\\nSkipping line 52724: expected 8 fields, saw 10\\nSkipping line 52726: expected 8 fields, saw 9\\nSkipping line 52759: expected 8 fields, saw 9\\nSkipping line 52813: expected 8 fields, saw 9\\nSkipping line 52835: expected 8 fields, saw 9\\nSkipping line 52839: expected 8 fields, saw 9\\nSkipping line 52842: expected 8 fields, saw 9\\nSkipping line 52846: expected 8 fields, saw 9\\nSkipping line 52862: expected 8 fields, saw 9\\nSkipping line 52863: expected 8 fields, saw 9\\nSkipping line 52866: expected 8 fields, saw 9\\nSkipping line 52868: expected 8 fields, saw 9\\nSkipping line 52870: expected 8 fields, saw 9\\nSkipping line 52875: expected 8 fields, saw 9\\nSkipping line 52879: expected 8 fields, saw 9\\nSkipping line 52886: expected 8 fields, saw 9\\nSkipping line 52917: expected 8 fields, saw 9\\nSkipping line 52933: expected 8 fields, saw 9\\nSkipping line 52936: expected 8 fields, saw 9\\nSkipping line 52963: expected 8 fields, saw 9\\nSkipping line 52985: expected 8 fields, saw 9\\nSkipping line 53020: expected 8 fields, saw 9\\nSkipping line 53029: expected 8 fields, saw 9\\nSkipping line 53070: expected 8 fields, saw 9\\nSkipping line 53096: expected 8 fields, saw 9\\nSkipping line 53274: expected 8 fields, saw 9\\nSkipping line 53291: expected 8 fields, saw 9\\nSkipping line 53316: expected 8 fields, saw 9\\nSkipping line 53355: expected 8 fields, saw 9\\nSkipping line 53416: expected 8 fields, saw 9\\nSkipping line 53424: expected 8 fields, saw 9\\nSkipping line 53428: expected 8 fields, saw 9\\nSkipping line 53432: expected 8 fields, saw 9\\nSkipping line 53439: expected 8 fields, saw 9\\nSkipping line 53441: expected 8 fields, saw 9\\nSkipping line 53443: expected 8 fields, saw 9\\nSkipping line 53468: expected 8 fields, saw 9\\nSkipping line 53475: expected 8 fields, saw 9\\nSkipping line 53484: expected 8 fields, saw 9\\nSkipping line 53488: expected 8 fields, saw 9\\nSkipping line 53517: expected 8 fields, saw 9\\nSkipping line 53521: expected 8 fields, saw 9\\nSkipping line 53524: expected 8 fields, saw 9\\nSkipping line 53537: expected 8 fields, saw 9\\nSkipping line 53543: expected 8 fields, saw 9\\nSkipping line 53550: expected 8 fields, saw 9\\nSkipping line 53560: expected 8 fields, saw 9\\nSkipping line 53564: expected 8 fields, saw 9\\nSkipping line 53566: expected 8 fields, saw 9\\nSkipping line 53567: expected 8 fields, saw 9\\nSkipping line 53582: expected 8 fields, saw 9\\nSkipping line 53588: expected 8 fields, saw 9\\nSkipping line 53592: expected 8 fields, saw 9\\nSkipping line 53596: expected 8 fields, saw 9\\nSkipping line 53601: expected 8 fields, saw 9\\nSkipping line 53607: expected 8 fields, saw 9\\nSkipping line 53615: expected 8 fields, saw 9\\nSkipping line 53619: expected 8 fields, saw 9\\nSkipping line 53626: expected 8 fields, saw 9\\nSkipping line 53631: expected 8 fields, saw 9\\nSkipping line 53644: expected 8 fields, saw 9\\nSkipping line 53655: expected 8 fields, saw 9\\nSkipping line 53662: expected 8 fields, saw 9\\nSkipping line 53682: expected 8 fields, saw 9\\nSkipping line 53769: expected 8 fields, saw 10\\nSkipping line 53806: expected 8 fields, saw 9\\nSkipping line 53822: expected 8 fields, saw 9\\nSkipping line 53830: expected 8 fields, saw 9\\nSkipping line 53844: expected 8 fields, saw 9\\nSkipping line 53866: expected 8 fields, saw 9\\nSkipping line 53877: expected 8 fields, saw 9\\nSkipping line 53911: expected 8 fields, saw 9\\nSkipping line 53919: expected 8 fields, saw 9\\nSkipping line 53945: expected 8 fields, saw 9\\nSkipping line 53953: expected 8 fields, saw 9\\nSkipping line 53966: expected 8 fields, saw 9\\nSkipping line 53972: expected 8 fields, saw 9\\nSkipping line 53978: expected 8 fields, saw 9\\nSkipping line 53980: expected 8 fields, saw 9\\nSkipping line 53997: expected 8 fields, saw 9\\nSkipping line 54016: expected 8 fields, saw 10\\nSkipping line 54043: expected 8 fields, saw 9\\nSkipping line 54051: expected 8 fields, saw 10\\nSkipping line 54058: expected 8 fields, saw 9\\nSkipping line 54060: expected 8 fields, saw 9\\nSkipping line 54078: expected 8 fields, saw 9\\nSkipping line 54098: expected 8 fields, saw 9\\nSkipping line 54100: expected 8 fields, saw 9\\nSkipping line 54101: expected 8 fields, saw 9\\nSkipping line 54103: expected 8 fields, saw 9\\nSkipping line 54106: expected 8 fields, saw 9\\nSkipping line 54126: expected 8 fields, saw 9\\nSkipping line 54140: expected 8 fields, saw 9\\nSkipping line 54154: expected 8 fields, saw 9\\nSkipping line 54204: expected 8 fields, saw 9\\nSkipping line 54205: expected 8 fields, saw 9\\nSkipping line 54223: expected 8 fields, saw 9\\nSkipping line 54245: expected 8 fields, saw 9\\nSkipping line 54258: expected 8 fields, saw 9\\nSkipping line 54287: expected 8 fields, saw 9\\nSkipping line 54305: expected 8 fields, saw 9\\nSkipping line 54310: expected 8 fields, saw 9\\nSkipping line 54334: expected 8 fields, saw 9\\nSkipping line 54337: expected 8 fields, saw 9\\nSkipping line 54345: expected 8 fields, saw 9\\nSkipping line 54365: expected 8 fields, saw 9\\nSkipping line 54366: expected 8 fields, saw 10\\nSkipping line 54409: expected 8 fields, saw 9\\nSkipping line 54456: expected 8 fields, saw 9\\nSkipping line 54465: expected 8 fields, saw 9\\nSkipping line 54473: expected 8 fields, saw 9\\nSkipping line 54479: expected 8 fields, saw 9\\nSkipping line 54483: expected 8 fields, saw 9\\nSkipping line 54511: expected 8 fields, saw 9\\nSkipping line 54517: expected 8 fields, saw 9\\nSkipping line 54524: expected 8 fields, saw 9\\nSkipping line 54550: expected 8 fields, saw 9\\nSkipping line 54577: expected 8 fields, saw 9\\nSkipping line 54585: expected 8 fields, saw 9\\nSkipping line 54592: expected 8 fields, saw 9\\nSkipping line 54595: expected 8 fields, saw 9\\nSkipping line 54601: expected 8 fields, saw 9\\nSkipping line 54610: expected 8 fields, saw 9\\nSkipping line 54611: expected 8 fields, saw 9\\nSkipping line 54631: expected 8 fields, saw 9\\nSkipping line 54654: expected 8 fields, saw 9\\nSkipping line 54657: expected 8 fields, saw 9\\nSkipping line 54659: expected 8 fields, saw 9\\nSkipping line 54661: expected 8 fields, saw 9\\nSkipping line 54666: expected 8 fields, saw 9\\nSkipping line 54686: expected 8 fields, saw 9\\nSkipping line 54688: expected 8 fields, saw 9\\nSkipping line 54694: expected 8 fields, saw 9\\nSkipping line 54699: expected 8 fields, saw 9\\nSkipping line 54712: expected 8 fields, saw 9\\nSkipping line 54786: expected 8 fields, saw 9\\nSkipping line 54794: expected 8 fields, saw 9\\nSkipping line 54816: expected 8 fields, saw 9\\nSkipping line 54830: expected 8 fields, saw 9\\nSkipping line 54837: expected 8 fields, saw 9\\nSkipping line 54845: expected 8 fields, saw 9\\nSkipping line 54880: expected 8 fields, saw 9\\nSkipping line 54889: expected 8 fields, saw 9\\nSkipping line 54894: expected 8 fields, saw 9\\nSkipping line 54904: expected 8 fields, saw 9\\nSkipping line 54905: expected 8 fields, saw 9\\nSkipping line 54933: expected 8 fields, saw 9\\nSkipping line 54939: expected 8 fields, saw 9\\nSkipping line 54946: expected 8 fields, saw 9\\nSkipping line 55003: expected 8 fields, saw 9\\nSkipping line 55026: expected 8 fields, saw 9\\nSkipping line 55040: expected 8 fields, saw 9\\nSkipping line 55042: expected 8 fields, saw 9\\nSkipping line 55049: expected 8 fields, saw 9\\nSkipping line 55063: expected 8 fields, saw 9\\nSkipping line 55075: expected 8 fields, saw 10\\nSkipping line 55083: expected 8 fields, saw 9\\nSkipping line 55088: expected 8 fields, saw 9\\nSkipping line 55110: expected 8 fields, saw 9\\nSkipping line 55123: expected 8 fields, saw 9\\nSkipping line 55148: expected 8 fields, saw 9\\nSkipping line 55149: expected 8 fields, saw 9\\nSkipping line 55155: expected 8 fields, saw 9\\nSkipping line 55157: expected 8 fields, saw 9\\nSkipping line 55173: expected 8 fields, saw 9\\nSkipping line 55184: expected 8 fields, saw 9\\nSkipping line 55189: expected 8 fields, saw 9\\nSkipping line 55199: expected 8 fields, saw 9\\nSkipping line 55200: expected 8 fields, saw 9\\nSkipping line 55204: expected 8 fields, saw 9\\nSkipping line 55214: expected 8 fields, saw 9\\nSkipping line 55222: expected 8 fields, saw 9\\nSkipping line 55260: expected 8 fields, saw 9\\nSkipping line 55301: expected 8 fields, saw 9\\nSkipping line 55304: expected 8 fields, saw 9\\nSkipping line 55317: expected 8 fields, saw 9\\nSkipping line 55323: expected 8 fields, saw 9\\nSkipping line 55339: expected 8 fields, saw 10\\nSkipping line 55350: expected 8 fields, saw 9\\nSkipping line 55364: expected 8 fields, saw 9\\nSkipping line 55375: expected 8 fields, saw 9\\nSkipping line 55399: expected 8 fields, saw 10\\nSkipping line 55413: expected 8 fields, saw 9\\nSkipping line 55414: expected 8 fields, saw 9\\nSkipping line 55417: expected 8 fields, saw 10\\nSkipping line 55440: expected 8 fields, saw 10\\nSkipping line 55441: expected 8 fields, saw 9\\nSkipping line 55442: expected 8 fields, saw 9\\nSkipping line 55445: expected 8 fields, saw 9\\nSkipping line 55460: expected 8 fields, saw 9\\nSkipping line 55466: expected 8 fields, saw 9\\nSkipping line 55467: expected 8 fields, saw 9\\nSkipping line 55480: expected 8 fields, saw 9\\nSkipping line 55493: expected 8 fields, saw 9\\nSkipping line 55509: expected 8 fields, saw 9\\nSkipping line 55581: expected 8 fields, saw 9\\nSkipping line 55585: expected 8 fields, saw 9\\nSkipping line 55590: expected 8 fields, saw 9\\nSkipping line 55594: expected 8 fields, saw 9\\nSkipping line 55614: expected 8 fields, saw 9\\nSkipping line 55616: expected 8 fields, saw 9\\nSkipping line 55619: expected 8 fields, saw 9\\nSkipping line 55624: expected 8 fields, saw 9\\nSkipping line 55625: expected 8 fields, saw 9\\nSkipping line 55643: expected 8 fields, saw 9\\nSkipping line 55659: expected 8 fields, saw 9\\nSkipping line 55680: expected 8 fields, saw 9\\nSkipping line 55682: expected 8 fields, saw 9\\nSkipping line 55704: expected 8 fields, saw 9\\nSkipping line 55707: expected 8 fields, saw 9\\nSkipping line 55714: expected 8 fields, saw 9\\nSkipping line 55734: expected 8 fields, saw 9\\nSkipping line 55737: expected 8 fields, saw 9\\nSkipping line 55743: expected 8 fields, saw 9\\nSkipping line 55744: expected 8 fields, saw 9\\nSkipping line 55764: expected 8 fields, saw 9\\nSkipping line 55765: expected 8 fields, saw 9\\nSkipping line 55790: expected 8 fields, saw 9\\nSkipping line 55791: expected 8 fields, saw 9\\nSkipping line 55792: expected 8 fields, saw 9\\nSkipping line 55809: expected 8 fields, saw 9\\nSkipping line 55815: expected 8 fields, saw 9\\nSkipping line 55819: expected 8 fields, saw 9\\nSkipping line 55820: expected 8 fields, saw 9\\nSkipping line 55823: expected 8 fields, saw 9\\nSkipping line 55824: expected 8 fields, saw 9\\nSkipping line 55830: expected 8 fields, saw 9\\nSkipping line 55831: expected 8 fields, saw 9\\nSkipping line 55832: expected 8 fields, saw 9\\nSkipping line 55840: expected 8 fields, saw 9\\nSkipping line 55845: expected 8 fields, saw 9\\nSkipping line 55848: expected 8 fields, saw 9\\nSkipping line 55856: expected 8 fields, saw 9\\nSkipping line 55867: expected 8 fields, saw 10\\nSkipping line 55872: expected 8 fields, saw 10\\nSkipping line 55912: expected 8 fields, saw 9\\nSkipping line 55913: expected 8 fields, saw 9\\nSkipping line 55916: expected 8 fields, saw 9\\nSkipping line 55928: expected 8 fields, saw 9\\nSkipping line 55930: expected 8 fields, saw 9\\nSkipping line 55931: expected 8 fields, saw 9\\nSkipping line 55943: expected 8 fields, saw 9\\nSkipping line 55950: expected 8 fields, saw 9\\nSkipping line 55953: expected 8 fields, saw 9\\nSkipping line 55955: expected 8 fields, saw 9\\nSkipping line 55967: expected 8 fields, saw 9\\nSkipping line 55968: expected 8 fields, saw 9\\nSkipping line 55978: expected 8 fields, saw 9\\nSkipping line 56024: expected 8 fields, saw 9\\nSkipping line 56030: expected 8 fields, saw 9\\nSkipping line 56061: expected 8 fields, saw 9\\nSkipping line 56084: expected 8 fields, saw 9\\nSkipping line 56143: expected 8 fields, saw 9\\nSkipping line 56163: expected 8 fields, saw 9\\nSkipping line 56185: expected 8 fields, saw 9\\nSkipping line 56186: expected 8 fields, saw 9\\nSkipping line 56191: expected 8 fields, saw 9\\nSkipping line 56193: expected 8 fields, saw 9\\nSkipping line 56201: expected 8 fields, saw 9\\nSkipping line 56207: expected 8 fields, saw 9\\nSkipping line 56215: expected 8 fields, saw 9\\nSkipping line 56227: expected 8 fields, saw 9\\nSkipping line 56230: expected 8 fields, saw 9\\nSkipping line 56237: expected 8 fields, saw 9\\nSkipping line 56247: expected 8 fields, saw 9\\nSkipping line 56260: expected 8 fields, saw 9\\nSkipping line 56262: expected 8 fields, saw 10\\nSkipping line 56298: expected 8 fields, saw 11\\nSkipping line 56300: expected 8 fields, saw 9\\nSkipping line 56301: expected 8 fields, saw 9\\nSkipping line 56332: expected 8 fields, saw 9\\nSkipping line 56343: expected 8 fields, saw 9\\nSkipping line 56346: expected 8 fields, saw 9\\nSkipping line 56352: expected 8 fields, saw 9\\nSkipping line 56353: expected 8 fields, saw 9\\nSkipping line 56357: expected 8 fields, saw 9\\nSkipping line 56366: expected 8 fields, saw 9\\nSkipping line 56378: expected 8 fields, saw 9\\nSkipping line 56383: expected 8 fields, saw 9\\nSkipping line 56386: expected 8 fields, saw 9\\nSkipping line 56396: expected 8 fields, saw 9\\nSkipping line 56412: expected 8 fields, saw 9\\nSkipping line 56417: expected 8 fields, saw 9\\nSkipping line 56432: expected 8 fields, saw 9\\nSkipping line 56433: expected 8 fields, saw 9\\nSkipping line 56491: expected 8 fields, saw 9\\nSkipping line 56495: expected 8 fields, saw 9\\nSkipping line 56499: expected 8 fields, saw 9\\nSkipping line 56529: expected 8 fields, saw 9\\nSkipping line 56563: expected 8 fields, saw 9\\nSkipping line 56580: expected 8 fields, saw 9\\nSkipping line 56598: expected 8 fields, saw 9\\nSkipping line 56602: expected 8 fields, saw 9\\nSkipping line 56674: expected 8 fields, saw 9\\nSkipping line 56743: expected 8 fields, saw 9\\nSkipping line 56809: expected 8 fields, saw 9\\nSkipping line 56855: expected 8 fields, saw 9\\nSkipping line 56879: expected 8 fields, saw 9\\nSkipping line 56938: expected 8 fields, saw 9\\nSkipping line 56944: expected 8 fields, saw 9\\nSkipping line 56946: expected 8 fields, saw 9\\nSkipping line 56955: expected 8 fields, saw 9\\nSkipping line 56965: expected 8 fields, saw 9\\nSkipping line 56982: expected 8 fields, saw 9\\nSkipping line 57005: expected 8 fields, saw 9\\nSkipping line 57138: expected 8 fields, saw 10\\nSkipping line 57155: expected 8 fields, saw 9\\nSkipping line 57293: expected 8 fields, saw 9\\nSkipping line 57311: expected 8 fields, saw 9\\nSkipping line 57336: expected 8 fields, saw 9\\nSkipping line 57337: expected 8 fields, saw 9\\nSkipping line 57346: expected 8 fields, saw 9\\nSkipping line 57362: expected 8 fields, saw 9\\nSkipping line 57364: expected 8 fields, saw 9\\nSkipping line 57365: expected 8 fields, saw 9\\nSkipping line 57367: expected 8 fields, saw 9\\nSkipping line 57384: expected 8 fields, saw 9\\nSkipping line 57400: expected 8 fields, saw 9\\nSkipping line 57407: expected 8 fields, saw 9\\nSkipping line 57410: expected 8 fields, saw 9\\nSkipping line 57412: expected 8 fields, saw 9\\nSkipping line 57413: expected 8 fields, saw 9\\nSkipping line 57420: expected 8 fields, saw 9\\nSkipping line 57422: expected 8 fields, saw 9\\nSkipping line 57444: expected 8 fields, saw 9\\nSkipping line 57461: expected 8 fields, saw 9\\nSkipping line 57482: expected 8 fields, saw 9\\nSkipping line 57483: expected 8 fields, saw 9\\nSkipping line 57487: expected 8 fields, saw 9\\nSkipping line 57491: expected 8 fields, saw 9\\nSkipping line 57503: expected 8 fields, saw 9\\nSkipping line 57528: expected 8 fields, saw 9\\nSkipping line 57530: expected 8 fields, saw 9\\nSkipping line 57534: expected 8 fields, saw 10\\nSkipping line 57554: expected 8 fields, saw 9\\nSkipping line 57555: expected 8 fields, saw 9\\nSkipping line 57576: expected 8 fields, saw 9\\nSkipping line 57600: expected 8 fields, saw 9\\nSkipping line 57610: expected 8 fields, saw 9\\nSkipping line 57622: expected 8 fields, saw 9\\nSkipping line 57628: expected 8 fields, saw 9\\nSkipping line 57631: expected 8 fields, saw 9\\nSkipping line 57642: expected 8 fields, saw 9\\nSkipping line 57651: expected 8 fields, saw 9\\nSkipping line 57653: expected 8 fields, saw 9\\nSkipping line 57666: expected 8 fields, saw 9\\nSkipping line 57672: expected 8 fields, saw 9\\nSkipping line 57673: expected 8 fields, saw 9\\nSkipping line 57677: expected 8 fields, saw 9\\nSkipping line 57711: expected 8 fields, saw 9\\nSkipping line 57733: expected 8 fields, saw 9\\nSkipping line 57750: expected 8 fields, saw 9\\nSkipping line 57763: expected 8 fields, saw 9\\nSkipping line 57785: expected 8 fields, saw 9\\nSkipping line 57795: expected 8 fields, saw 9\\nSkipping line 57798: expected 8 fields, saw 9\\nSkipping line 57802: expected 8 fields, saw 9\\nSkipping line 57803: expected 8 fields, saw 9\\nSkipping line 57817: expected 8 fields, saw 9\\nSkipping line 57819: expected 8 fields, saw 9\\nSkipping line 57824: expected 8 fields, saw 9\\nSkipping line 57829: expected 8 fields, saw 9\\nSkipping line 57830: expected 8 fields, saw 9\\nSkipping line 57831: expected 8 fields, saw 9\\nSkipping line 57835: expected 8 fields, saw 9\\nSkipping line 57857: expected 8 fields, saw 9\\nSkipping line 57859: expected 8 fields, saw 9\\nSkipping line 57894: expected 8 fields, saw 9\\nSkipping line 57896: expected 8 fields, saw 10\\nSkipping line 57936: expected 8 fields, saw 9\\nSkipping line 57944: expected 8 fields, saw 9\\nSkipping line 57948: expected 8 fields, saw 9\\nSkipping line 57969: expected 8 fields, saw 9\\nSkipping line 57977: expected 8 fields, saw 9\\nSkipping line 57978: expected 8 fields, saw 10\\nSkipping line 57993: expected 8 fields, saw 9\\nSkipping line 58010: expected 8 fields, saw 9\\nSkipping line 58012: expected 8 fields, saw 9\\nSkipping line 58013: expected 8 fields, saw 9\\nSkipping line 58024: expected 8 fields, saw 9\\nSkipping line 58032: expected 8 fields, saw 9\\nSkipping line 58043: expected 8 fields, saw 9\\nSkipping line 58047: expected 8 fields, saw 9\\nSkipping line 58082: expected 8 fields, saw 9\\nSkipping line 58098: expected 8 fields, saw 9\\nSkipping line 58099: expected 8 fields, saw 9\\nSkipping line 58101: expected 8 fields, saw 9\\nSkipping line 58104: expected 8 fields, saw 9\\nSkipping line 58106: expected 8 fields, saw 9\\nSkipping line 58107: expected 8 fields, saw 9\\nSkipping line 58108: expected 8 fields, saw 9\\nSkipping line 58110: expected 8 fields, saw 9\\nSkipping line 58111: expected 8 fields, saw 9\\nSkipping line 58112: expected 8 fields, saw 9\\nSkipping line 58116: expected 8 fields, saw 9\\nSkipping line 58117: expected 8 fields, saw 9\\nSkipping line 58118: expected 8 fields, saw 9\\nSkipping line 58120: expected 8 fields, saw 9\\nSkipping line 58142: expected 8 fields, saw 9\\nSkipping line 58196: expected 8 fields, saw 9\\nSkipping line 58203: expected 8 fields, saw 9\\nSkipping line 58212: expected 8 fields, saw 9\\nSkipping line 58234: expected 8 fields, saw 9\\nSkipping line 58248: expected 8 fields, saw 9\\nSkipping line 58251: expected 8 fields, saw 9\\nSkipping line 58277: expected 8 fields, saw 9\\nSkipping line 58290: expected 8 fields, saw 9\\nSkipping line 58296: expected 8 fields, saw 9\\nSkipping line 58321: expected 8 fields, saw 9\\nSkipping line 58388: expected 8 fields, saw 9\\nSkipping line 58408: expected 8 fields, saw 9\\nSkipping line 58416: expected 8 fields, saw 9\\nSkipping line 58446: expected 8 fields, saw 9\\nSkipping line 58447: expected 8 fields, saw 9\\nSkipping line 58480: expected 8 fields, saw 9\\nSkipping line 58482: expected 8 fields, saw 9\\nSkipping line 58487: expected 8 fields, saw 9\\nSkipping line 58516: expected 8 fields, saw 9\\nSkipping line 58517: expected 8 fields, saw 9\\nSkipping line 58520: expected 8 fields, saw 9\\nSkipping line 58570: expected 8 fields, saw 9\\nSkipping line 58583: expected 8 fields, saw 10\\nSkipping line 58597: expected 8 fields, saw 9\\nSkipping line 58620: expected 8 fields, saw 9\\nSkipping line 58638: expected 8 fields, saw 9\\nSkipping line 58643: expected 8 fields, saw 9\\nSkipping line 58658: expected 8 fields, saw 9\\nSkipping line 58670: expected 8 fields, saw 9\\nSkipping line 58671: expected 8 fields, saw 9\\nSkipping line 58672: expected 8 fields, saw 9\\nSkipping line 58674: expected 8 fields, saw 9\\nSkipping line 58675: expected 8 fields, saw 9\\nSkipping line 58676: expected 8 fields, saw 9\\nSkipping line 58677: expected 8 fields, saw 9\\nSkipping line 58678: expected 8 fields, saw 9\\nSkipping line 58679: expected 8 fields, saw 9\\nSkipping line 58680: expected 8 fields, saw 9\\nSkipping line 58687: expected 8 fields, saw 9\\nSkipping line 58692: expected 8 fields, saw 9\\nSkipping line 58720: expected 8 fields, saw 9\\nSkipping line 58728: expected 8 fields, saw 9\\nSkipping line 58745: expected 8 fields, saw 9\\nSkipping line 58835: expected 8 fields, saw 9\\nSkipping line 58837: expected 8 fields, saw 9\\nSkipping line 58879: expected 8 fields, saw 9\\nSkipping line 58884: expected 8 fields, saw 9\\nSkipping line 58885: expected 8 fields, saw 9\\nSkipping line 58894: expected 8 fields, saw 9\\nSkipping line 58896: expected 8 fields, saw 9\\nSkipping line 58910: expected 8 fields, saw 9\\nSkipping line 58913: expected 8 fields, saw 9\\nSkipping line 58921: expected 8 fields, saw 9\\nSkipping line 58932: expected 8 fields, saw 9\\nSkipping line 58961: expected 8 fields, saw 9\\nSkipping line 59081: expected 8 fields, saw 9\\nSkipping line 59083: expected 8 fields, saw 9\\nSkipping line 59099: expected 8 fields, saw 9\\nSkipping line 59108: expected 8 fields, saw 9\\nSkipping line 59111: expected 8 fields, saw 9\\nSkipping line 59130: expected 8 fields, saw 9\\nSkipping line 59131: expected 8 fields, saw 9\\nSkipping line 59133: expected 8 fields, saw 9\\nSkipping line 59151: expected 8 fields, saw 10\\nSkipping line 59176: expected 8 fields, saw 9\\nSkipping line 59202: expected 8 fields, saw 9\\nSkipping line 59206: expected 8 fields, saw 9\\nSkipping line 59213: expected 8 fields, saw 9\\nSkipping line 59250: expected 8 fields, saw 9\\nSkipping line 59269: expected 8 fields, saw 9\\nSkipping line 59306: expected 8 fields, saw 9\\nSkipping line 59326: expected 8 fields, saw 9\\nSkipping line 59333: expected 8 fields, saw 9\\nSkipping line 59342: expected 8 fields, saw 9\\nSkipping line 59348: expected 8 fields, saw 9\\nSkipping line 59361: expected 8 fields, saw 9\\nSkipping line 59362: expected 8 fields, saw 9\\nSkipping line 59363: expected 8 fields, saw 9\\nSkipping line 59382: expected 8 fields, saw 9\\nSkipping line 59383: expected 8 fields, saw 9\\nSkipping line 59393: expected 8 fields, saw 9\\nSkipping line 59415: expected 8 fields, saw 9\\nSkipping line 59419: expected 8 fields, saw 10\\nSkipping line 59427: expected 8 fields, saw 9\\nSkipping line 59439: expected 8 fields, saw 10\\nSkipping line 59450: expected 8 fields, saw 9\\nSkipping line 59457: expected 8 fields, saw 9\\nSkipping line 59460: expected 8 fields, saw 9\\nSkipping line 59461: expected 8 fields, saw 9\\nSkipping line 59463: expected 8 fields, saw 9\\nSkipping line 59492: expected 8 fields, saw 9\\nSkipping line 59501: expected 8 fields, saw 9\\nSkipping line 59527: expected 8 fields, saw 9\\nSkipping line 59584: expected 8 fields, saw 9\\nSkipping line 59588: expected 8 fields, saw 9\\nSkipping line 59645: expected 8 fields, saw 9\\nSkipping line 59694: expected 8 fields, saw 9\\nSkipping line 59734: expected 8 fields, saw 9\\nSkipping line 59737: expected 8 fields, saw 9\\nSkipping line 59741: expected 8 fields, saw 9\\nSkipping line 59742: expected 8 fields, saw 9\\nSkipping line 59743: expected 8 fields, saw 9\\nSkipping line 59744: expected 8 fields, saw 10\\nSkipping line 59751: expected 8 fields, saw 9\\nSkipping line 59765: expected 8 fields, saw 9\\nSkipping line 59767: expected 8 fields, saw 9\\nSkipping line 59771: expected 8 fields, saw 9\\nSkipping line 59779: expected 8 fields, saw 9\\nSkipping line 59787: expected 8 fields, saw 9\\nSkipping line 59818: expected 8 fields, saw 9\\nSkipping line 59836: expected 8 fields, saw 9\\nSkipping line 59855: expected 8 fields, saw 9\\nSkipping line 59865: expected 8 fields, saw 9\\nSkipping line 59892: expected 8 fields, saw 9\\nSkipping line 59909: expected 8 fields, saw 9\\nSkipping line 59920: expected 8 fields, saw 9\\nSkipping line 59923: expected 8 fields, saw 9\\nSkipping line 59927: expected 8 fields, saw 9\\nSkipping line 59950: expected 8 fields, saw 9\\nSkipping line 59958: expected 8 fields, saw 10\\nSkipping line 59987: expected 8 fields, saw 9\\nSkipping line 59991: expected 8 fields, saw 9\\nSkipping line 59996: expected 8 fields, saw 9\\nSkipping line 60018: expected 8 fields, saw 9\\nSkipping line 60019: expected 8 fields, saw 9\\nSkipping line 60028: expected 8 fields, saw 9\\nSkipping line 60029: expected 8 fields, saw 9\\nSkipping line 60031: expected 8 fields, saw 9\\nSkipping line 60050: expected 8 fields, saw 9\\nSkipping line 60089: expected 8 fields, saw 10\\nSkipping line 60102: expected 8 fields, saw 9\\nSkipping line 60107: expected 8 fields, saw 9\\nSkipping line 60125: expected 8 fields, saw 9\\nSkipping line 60131: expected 8 fields, saw 9\\nSkipping line 60159: expected 8 fields, saw 9\\nSkipping line 60161: expected 8 fields, saw 9\\nSkipping line 60195: expected 8 fields, saw 9\\nSkipping line 60196: expected 8 fields, saw 9\\nSkipping line 60207: expected 8 fields, saw 9\\nSkipping line 60231: expected 8 fields, saw 9\\nSkipping line 60259: expected 8 fields, saw 9\\nSkipping line 60265: expected 8 fields, saw 9\\nSkipping line 60279: expected 8 fields, saw 9\\nSkipping line 60320: expected 8 fields, saw 9\\nSkipping line 60333: expected 8 fields, saw 9\\nSkipping line 60344: expected 8 fields, saw 9\\nSkipping line 60358: expected 8 fields, saw 9\\nSkipping line 60400: expected 8 fields, saw 9\\nSkipping line 60402: expected 8 fields, saw 9\\nSkipping line 60404: expected 8 fields, saw 9\\nSkipping line 60418: expected 8 fields, saw 9\\nSkipping line 60423: expected 8 fields, saw 9\\nSkipping line 60493: expected 8 fields, saw 9\\nSkipping line 60494: expected 8 fields, saw 9\\nSkipping line 60502: expected 8 fields, saw 9\\nSkipping line 60506: expected 8 fields, saw 9\\nSkipping line 60531: expected 8 fields, saw 9\\nSkipping line 60536: expected 8 fields, saw 9\\nSkipping line 60548: expected 8 fields, saw 9\\nSkipping line 60592: expected 8 fields, saw 9\\nSkipping line 60638: expected 8 fields, saw 9\\nSkipping line 60645: expected 8 fields, saw 9\\nSkipping line 60662: expected 8 fields, saw 9\\nSkipping line 60674: expected 8 fields, saw 9\\nSkipping line 60677: expected 8 fields, saw 9\\nSkipping line 60682: expected 8 fields, saw 9\\nSkipping line 60717: expected 8 fields, saw 9\\nSkipping line 60719: expected 8 fields, saw 9\\nSkipping line 60734: expected 8 fields, saw 9\\nSkipping line 60745: expected 8 fields, saw 9\\nSkipping line 60797: expected 8 fields, saw 9\\nSkipping line 60827: expected 8 fields, saw 9\\nSkipping line 60828: expected 8 fields, saw 9\\nSkipping line 60837: expected 8 fields, saw 9\\nSkipping line 60839: expected 8 fields, saw 9\\nSkipping line 60848: expected 8 fields, saw 9\\nSkipping line 60853: expected 8 fields, saw 9\\nSkipping line 60856: expected 8 fields, saw 9\\nSkipping line 60905: expected 8 fields, saw 9\\nSkipping line 60909: expected 8 fields, saw 9\\nSkipping line 60913: expected 8 fields, saw 10\\nSkipping line 60923: expected 8 fields, saw 9\\nSkipping line 60943: expected 8 fields, saw 9\\nSkipping line 60953: expected 8 fields, saw 9\\nSkipping line 60979: expected 8 fields, saw 9\\nSkipping line 61009: expected 8 fields, saw 9\\nSkipping line 61017: expected 8 fields, saw 9\\nSkipping line 61033: expected 8 fields, saw 9\\nSkipping line 61084: expected 8 fields, saw 9\\nSkipping line 61090: expected 8 fields, saw 9\\nSkipping line 61099: expected 8 fields, saw 9\\nSkipping line 61112: expected 8 fields, saw 9\\nSkipping line 61134: expected 8 fields, saw 9\\nSkipping line 61182: expected 8 fields, saw 11\\nSkipping line 61187: expected 8 fields, saw 9\\nSkipping line 61200: expected 8 fields, saw 9\\nSkipping line 61204: expected 8 fields, saw 9\\nSkipping line 61211: expected 8 fields, saw 9\\nSkipping line 61212: expected 8 fields, saw 9\\nSkipping line 61220: expected 8 fields, saw 9\\nSkipping line 61221: expected 8 fields, saw 9\\nSkipping line 61244: expected 8 fields, saw 9\\nSkipping line 61246: expected 8 fields, saw 9\\nSkipping line 61247: expected 8 fields, saw 9\\nSkipping line 61251: expected 8 fields, saw 9\\nSkipping line 61253: expected 8 fields, saw 9\\nSkipping line 61257: expected 8 fields, saw 9\\nSkipping line 61263: expected 8 fields, saw 10\\nSkipping line 61283: expected 8 fields, saw 10\\nSkipping line 61323: expected 8 fields, saw 9\\nSkipping line 61337: expected 8 fields, saw 9\\nSkipping line 61351: expected 8 fields, saw 9\\nSkipping line 61353: expected 8 fields, saw 10\\nSkipping line 61358: expected 8 fields, saw 9\\nSkipping line 61362: expected 8 fields, saw 9\\nSkipping line 61363: expected 8 fields, saw 9\\nSkipping line 61401: expected 8 fields, saw 9\\nSkipping line 61404: expected 8 fields, saw 9\\nSkipping line 61407: expected 8 fields, saw 9\\nSkipping line 61415: expected 8 fields, saw 9\\nSkipping line 61421: expected 8 fields, saw 9\\nSkipping line 61430: expected 8 fields, saw 9\\nSkipping line 61431: expected 8 fields, saw 9\\nSkipping line 61438: expected 8 fields, saw 9\\nSkipping line 61440: expected 8 fields, saw 9\\nSkipping line 61443: expected 8 fields, saw 9\\nSkipping line 61452: expected 8 fields, saw 9\\nSkipping line 61457: expected 8 fields, saw 9\\nSkipping line 61459: expected 8 fields, saw 9\\nSkipping line 61468: expected 8 fields, saw 9\\nSkipping line 61475: expected 8 fields, saw 9\\nSkipping line 61489: expected 8 fields, saw 9\\nSkipping line 61493: expected 8 fields, saw 9\\nSkipping line 61497: expected 8 fields, saw 9\\nSkipping line 61509: expected 8 fields, saw 9\\nSkipping line 61512: expected 8 fields, saw 9\\nSkipping line 61540: expected 8 fields, saw 9\\nSkipping line 61551: expected 8 fields, saw 9\\nSkipping line 61607: expected 8 fields, saw 9\\nSkipping line 61611: expected 8 fields, saw 9\\nSkipping line 61615: expected 8 fields, saw 9\\nSkipping line 61617: expected 8 fields, saw 9\\nSkipping line 61623: expected 8 fields, saw 9\\nSkipping line 61646: expected 8 fields, saw 9\\nSkipping line 61665: expected 8 fields, saw 9\\nSkipping line 61670: expected 8 fields, saw 9\\nSkipping line 61702: expected 8 fields, saw 9\\nSkipping line 61724: expected 8 fields, saw 9\\nSkipping line 61732: expected 8 fields, saw 9\\nSkipping line 61738: expected 8 fields, saw 9\\nSkipping line 61747: expected 8 fields, saw 9\\nSkipping line 61752: expected 8 fields, saw 9\\nSkipping line 61763: expected 8 fields, saw 9\\nSkipping line 61809: expected 8 fields, saw 9\\nSkipping line 61820: expected 8 fields, saw 9\\nSkipping line 61826: expected 8 fields, saw 9\\nSkipping line 61848: expected 8 fields, saw 9\\nSkipping line 61860: expected 8 fields, saw 9\\nSkipping line 61880: expected 8 fields, saw 9\\nSkipping line 61885: expected 8 fields, saw 9\\nSkipping line 61911: expected 8 fields, saw 9\\nSkipping line 61917: expected 8 fields, saw 9\\nSkipping line 61929: expected 8 fields, saw 9\\nSkipping line 61939: expected 8 fields, saw 9\\nSkipping line 61948: expected 8 fields, saw 9\\nSkipping line 62031: expected 8 fields, saw 9\\nSkipping line 62057: expected 8 fields, saw 10\\nSkipping line 62071: expected 8 fields, saw 9\\nSkipping line 62120: expected 8 fields, saw 9\\nSkipping line 62173: expected 8 fields, saw 9\\nSkipping line 62176: expected 8 fields, saw 9\\nSkipping line 62180: expected 8 fields, saw 9\\nSkipping line 62184: expected 8 fields, saw 9\\nSkipping line 62186: expected 8 fields, saw 9\\nSkipping line 62189: expected 8 fields, saw 9\\nSkipping line 62192: expected 8 fields, saw 9\\nSkipping line 62205: expected 8 fields, saw 9\\nSkipping line 62227: expected 8 fields, saw 9\\nSkipping line 62228: expected 8 fields, saw 9\\nSkipping line 62240: expected 8 fields, saw 9\\nSkipping line 62276: expected 8 fields, saw 9\\nSkipping line 62284: expected 8 fields, saw 9\\nSkipping line 62285: expected 8 fields, saw 9\\nSkipping line 62288: expected 8 fields, saw 9\\nSkipping line 62290: expected 8 fields, saw 9\\nSkipping line 62294: expected 8 fields, saw 9\\nSkipping line 62295: expected 8 fields, saw 9\\nSkipping line 62338: expected 8 fields, saw 9\\nSkipping line 62345: expected 8 fields, saw 10\\nSkipping line 62350: expected 8 fields, saw 9\\nSkipping line 62356: expected 8 fields, saw 9\\nSkipping line 62385: expected 8 fields, saw 9\\nSkipping line 62408: expected 8 fields, saw 9\\nSkipping line 62412: expected 8 fields, saw 9\\nSkipping line 62418: expected 8 fields, saw 9\\nSkipping line 62420: expected 8 fields, saw 9\\nSkipping line 62441: expected 8 fields, saw 9\\nSkipping line 62446: expected 8 fields, saw 9\\nSkipping line 62457: expected 8 fields, saw 9\\nSkipping line 62463: expected 8 fields, saw 9\\nSkipping line 62467: expected 8 fields, saw 9\\nSkipping line 62468: expected 8 fields, saw 9\\nSkipping line 62477: expected 8 fields, saw 9\\nSkipping line 62501: expected 8 fields, saw 9\\nSkipping line 62517: expected 8 fields, saw 9\\nSkipping line 62523: expected 8 fields, saw 9\\nSkipping line 62570: expected 8 fields, saw 9\\nSkipping line 62571: expected 8 fields, saw 9\\nSkipping line 62579: expected 8 fields, saw 9\\nSkipping line 62613: expected 8 fields, saw 9\\nSkipping line 62626: expected 8 fields, saw 9\\nSkipping line 62635: expected 8 fields, saw 9\\nSkipping line 62653: expected 8 fields, saw 9\\nSkipping line 62671: expected 8 fields, saw 9\\nSkipping line 62686: expected 8 fields, saw 10\\nSkipping line 62693: expected 8 fields, saw 9\\nSkipping line 62716: expected 8 fields, saw 9\\nSkipping line 62752: expected 8 fields, saw 9\\nSkipping line 62753: expected 8 fields, saw 9\\nSkipping line 62812: expected 8 fields, saw 10\\nSkipping line 62815: expected 8 fields, saw 9\\nSkipping line 62836: expected 8 fields, saw 9\\nSkipping line 62896: expected 8 fields, saw 9\\nSkipping line 62906: expected 8 fields, saw 9\\nSkipping line 62998: expected 8 fields, saw 9\\nSkipping line 63007: expected 8 fields, saw 9\\nSkipping line 63008: expected 8 fields, saw 9\\nSkipping line 63009: expected 8 fields, saw 9\\nSkipping line 63010: expected 8 fields, saw 9\\nSkipping line 63012: expected 8 fields, saw 9\\nSkipping line 63022: expected 8 fields, saw 9\\nSkipping line 63050: expected 8 fields, saw 9\\nSkipping line 63115: expected 8 fields, saw 9\\nSkipping line 63124: expected 8 fields, saw 9\\nSkipping line 63137: expected 8 fields, saw 9\\nSkipping line 63149: expected 8 fields, saw 9\\nSkipping line 63185: expected 8 fields, saw 9\\nSkipping line 63199: expected 8 fields, saw 9\\nSkipping line 63208: expected 8 fields, saw 9\\nSkipping line 63209: expected 8 fields, saw 9\\nSkipping line 63216: expected 8 fields, saw 9\\nSkipping line 63222: expected 8 fields, saw 9\\nSkipping line 63251: expected 8 fields, saw 9\\nSkipping line 63274: expected 8 fields, saw 9\\nSkipping line 63293: expected 8 fields, saw 9\\nSkipping line 63301: expected 8 fields, saw 10\\nSkipping line 63346: expected 8 fields, saw 9\\nSkipping line 63347: expected 8 fields, saw 9\\nSkipping line 63365: expected 8 fields, saw 9\\nSkipping line 63371: expected 8 fields, saw 9\\nSkipping line 63384: expected 8 fields, saw 9\\nSkipping line 63404: expected 8 fields, saw 9\\nSkipping line 63448: expected 8 fields, saw 9\\nSkipping line 63455: expected 8 fields, saw 9\\nSkipping line 63459: expected 8 fields, saw 9\\nSkipping line 63551: expected 8 fields, saw 9\\nSkipping line 63557: expected 8 fields, saw 9\\nSkipping line 63567: expected 8 fields, saw 9\\nSkipping line 63570: expected 8 fields, saw 9\\nSkipping line 63581: expected 8 fields, saw 9\\nSkipping line 63584: expected 8 fields, saw 9\\nSkipping line 63599: expected 8 fields, saw 9\\nSkipping line 63604: expected 8 fields, saw 9\\nSkipping line 63612: expected 8 fields, saw 9\\nSkipping line 63631: expected 8 fields, saw 9\\nSkipping line 63632: expected 8 fields, saw 9\\nSkipping line 63648: expected 8 fields, saw 9\\nSkipping line 63649: expected 8 fields, saw 9\\nSkipping line 63669: expected 8 fields, saw 9\\nSkipping line 63679: expected 8 fields, saw 9\\nSkipping line 63687: expected 8 fields, saw 9\\nSkipping line 63697: expected 8 fields, saw 9\\nSkipping line 63705: expected 8 fields, saw 9\\nSkipping line 63721: expected 8 fields, saw 9\\nSkipping line 63727: expected 8 fields, saw 9\\nSkipping line 63729: expected 8 fields, saw 9\\nSkipping line 63767: expected 8 fields, saw 9\\nSkipping line 63774: expected 8 fields, saw 9\\nSkipping line 63776: expected 8 fields, saw 9\\nSkipping line 63779: expected 8 fields, saw 9\\nSkipping line 63782: expected 8 fields, saw 9\\nSkipping line 63785: expected 8 fields, saw 9\\nSkipping line 63788: expected 8 fields, saw 9\\nSkipping line 63798: expected 8 fields, saw 9\\nSkipping line 63826: expected 8 fields, saw 9\\nSkipping line 63850: expected 8 fields, saw 9\\nSkipping line 63854: expected 8 fields, saw 9\\nSkipping line 63875: expected 8 fields, saw 9\\nSkipping line 63879: expected 8 fields, saw 9\\nSkipping line 63892: expected 8 fields, saw 9\\nSkipping line 63912: expected 8 fields, saw 9\\nSkipping line 63938: expected 8 fields, saw 9\\nSkipping line 63941: expected 8 fields, saw 9\\nSkipping line 63944: expected 8 fields, saw 9\\nSkipping line 63956: expected 8 fields, saw 9\\nSkipping line 63960: expected 8 fields, saw 9\\nSkipping line 63966: expected 8 fields, saw 9\\nSkipping line 63969: expected 8 fields, saw 9\\nSkipping line 63971: expected 8 fields, saw 9\\nSkipping line 64002: expected 8 fields, saw 9\\nSkipping line 64016: expected 8 fields, saw 9\\nSkipping line 64019: expected 8 fields, saw 10\\nSkipping line 64033: expected 8 fields, saw 9\\nSkipping line 64035: expected 8 fields, saw 9\\nSkipping line 64054: expected 8 fields, saw 9\\nSkipping line 64055: expected 8 fields, saw 9\\nSkipping line 64057: expected 8 fields, saw 9\\nSkipping line 64068: expected 8 fields, saw 9\\nSkipping line 64070: expected 8 fields, saw 9\\nSkipping line 64081: expected 8 fields, saw 9\\nSkipping line 64107: expected 8 fields, saw 9\\nSkipping line 64126: expected 8 fields, saw 9\\nSkipping line 64140: expected 8 fields, saw 9\\nSkipping line 64191: expected 8 fields, saw 9\\nSkipping line 64201: expected 8 fields, saw 9\\nSkipping line 64206: expected 8 fields, saw 9\\nSkipping line 64210: expected 8 fields, saw 9\\nSkipping line 64211: expected 8 fields, saw 9\\nSkipping line 64262: expected 8 fields, saw 9\\nSkipping line 64309: expected 8 fields, saw 9\\nSkipping line 64319: expected 8 fields, saw 9\\nSkipping line 64328: expected 8 fields, saw 9\\nSkipping line 64332: expected 8 fields, saw 9\\nSkipping line 64401: expected 8 fields, saw 9\\nSkipping line 64407: expected 8 fields, saw 9\\nSkipping line 64436: expected 8 fields, saw 9\\nSkipping line 64464: expected 8 fields, saw 9\\nSkipping line 64469: expected 8 fields, saw 9\\nSkipping line 64470: expected 8 fields, saw 9\\nSkipping line 64490: expected 8 fields, saw 9\\nSkipping line 64523: expected 8 fields, saw 9\\nSkipping line 64542: expected 8 fields, saw 9\\nSkipping line 64553: expected 8 fields, saw 9\\nSkipping line 64567: expected 8 fields, saw 9\\nSkipping line 64572: expected 8 fields, saw 9\\nSkipping line 64587: expected 8 fields, saw 9\\nSkipping line 64592: expected 8 fields, saw 9\\nSkipping line 64594: expected 8 fields, saw 9\\nSkipping line 64704: expected 8 fields, saw 9\\nSkipping line 64738: expected 8 fields, saw 9\\nSkipping line 64817: expected 8 fields, saw 9\\nSkipping line 64856: expected 8 fields, saw 9\\nSkipping line 64882: expected 8 fields, saw 9\\nSkipping line 64892: expected 8 fields, saw 9\\nSkipping line 64933: expected 8 fields, saw 9\\nSkipping line 64946: expected 8 fields, saw 9\\nSkipping line 65006: expected 8 fields, saw 9\\nSkipping line 65008: expected 8 fields, saw 9\\nSkipping line 65045: expected 8 fields, saw 10\\nSkipping line 65073: expected 8 fields, saw 9\\nSkipping line 65075: expected 8 fields, saw 9\\nSkipping line 65076: expected 8 fields, saw 9\\nSkipping line 65146: expected 8 fields, saw 9\\nSkipping line 65149: expected 8 fields, saw 11\\nSkipping line 65159: expected 8 fields, saw 10\\nSkipping line 65172: expected 8 fields, saw 9\\nSkipping line 65193: expected 8 fields, saw 9\\nSkipping line 65214: expected 8 fields, saw 9\\nSkipping line 65283: expected 8 fields, saw 9\\nSkipping line 65311: expected 8 fields, saw 9\\nSkipping line 65316: expected 8 fields, saw 9\\nSkipping line 65326: expected 8 fields, saw 9\\nSkipping line 65338: expected 8 fields, saw 9\\nSkipping line 65354: expected 8 fields, saw 9\\nSkipping line 65399: expected 8 fields, saw 9\\nSkipping line 65511: expected 8 fields, saw 9\\nSkipping line 65594: expected 8 fields, saw 9\\nSkipping line 65595: expected 8 fields, saw 9\\nSkipping line 65598: expected 8 fields, saw 9\\nSkipping line 65675: expected 8 fields, saw 9\\nSkipping line 65696: expected 8 fields, saw 9\\nSkipping line 65719: expected 8 fields, saw 9\\nSkipping line 65725: expected 8 fields, saw 9\\nSkipping line 65756: expected 8 fields, saw 9\\nSkipping line 65784: expected 8 fields, saw 9\\nSkipping line 65794: expected 8 fields, saw 9\\nSkipping line 65816: expected 8 fields, saw 9\\nSkipping line 65839: expected 8 fields, saw 9\\nSkipping line 65871: expected 8 fields, saw 9\\nSkipping line 65912: expected 8 fields, saw 9\\nSkipping line 65926: expected 8 fields, saw 9\\nSkipping line 65931: expected 8 fields, saw 9\\nSkipping line 65933: expected 8 fields, saw 9\\nSkipping line 65934: expected 8 fields, saw 9\\nSkipping line 65949: expected 8 fields, saw 9\\nSkipping line 65975: expected 8 fields, saw 9\\nSkipping line 66011: expected 8 fields, saw 9\\nSkipping line 66014: expected 8 fields, saw 9\\nSkipping line 66035: expected 8 fields, saw 9\\nSkipping line 66107: expected 8 fields, saw 9\\nSkipping line 66168: expected 8 fields, saw 9\\nSkipping line 66172: expected 8 fields, saw 9\\nSkipping line 66176: expected 8 fields, saw 9\\nSkipping line 66223: expected 8 fields, saw 9\\nSkipping line 66227: expected 8 fields, saw 9\\nSkipping line 66239: expected 8 fields, saw 9\\nSkipping line 66240: expected 8 fields, saw 9\\nSkipping line 66252: expected 8 fields, saw 9\\nSkipping line 66259: expected 8 fields, saw 9\\nSkipping line 66281: expected 8 fields, saw 9\\nSkipping line 66290: expected 8 fields, saw 9\\nSkipping line 66292: expected 8 fields, saw 9\\nSkipping line 66296: expected 8 fields, saw 9\\nSkipping line 66304: expected 8 fields, saw 9\\nSkipping line 66309: expected 8 fields, saw 9\\nSkipping line 66311: expected 8 fields, saw 9\\nSkipping line 66313: expected 8 fields, saw 9\\nSkipping line 66320: expected 8 fields, saw 9\\nSkipping line 66332: expected 8 fields, saw 9\\nSkipping line 66334: expected 8 fields, saw 9\\nSkipping line 66340: expected 8 fields, saw 9\\nSkipping line 66345: expected 8 fields, saw 9\\nSkipping line 66349: expected 8 fields, saw 9\\nSkipping line 66351: expected 8 fields, saw 9\\nSkipping line 66356: expected 8 fields, saw 9\\nSkipping line 66365: expected 8 fields, saw 9\\nSkipping line 66370: expected 8 fields, saw 9\\nSkipping line 66381: expected 8 fields, saw 9\\nSkipping line 66392: expected 8 fields, saw 9\\nSkipping line 66411: expected 8 fields, saw 9\\nSkipping line 66412: expected 8 fields, saw 9\\nSkipping line 66418: expected 8 fields, saw 9\\nSkipping line 66429: expected 8 fields, saw 9\\nSkipping line 66447: expected 8 fields, saw 9\\nSkipping line 66482: expected 8 fields, saw 9\\nSkipping line 66513: expected 8 fields, saw 9\\nSkipping line 66519: expected 8 fields, saw 9\\nSkipping line 66525: expected 8 fields, saw 9\\nSkipping line 66528: expected 8 fields, saw 9\\nSkipping line 66536: expected 8 fields, saw 9\\nSkipping line 66546: expected 8 fields, saw 9\\nSkipping line 66571: expected 8 fields, saw 9\\nSkipping line 66576: expected 8 fields, saw 9\\nSkipping line 66615: expected 8 fields, saw 9\\nSkipping line 66677: expected 8 fields, saw 9\\nSkipping line 66688: expected 8 fields, saw 9\\nSkipping line 66718: expected 8 fields, saw 9\\nSkipping line 66737: expected 8 fields, saw 9\\nSkipping line 66761: expected 8 fields, saw 9\\nSkipping line 66762: expected 8 fields, saw 9\\nSkipping line 66784: expected 8 fields, saw 9\\nSkipping line 66795: expected 8 fields, saw 9\\nSkipping line 66832: expected 8 fields, saw 9\\nSkipping line 66834: expected 8 fields, saw 9\\nSkipping line 66835: expected 8 fields, saw 9\\nSkipping line 66855: expected 8 fields, saw 9\\nSkipping line 66875: expected 8 fields, saw 9\\nSkipping line 66903: expected 8 fields, saw 9\\nSkipping line 66917: expected 8 fields, saw 9\\nSkipping line 66949: expected 8 fields, saw 9\\nSkipping line 67005: expected 8 fields, saw 9\\nSkipping line 67027: expected 8 fields, saw 9\\nSkipping line 67053: expected 8 fields, saw 9\\nSkipping line 67075: expected 8 fields, saw 9\\nSkipping line 67080: expected 8 fields, saw 9\\nSkipping line 67088: expected 8 fields, saw 9\\nSkipping line 67095: expected 8 fields, saw 9\\nSkipping line 67098: expected 8 fields, saw 9\\nSkipping line 67106: expected 8 fields, saw 9\\nSkipping line 67110: expected 8 fields, saw 9\\nSkipping line 67111: expected 8 fields, saw 10\\nSkipping line 67115: expected 8 fields, saw 9\\nSkipping line 67116: expected 8 fields, saw 10\\nSkipping line 67124: expected 8 fields, saw 9\\nSkipping line 67130: expected 8 fields, saw 9\\nSkipping line 67141: expected 8 fields, saw 9\\nSkipping line 67146: expected 8 fields, saw 9\\nSkipping line 67166: expected 8 fields, saw 9\\nSkipping line 67204: expected 8 fields, saw 9\\nSkipping line 67217: expected 8 fields, saw 9\\nSkipping line 67220: expected 8 fields, saw 9\\nSkipping line 67227: expected 8 fields, saw 9\\nSkipping line 67235: expected 8 fields, saw 9\\nSkipping line 67241: expected 8 fields, saw 9\\nSkipping line 67244: expected 8 fields, saw 9\\nSkipping line 67268: expected 8 fields, saw 9\\nSkipping line 67273: expected 8 fields, saw 9\\nSkipping line 67283: expected 8 fields, saw 9\\nSkipping line 67301: expected 8 fields, saw 9\\nSkipping line 67305: expected 8 fields, saw 9\\nSkipping line 67307: expected 8 fields, saw 9\\nSkipping line 67327: expected 8 fields, saw 9\\nSkipping line 67340: expected 8 fields, saw 9\\nSkipping line 67400: expected 8 fields, saw 9\\nSkipping line 67404: expected 8 fields, saw 9\\nSkipping line 67409: expected 8 fields, saw 9\\nSkipping line 67428: expected 8 fields, saw 9\\nSkipping line 67431: expected 8 fields, saw 9\\nSkipping line 67433: expected 8 fields, saw 9\\nSkipping line 67442: expected 8 fields, saw 9\\nSkipping line 67452: expected 8 fields, saw 9\\nSkipping line 67453: expected 8 fields, saw 9\\nSkipping line 67464: expected 8 fields, saw 9\\nSkipping line 67465: expected 8 fields, saw 9\\nSkipping line 67470: expected 8 fields, saw 9\\nSkipping line 67472: expected 8 fields, saw 9\\nSkipping line 67473: expected 8 fields, saw 9\\nSkipping line 67474: expected 8 fields, saw 9\\nSkipping line 67476: expected 8 fields, saw 9\\nSkipping line 67477: expected 8 fields, saw 9\\nSkipping line 67478: expected 8 fields, saw 9\\nSkipping line 67505: expected 8 fields, saw 9\\nSkipping line 67521: expected 8 fields, saw 9\\nSkipping line 67527: expected 8 fields, saw 9\\nSkipping line 67535: expected 8 fields, saw 9\\nSkipping line 67549: expected 8 fields, saw 9\\nSkipping line 67555: expected 8 fields, saw 9\\nSkipping line 67559: expected 8 fields, saw 9\\nSkipping line 67561: expected 8 fields, saw 9\\nSkipping line 67573: expected 8 fields, saw 9\\nSkipping line 67580: expected 8 fields, saw 9\\nSkipping line 67594: expected 8 fields, saw 9\\nSkipping line 67612: expected 8 fields, saw 9\\nSkipping line 67613: expected 8 fields, saw 9\\nSkipping line 67617: expected 8 fields, saw 9\\nSkipping line 67621: expected 8 fields, saw 9\\nSkipping line 67628: expected 8 fields, saw 9\\nSkipping line 67634: expected 8 fields, saw 9\\nSkipping line 67641: expected 8 fields, saw 9\\nSkipping line 67655: expected 8 fields, saw 9\\nSkipping line 67658: expected 8 fields, saw 9\\nSkipping line 67689: expected 8 fields, saw 9\\nSkipping line 67719: expected 8 fields, saw 9\\nSkipping line 67732: expected 8 fields, saw 9\\nSkipping line 67736: expected 8 fields, saw 9\\nSkipping line 67756: expected 8 fields, saw 9\\nSkipping line 67760: expected 8 fields, saw 9\\nSkipping line 67764: expected 8 fields, saw 9\\nSkipping line 67783: expected 8 fields, saw 9\\nSkipping line 67842: expected 8 fields, saw 9\\nSkipping line 67851: expected 8 fields, saw 9\\nSkipping line 67852: expected 8 fields, saw 9\\nSkipping line 67855: expected 8 fields, saw 9\\nSkipping line 67865: expected 8 fields, saw 9\\nSkipping line 67880: expected 8 fields, saw 9\\nSkipping line 67881: expected 8 fields, saw 9\\nSkipping line 67889: expected 8 fields, saw 9\\nSkipping line 67897: expected 8 fields, saw 9\\nSkipping line 67912: expected 8 fields, saw 9\\nSkipping line 67918: expected 8 fields, saw 9\\nSkipping line 67922: expected 8 fields, saw 9\\nSkipping line 67935: expected 8 fields, saw 9\\nSkipping line 67962: expected 8 fields, saw 9\\nSkipping line 67977: expected 8 fields, saw 9\\nSkipping line 67985: expected 8 fields, saw 9\\nSkipping line 68001: expected 8 fields, saw 9\\nSkipping line 68022: expected 8 fields, saw 9\\nSkipping line 68035: expected 8 fields, saw 9\\nSkipping line 68062: expected 8 fields, saw 9\\nSkipping line 68093: expected 8 fields, saw 9\\nSkipping line 68098: expected 8 fields, saw 9\\nSkipping line 68120: expected 8 fields, saw 9\\nSkipping line 68168: expected 8 fields, saw 9\\nSkipping line 68207: expected 8 fields, saw 9\\nSkipping line 68215: expected 8 fields, saw 9\\nSkipping line 68230: expected 8 fields, saw 9\\nSkipping line 68234: expected 8 fields, saw 9\\nSkipping line 68251: expected 8 fields, saw 9\\nSkipping line 68266: expected 8 fields, saw 9\\nSkipping line 68271: expected 8 fields, saw 9\\nSkipping line 68275: expected 8 fields, saw 9\\nSkipping line 68304: expected 8 fields, saw 9\\nSkipping line 68306: expected 8 fields, saw 9\\nSkipping line 68330: expected 8 fields, saw 9\\nSkipping line 68341: expected 8 fields, saw 9\\nSkipping line 68351: expected 8 fields, saw 9\\nSkipping line 68412: expected 8 fields, saw 9\\nSkipping line 68417: expected 8 fields, saw 9\\nSkipping line 68428: expected 8 fields, saw 9\\nSkipping line 68430: expected 8 fields, saw 9\\nSkipping line 68433: expected 8 fields, saw 9\\nSkipping line 68439: expected 8 fields, saw 9\\nSkipping line 68450: expected 8 fields, saw 9\\nSkipping line 68473: expected 8 fields, saw 9\\nSkipping line 68477: expected 8 fields, saw 9\\nSkipping line 68480: expected 8 fields, saw 9\\nSkipping line 68482: expected 8 fields, saw 9\\nSkipping line 68491: expected 8 fields, saw 9\\nSkipping line 68513: expected 8 fields, saw 9\\nSkipping line 68536: expected 8 fields, saw 9\\nSkipping line 68567: expected 8 fields, saw 9\\nSkipping line 68595: expected 8 fields, saw 9\\nSkipping line 68601: expected 8 fields, saw 9\\nSkipping line 68622: expected 8 fields, saw 9\\nSkipping line 68625: expected 8 fields, saw 9\\nSkipping line 68654: expected 8 fields, saw 9\\nSkipping line 68670: expected 8 fields, saw 9\\nSkipping line 68682: expected 8 fields, saw 9\\nSkipping line 68752: expected 8 fields, saw 9\\nSkipping line 68761: expected 8 fields, saw 9\\nSkipping line 68780: expected 8 fields, saw 9\\nSkipping line 68827: expected 8 fields, saw 9\\nSkipping line 68839: expected 8 fields, saw 9\\nSkipping line 68845: expected 8 fields, saw 9\\nSkipping line 68866: expected 8 fields, saw 9\\nSkipping line 68872: expected 8 fields, saw 9\\nSkipping line 68877: expected 8 fields, saw 9\\nSkipping line 68888: expected 8 fields, saw 9\\nSkipping line 68908: expected 8 fields, saw 9\\nSkipping line 68925: expected 8 fields, saw 9\\nSkipping line 68956: expected 8 fields, saw 9\\nSkipping line 68964: expected 8 fields, saw 9\\nSkipping line 68967: expected 8 fields, saw 9\\nSkipping line 68969: expected 8 fields, saw 9\\nSkipping line 68970: expected 8 fields, saw 9\\nSkipping line 68972: expected 8 fields, saw 9\\nSkipping line 68980: expected 8 fields, saw 9\\nSkipping line 68999: expected 8 fields, saw 9\\nSkipping line 69006: expected 8 fields, saw 9\\nSkipping line 69014: expected 8 fields, saw 9\\nSkipping line 69030: expected 8 fields, saw 9\\nSkipping line 69031: expected 8 fields, saw 9\\nSkipping line 69097: expected 8 fields, saw 9\\nSkipping line 69099: expected 8 fields, saw 9\\nSkipping line 69114: expected 8 fields, saw 9\\nSkipping line 69126: expected 8 fields, saw 9\\nSkipping line 69144: expected 8 fields, saw 9\\nSkipping line 69147: expected 8 fields, saw 9\\nSkipping line 69152: expected 8 fields, saw 10\\nSkipping line 69170: expected 8 fields, saw 9\\nSkipping line 69180: expected 8 fields, saw 9\\nSkipping line 69186: expected 8 fields, saw 9\\nSkipping line 69191: expected 8 fields, saw 9\\nSkipping line 69198: expected 8 fields, saw 9\\nSkipping line 69205: expected 8 fields, saw 9\\nSkipping line 69210: expected 8 fields, saw 9\\nSkipping line 69211: expected 8 fields, saw 9\\nSkipping line 69219: expected 8 fields, saw 9\\nSkipping line 69225: expected 8 fields, saw 9\\nSkipping line 69234: expected 8 fields, saw 9\\nSkipping line 69246: expected 8 fields, saw 9\\nSkipping line 69249: expected 8 fields, saw 9\\nSkipping line 69260: expected 8 fields, saw 9\\nSkipping line 69264: expected 8 fields, saw 9\\nSkipping line 69271: expected 8 fields, saw 9\\nSkipping line 69275: expected 8 fields, saw 9\\nSkipping line 69297: expected 8 fields, saw 9\\nSkipping line 69298: expected 8 fields, saw 9\\nSkipping line 69307: expected 8 fields, saw 9\\nSkipping line 69308: expected 8 fields, saw 9\\nSkipping line 69309: expected 8 fields, saw 9\\nSkipping line 69359: expected 8 fields, saw 9\\nSkipping line 69375: expected 8 fields, saw 9\\nSkipping line 69376: expected 8 fields, saw 9\\nSkipping line 69418: expected 8 fields, saw 9\\nSkipping line 69424: expected 8 fields, saw 9\\nSkipping line 69425: expected 8 fields, saw 9\\nSkipping line 69455: expected 8 fields, saw 9\\nSkipping line 69458: expected 8 fields, saw 9\\nSkipping line 69460: expected 8 fields, saw 9\\nSkipping line 69475: expected 8 fields, saw 9\\nSkipping line 69488: expected 8 fields, saw 9\\nSkipping line 69502: expected 8 fields, saw 9\\nSkipping line 69522: expected 8 fields, saw 9\\nSkipping line 69548: expected 8 fields, saw 9\\nSkipping line 69552: expected 8 fields, saw 9\\nSkipping line 69571: expected 8 fields, saw 9\\nSkipping line 69581: expected 8 fields, saw 9\\nSkipping line 69587: expected 8 fields, saw 9\\nSkipping line 69600: expected 8 fields, saw 9\\nSkipping line 69605: expected 8 fields, saw 9\\nSkipping line 69611: expected 8 fields, saw 9\\nSkipping line 69612: expected 8 fields, saw 9\\nSkipping line 69623: expected 8 fields, saw 9\\nSkipping line 69657: expected 8 fields, saw 9\\nSkipping line 69658: expected 8 fields, saw 9\\nSkipping line 69661: expected 8 fields, saw 9\\nSkipping line 69662: expected 8 fields, saw 9\\nSkipping line 69663: expected 8 fields, saw 9\\nSkipping line 69664: expected 8 fields, saw 9\\nSkipping line 69665: expected 8 fields, saw 9\\nSkipping line 69666: expected 8 fields, saw 9\\nSkipping line 69671: expected 8 fields, saw 9\\nSkipping line 69686: expected 8 fields, saw 9\\nSkipping line 69709: expected 8 fields, saw 9\\nSkipping line 69724: expected 8 fields, saw 9\\nSkipping line 69727: expected 8 fields, saw 9\\nSkipping line 69762: expected 8 fields, saw 9\\nSkipping line 69772: expected 8 fields, saw 9\\nSkipping line 69777: expected 8 fields, saw 9\\nSkipping line 69784: expected 8 fields, saw 9\\nSkipping line 69807: expected 8 fields, saw 9\\nSkipping line 69811: expected 8 fields, saw 9\\nSkipping line 69812: expected 8 fields, saw 9\\nSkipping line 69813: expected 8 fields, saw 9\\nSkipping line 69833: expected 8 fields, saw 10\\nSkipping line 69836: expected 8 fields, saw 10\\nSkipping line 69837: expected 8 fields, saw 10\\nSkipping line 69839: expected 8 fields, saw 9\\nSkipping line 69849: expected 8 fields, saw 9\\nSkipping line 69865: expected 8 fields, saw 9\\nSkipping line 69917: expected 8 fields, saw 9\\nSkipping line 69952: expected 8 fields, saw 9\\nSkipping line 69953: expected 8 fields, saw 9\\nSkipping line 69957: expected 8 fields, saw 9\\nSkipping line 69958: expected 8 fields, saw 9\\nSkipping line 69999: expected 8 fields, saw 9\\nSkipping line 70000: expected 8 fields, saw 9\\nSkipping line 70023: expected 8 fields, saw 9\\nSkipping line 70059: expected 8 fields, saw 9\\nSkipping line 70078: expected 8 fields, saw 9\\nSkipping line 70079: expected 8 fields, saw 9\\nSkipping line 70081: expected 8 fields, saw 9\\nSkipping line 70086: expected 8 fields, saw 9\\nSkipping line 70096: expected 8 fields, saw 9\\nSkipping line 70114: expected 8 fields, saw 9\\nSkipping line 70118: expected 8 fields, saw 9\\nSkipping line 70122: expected 8 fields, saw 9\\nSkipping line 70136: expected 8 fields, saw 9\\nSkipping line 70174: expected 8 fields, saw 9\\nSkipping line 70181: expected 8 fields, saw 9\\nSkipping line 70189: expected 8 fields, saw 10\\nSkipping line 70199: expected 8 fields, saw 9\\nSkipping line 70206: expected 8 fields, saw 9\\n'\n",
            "b'Skipping line 70243: expected 8 fields, saw 9\\nSkipping line 70249: expected 8 fields, saw 9\\nSkipping line 70260: expected 8 fields, saw 9\\nSkipping line 70263: expected 8 fields, saw 9\\nSkipping line 70292: expected 8 fields, saw 9\\nSkipping line 70298: expected 8 fields, saw 9\\nSkipping line 70299: expected 8 fields, saw 9\\nSkipping line 70304: expected 8 fields, saw 9\\nSkipping line 70308: expected 8 fields, saw 9\\nSkipping line 70329: expected 8 fields, saw 9\\nSkipping line 70334: expected 8 fields, saw 9\\nSkipping line 70349: expected 8 fields, saw 9\\nSkipping line 70364: expected 8 fields, saw 9\\nSkipping line 70384: expected 8 fields, saw 9\\nSkipping line 70392: expected 8 fields, saw 9\\nSkipping line 70396: expected 8 fields, saw 9\\nSkipping line 70398: expected 8 fields, saw 9\\nSkipping line 70400: expected 8 fields, saw 9\\nSkipping line 70405: expected 8 fields, saw 9\\nSkipping line 70409: expected 8 fields, saw 9\\nSkipping line 70412: expected 8 fields, saw 9\\nSkipping line 70418: expected 8 fields, saw 9\\nSkipping line 70421: expected 8 fields, saw 9\\nSkipping line 70436: expected 8 fields, saw 9\\nSkipping line 70463: expected 8 fields, saw 9\\nSkipping line 70469: expected 8 fields, saw 9\\nSkipping line 70508: expected 8 fields, saw 9\\nSkipping line 70512: expected 8 fields, saw 9\\nSkipping line 70528: expected 8 fields, saw 9\\nSkipping line 70531: expected 8 fields, saw 9\\nSkipping line 70564: expected 8 fields, saw 9\\nSkipping line 70590: expected 8 fields, saw 9\\nSkipping line 70591: expected 8 fields, saw 9\\nSkipping line 70598: expected 8 fields, saw 9\\nSkipping line 70609: expected 8 fields, saw 9\\nSkipping line 70616: expected 8 fields, saw 9\\nSkipping line 70618: expected 8 fields, saw 9\\nSkipping line 70646: expected 8 fields, saw 9\\nSkipping line 70686: expected 8 fields, saw 9\\nSkipping line 70689: expected 8 fields, saw 9\\nSkipping line 70697: expected 8 fields, saw 9\\nSkipping line 70739: expected 8 fields, saw 9\\nSkipping line 70742: expected 8 fields, saw 9\\nSkipping line 70744: expected 8 fields, saw 9\\nSkipping line 70776: expected 8 fields, saw 9\\nSkipping line 70819: expected 8 fields, saw 9\\nSkipping line 70826: expected 8 fields, saw 9\\nSkipping line 70869: expected 8 fields, saw 9\\nSkipping line 70872: expected 8 fields, saw 9\\nSkipping line 70880: expected 8 fields, saw 9\\nSkipping line 70896: expected 8 fields, saw 9\\nSkipping line 70911: expected 8 fields, saw 9\\nSkipping line 70917: expected 8 fields, saw 9\\nSkipping line 70919: expected 8 fields, saw 9\\nSkipping line 70944: expected 8 fields, saw 9\\nSkipping line 70951: expected 8 fields, saw 9\\nSkipping line 70963: expected 8 fields, saw 9\\nSkipping line 70965: expected 8 fields, saw 9\\nSkipping line 70968: expected 8 fields, saw 9\\nSkipping line 70985: expected 8 fields, saw 9\\nSkipping line 70986: expected 8 fields, saw 9\\nSkipping line 70987: expected 8 fields, saw 9\\nSkipping line 71002: expected 8 fields, saw 9\\nSkipping line 71009: expected 8 fields, saw 9\\nSkipping line 71017: expected 8 fields, saw 9\\nSkipping line 71038: expected 8 fields, saw 9\\nSkipping line 71063: expected 8 fields, saw 9\\nSkipping line 71068: expected 8 fields, saw 9\\nSkipping line 71069: expected 8 fields, saw 9\\nSkipping line 71085: expected 8 fields, saw 10\\nSkipping line 71089: expected 8 fields, saw 11\\nSkipping line 71090: expected 8 fields, saw 9\\nSkipping line 71095: expected 8 fields, saw 9\\nSkipping line 71102: expected 8 fields, saw 9\\nSkipping line 71106: expected 8 fields, saw 9\\nSkipping line 71118: expected 8 fields, saw 9\\nSkipping line 71119: expected 8 fields, saw 9\\nSkipping line 71123: expected 8 fields, saw 9\\nSkipping line 71155: expected 8 fields, saw 9\\nSkipping line 71183: expected 8 fields, saw 9\\nSkipping line 71184: expected 8 fields, saw 9\\nSkipping line 71189: expected 8 fields, saw 9\\nSkipping line 71204: expected 8 fields, saw 10\\nSkipping line 71208: expected 8 fields, saw 9\\nSkipping line 71216: expected 8 fields, saw 9\\nSkipping line 71238: expected 8 fields, saw 9\\nSkipping line 71244: expected 8 fields, saw 9\\nSkipping line 71246: expected 8 fields, saw 9\\nSkipping line 71260: expected 8 fields, saw 9\\nSkipping line 71265: expected 8 fields, saw 9\\nSkipping line 71276: expected 8 fields, saw 9\\nSkipping line 71283: expected 8 fields, saw 9\\nSkipping line 71307: expected 8 fields, saw 9\\nSkipping line 71315: expected 8 fields, saw 9\\nSkipping line 71336: expected 8 fields, saw 9\\nSkipping line 71339: expected 8 fields, saw 9\\nSkipping line 71356: expected 8 fields, saw 9\\nSkipping line 71357: expected 8 fields, saw 9\\nSkipping line 71358: expected 8 fields, saw 9\\nSkipping line 71364: expected 8 fields, saw 9\\nSkipping line 71370: expected 8 fields, saw 9\\nSkipping line 71376: expected 8 fields, saw 9\\nSkipping line 71384: expected 8 fields, saw 9\\nSkipping line 71402: expected 8 fields, saw 9\\nSkipping line 71423: expected 8 fields, saw 9\\nSkipping line 71433: expected 8 fields, saw 9\\nSkipping line 71447: expected 8 fields, saw 9\\nSkipping line 71467: expected 8 fields, saw 9\\nSkipping line 71493: expected 8 fields, saw 9\\nSkipping line 71494: expected 8 fields, saw 9\\nSkipping line 71500: expected 8 fields, saw 9\\nSkipping line 71536: expected 8 fields, saw 9\\nSkipping line 71537: expected 8 fields, saw 9\\nSkipping line 71555: expected 8 fields, saw 9\\nSkipping line 71600: expected 8 fields, saw 9\\nSkipping line 71612: expected 8 fields, saw 9\\nSkipping line 71627: expected 8 fields, saw 9\\nSkipping line 71629: expected 8 fields, saw 9\\nSkipping line 71630: expected 8 fields, saw 9\\nSkipping line 71640: expected 8 fields, saw 9\\nSkipping line 71646: expected 8 fields, saw 9\\nSkipping line 71674: expected 8 fields, saw 9\\nSkipping line 71683: expected 8 fields, saw 9\\nSkipping line 71706: expected 8 fields, saw 9\\nSkipping line 71707: expected 8 fields, saw 9\\nSkipping line 71708: expected 8 fields, saw 9\\nSkipping line 71717: expected 8 fields, saw 9\\nSkipping line 71721: expected 8 fields, saw 9\\nSkipping line 71740: expected 8 fields, saw 9\\nSkipping line 71743: expected 8 fields, saw 9\\nSkipping line 71776: expected 8 fields, saw 9\\nSkipping line 71804: expected 8 fields, saw 9\\nSkipping line 71806: expected 8 fields, saw 9\\nSkipping line 71808: expected 8 fields, saw 9\\nSkipping line 71809: expected 8 fields, saw 9\\nSkipping line 71832: expected 8 fields, saw 9\\nSkipping line 71833: expected 8 fields, saw 9\\nSkipping line 71840: expected 8 fields, saw 9\\nSkipping line 71845: expected 8 fields, saw 9\\nSkipping line 71847: expected 8 fields, saw 9\\nSkipping line 71857: expected 8 fields, saw 9\\nSkipping line 71858: expected 8 fields, saw 9\\nSkipping line 71865: expected 8 fields, saw 9\\nSkipping line 71871: expected 8 fields, saw 9\\nSkipping line 71911: expected 8 fields, saw 9\\nSkipping line 71913: expected 8 fields, saw 9\\nSkipping line 71922: expected 8 fields, saw 9\\nSkipping line 71959: expected 8 fields, saw 9\\nSkipping line 71973: expected 8 fields, saw 9\\nSkipping line 71981: expected 8 fields, saw 9\\nSkipping line 71991: expected 8 fields, saw 9\\nSkipping line 71998: expected 8 fields, saw 9\\nSkipping line 72004: expected 8 fields, saw 9\\nSkipping line 72005: expected 8 fields, saw 9\\nSkipping line 72013: expected 8 fields, saw 9\\nSkipping line 72018: expected 8 fields, saw 9\\nSkipping line 72019: expected 8 fields, saw 9\\nSkipping line 72050: expected 8 fields, saw 9\\nSkipping line 72071: expected 8 fields, saw 9\\nSkipping line 72083: expected 8 fields, saw 9\\nSkipping line 72097: expected 8 fields, saw 9\\nSkipping line 72119: expected 8 fields, saw 9\\nSkipping line 72121: expected 8 fields, saw 9\\nSkipping line 72137: expected 8 fields, saw 9\\nSkipping line 72142: expected 8 fields, saw 9\\nSkipping line 72146: expected 8 fields, saw 9\\nSkipping line 72166: expected 8 fields, saw 9\\nSkipping line 72182: expected 8 fields, saw 9\\nSkipping line 72226: expected 8 fields, saw 9\\nSkipping line 72244: expected 8 fields, saw 9\\nSkipping line 72274: expected 8 fields, saw 9\\nSkipping line 72275: expected 8 fields, saw 9\\nSkipping line 72338: expected 8 fields, saw 9\\nSkipping line 72341: expected 8 fields, saw 9\\nSkipping line 72347: expected 8 fields, saw 9\\nSkipping line 72354: expected 8 fields, saw 9\\nSkipping line 72360: expected 8 fields, saw 9\\nSkipping line 72363: expected 8 fields, saw 9\\nSkipping line 72367: expected 8 fields, saw 9\\nSkipping line 72377: expected 8 fields, saw 9\\nSkipping line 72378: expected 8 fields, saw 9\\nSkipping line 72389: expected 8 fields, saw 9\\nSkipping line 72391: expected 8 fields, saw 9\\nSkipping line 72398: expected 8 fields, saw 9\\nSkipping line 72414: expected 8 fields, saw 9\\nSkipping line 72415: expected 8 fields, saw 9\\nSkipping line 72421: expected 8 fields, saw 9\\nSkipping line 72427: expected 8 fields, saw 9\\nSkipping line 72431: expected 8 fields, saw 9\\nSkipping line 72454: expected 8 fields, saw 9\\nSkipping line 72455: expected 8 fields, saw 9\\nSkipping line 72459: expected 8 fields, saw 9\\nSkipping line 72460: expected 8 fields, saw 9\\nSkipping line 72475: expected 8 fields, saw 10\\nSkipping line 72493: expected 8 fields, saw 9\\nSkipping line 72502: expected 8 fields, saw 9\\nSkipping line 72515: expected 8 fields, saw 9\\nSkipping line 72523: expected 8 fields, saw 9\\nSkipping line 72533: expected 8 fields, saw 10\\nSkipping line 72545: expected 8 fields, saw 9\\nSkipping line 72612: expected 8 fields, saw 9\\nSkipping line 72630: expected 8 fields, saw 9\\nSkipping line 72638: expected 8 fields, saw 9\\nSkipping line 72645: expected 8 fields, saw 9\\nSkipping line 72687: expected 8 fields, saw 9\\nSkipping line 72688: expected 8 fields, saw 9\\nSkipping line 72794: expected 8 fields, saw 9\\nSkipping line 72801: expected 8 fields, saw 9\\nSkipping line 72814: expected 8 fields, saw 9\\nSkipping line 72824: expected 8 fields, saw 9\\nSkipping line 72836: expected 8 fields, saw 9\\nSkipping line 72899: expected 8 fields, saw 9\\nSkipping line 72903: expected 8 fields, saw 9\\nSkipping line 72915: expected 8 fields, saw 9\\nSkipping line 72916: expected 8 fields, saw 9\\nSkipping line 72917: expected 8 fields, saw 9\\nSkipping line 72924: expected 8 fields, saw 9\\nSkipping line 72985: expected 8 fields, saw 9\\nSkipping line 72991: expected 8 fields, saw 9\\nSkipping line 72994: expected 8 fields, saw 9\\nSkipping line 72997: expected 8 fields, saw 9\\nSkipping line 72999: expected 8 fields, saw 9\\nSkipping line 73031: expected 8 fields, saw 9\\nSkipping line 73059: expected 8 fields, saw 9\\nSkipping line 73070: expected 8 fields, saw 9\\nSkipping line 73129: expected 8 fields, saw 9\\nSkipping line 73147: expected 8 fields, saw 9\\nSkipping line 73160: expected 8 fields, saw 9\\nSkipping line 73196: expected 8 fields, saw 9\\nSkipping line 73198: expected 8 fields, saw 9\\nSkipping line 73209: expected 8 fields, saw 9\\nSkipping line 73257: expected 8 fields, saw 9\\nSkipping line 73261: expected 8 fields, saw 10\\nSkipping line 73277: expected 8 fields, saw 10\\nSkipping line 73298: expected 8 fields, saw 9\\nSkipping line 73335: expected 8 fields, saw 9\\nSkipping line 73352: expected 8 fields, saw 9\\nSkipping line 73353: expected 8 fields, saw 9\\nSkipping line 73357: expected 8 fields, saw 9\\nSkipping line 73370: expected 8 fields, saw 9\\nSkipping line 73377: expected 8 fields, saw 9\\nSkipping line 73419: expected 8 fields, saw 9\\nSkipping line 73421: expected 8 fields, saw 10\\nSkipping line 73430: expected 8 fields, saw 9\\nSkipping line 73450: expected 8 fields, saw 9\\nSkipping line 73465: expected 8 fields, saw 9\\nSkipping line 73469: expected 8 fields, saw 9\\nSkipping line 73502: expected 8 fields, saw 9\\nSkipping line 73503: expected 8 fields, saw 9\\nSkipping line 73505: expected 8 fields, saw 9\\nSkipping line 73508: expected 8 fields, saw 9\\nSkipping line 73542: expected 8 fields, saw 9\\nSkipping line 73595: expected 8 fields, saw 9\\nSkipping line 73599: expected 8 fields, saw 9\\nSkipping line 73619: expected 8 fields, saw 9\\nSkipping line 73639: expected 8 fields, saw 9\\nSkipping line 73642: expected 8 fields, saw 9\\nSkipping line 73653: expected 8 fields, saw 9\\nSkipping line 73663: expected 8 fields, saw 9\\nSkipping line 73671: expected 8 fields, saw 9\\nSkipping line 73697: expected 8 fields, saw 9\\nSkipping line 73699: expected 8 fields, saw 9\\nSkipping line 73710: expected 8 fields, saw 9\\nSkipping line 73722: expected 8 fields, saw 9\\nSkipping line 73723: expected 8 fields, saw 9\\nSkipping line 73738: expected 8 fields, saw 9\\nSkipping line 73741: expected 8 fields, saw 9\\nSkipping line 73745: expected 8 fields, saw 9\\nSkipping line 73782: expected 8 fields, saw 9\\nSkipping line 73802: expected 8 fields, saw 9\\nSkipping line 73805: expected 8 fields, saw 9\\nSkipping line 73806: expected 8 fields, saw 9\\nSkipping line 73815: expected 8 fields, saw 9\\nSkipping line 73841: expected 8 fields, saw 9\\nSkipping line 73858: expected 8 fields, saw 9\\nSkipping line 73862: expected 8 fields, saw 9\\nSkipping line 73884: expected 8 fields, saw 9\\nSkipping line 73998: expected 8 fields, saw 9\\nSkipping line 74024: expected 8 fields, saw 9\\nSkipping line 74027: expected 8 fields, saw 9\\nSkipping line 74031: expected 8 fields, saw 9\\nSkipping line 74035: expected 8 fields, saw 9\\nSkipping line 74052: expected 8 fields, saw 9\\nSkipping line 74054: expected 8 fields, saw 9\\nSkipping line 74073: expected 8 fields, saw 9\\nSkipping line 74087: expected 8 fields, saw 9\\nSkipping line 74091: expected 8 fields, saw 9\\nSkipping line 74124: expected 8 fields, saw 9\\nSkipping line 74131: expected 8 fields, saw 9\\nSkipping line 74137: expected 8 fields, saw 9\\nSkipping line 74140: expected 8 fields, saw 9\\nSkipping line 74141: expected 8 fields, saw 9\\nSkipping line 74146: expected 8 fields, saw 9\\nSkipping line 74158: expected 8 fields, saw 9\\nSkipping line 74165: expected 8 fields, saw 9\\nSkipping line 74184: expected 8 fields, saw 9\\nSkipping line 74240: expected 8 fields, saw 9\\nSkipping line 74241: expected 8 fields, saw 9\\nSkipping line 74304: expected 8 fields, saw 9\\nSkipping line 74321: expected 8 fields, saw 9\\nSkipping line 74332: expected 8 fields, saw 10\\nSkipping line 74333: expected 8 fields, saw 9\\nSkipping line 74337: expected 8 fields, saw 9\\nSkipping line 74346: expected 8 fields, saw 9\\nSkipping line 74348: expected 8 fields, saw 9\\nSkipping line 74355: expected 8 fields, saw 9\\nSkipping line 74362: expected 8 fields, saw 9\\nSkipping line 74372: expected 8 fields, saw 9\\nSkipping line 74399: expected 8 fields, saw 9\\nSkipping line 74401: expected 8 fields, saw 9\\nSkipping line 74410: expected 8 fields, saw 9\\nSkipping line 74448: expected 8 fields, saw 9\\nSkipping line 74458: expected 8 fields, saw 9\\nSkipping line 74461: expected 8 fields, saw 9\\nSkipping line 74463: expected 8 fields, saw 9\\nSkipping line 74476: expected 8 fields, saw 9\\nSkipping line 74482: expected 8 fields, saw 9\\nSkipping line 74486: expected 8 fields, saw 9\\nSkipping line 74491: expected 8 fields, saw 9\\nSkipping line 74494: expected 8 fields, saw 9\\nSkipping line 74557: expected 8 fields, saw 9\\nSkipping line 74561: expected 8 fields, saw 9\\nSkipping line 74565: expected 8 fields, saw 9\\nSkipping line 74567: expected 8 fields, saw 9\\nSkipping line 74577: expected 8 fields, saw 9\\nSkipping line 74590: expected 8 fields, saw 9\\nSkipping line 74595: expected 8 fields, saw 9\\nSkipping line 74609: expected 8 fields, saw 9\\nSkipping line 74610: expected 8 fields, saw 9\\nSkipping line 74613: expected 8 fields, saw 9\\nSkipping line 74616: expected 8 fields, saw 9\\nSkipping line 74647: expected 8 fields, saw 9\\nSkipping line 74651: expected 8 fields, saw 9\\nSkipping line 74658: expected 8 fields, saw 9\\nSkipping line 74684: expected 8 fields, saw 9\\nSkipping line 74694: expected 8 fields, saw 9\\nSkipping line 74715: expected 8 fields, saw 9\\nSkipping line 74723: expected 8 fields, saw 9\\nSkipping line 74733: expected 8 fields, saw 9\\nSkipping line 74734: expected 8 fields, saw 9\\nSkipping line 74744: expected 8 fields, saw 9\\nSkipping line 74750: expected 8 fields, saw 9\\nSkipping line 74758: expected 8 fields, saw 9\\nSkipping line 74782: expected 8 fields, saw 9\\nSkipping line 74812: expected 8 fields, saw 9\\nSkipping line 74846: expected 8 fields, saw 9\\nSkipping line 74893: expected 8 fields, saw 9\\nSkipping line 74895: expected 8 fields, saw 10\\nSkipping line 74903: expected 8 fields, saw 9\\nSkipping line 74923: expected 8 fields, saw 9\\nSkipping line 74959: expected 8 fields, saw 9\\nSkipping line 74965: expected 8 fields, saw 9\\nSkipping line 74971: expected 8 fields, saw 9\\nSkipping line 75018: expected 8 fields, saw 9\\nSkipping line 75034: expected 8 fields, saw 9\\nSkipping line 75061: expected 8 fields, saw 9\\nSkipping line 75087: expected 8 fields, saw 9\\nSkipping line 75123: expected 8 fields, saw 9\\nSkipping line 75154: expected 8 fields, saw 9\\nSkipping line 75156: expected 8 fields, saw 9\\nSkipping line 75167: expected 8 fields, saw 9\\nSkipping line 75170: expected 8 fields, saw 10\\nSkipping line 75177: expected 8 fields, saw 9\\nSkipping line 75178: expected 8 fields, saw 9\\nSkipping line 75207: expected 8 fields, saw 9\\nSkipping line 75221: expected 8 fields, saw 9\\nSkipping line 75231: expected 8 fields, saw 9\\nSkipping line 75233: expected 8 fields, saw 9\\nSkipping line 75248: expected 8 fields, saw 9\\nSkipping line 75258: expected 8 fields, saw 9\\nSkipping line 75268: expected 8 fields, saw 9\\nSkipping line 75285: expected 8 fields, saw 9\\nSkipping line 75294: expected 8 fields, saw 9\\nSkipping line 75316: expected 8 fields, saw 9\\nSkipping line 75331: expected 8 fields, saw 9\\nSkipping line 75351: expected 8 fields, saw 9\\nSkipping line 75371: expected 8 fields, saw 9\\nSkipping line 75379: expected 8 fields, saw 9\\nSkipping line 75390: expected 8 fields, saw 9\\nSkipping line 75392: expected 8 fields, saw 9\\nSkipping line 75397: expected 8 fields, saw 9\\nSkipping line 75401: expected 8 fields, saw 9\\nSkipping line 75421: expected 8 fields, saw 9\\nSkipping line 75422: expected 8 fields, saw 9\\nSkipping line 75427: expected 8 fields, saw 9\\nSkipping line 75429: expected 8 fields, saw 9\\nSkipping line 75430: expected 8 fields, saw 9\\nSkipping line 75433: expected 8 fields, saw 9\\nSkipping line 75435: expected 8 fields, saw 9\\nSkipping line 75436: expected 8 fields, saw 9\\nSkipping line 75444: expected 8 fields, saw 9\\nSkipping line 75452: expected 8 fields, saw 9\\nSkipping line 75456: expected 8 fields, saw 9\\nSkipping line 75485: expected 8 fields, saw 9\\nSkipping line 75491: expected 8 fields, saw 9\\nSkipping line 75499: expected 8 fields, saw 9\\nSkipping line 75500: expected 8 fields, saw 9\\nSkipping line 75530: expected 8 fields, saw 9\\nSkipping line 75535: expected 8 fields, saw 9\\nSkipping line 75545: expected 8 fields, saw 9\\nSkipping line 75574: expected 8 fields, saw 9\\nSkipping line 75583: expected 8 fields, saw 9\\nSkipping line 75595: expected 8 fields, saw 9\\nSkipping line 75622: expected 8 fields, saw 9\\nSkipping line 75627: expected 8 fields, saw 9\\nSkipping line 75630: expected 8 fields, saw 9\\nSkipping line 75649: expected 8 fields, saw 9\\nSkipping line 75665: expected 8 fields, saw 9\\nSkipping line 75712: expected 8 fields, saw 9\\nSkipping line 75817: expected 8 fields, saw 9\\nSkipping line 75839: expected 8 fields, saw 9\\nSkipping line 75932: expected 8 fields, saw 9\\nSkipping line 75935: expected 8 fields, saw 9\\nSkipping line 75976: expected 8 fields, saw 9\\nSkipping line 75979: expected 8 fields, saw 9\\nSkipping line 76001: expected 8 fields, saw 9\\nSkipping line 76036: expected 8 fields, saw 9\\nSkipping line 76073: expected 8 fields, saw 9\\nSkipping line 76156: expected 8 fields, saw 9\\nSkipping line 76285: expected 8 fields, saw 9\\nSkipping line 76299: expected 8 fields, saw 9\\nSkipping line 76340: expected 8 fields, saw 9\\nSkipping line 76360: expected 8 fields, saw 9\\nSkipping line 76376: expected 8 fields, saw 9\\nSkipping line 76394: expected 8 fields, saw 10\\nSkipping line 76405: expected 8 fields, saw 9\\nSkipping line 76425: expected 8 fields, saw 9\\nSkipping line 76433: expected 8 fields, saw 9\\nSkipping line 76437: expected 8 fields, saw 9\\nSkipping line 76446: expected 8 fields, saw 9\\nSkipping line 76480: expected 8 fields, saw 9\\nSkipping line 76497: expected 8 fields, saw 9\\nSkipping line 76511: expected 8 fields, saw 9\\nSkipping line 76519: expected 8 fields, saw 9\\nSkipping line 76520: expected 8 fields, saw 9\\nSkipping line 76522: expected 8 fields, saw 9\\nSkipping line 76523: expected 8 fields, saw 9\\nSkipping line 76524: expected 8 fields, saw 9\\nSkipping line 76525: expected 8 fields, saw 9\\nSkipping line 76528: expected 8 fields, saw 9\\nSkipping line 76529: expected 8 fields, saw 9\\nSkipping line 76530: expected 8 fields, saw 9\\nSkipping line 76531: expected 8 fields, saw 9\\nSkipping line 76603: expected 8 fields, saw 9\\nSkipping line 76608: expected 8 fields, saw 10\\nSkipping line 76625: expected 8 fields, saw 9\\nSkipping line 76639: expected 8 fields, saw 9\\nSkipping line 76675: expected 8 fields, saw 9\\nSkipping line 76695: expected 8 fields, saw 9\\nSkipping line 76705: expected 8 fields, saw 9\\nSkipping line 76706: expected 8 fields, saw 9\\nSkipping line 76712: expected 8 fields, saw 9\\nSkipping line 76722: expected 8 fields, saw 9\\nSkipping line 76725: expected 8 fields, saw 11\\nSkipping line 76726: expected 8 fields, saw 9\\nSkipping line 76731: expected 8 fields, saw 9\\nSkipping line 76733: expected 8 fields, saw 9\\nSkipping line 76743: expected 8 fields, saw 9\\nSkipping line 76749: expected 8 fields, saw 9\\nSkipping line 76750: expected 8 fields, saw 9\\nSkipping line 76754: expected 8 fields, saw 9\\nSkipping line 76766: expected 8 fields, saw 9\\nSkipping line 76811: expected 8 fields, saw 9\\nSkipping line 76812: expected 8 fields, saw 9\\nSkipping line 76827: expected 8 fields, saw 9\\nSkipping line 76832: expected 8 fields, saw 9\\nSkipping line 76838: expected 8 fields, saw 9\\nSkipping line 76842: expected 8 fields, saw 9\\nSkipping line 76850: expected 8 fields, saw 9\\nSkipping line 76879: expected 8 fields, saw 9\\nSkipping line 76896: expected 8 fields, saw 9\\nSkipping line 76911: expected 8 fields, saw 9\\nSkipping line 76914: expected 8 fields, saw 9\\nSkipping line 76923: expected 8 fields, saw 9\\nSkipping line 76929: expected 8 fields, saw 9\\nSkipping line 76944: expected 8 fields, saw 9\\nSkipping line 77000: expected 8 fields, saw 9\\nSkipping line 77030: expected 8 fields, saw 9\\nSkipping line 77045: expected 8 fields, saw 9\\nSkipping line 77053: expected 8 fields, saw 9\\nSkipping line 77110: expected 8 fields, saw 9\\nSkipping line 77114: expected 8 fields, saw 9\\nSkipping line 77138: expected 8 fields, saw 9\\nSkipping line 77194: expected 8 fields, saw 9\\nSkipping line 77202: expected 8 fields, saw 9\\nSkipping line 77212: expected 8 fields, saw 9\\nSkipping line 77227: expected 8 fields, saw 9\\nSkipping line 77232: expected 8 fields, saw 9\\nSkipping line 77236: expected 8 fields, saw 9\\nSkipping line 77278: expected 8 fields, saw 9\\nSkipping line 77281: expected 8 fields, saw 9\\nSkipping line 77330: expected 8 fields, saw 9\\nSkipping line 77334: expected 8 fields, saw 9\\nSkipping line 77360: expected 8 fields, saw 9\\nSkipping line 77363: expected 8 fields, saw 9\\nSkipping line 77371: expected 8 fields, saw 9\\nSkipping line 77377: expected 8 fields, saw 9\\nSkipping line 77416: expected 8 fields, saw 9\\nSkipping line 77420: expected 8 fields, saw 9\\nSkipping line 77443: expected 8 fields, saw 10\\nSkipping line 77444: expected 8 fields, saw 10\\nSkipping line 77445: expected 8 fields, saw 11\\nSkipping line 77447: expected 8 fields, saw 10\\nSkipping line 77492: expected 8 fields, saw 9\\nSkipping line 77494: expected 8 fields, saw 9\\nSkipping line 77495: expected 8 fields, saw 9\\nSkipping line 77496: expected 8 fields, saw 9\\nSkipping line 77499: expected 8 fields, saw 9\\nSkipping line 77546: expected 8 fields, saw 9\\nSkipping line 77572: expected 8 fields, saw 9\\nSkipping line 77591: expected 8 fields, saw 9\\nSkipping line 77653: expected 8 fields, saw 9\\nSkipping line 77659: expected 8 fields, saw 9\\nSkipping line 77698: expected 8 fields, saw 9\\nSkipping line 77729: expected 8 fields, saw 9\\nSkipping line 77746: expected 8 fields, saw 9\\nSkipping line 77751: expected 8 fields, saw 9\\nSkipping line 77757: expected 8 fields, saw 9\\nSkipping line 77764: expected 8 fields, saw 9\\nSkipping line 77769: expected 8 fields, saw 9\\nSkipping line 77801: expected 8 fields, saw 9\\nSkipping line 77812: expected 8 fields, saw 9\\nSkipping line 77817: expected 8 fields, saw 9\\nSkipping line 77831: expected 8 fields, saw 9\\nSkipping line 77835: expected 8 fields, saw 9\\nSkipping line 77838: expected 8 fields, saw 10\\nSkipping line 77846: expected 8 fields, saw 9\\nSkipping line 77855: expected 8 fields, saw 9\\nSkipping line 77856: expected 8 fields, saw 9\\nSkipping line 77887: expected 8 fields, saw 9\\nSkipping line 77901: expected 8 fields, saw 9\\nSkipping line 77907: expected 8 fields, saw 9\\nSkipping line 77914: expected 8 fields, saw 9\\nSkipping line 77917: expected 8 fields, saw 9\\nSkipping line 77934: expected 8 fields, saw 9\\nSkipping line 77948: expected 8 fields, saw 9\\nSkipping line 77981: expected 8 fields, saw 9\\nSkipping line 77983: expected 8 fields, saw 9\\nSkipping line 78004: expected 8 fields, saw 9\\nSkipping line 78007: expected 8 fields, saw 9\\nSkipping line 78035: expected 8 fields, saw 9\\nSkipping line 78047: expected 8 fields, saw 9\\nSkipping line 78092: expected 8 fields, saw 9\\nSkipping line 78102: expected 8 fields, saw 9\\nSkipping line 78103: expected 8 fields, saw 9\\nSkipping line 78114: expected 8 fields, saw 9\\nSkipping line 78134: expected 8 fields, saw 9\\nSkipping line 78143: expected 8 fields, saw 9\\nSkipping line 78182: expected 8 fields, saw 9\\nSkipping line 78194: expected 8 fields, saw 9\\nSkipping line 78195: expected 8 fields, saw 9\\nSkipping line 78217: expected 8 fields, saw 9\\nSkipping line 78248: expected 8 fields, saw 9\\nSkipping line 78266: expected 8 fields, saw 9\\nSkipping line 78282: expected 8 fields, saw 9\\nSkipping line 78307: expected 8 fields, saw 9\\nSkipping line 78329: expected 8 fields, saw 9\\nSkipping line 78338: expected 8 fields, saw 9\\nSkipping line 78342: expected 8 fields, saw 9\\nSkipping line 78352: expected 8 fields, saw 9\\nSkipping line 78358: expected 8 fields, saw 9\\nSkipping line 78381: expected 8 fields, saw 9\\nSkipping line 78382: expected 8 fields, saw 9\\nSkipping line 78383: expected 8 fields, saw 9\\nSkipping line 78393: expected 8 fields, saw 9\\nSkipping line 78414: expected 8 fields, saw 9\\nSkipping line 78437: expected 8 fields, saw 9\\nSkipping line 78457: expected 8 fields, saw 9\\nSkipping line 78488: expected 8 fields, saw 9\\nSkipping line 78497: expected 8 fields, saw 10\\nSkipping line 78524: expected 8 fields, saw 9\\nSkipping line 78528: expected 8 fields, saw 9\\nSkipping line 78532: expected 8 fields, saw 10\\nSkipping line 78550: expected 8 fields, saw 9\\nSkipping line 78566: expected 8 fields, saw 9\\nSkipping line 78575: expected 8 fields, saw 9\\nSkipping line 78582: expected 8 fields, saw 9\\nSkipping line 78585: expected 8 fields, saw 9\\nSkipping line 78588: expected 8 fields, saw 9\\nSkipping line 78605: expected 8 fields, saw 10\\nSkipping line 78619: expected 8 fields, saw 9\\nSkipping line 78633: expected 8 fields, saw 9\\nSkipping line 78645: expected 8 fields, saw 9\\nSkipping line 78648: expected 8 fields, saw 9\\nSkipping line 78652: expected 8 fields, saw 9\\nSkipping line 78659: expected 8 fields, saw 9\\nSkipping line 78676: expected 8 fields, saw 9\\nSkipping line 78681: expected 8 fields, saw 9\\nSkipping line 78716: expected 8 fields, saw 10\\nSkipping line 78735: expected 8 fields, saw 9\\nSkipping line 78750: expected 8 fields, saw 9\\nSkipping line 78770: expected 8 fields, saw 9\\nSkipping line 78793: expected 8 fields, saw 9\\nSkipping line 78800: expected 8 fields, saw 9\\nSkipping line 78806: expected 8 fields, saw 9\\nSkipping line 78807: expected 8 fields, saw 9\\nSkipping line 78810: expected 8 fields, saw 9\\nSkipping line 78820: expected 8 fields, saw 9\\nSkipping line 78841: expected 8 fields, saw 9\\nSkipping line 78844: expected 8 fields, saw 10\\nSkipping line 78878: expected 8 fields, saw 9\\nSkipping line 78914: expected 8 fields, saw 9\\nSkipping line 78917: expected 8 fields, saw 9\\nSkipping line 78934: expected 8 fields, saw 9\\nSkipping line 78938: expected 8 fields, saw 9\\nSkipping line 78940: expected 8 fields, saw 9\\nSkipping line 78975: expected 8 fields, saw 9\\nSkipping line 78977: expected 8 fields, saw 9\\nSkipping line 78982: expected 8 fields, saw 9\\nSkipping line 78991: expected 8 fields, saw 9\\nSkipping line 79003: expected 8 fields, saw 9\\nSkipping line 79011: expected 8 fields, saw 9\\nSkipping line 79018: expected 8 fields, saw 9\\nSkipping line 79056: expected 8 fields, saw 9\\nSkipping line 79060: expected 8 fields, saw 9\\nSkipping line 79088: expected 8 fields, saw 9\\nSkipping line 79089: expected 8 fields, saw 9\\nSkipping line 79095: expected 8 fields, saw 9\\nSkipping line 79125: expected 8 fields, saw 9\\nSkipping line 79146: expected 8 fields, saw 9\\nSkipping line 79150: expected 8 fields, saw 9\\nSkipping line 79156: expected 8 fields, saw 10\\nSkipping line 79160: expected 8 fields, saw 9\\nSkipping line 79177: expected 8 fields, saw 9\\nSkipping line 79178: expected 8 fields, saw 9\\nSkipping line 79179: expected 8 fields, saw 9\\nSkipping line 79187: expected 8 fields, saw 9\\nSkipping line 79189: expected 8 fields, saw 9\\nSkipping line 79191: expected 8 fields, saw 9\\nSkipping line 79227: expected 8 fields, saw 9\\nSkipping line 79248: expected 8 fields, saw 9\\nSkipping line 79261: expected 8 fields, saw 9\\nSkipping line 79314: expected 8 fields, saw 9\\nSkipping line 79336: expected 8 fields, saw 9\\nSkipping line 79353: expected 8 fields, saw 9\\nSkipping line 79392: expected 8 fields, saw 9\\nSkipping line 79433: expected 8 fields, saw 10\\nSkipping line 79435: expected 8 fields, saw 9\\nSkipping line 79470: expected 8 fields, saw 9\\nSkipping line 79472: expected 8 fields, saw 9\\nSkipping line 79494: expected 8 fields, saw 9\\nSkipping line 79503: expected 8 fields, saw 9\\nSkipping line 79504: expected 8 fields, saw 9\\nSkipping line 79505: expected 8 fields, saw 9\\nSkipping line 79508: expected 8 fields, saw 9\\nSkipping line 79523: expected 8 fields, saw 9\\nSkipping line 79545: expected 8 fields, saw 9\\nSkipping line 79548: expected 8 fields, saw 9\\nSkipping line 79567: expected 8 fields, saw 9\\nSkipping line 79573: expected 8 fields, saw 9\\nSkipping line 79584: expected 8 fields, saw 9\\nSkipping line 79585: expected 8 fields, saw 9\\nSkipping line 79600: expected 8 fields, saw 9\\nSkipping line 79623: expected 8 fields, saw 9\\nSkipping line 79629: expected 8 fields, saw 9\\nSkipping line 79630: expected 8 fields, saw 9\\nSkipping line 79646: expected 8 fields, saw 9\\nSkipping line 79722: expected 8 fields, saw 9\\nSkipping line 79726: expected 8 fields, saw 9\\nSkipping line 79744: expected 8 fields, saw 9\\nSkipping line 79746: expected 8 fields, saw 9\\nSkipping line 79775: expected 8 fields, saw 9\\nSkipping line 79781: expected 8 fields, saw 9\\nSkipping line 79815: expected 8 fields, saw 9\\nSkipping line 79821: expected 8 fields, saw 9\\nSkipping line 79849: expected 8 fields, saw 9\\nSkipping line 79899: expected 8 fields, saw 9\\nSkipping line 79907: expected 8 fields, saw 9\\nSkipping line 79910: expected 8 fields, saw 10\\nSkipping line 79941: expected 8 fields, saw 9\\nSkipping line 79995: expected 8 fields, saw 9\\nSkipping line 79997: expected 8 fields, saw 9\\nSkipping line 79998: expected 8 fields, saw 9\\nSkipping line 80000: expected 8 fields, saw 9\\nSkipping line 80042: expected 8 fields, saw 9\\nSkipping line 80087: expected 8 fields, saw 9\\nSkipping line 80093: expected 8 fields, saw 9\\nSkipping line 80102: expected 8 fields, saw 11\\nSkipping line 80120: expected 8 fields, saw 9\\nSkipping line 80132: expected 8 fields, saw 9\\nSkipping line 80148: expected 8 fields, saw 9\\nSkipping line 80151: expected 8 fields, saw 9\\nSkipping line 80157: expected 8 fields, saw 9\\nSkipping line 80168: expected 8 fields, saw 9\\nSkipping line 80181: expected 8 fields, saw 9\\nSkipping line 80199: expected 8 fields, saw 9\\nSkipping line 80208: expected 8 fields, saw 9\\nSkipping line 80213: expected 8 fields, saw 9\\nSkipping line 80222: expected 8 fields, saw 9\\nSkipping line 80241: expected 8 fields, saw 9\\nSkipping line 80245: expected 8 fields, saw 9\\nSkipping line 80255: expected 8 fields, saw 9\\nSkipping line 80264: expected 8 fields, saw 10\\nSkipping line 80282: expected 8 fields, saw 9\\nSkipping line 80286: expected 8 fields, saw 9\\nSkipping line 80293: expected 8 fields, saw 9\\nSkipping line 80310: expected 8 fields, saw 9\\nSkipping line 80354: expected 8 fields, saw 9\\nSkipping line 80380: expected 8 fields, saw 9\\nSkipping line 80427: expected 8 fields, saw 9\\nSkipping line 80429: expected 8 fields, saw 9\\nSkipping line 80439: expected 8 fields, saw 9\\nSkipping line 80440: expected 8 fields, saw 9\\nSkipping line 80454: expected 8 fields, saw 9\\nSkipping line 80479: expected 8 fields, saw 9\\nSkipping line 80494: expected 8 fields, saw 9\\nSkipping line 80496: expected 8 fields, saw 9\\nSkipping line 80511: expected 8 fields, saw 9\\nSkipping line 80512: expected 8 fields, saw 9\\nSkipping line 80515: expected 8 fields, saw 9\\nSkipping line 80528: expected 8 fields, saw 9\\nSkipping line 80541: expected 8 fields, saw 9\\nSkipping line 80555: expected 8 fields, saw 9\\nSkipping line 80586: expected 8 fields, saw 9\\nSkipping line 80588: expected 8 fields, saw 9\\nSkipping line 80616: expected 8 fields, saw 9\\nSkipping line 80621: expected 8 fields, saw 9\\nSkipping line 80628: expected 8 fields, saw 9\\nSkipping line 80630: expected 8 fields, saw 9\\nSkipping line 80639: expected 8 fields, saw 9\\nSkipping line 80661: expected 8 fields, saw 9\\nSkipping line 80689: expected 8 fields, saw 9\\nSkipping line 80690: expected 8 fields, saw 9\\nSkipping line 80703: expected 8 fields, saw 9\\nSkipping line 80711: expected 8 fields, saw 9\\nSkipping line 80718: expected 8 fields, saw 9\\nSkipping line 80719: expected 8 fields, saw 9\\nSkipping line 80739: expected 8 fields, saw 9\\nSkipping line 80767: expected 8 fields, saw 9\\nSkipping line 80768: expected 8 fields, saw 9\\nSkipping line 80773: expected 8 fields, saw 9\\nSkipping line 80774: expected 8 fields, saw 9\\nSkipping line 80786: expected 8 fields, saw 9\\nSkipping line 80787: expected 8 fields, saw 9\\nSkipping line 80809: expected 8 fields, saw 10\\nSkipping line 80815: expected 8 fields, saw 9\\nSkipping line 80830: expected 8 fields, saw 9\\nSkipping line 80831: expected 8 fields, saw 9\\nSkipping line 80834: expected 8 fields, saw 9\\nSkipping line 80835: expected 8 fields, saw 9\\nSkipping line 80836: expected 8 fields, saw 9\\nSkipping line 80852: expected 8 fields, saw 9\\nSkipping line 80900: expected 8 fields, saw 9\\nSkipping line 80916: expected 8 fields, saw 9\\nSkipping line 80938: expected 8 fields, saw 9\\nSkipping line 80942: expected 8 fields, saw 9\\nSkipping line 80973: expected 8 fields, saw 9\\nSkipping line 80976: expected 8 fields, saw 9\\nSkipping line 80978: expected 8 fields, saw 9\\nSkipping line 80984: expected 8 fields, saw 9\\nSkipping line 80988: expected 8 fields, saw 9\\nSkipping line 81038: expected 8 fields, saw 9\\nSkipping line 81053: expected 8 fields, saw 9\\nSkipping line 81061: expected 8 fields, saw 9\\nSkipping line 81077: expected 8 fields, saw 9\\nSkipping line 81095: expected 8 fields, saw 9\\nSkipping line 81099: expected 8 fields, saw 9\\nSkipping line 81110: expected 8 fields, saw 9\\nSkipping line 81119: expected 8 fields, saw 9\\nSkipping line 81125: expected 8 fields, saw 9\\nSkipping line 81127: expected 8 fields, saw 9\\nSkipping line 81133: expected 8 fields, saw 9\\nSkipping line 81163: expected 8 fields, saw 9\\nSkipping line 81164: expected 8 fields, saw 9\\nSkipping line 81165: expected 8 fields, saw 9\\nSkipping line 81223: expected 8 fields, saw 9\\nSkipping line 81231: expected 8 fields, saw 9\\nSkipping line 81246: expected 8 fields, saw 9\\nSkipping line 81259: expected 8 fields, saw 9\\nSkipping line 81261: expected 8 fields, saw 9\\nSkipping line 81271: expected 8 fields, saw 9\\nSkipping line 81283: expected 8 fields, saw 9\\nSkipping line 81293: expected 8 fields, saw 9\\nSkipping line 81300: expected 8 fields, saw 9\\nSkipping line 81320: expected 8 fields, saw 9\\nSkipping line 81330: expected 8 fields, saw 12\\nSkipping line 81342: expected 8 fields, saw 9\\nSkipping line 81345: expected 8 fields, saw 9\\nSkipping line 81357: expected 8 fields, saw 9\\nSkipping line 81365: expected 8 fields, saw 9\\nSkipping line 81370: expected 8 fields, saw 9\\nSkipping line 81384: expected 8 fields, saw 9\\nSkipping line 81392: expected 8 fields, saw 9\\nSkipping line 81394: expected 8 fields, saw 9\\nSkipping line 81407: expected 8 fields, saw 10\\nSkipping line 81415: expected 8 fields, saw 10\\nSkipping line 81431: expected 8 fields, saw 9\\nSkipping line 81441: expected 8 fields, saw 9\\nSkipping line 81475: expected 8 fields, saw 9\\nSkipping line 81569: expected 8 fields, saw 9\\nSkipping line 81651: expected 8 fields, saw 9\\nSkipping line 81655: expected 8 fields, saw 9\\nSkipping line 81673: expected 8 fields, saw 9\\nSkipping line 81680: expected 8 fields, saw 9\\nSkipping line 81685: expected 8 fields, saw 9\\nSkipping line 81689: expected 8 fields, saw 9\\nSkipping line 81703: expected 8 fields, saw 9\\nSkipping line 81704: expected 8 fields, saw 9\\nSkipping line 81715: expected 8 fields, saw 9\\nSkipping line 81749: expected 8 fields, saw 9\\nSkipping line 81779: expected 8 fields, saw 9\\nSkipping line 81815: expected 8 fields, saw 9\\nSkipping line 81826: expected 8 fields, saw 9\\nSkipping line 81833: expected 8 fields, saw 10\\nSkipping line 81853: expected 8 fields, saw 9\\nSkipping line 81860: expected 8 fields, saw 9\\nSkipping line 81865: expected 8 fields, saw 9\\nSkipping line 81886: expected 8 fields, saw 9\\nSkipping line 81887: expected 8 fields, saw 9\\nSkipping line 81892: expected 8 fields, saw 9\\nSkipping line 81912: expected 8 fields, saw 9\\nSkipping line 81945: expected 8 fields, saw 9\\nSkipping line 81946: expected 8 fields, saw 9\\nSkipping line 81961: expected 8 fields, saw 9\\nSkipping line 81967: expected 8 fields, saw 9\\nSkipping line 81972: expected 8 fields, saw 9\\nSkipping line 81992: expected 8 fields, saw 9\\nSkipping line 81994: expected 8 fields, saw 9\\nSkipping line 81996: expected 8 fields, saw 10\\nSkipping line 82003: expected 8 fields, saw 9\\nSkipping line 82064: expected 8 fields, saw 9\\nSkipping line 82066: expected 8 fields, saw 9\\nSkipping line 82087: expected 8 fields, saw 9\\nSkipping line 82090: expected 8 fields, saw 9\\nSkipping line 82123: expected 8 fields, saw 9\\nSkipping line 82134: expected 8 fields, saw 9\\nSkipping line 82167: expected 8 fields, saw 9\\nSkipping line 82185: expected 8 fields, saw 9\\nSkipping line 82197: expected 8 fields, saw 9\\nSkipping line 82252: expected 8 fields, saw 9\\nSkipping line 82263: expected 8 fields, saw 9\\nSkipping line 82270: expected 8 fields, saw 9\\nSkipping line 82275: expected 8 fields, saw 9\\nSkipping line 82294: expected 8 fields, saw 9\\nSkipping line 82299: expected 8 fields, saw 9\\nSkipping line 82310: expected 8 fields, saw 9\\nSkipping line 82325: expected 8 fields, saw 9\\nSkipping line 82334: expected 8 fields, saw 9\\nSkipping line 82339: expected 8 fields, saw 9\\nSkipping line 82342: expected 8 fields, saw 9\\nSkipping line 82349: expected 8 fields, saw 9\\nSkipping line 82356: expected 8 fields, saw 9\\nSkipping line 82376: expected 8 fields, saw 9\\nSkipping line 82387: expected 8 fields, saw 9\\nSkipping line 82411: expected 8 fields, saw 9\\nSkipping line 82422: expected 8 fields, saw 9\\nSkipping line 82459: expected 8 fields, saw 9\\nSkipping line 82460: expected 8 fields, saw 9\\nSkipping line 82474: expected 8 fields, saw 9\\nSkipping line 82483: expected 8 fields, saw 9\\nSkipping line 82487: expected 8 fields, saw 9\\nSkipping line 82491: expected 8 fields, saw 9\\nSkipping line 82497: expected 8 fields, saw 9\\nSkipping line 82505: expected 8 fields, saw 9\\nSkipping line 82511: expected 8 fields, saw 9\\nSkipping line 82541: expected 8 fields, saw 9\\nSkipping line 82545: expected 8 fields, saw 9\\nSkipping line 82565: expected 8 fields, saw 9\\nSkipping line 82567: expected 8 fields, saw 9\\nSkipping line 82570: expected 8 fields, saw 9\\nSkipping line 82573: expected 8 fields, saw 9\\nSkipping line 82587: expected 8 fields, saw 9\\nSkipping line 82617: expected 8 fields, saw 9\\nSkipping line 82623: expected 8 fields, saw 9\\nSkipping line 82638: expected 8 fields, saw 9\\nSkipping line 82643: expected 8 fields, saw 9\\nSkipping line 82653: expected 8 fields, saw 9\\nSkipping line 82656: expected 8 fields, saw 9\\nSkipping line 82661: expected 8 fields, saw 9\\nSkipping line 82673: expected 8 fields, saw 9\\nSkipping line 82679: expected 8 fields, saw 9\\nSkipping line 82724: expected 8 fields, saw 9\\nSkipping line 82730: expected 8 fields, saw 10\\nSkipping line 82764: expected 8 fields, saw 9\\nSkipping line 82774: expected 8 fields, saw 9\\nSkipping line 82787: expected 8 fields, saw 9\\nSkipping line 82793: expected 8 fields, saw 9\\nSkipping line 82800: expected 8 fields, saw 9\\nSkipping line 82802: expected 8 fields, saw 9\\nSkipping line 82803: expected 8 fields, saw 9\\nSkipping line 82813: expected 8 fields, saw 9\\nSkipping line 82814: expected 8 fields, saw 9\\nSkipping line 82824: expected 8 fields, saw 9\\nSkipping line 82827: expected 8 fields, saw 9\\nSkipping line 82828: expected 8 fields, saw 9\\nSkipping line 82832: expected 8 fields, saw 9\\nSkipping line 82836: expected 8 fields, saw 9\\nSkipping line 82866: expected 8 fields, saw 10\\nSkipping line 82877: expected 8 fields, saw 9\\nSkipping line 82969: expected 8 fields, saw 9\\nSkipping line 83069: expected 8 fields, saw 9\\nSkipping line 83087: expected 8 fields, saw 9\\nSkipping line 83091: expected 8 fields, saw 9\\nSkipping line 83104: expected 8 fields, saw 9\\nSkipping line 83141: expected 8 fields, saw 9\\nSkipping line 83144: expected 8 fields, saw 9\\nSkipping line 83161: expected 8 fields, saw 9\\nSkipping line 83163: expected 8 fields, saw 9\\nSkipping line 83179: expected 8 fields, saw 9\\nSkipping line 83188: expected 8 fields, saw 9\\nSkipping line 83246: expected 8 fields, saw 9\\nSkipping line 83266: expected 8 fields, saw 9\\nSkipping line 83271: expected 8 fields, saw 9\\nSkipping line 83279: expected 8 fields, saw 9\\nSkipping line 83280: expected 8 fields, saw 9\\nSkipping line 83295: expected 8 fields, saw 9\\nSkipping line 83299: expected 8 fields, saw 9\\nSkipping line 83305: expected 8 fields, saw 9\\nSkipping line 83312: expected 8 fields, saw 10\\nSkipping line 83314: expected 8 fields, saw 9\\nSkipping line 83319: expected 8 fields, saw 9\\nSkipping line 83324: expected 8 fields, saw 9\\nSkipping line 83327: expected 8 fields, saw 9\\nSkipping line 83346: expected 8 fields, saw 9\\nSkipping line 83360: expected 8 fields, saw 9\\nSkipping line 83381: expected 8 fields, saw 9\\nSkipping line 83393: expected 8 fields, saw 9\\nSkipping line 83408: expected 8 fields, saw 9\\nSkipping line 83409: expected 8 fields, saw 9\\nSkipping line 83410: expected 8 fields, saw 9\\nSkipping line 83448: expected 8 fields, saw 9\\nSkipping line 83450: expected 8 fields, saw 10\\nSkipping line 83454: expected 8 fields, saw 9\\nSkipping line 83472: expected 8 fields, saw 9\\nSkipping line 83494: expected 8 fields, saw 9\\nSkipping line 83514: expected 8 fields, saw 10\\nSkipping line 83527: expected 8 fields, saw 9\\nSkipping line 83535: expected 8 fields, saw 9\\nSkipping line 83536: expected 8 fields, saw 9\\nSkipping line 83538: expected 8 fields, saw 9\\nSkipping line 83539: expected 8 fields, saw 9\\nSkipping line 83543: expected 8 fields, saw 9\\nSkipping line 83561: expected 8 fields, saw 9\\nSkipping line 83570: expected 8 fields, saw 9\\nSkipping line 83573: expected 8 fields, saw 9\\nSkipping line 83598: expected 8 fields, saw 9\\nSkipping line 83607: expected 8 fields, saw 9\\nSkipping line 83651: expected 8 fields, saw 9\\nSkipping line 83666: expected 8 fields, saw 9\\nSkipping line 83674: expected 8 fields, saw 9\\nSkipping line 83675: expected 8 fields, saw 9\\nSkipping line 83690: expected 8 fields, saw 9\\nSkipping line 83699: expected 8 fields, saw 9\\nSkipping line 83709: expected 8 fields, saw 9\\nSkipping line 83741: expected 8 fields, saw 9\\nSkipping line 83745: expected 8 fields, saw 9\\nSkipping line 83755: expected 8 fields, saw 9\\nSkipping line 83789: expected 8 fields, saw 9\\nSkipping line 83799: expected 8 fields, saw 9\\nSkipping line 83812: expected 8 fields, saw 9\\nSkipping line 83813: expected 8 fields, saw 9\\nSkipping line 83815: expected 8 fields, saw 9\\nSkipping line 83816: expected 8 fields, saw 9\\nSkipping line 83822: expected 8 fields, saw 9\\nSkipping line 83858: expected 8 fields, saw 9\\nSkipping line 83861: expected 8 fields, saw 9\\nSkipping line 83871: expected 8 fields, saw 9\\nSkipping line 83876: expected 8 fields, saw 9\\nSkipping line 83882: expected 8 fields, saw 9\\nSkipping line 83895: expected 8 fields, saw 9\\nSkipping line 83901: expected 8 fields, saw 9\\nSkipping line 83902: expected 8 fields, saw 9\\nSkipping line 83921: expected 8 fields, saw 9\\nSkipping line 83954: expected 8 fields, saw 9\\nSkipping line 83970: expected 8 fields, saw 9\\nSkipping line 83971: expected 8 fields, saw 9\\nSkipping line 83972: expected 8 fields, saw 9\\nSkipping line 83976: expected 8 fields, saw 9\\nSkipping line 83980: expected 8 fields, saw 10\\nSkipping line 84000: expected 8 fields, saw 9\\nSkipping line 84004: expected 8 fields, saw 9\\nSkipping line 84013: expected 8 fields, saw 9\\nSkipping line 84016: expected 8 fields, saw 9\\nSkipping line 84026: expected 8 fields, saw 9\\nSkipping line 84037: expected 8 fields, saw 9\\nSkipping line 84042: expected 8 fields, saw 10\\nSkipping line 84057: expected 8 fields, saw 9\\nSkipping line 84069: expected 8 fields, saw 9\\nSkipping line 84070: expected 8 fields, saw 9\\nSkipping line 84077: expected 8 fields, saw 9\\nSkipping line 84080: expected 8 fields, saw 9\\nSkipping line 84081: expected 8 fields, saw 9\\nSkipping line 84113: expected 8 fields, saw 9\\nSkipping line 84114: expected 8 fields, saw 9\\nSkipping line 84115: expected 8 fields, saw 9\\nSkipping line 84116: expected 8 fields, saw 9\\nSkipping line 84131: expected 8 fields, saw 9\\nSkipping line 84134: expected 8 fields, saw 9\\nSkipping line 84143: expected 8 fields, saw 9\\nSkipping line 84149: expected 8 fields, saw 9\\nSkipping line 84159: expected 8 fields, saw 9\\nSkipping line 84172: expected 8 fields, saw 9\\nSkipping line 84178: expected 8 fields, saw 9\\nSkipping line 84193: expected 8 fields, saw 9\\nSkipping line 84207: expected 8 fields, saw 9\\nSkipping line 84208: expected 8 fields, saw 9\\nSkipping line 84212: expected 8 fields, saw 9\\nSkipping line 84216: expected 8 fields, saw 9\\nSkipping line 84218: expected 8 fields, saw 9\\nSkipping line 84224: expected 8 fields, saw 9\\nSkipping line 84234: expected 8 fields, saw 9\\nSkipping line 84243: expected 8 fields, saw 9\\nSkipping line 84248: expected 8 fields, saw 9\\nSkipping line 84258: expected 8 fields, saw 9\\nSkipping line 84308: expected 8 fields, saw 9\\nSkipping line 84319: expected 8 fields, saw 9\\nSkipping line 84324: expected 8 fields, saw 9\\nSkipping line 84325: expected 8 fields, saw 9\\nSkipping line 84337: expected 8 fields, saw 9\\nSkipping line 84343: expected 8 fields, saw 9\\nSkipping line 84345: expected 8 fields, saw 9\\nSkipping line 84351: expected 8 fields, saw 9\\nSkipping line 84362: expected 8 fields, saw 9\\nSkipping line 84363: expected 8 fields, saw 9\\nSkipping line 84367: expected 8 fields, saw 9\\nSkipping line 84377: expected 8 fields, saw 9\\nSkipping line 84382: expected 8 fields, saw 9\\nSkipping line 84395: expected 8 fields, saw 9\\nSkipping line 84405: expected 8 fields, saw 10\\nSkipping line 84418: expected 8 fields, saw 9\\nSkipping line 84433: expected 8 fields, saw 9\\nSkipping line 84468: expected 8 fields, saw 9\\nSkipping line 84470: expected 8 fields, saw 9\\nSkipping line 84472: expected 8 fields, saw 9\\nSkipping line 84488: expected 8 fields, saw 9\\nSkipping line 84507: expected 8 fields, saw 9\\nSkipping line 84538: expected 8 fields, saw 10\\nSkipping line 84540: expected 8 fields, saw 9\\nSkipping line 84548: expected 8 fields, saw 9\\nSkipping line 84560: expected 8 fields, saw 9\\nSkipping line 84561: expected 8 fields, saw 9\\nSkipping line 84564: expected 8 fields, saw 9\\nSkipping line 84565: expected 8 fields, saw 9\\nSkipping line 84576: expected 8 fields, saw 9\\nSkipping line 84592: expected 8 fields, saw 9\\nSkipping line 84601: expected 8 fields, saw 9\\nSkipping line 84602: expected 8 fields, saw 9\\nSkipping line 84604: expected 8 fields, saw 9\\nSkipping line 84605: expected 8 fields, saw 9\\nSkipping line 84638: expected 8 fields, saw 9\\nSkipping line 84663: expected 8 fields, saw 9\\nSkipping line 84666: expected 8 fields, saw 9\\nSkipping line 84669: expected 8 fields, saw 9\\nSkipping line 84682: expected 8 fields, saw 9\\nSkipping line 84691: expected 8 fields, saw 9\\nSkipping line 84702: expected 8 fields, saw 9\\nSkipping line 84706: expected 8 fields, saw 9\\nSkipping line 84708: expected 8 fields, saw 9\\nSkipping line 84753: expected 8 fields, saw 9\\nSkipping line 84783: expected 8 fields, saw 9\\nSkipping line 84785: expected 8 fields, saw 9\\nSkipping line 84809: expected 8 fields, saw 9\\nSkipping line 84816: expected 8 fields, saw 9\\nSkipping line 84819: expected 8 fields, saw 9\\nSkipping line 84830: expected 8 fields, saw 9\\nSkipping line 84833: expected 8 fields, saw 9\\nSkipping line 84838: expected 8 fields, saw 9\\nSkipping line 84839: expected 8 fields, saw 10\\nSkipping line 84847: expected 8 fields, saw 9\\nSkipping line 84851: expected 8 fields, saw 9\\nSkipping line 84852: expected 8 fields, saw 9\\nSkipping line 84876: expected 8 fields, saw 9\\nSkipping line 84879: expected 8 fields, saw 9\\nSkipping line 84881: expected 8 fields, saw 9\\nSkipping line 84917: expected 8 fields, saw 9\\nSkipping line 84955: expected 8 fields, saw 9\\nSkipping line 84984: expected 8 fields, saw 9\\nSkipping line 84987: expected 8 fields, saw 9\\nSkipping line 85004: expected 8 fields, saw 9\\nSkipping line 85035: expected 8 fields, saw 9\\nSkipping line 85053: expected 8 fields, saw 9\\nSkipping line 85061: expected 8 fields, saw 9\\nSkipping line 85069: expected 8 fields, saw 9\\nSkipping line 85104: expected 8 fields, saw 9\\nSkipping line 85108: expected 8 fields, saw 9\\nSkipping line 85133: expected 8 fields, saw 9\\nSkipping line 85137: expected 8 fields, saw 9\\nSkipping line 85145: expected 8 fields, saw 9\\nSkipping line 85153: expected 8 fields, saw 9\\nSkipping line 85177: expected 8 fields, saw 9\\nSkipping line 85181: expected 8 fields, saw 9\\nSkipping line 85221: expected 8 fields, saw 9\\nSkipping line 85224: expected 8 fields, saw 9\\nSkipping line 85249: expected 8 fields, saw 9\\nSkipping line 85259: expected 8 fields, saw 9\\nSkipping line 85262: expected 8 fields, saw 9\\nSkipping line 85286: expected 8 fields, saw 9\\nSkipping line 85296: expected 8 fields, saw 9\\nSkipping line 85308: expected 8 fields, saw 9\\nSkipping line 85330: expected 8 fields, saw 9\\nSkipping line 85333: expected 8 fields, saw 9\\nSkipping line 85364: expected 8 fields, saw 9\\nSkipping line 85378: expected 8 fields, saw 9\\nSkipping line 85383: expected 8 fields, saw 9\\nSkipping line 85394: expected 8 fields, saw 9\\nSkipping line 85397: expected 8 fields, saw 9\\nSkipping line 85398: expected 8 fields, saw 9\\nSkipping line 85399: expected 8 fields, saw 9\\nSkipping line 85417: expected 8 fields, saw 9\\nSkipping line 85420: expected 8 fields, saw 9\\nSkipping line 85428: expected 8 fields, saw 9\\nSkipping line 85472: expected 8 fields, saw 9\\nSkipping line 85478: expected 8 fields, saw 9\\nSkipping line 85490: expected 8 fields, saw 9\\nSkipping line 85496: expected 8 fields, saw 9\\nSkipping line 85512: expected 8 fields, saw 9\\nSkipping line 85535: expected 8 fields, saw 9\\nSkipping line 85546: expected 8 fields, saw 9\\nSkipping line 85558: expected 8 fields, saw 9\\nSkipping line 85559: expected 8 fields, saw 9\\nSkipping line 85589: expected 8 fields, saw 9\\nSkipping line 85594: expected 8 fields, saw 10\\nSkipping line 85617: expected 8 fields, saw 9\\nSkipping line 85618: expected 8 fields, saw 9\\nSkipping line 85652: expected 8 fields, saw 9\\nSkipping line 85657: expected 8 fields, saw 9\\nSkipping line 85675: expected 8 fields, saw 9\\nSkipping line 85684: expected 8 fields, saw 9\\nSkipping line 85707: expected 8 fields, saw 9\\nSkipping line 85719: expected 8 fields, saw 9\\nSkipping line 85742: expected 8 fields, saw 9\\nSkipping line 85743: expected 8 fields, saw 9\\nSkipping line 85750: expected 8 fields, saw 9\\nSkipping line 85774: expected 8 fields, saw 9\\nSkipping line 85786: expected 8 fields, saw 9\\nSkipping line 85806: expected 8 fields, saw 9\\nSkipping line 85821: expected 8 fields, saw 9\\nSkipping line 85836: expected 8 fields, saw 9\\nSkipping line 85839: expected 8 fields, saw 9\\nSkipping line 85840: expected 8 fields, saw 9\\nSkipping line 85855: expected 8 fields, saw 9\\nSkipping line 85862: expected 8 fields, saw 9\\nSkipping line 85892: expected 8 fields, saw 9\\nSkipping line 85897: expected 8 fields, saw 9\\nSkipping line 85898: expected 8 fields, saw 9\\nSkipping line 85899: expected 8 fields, saw 9\\nSkipping line 85918: expected 8 fields, saw 9\\nSkipping line 85926: expected 8 fields, saw 9\\nSkipping line 85938: expected 8 fields, saw 9\\nSkipping line 85959: expected 8 fields, saw 9\\nSkipping line 86018: expected 8 fields, saw 9\\nSkipping line 86078: expected 8 fields, saw 9\\nSkipping line 86080: expected 8 fields, saw 9\\nSkipping line 86108: expected 8 fields, saw 9\\nSkipping line 86144: expected 8 fields, saw 9\\nSkipping line 86146: expected 8 fields, saw 9\\nSkipping line 86159: expected 8 fields, saw 9\\nSkipping line 86160: expected 8 fields, saw 9\\nSkipping line 86188: expected 8 fields, saw 10\\nSkipping line 86194: expected 8 fields, saw 9\\nSkipping line 86201: expected 8 fields, saw 10\\nSkipping line 86209: expected 8 fields, saw 9\\nSkipping line 86214: expected 8 fields, saw 9\\nSkipping line 86216: expected 8 fields, saw 9\\nSkipping line 86217: expected 8 fields, saw 9\\nSkipping line 86220: expected 8 fields, saw 9\\nSkipping line 86336: expected 8 fields, saw 9\\nSkipping line 86342: expected 8 fields, saw 9\\nSkipping line 86349: expected 8 fields, saw 9\\nSkipping line 86354: expected 8 fields, saw 9\\nSkipping line 86361: expected 8 fields, saw 9\\nSkipping line 86407: expected 8 fields, saw 10\\nSkipping line 86411: expected 8 fields, saw 9\\nSkipping line 86413: expected 8 fields, saw 9\\nSkipping line 86437: expected 8 fields, saw 9\\nSkipping line 86441: expected 8 fields, saw 9\\nSkipping line 86465: expected 8 fields, saw 9\\nSkipping line 86467: expected 8 fields, saw 9\\nSkipping line 86491: expected 8 fields, saw 9\\nSkipping line 86498: expected 8 fields, saw 9\\nSkipping line 86505: expected 8 fields, saw 9\\nSkipping line 86517: expected 8 fields, saw 9\\nSkipping line 86521: expected 8 fields, saw 9\\nSkipping line 86538: expected 8 fields, saw 9\\nSkipping line 86587: expected 8 fields, saw 9\\nSkipping line 86628: expected 8 fields, saw 9\\nSkipping line 86644: expected 8 fields, saw 10\\nSkipping line 86646: expected 8 fields, saw 9\\nSkipping line 86649: expected 8 fields, saw 9\\nSkipping line 86651: expected 8 fields, saw 9\\nSkipping line 86652: expected 8 fields, saw 9\\nSkipping line 86653: expected 8 fields, saw 9\\nSkipping line 86656: expected 8 fields, saw 9\\nSkipping line 86659: expected 8 fields, saw 9\\nSkipping line 86660: expected 8 fields, saw 9\\nSkipping line 86712: expected 8 fields, saw 9\\nSkipping line 86765: expected 8 fields, saw 9\\nSkipping line 86766: expected 8 fields, saw 9\\nSkipping line 86814: expected 8 fields, saw 11\\nSkipping line 86858: expected 8 fields, saw 9\\nSkipping line 86859: expected 8 fields, saw 9\\nSkipping line 86872: expected 8 fields, saw 9\\nSkipping line 86874: expected 8 fields, saw 9\\nSkipping line 86883: expected 8 fields, saw 9\\nSkipping line 86885: expected 8 fields, saw 9\\nSkipping line 86901: expected 8 fields, saw 9\\nSkipping line 86902: expected 8 fields, saw 9\\nSkipping line 86912: expected 8 fields, saw 9\\nSkipping line 86931: expected 8 fields, saw 9\\nSkipping line 86932: expected 8 fields, saw 9\\nSkipping line 86936: expected 8 fields, saw 9\\nSkipping line 86946: expected 8 fields, saw 9\\nSkipping line 86962: expected 8 fields, saw 9\\nSkipping line 86963: expected 8 fields, saw 9\\nSkipping line 86973: expected 8 fields, saw 9\\nSkipping line 86977: expected 8 fields, saw 9\\nSkipping line 86982: expected 8 fields, saw 9\\nSkipping line 86987: expected 8 fields, saw 11\\nSkipping line 86990: expected 8 fields, saw 9\\nSkipping line 87013: expected 8 fields, saw 9\\nSkipping line 87023: expected 8 fields, saw 9\\nSkipping line 87026: expected 8 fields, saw 9\\nSkipping line 87034: expected 8 fields, saw 9\\nSkipping line 87038: expected 8 fields, saw 9\\nSkipping line 87044: expected 8 fields, saw 9\\nSkipping line 87069: expected 8 fields, saw 9\\nSkipping line 87070: expected 8 fields, saw 9\\nSkipping line 87071: expected 8 fields, saw 9\\nSkipping line 87081: expected 8 fields, saw 9\\nSkipping line 87087: expected 8 fields, saw 9\\nSkipping line 87095: expected 8 fields, saw 9\\nSkipping line 87111: expected 8 fields, saw 9\\nSkipping line 87114: expected 8 fields, saw 9\\nSkipping line 87131: expected 8 fields, saw 9\\nSkipping line 87134: expected 8 fields, saw 9\\nSkipping line 87140: expected 8 fields, saw 9\\nSkipping line 87148: expected 8 fields, saw 9\\nSkipping line 87150: expected 8 fields, saw 9\\nSkipping line 87162: expected 8 fields, saw 9\\nSkipping line 87182: expected 8 fields, saw 9\\nSkipping line 87185: expected 8 fields, saw 9\\nSkipping line 87207: expected 8 fields, saw 9\\nSkipping line 87211: expected 8 fields, saw 9\\nSkipping line 87221: expected 8 fields, saw 9\\nSkipping line 87226: expected 8 fields, saw 9\\nSkipping line 87251: expected 8 fields, saw 9\\nSkipping line 87276: expected 8 fields, saw 9\\nSkipping line 87309: expected 8 fields, saw 9\\nSkipping line 87312: expected 8 fields, saw 9\\nSkipping line 87334: expected 8 fields, saw 9\\nSkipping line 87344: expected 8 fields, saw 9\\nSkipping line 87347: expected 8 fields, saw 9\\nSkipping line 87364: expected 8 fields, saw 9\\nSkipping line 87381: expected 8 fields, saw 9\\nSkipping line 87386: expected 8 fields, saw 9\\nSkipping line 87420: expected 8 fields, saw 9\\nSkipping line 87435: expected 8 fields, saw 9\\nSkipping line 87439: expected 8 fields, saw 9\\nSkipping line 87444: expected 8 fields, saw 9\\nSkipping line 87451: expected 8 fields, saw 9\\nSkipping line 87460: expected 8 fields, saw 9\\nSkipping line 87462: expected 8 fields, saw 9\\nSkipping line 87466: expected 8 fields, saw 9\\nSkipping line 87468: expected 8 fields, saw 9\\nSkipping line 87469: expected 8 fields, saw 9\\nSkipping line 87470: expected 8 fields, saw 9\\nSkipping line 87485: expected 8 fields, saw 9\\nSkipping line 87490: expected 8 fields, saw 9\\nSkipping line 87491: expected 8 fields, saw 9\\nSkipping line 87492: expected 8 fields, saw 9\\nSkipping line 87497: expected 8 fields, saw 9\\nSkipping line 87501: expected 8 fields, saw 9\\nSkipping line 87504: expected 8 fields, saw 9\\nSkipping line 87532: expected 8 fields, saw 9\\nSkipping line 87569: expected 8 fields, saw 9\\nSkipping line 87580: expected 8 fields, saw 9\\nSkipping line 87589: expected 8 fields, saw 9\\nSkipping line 87590: expected 8 fields, saw 9\\nSkipping line 87591: expected 8 fields, saw 9\\nSkipping line 87592: expected 8 fields, saw 9\\nSkipping line 87593: expected 8 fields, saw 9\\nSkipping line 87594: expected 8 fields, saw 9\\nSkipping line 87595: expected 8 fields, saw 9\\nSkipping line 87596: expected 8 fields, saw 9\\nSkipping line 87643: expected 8 fields, saw 9\\nSkipping line 87664: expected 8 fields, saw 9\\nSkipping line 87681: expected 8 fields, saw 9\\nSkipping line 87727: expected 8 fields, saw 9\\nSkipping line 87737: expected 8 fields, saw 9\\nSkipping line 87759: expected 8 fields, saw 9\\nSkipping line 87760: expected 8 fields, saw 9\\nSkipping line 87767: expected 8 fields, saw 9\\nSkipping line 87801: expected 8 fields, saw 9\\nSkipping line 87811: expected 8 fields, saw 9\\nSkipping line 87838: expected 8 fields, saw 9\\nSkipping line 87839: expected 8 fields, saw 9\\nSkipping line 87842: expected 8 fields, saw 9\\nSkipping line 87850: expected 8 fields, saw 9\\nSkipping line 87857: expected 8 fields, saw 9\\nSkipping line 87860: expected 8 fields, saw 9\\nSkipping line 87869: expected 8 fields, saw 9\\nSkipping line 87872: expected 8 fields, saw 10\\nSkipping line 87877: expected 8 fields, saw 9\\nSkipping line 87880: expected 8 fields, saw 9\\nSkipping line 87890: expected 8 fields, saw 9\\nSkipping line 87919: expected 8 fields, saw 9\\nSkipping line 87929: expected 8 fields, saw 9\\nSkipping line 87939: expected 8 fields, saw 9\\nSkipping line 87940: expected 8 fields, saw 9\\nSkipping line 87944: expected 8 fields, saw 10\\nSkipping line 87951: expected 8 fields, saw 9\\nSkipping line 87958: expected 8 fields, saw 9\\nSkipping line 87963: expected 8 fields, saw 9\\nSkipping line 87970: expected 8 fields, saw 9\\nSkipping line 87972: expected 8 fields, saw 9\\nSkipping line 87983: expected 8 fields, saw 9\\nSkipping line 87985: expected 8 fields, saw 9\\nSkipping line 88001: expected 8 fields, saw 9\\nSkipping line 88028: expected 8 fields, saw 9\\nSkipping line 88034: expected 8 fields, saw 10\\nSkipping line 88046: expected 8 fields, saw 9\\nSkipping line 88050: expected 8 fields, saw 9\\nSkipping line 88055: expected 8 fields, saw 9\\nSkipping line 88077: expected 8 fields, saw 9\\nSkipping line 88113: expected 8 fields, saw 9\\nSkipping line 88116: expected 8 fields, saw 9\\nSkipping line 88119: expected 8 fields, saw 9\\nSkipping line 88160: expected 8 fields, saw 9\\nSkipping line 88162: expected 8 fields, saw 9\\nSkipping line 88169: expected 8 fields, saw 9\\nSkipping line 88216: expected 8 fields, saw 9\\nSkipping line 88219: expected 8 fields, saw 9\\nSkipping line 88230: expected 8 fields, saw 9\\nSkipping line 88233: expected 8 fields, saw 9\\nSkipping line 88289: expected 8 fields, saw 9\\nSkipping line 88291: expected 8 fields, saw 9\\nSkipping line 88292: expected 8 fields, saw 9\\nSkipping line 88296: expected 8 fields, saw 9\\nSkipping line 88298: expected 8 fields, saw 9\\nSkipping line 88325: expected 8 fields, saw 9\\nSkipping line 88357: expected 8 fields, saw 9\\nSkipping line 88362: expected 8 fields, saw 9\\nSkipping line 88363: expected 8 fields, saw 9\\nSkipping line 88368: expected 8 fields, saw 9\\nSkipping line 88385: expected 8 fields, saw 9\\nSkipping line 88422: expected 8 fields, saw 9\\nSkipping line 88432: expected 8 fields, saw 9\\nSkipping line 88465: expected 8 fields, saw 9\\nSkipping line 88469: expected 8 fields, saw 9\\nSkipping line 88470: expected 8 fields, saw 9\\nSkipping line 88478: expected 8 fields, saw 9\\nSkipping line 88479: expected 8 fields, saw 9\\nSkipping line 88480: expected 8 fields, saw 9\\nSkipping line 88481: expected 8 fields, saw 9\\nSkipping line 88485: expected 8 fields, saw 9\\nSkipping line 88487: expected 8 fields, saw 9\\nSkipping line 88494: expected 8 fields, saw 9\\nSkipping line 88500: expected 8 fields, saw 9\\nSkipping line 88502: expected 8 fields, saw 9\\nSkipping line 88503: expected 8 fields, saw 9\\nSkipping line 88517: expected 8 fields, saw 9\\nSkipping line 88526: expected 8 fields, saw 9\\nSkipping line 88527: expected 8 fields, saw 9\\nSkipping line 88568: expected 8 fields, saw 9\\nSkipping line 88573: expected 8 fields, saw 9\\nSkipping line 88579: expected 8 fields, saw 9\\nSkipping line 88604: expected 8 fields, saw 9\\nSkipping line 88608: expected 8 fields, saw 9\\nSkipping line 88617: expected 8 fields, saw 9\\nSkipping line 88619: expected 8 fields, saw 9\\nSkipping line 88629: expected 8 fields, saw 9\\nSkipping line 88631: expected 8 fields, saw 9\\nSkipping line 88636: expected 8 fields, saw 9\\nSkipping line 88644: expected 8 fields, saw 9\\nSkipping line 88693: expected 8 fields, saw 9\\nSkipping line 88694: expected 8 fields, saw 9\\nSkipping line 88695: expected 8 fields, saw 9\\nSkipping line 88696: expected 8 fields, saw 9\\nSkipping line 88697: expected 8 fields, saw 9\\nSkipping line 88706: expected 8 fields, saw 9\\nSkipping line 88710: expected 8 fields, saw 9\\nSkipping line 88733: expected 8 fields, saw 9\\nSkipping line 88764: expected 8 fields, saw 9\\nSkipping line 88777: expected 8 fields, saw 9\\nSkipping line 88787: expected 8 fields, saw 9\\nSkipping line 88791: expected 8 fields, saw 9\\nSkipping line 88804: expected 8 fields, saw 9\\nSkipping line 88806: expected 8 fields, saw 9\\nSkipping line 88809: expected 8 fields, saw 9\\nSkipping line 88815: expected 8 fields, saw 9\\nSkipping line 88819: expected 8 fields, saw 9\\nSkipping line 88823: expected 8 fields, saw 9\\nSkipping line 88828: expected 8 fields, saw 9\\nSkipping line 88833: expected 8 fields, saw 9\\nSkipping line 88845: expected 8 fields, saw 9\\nSkipping line 88849: expected 8 fields, saw 9\\nSkipping line 88850: expected 8 fields, saw 9\\nSkipping line 88853: expected 8 fields, saw 9\\nSkipping line 88865: expected 8 fields, saw 9\\nSkipping line 88869: expected 8 fields, saw 9\\nSkipping line 88872: expected 8 fields, saw 9\\nSkipping line 88885: expected 8 fields, saw 9\\nSkipping line 88933: expected 8 fields, saw 9\\nSkipping line 88943: expected 8 fields, saw 9\\nSkipping line 88954: expected 8 fields, saw 9\\nSkipping line 88976: expected 8 fields, saw 9\\nSkipping line 88978: expected 8 fields, saw 9\\nSkipping line 88982: expected 8 fields, saw 9\\nSkipping line 89005: expected 8 fields, saw 9\\nSkipping line 89012: expected 8 fields, saw 9\\nSkipping line 89037: expected 8 fields, saw 9\\nSkipping line 89070: expected 8 fields, saw 9\\nSkipping line 89095: expected 8 fields, saw 9\\nSkipping line 89129: expected 8 fields, saw 10\\nSkipping line 89150: expected 8 fields, saw 9\\nSkipping line 89159: expected 8 fields, saw 9\\nSkipping line 89223: expected 8 fields, saw 9\\nSkipping line 89245: expected 8 fields, saw 9\\nSkipping line 89247: expected 8 fields, saw 9\\nSkipping line 89269: expected 8 fields, saw 9\\nSkipping line 89270: expected 8 fields, saw 9\\nSkipping line 89272: expected 8 fields, saw 9\\nSkipping line 89298: expected 8 fields, saw 9\\nSkipping line 89302: expected 8 fields, saw 9\\nSkipping line 89306: expected 8 fields, saw 9\\nSkipping line 89307: expected 8 fields, saw 9\\nSkipping line 89322: expected 8 fields, saw 9\\nSkipping line 89323: expected 8 fields, saw 9\\nSkipping line 89391: expected 8 fields, saw 9\\nSkipping line 89409: expected 8 fields, saw 9\\nSkipping line 89415: expected 8 fields, saw 9\\nSkipping line 89429: expected 8 fields, saw 9\\nSkipping line 89434: expected 8 fields, saw 9\\nSkipping line 89437: expected 8 fields, saw 9\\nSkipping line 89442: expected 8 fields, saw 9\\nSkipping line 89451: expected 8 fields, saw 9\\nSkipping line 89467: expected 8 fields, saw 9\\nSkipping line 89469: expected 8 fields, saw 9\\nSkipping line 89473: expected 8 fields, saw 9\\nSkipping line 89486: expected 8 fields, saw 9\\nSkipping line 89490: expected 8 fields, saw 9\\nSkipping line 89504: expected 8 fields, saw 9\\nSkipping line 89517: expected 8 fields, saw 9\\nSkipping line 89539: expected 8 fields, saw 9\\nSkipping line 89544: expected 8 fields, saw 9\\nSkipping line 89549: expected 8 fields, saw 9\\nSkipping line 89551: expected 8 fields, saw 9\\nSkipping line 89597: expected 8 fields, saw 9\\nSkipping line 89603: expected 8 fields, saw 9\\nSkipping line 89616: expected 8 fields, saw 9\\nSkipping line 89618: expected 8 fields, saw 9\\nSkipping line 89654: expected 8 fields, saw 9\\nSkipping line 89655: expected 8 fields, saw 9\\nSkipping line 89657: expected 8 fields, saw 9\\nSkipping line 89676: expected 8 fields, saw 9\\nSkipping line 89681: expected 8 fields, saw 9\\nSkipping line 89682: expected 8 fields, saw 9\\nSkipping line 89706: expected 8 fields, saw 9\\nSkipping line 89710: expected 8 fields, saw 9\\nSkipping line 89723: expected 8 fields, saw 9\\nSkipping line 89733: expected 8 fields, saw 9\\nSkipping line 89738: expected 8 fields, saw 9\\nSkipping line 89745: expected 8 fields, saw 9\\nSkipping line 89766: expected 8 fields, saw 10\\nSkipping line 89794: expected 8 fields, saw 9\\nSkipping line 89798: expected 8 fields, saw 10\\nSkipping line 89808: expected 8 fields, saw 9\\nSkipping line 89812: expected 8 fields, saw 9\\nSkipping line 89826: expected 8 fields, saw 9\\nSkipping line 89838: expected 8 fields, saw 9\\nSkipping line 89843: expected 8 fields, saw 9\\nSkipping line 89853: expected 8 fields, saw 9\\nSkipping line 89860: expected 8 fields, saw 9\\nSkipping line 89876: expected 8 fields, saw 9\\nSkipping line 89919: expected 8 fields, saw 9\\nSkipping line 89920: expected 8 fields, saw 9\\nSkipping line 89930: expected 8 fields, saw 9\\nSkipping line 89937: expected 8 fields, saw 9\\nSkipping line 89948: expected 8 fields, saw 9\\nSkipping line 89969: expected 8 fields, saw 9\\nSkipping line 89996: expected 8 fields, saw 9\\nSkipping line 90004: expected 8 fields, saw 9\\nSkipping line 90006: expected 8 fields, saw 9\\nSkipping line 90025: expected 8 fields, saw 9\\nSkipping line 90041: expected 8 fields, saw 9\\nSkipping line 90049: expected 8 fields, saw 9\\nSkipping line 90062: expected 8 fields, saw 9\\nSkipping line 90069: expected 8 fields, saw 9\\nSkipping line 90074: expected 8 fields, saw 9\\nSkipping line 90078: expected 8 fields, saw 9\\nSkipping line 90090: expected 8 fields, saw 9\\nSkipping line 90091: expected 8 fields, saw 9\\nSkipping line 90111: expected 8 fields, saw 9\\nSkipping line 90114: expected 8 fields, saw 9\\nSkipping line 90126: expected 8 fields, saw 10\\nSkipping line 90138: expected 8 fields, saw 9\\nSkipping line 90148: expected 8 fields, saw 9\\nSkipping line 90167: expected 8 fields, saw 9\\nSkipping line 90168: expected 8 fields, saw 9\\nSkipping line 90176: expected 8 fields, saw 9\\nSkipping line 90240: expected 8 fields, saw 9\\nSkipping line 90263: expected 8 fields, saw 9\\nSkipping line 90268: expected 8 fields, saw 9\\nSkipping line 90276: expected 8 fields, saw 9\\nSkipping line 90296: expected 8 fields, saw 9\\nSkipping line 90361: expected 8 fields, saw 9\\nSkipping line 90369: expected 8 fields, saw 9\\nSkipping line 90372: expected 8 fields, saw 9\\nSkipping line 90386: expected 8 fields, saw 9\\nSkipping line 90390: expected 8 fields, saw 9\\nSkipping line 90397: expected 8 fields, saw 9\\nSkipping line 90400: expected 8 fields, saw 9\\nSkipping line 90425: expected 8 fields, saw 9\\nSkipping line 90430: expected 8 fields, saw 9\\nSkipping line 90442: expected 8 fields, saw 9\\nSkipping line 90473: expected 8 fields, saw 9\\nSkipping line 90481: expected 8 fields, saw 9\\nSkipping line 90545: expected 8 fields, saw 9\\nSkipping line 90581: expected 8 fields, saw 9\\nSkipping line 90595: expected 8 fields, saw 9\\nSkipping line 90635: expected 8 fields, saw 9\\nSkipping line 90657: expected 8 fields, saw 9\\nSkipping line 90677: expected 8 fields, saw 9\\nSkipping line 90683: expected 8 fields, saw 9\\nSkipping line 90685: expected 8 fields, saw 9\\nSkipping line 90687: expected 8 fields, saw 9\\nSkipping line 90688: expected 8 fields, saw 9\\nSkipping line 90708: expected 8 fields, saw 9\\nSkipping line 90709: expected 8 fields, saw 9\\nSkipping line 90716: expected 8 fields, saw 9\\nSkipping line 90717: expected 8 fields, saw 9\\nSkipping line 90718: expected 8 fields, saw 9\\nSkipping line 90719: expected 8 fields, saw 9\\nSkipping line 90765: expected 8 fields, saw 9\\nSkipping line 90774: expected 8 fields, saw 9\\nSkipping line 90778: expected 8 fields, saw 9\\nSkipping line 90786: expected 8 fields, saw 9\\nSkipping line 90787: expected 8 fields, saw 9\\nSkipping line 90790: expected 8 fields, saw 9\\nSkipping line 90798: expected 8 fields, saw 9\\nSkipping line 90800: expected 8 fields, saw 9\\nSkipping line 90801: expected 8 fields, saw 9\\nSkipping line 90803: expected 8 fields, saw 9\\nSkipping line 90822: expected 8 fields, saw 9\\nSkipping line 90845: expected 8 fields, saw 9\\nSkipping line 90847: expected 8 fields, saw 9\\nSkipping line 90860: expected 8 fields, saw 9\\nSkipping line 90865: expected 8 fields, saw 9\\nSkipping line 90874: expected 8 fields, saw 10\\nSkipping line 90884: expected 8 fields, saw 9\\nSkipping line 90887: expected 8 fields, saw 9\\nSkipping line 90898: expected 8 fields, saw 9\\nSkipping line 90912: expected 8 fields, saw 9\\nSkipping line 90925: expected 8 fields, saw 9\\nSkipping line 90950: expected 8 fields, saw 9\\nSkipping line 90965: expected 8 fields, saw 9\\nSkipping line 90969: expected 8 fields, saw 9\\nSkipping line 90971: expected 8 fields, saw 9\\nSkipping line 90973: expected 8 fields, saw 10\\nSkipping line 90979: expected 8 fields, saw 9\\nSkipping line 90994: expected 8 fields, saw 9\\nSkipping line 91005: expected 8 fields, saw 9\\nSkipping line 91018: expected 8 fields, saw 9\\nSkipping line 91026: expected 8 fields, saw 9\\nSkipping line 91028: expected 8 fields, saw 9\\nSkipping line 91042: expected 8 fields, saw 9\\nSkipping line 91067: expected 8 fields, saw 9\\nSkipping line 91074: expected 8 fields, saw 9\\nSkipping line 91094: expected 8 fields, saw 9\\nSkipping line 91116: expected 8 fields, saw 9\\nSkipping line 91131: expected 8 fields, saw 9\\nSkipping line 91169: expected 8 fields, saw 9\\nSkipping line 91179: expected 8 fields, saw 9\\nSkipping line 91184: expected 8 fields, saw 9\\nSkipping line 91213: expected 8 fields, saw 9\\nSkipping line 91245: expected 8 fields, saw 9\\nSkipping line 91251: expected 8 fields, saw 9\\nSkipping line 91261: expected 8 fields, saw 9\\nSkipping line 91264: expected 8 fields, saw 9\\nSkipping line 91297: expected 8 fields, saw 9\\nSkipping line 91299: expected 8 fields, saw 9\\nSkipping line 91362: expected 8 fields, saw 9\\nSkipping line 91382: expected 8 fields, saw 9\\nSkipping line 91383: expected 8 fields, saw 9\\nSkipping line 91400: expected 8 fields, saw 9\\nSkipping line 91450: expected 8 fields, saw 9\\nSkipping line 91487: expected 8 fields, saw 9\\nSkipping line 91522: expected 8 fields, saw 9\\nSkipping line 91537: expected 8 fields, saw 9\\nSkipping line 91548: expected 8 fields, saw 9\\nSkipping line 91549: expected 8 fields, saw 9\\nSkipping line 91558: expected 8 fields, saw 9\\nSkipping line 91564: expected 8 fields, saw 9\\nSkipping line 91571: expected 8 fields, saw 9\\nSkipping line 91576: expected 8 fields, saw 10\\nSkipping line 91577: expected 8 fields, saw 9\\nSkipping line 91586: expected 8 fields, saw 9\\nSkipping line 91597: expected 8 fields, saw 9\\nSkipping line 91603: expected 8 fields, saw 9\\nSkipping line 91614: expected 8 fields, saw 9\\nSkipping line 91615: expected 8 fields, saw 9\\nSkipping line 91626: expected 8 fields, saw 9\\nSkipping line 91628: expected 8 fields, saw 9\\nSkipping line 91629: expected 8 fields, saw 9\\nSkipping line 91635: expected 8 fields, saw 9\\nSkipping line 91638: expected 8 fields, saw 9\\nSkipping line 91639: expected 8 fields, saw 9\\nSkipping line 91665: expected 8 fields, saw 9\\nSkipping line 91666: expected 8 fields, saw 9\\nSkipping line 91792: expected 8 fields, saw 9\\nSkipping line 91798: expected 8 fields, saw 10\\nSkipping line 91800: expected 8 fields, saw 9\\nSkipping line 91810: expected 8 fields, saw 9\\nSkipping line 91842: expected 8 fields, saw 9\\nSkipping line 91848: expected 8 fields, saw 9\\nSkipping line 91857: expected 8 fields, saw 9\\nSkipping line 91861: expected 8 fields, saw 9\\nSkipping line 91890: expected 8 fields, saw 9\\nSkipping line 91893: expected 8 fields, saw 9\\nSkipping line 91905: expected 8 fields, saw 9\\nSkipping line 91908: expected 8 fields, saw 9\\nSkipping line 91932: expected 8 fields, saw 9\\nSkipping line 91938: expected 8 fields, saw 9\\nSkipping line 91941: expected 8 fields, saw 9\\nSkipping line 91949: expected 8 fields, saw 9\\nSkipping line 91950: expected 8 fields, saw 9\\nSkipping line 91961: expected 8 fields, saw 9\\nSkipping line 92022: expected 8 fields, saw 9\\nSkipping line 92025: expected 8 fields, saw 9\\nSkipping line 92038: expected 8 fields, saw 9\\nSkipping line 92044: expected 8 fields, saw 9\\nSkipping line 92057: expected 8 fields, saw 9\\nSkipping line 92060: expected 8 fields, saw 9\\nSkipping line 92070: expected 8 fields, saw 9\\nSkipping line 92072: expected 8 fields, saw 9\\nSkipping line 92100: expected 8 fields, saw 9\\nSkipping line 92148: expected 8 fields, saw 9\\nSkipping line 92157: expected 8 fields, saw 9\\nSkipping line 92162: expected 8 fields, saw 9\\nSkipping line 92170: expected 8 fields, saw 9\\nSkipping line 92171: expected 8 fields, saw 9\\nSkipping line 92173: expected 8 fields, saw 9\\nSkipping line 92206: expected 8 fields, saw 9\\nSkipping line 92226: expected 8 fields, saw 9\\nSkipping line 92237: expected 8 fields, saw 9\\nSkipping line 92250: expected 8 fields, saw 9\\nSkipping line 92253: expected 8 fields, saw 9\\nSkipping line 92273: expected 8 fields, saw 9\\nSkipping line 92274: expected 8 fields, saw 9\\nSkipping line 92277: expected 8 fields, saw 9\\nSkipping line 92278: expected 8 fields, saw 9\\nSkipping line 92279: expected 8 fields, saw 9\\nSkipping line 92280: expected 8 fields, saw 9\\nSkipping line 92304: expected 8 fields, saw 9\\nSkipping line 92311: expected 8 fields, saw 9\\nSkipping line 92313: expected 8 fields, saw 9\\nSkipping line 92318: expected 8 fields, saw 9\\nSkipping line 92325: expected 8 fields, saw 9\\nSkipping line 92332: expected 8 fields, saw 9\\nSkipping line 92357: expected 8 fields, saw 9\\nSkipping line 92359: expected 8 fields, saw 9\\nSkipping line 92374: expected 8 fields, saw 9\\nSkipping line 92386: expected 8 fields, saw 9\\nSkipping line 92397: expected 8 fields, saw 9\\nSkipping line 92406: expected 8 fields, saw 9\\nSkipping line 92417: expected 8 fields, saw 9\\nSkipping line 92418: expected 8 fields, saw 9\\nSkipping line 92424: expected 8 fields, saw 9\\nSkipping line 92451: expected 8 fields, saw 9\\nSkipping line 92452: expected 8 fields, saw 9\\nSkipping line 92453: expected 8 fields, saw 9\\nSkipping line 92458: expected 8 fields, saw 9\\nSkipping line 92510: expected 8 fields, saw 9\\nSkipping line 92513: expected 8 fields, saw 9\\nSkipping line 92517: expected 8 fields, saw 9\\nSkipping line 92547: expected 8 fields, saw 9\\nSkipping line 92559: expected 8 fields, saw 9\\nSkipping line 92579: expected 8 fields, saw 9\\nSkipping line 92588: expected 8 fields, saw 9\\nSkipping line 92600: expected 8 fields, saw 9\\nSkipping line 92609: expected 8 fields, saw 9\\nSkipping line 92626: expected 8 fields, saw 9\\nSkipping line 92629: expected 8 fields, saw 9\\nSkipping line 92634: expected 8 fields, saw 9\\nSkipping line 92648: expected 8 fields, saw 9\\nSkipping line 92701: expected 8 fields, saw 9\\nSkipping line 92714: expected 8 fields, saw 9\\nSkipping line 92730: expected 8 fields, saw 9\\nSkipping line 92732: expected 8 fields, saw 9\\nSkipping line 92733: expected 8 fields, saw 10\\nSkipping line 92736: expected 8 fields, saw 9\\nSkipping line 92737: expected 8 fields, saw 9\\nSkipping line 92738: expected 8 fields, saw 9\\nSkipping line 92739: expected 8 fields, saw 9\\nSkipping line 92740: expected 8 fields, saw 9\\nSkipping line 92741: expected 8 fields, saw 9\\nSkipping line 92742: expected 8 fields, saw 9\\nSkipping line 92743: expected 8 fields, saw 9\\nSkipping line 92744: expected 8 fields, saw 9\\nSkipping line 92745: expected 8 fields, saw 9\\nSkipping line 92746: expected 8 fields, saw 9\\nSkipping line 92754: expected 8 fields, saw 9\\nSkipping line 92757: expected 8 fields, saw 9\\nSkipping line 92762: expected 8 fields, saw 9\\nSkipping line 92763: expected 8 fields, saw 9\\nSkipping line 92764: expected 8 fields, saw 9\\nSkipping line 92765: expected 8 fields, saw 9\\nSkipping line 92766: expected 8 fields, saw 9\\nSkipping line 92786: expected 8 fields, saw 9\\nSkipping line 92800: expected 8 fields, saw 9\\nSkipping line 92822: expected 8 fields, saw 9\\nSkipping line 92825: expected 8 fields, saw 9\\nSkipping line 92837: expected 8 fields, saw 9\\nSkipping line 92839: expected 8 fields, saw 9\\nSkipping line 92855: expected 8 fields, saw 9\\nSkipping line 92870: expected 8 fields, saw 9\\nSkipping line 92879: expected 8 fields, saw 9\\nSkipping line 92894: expected 8 fields, saw 9\\nSkipping line 92906: expected 8 fields, saw 9\\nSkipping line 92907: expected 8 fields, saw 9\\nSkipping line 92912: expected 8 fields, saw 9\\nSkipping line 92921: expected 8 fields, saw 9\\nSkipping line 92927: expected 8 fields, saw 10\\nSkipping line 92937: expected 8 fields, saw 9\\nSkipping line 92938: expected 8 fields, saw 9\\nSkipping line 92952: expected 8 fields, saw 9\\nSkipping line 92960: expected 8 fields, saw 9\\nSkipping line 92982: expected 8 fields, saw 10\\nSkipping line 92990: expected 8 fields, saw 9\\nSkipping line 93013: expected 8 fields, saw 9\\nSkipping line 93083: expected 8 fields, saw 9\\nSkipping line 93111: expected 8 fields, saw 9\\nSkipping line 93124: expected 8 fields, saw 9\\nSkipping line 93133: expected 8 fields, saw 9\\nSkipping line 93134: expected 8 fields, saw 9\\nSkipping line 93149: expected 8 fields, saw 9\\nSkipping line 93180: expected 8 fields, saw 9\\nSkipping line 93183: expected 8 fields, saw 9\\nSkipping line 93205: expected 8 fields, saw 9\\nSkipping line 93225: expected 8 fields, saw 9\\nSkipping line 93257: expected 8 fields, saw 9\\nSkipping line 93261: expected 8 fields, saw 9\\nSkipping line 93262: expected 8 fields, saw 9\\nSkipping line 93272: expected 8 fields, saw 9\\nSkipping line 93275: expected 8 fields, saw 9\\nSkipping line 93277: expected 8 fields, saw 9\\nSkipping line 93301: expected 8 fields, saw 9\\nSkipping line 93307: expected 8 fields, saw 9\\nSkipping line 93309: expected 8 fields, saw 9\\nSkipping line 93312: expected 8 fields, saw 9\\nSkipping line 93319: expected 8 fields, saw 9\\nSkipping line 93323: expected 8 fields, saw 9\\nSkipping line 93335: expected 8 fields, saw 9\\nSkipping line 93351: expected 8 fields, saw 9\\nSkipping line 93384: expected 8 fields, saw 9\\nSkipping line 93399: expected 8 fields, saw 9\\nSkipping line 93400: expected 8 fields, saw 9\\nSkipping line 93401: expected 8 fields, saw 9\\nSkipping line 93406: expected 8 fields, saw 9\\nSkipping line 93443: expected 8 fields, saw 9\\nSkipping line 93461: expected 8 fields, saw 9\\nSkipping line 93473: expected 8 fields, saw 9\\nSkipping line 93482: expected 8 fields, saw 9\\nSkipping line 93484: expected 8 fields, saw 9\\nSkipping line 93488: expected 8 fields, saw 10\\nSkipping line 93505: expected 8 fields, saw 9\\nSkipping line 93525: expected 8 fields, saw 9\\nSkipping line 93532: expected 8 fields, saw 9\\nSkipping line 93534: expected 8 fields, saw 9\\nSkipping line 93546: expected 8 fields, saw 9\\nSkipping line 93555: expected 8 fields, saw 9\\nSkipping line 93577: expected 8 fields, saw 9\\nSkipping line 93602: expected 8 fields, saw 9\\nSkipping line 93609: expected 8 fields, saw 9\\nSkipping line 93654: expected 8 fields, saw 9\\nSkipping line 93686: expected 8 fields, saw 9\\nSkipping line 93687: expected 8 fields, saw 9\\nSkipping line 93695: expected 8 fields, saw 9\\nSkipping line 93702: expected 8 fields, saw 9\\nSkipping line 93717: expected 8 fields, saw 9\\nSkipping line 93730: expected 8 fields, saw 9\\nSkipping line 93779: expected 8 fields, saw 9\\nSkipping line 93781: expected 8 fields, saw 10\\nSkipping line 93792: expected 8 fields, saw 9\\nSkipping line 93811: expected 8 fields, saw 9\\nSkipping line 93812: expected 8 fields, saw 9\\nSkipping line 93826: expected 8 fields, saw 9\\nSkipping line 93853: expected 8 fields, saw 9\\nSkipping line 93854: expected 8 fields, saw 9\\nSkipping line 93855: expected 8 fields, saw 9\\nSkipping line 93863: expected 8 fields, saw 9\\nSkipping line 93876: expected 8 fields, saw 9\\nSkipping line 93887: expected 8 fields, saw 9\\nSkipping line 93907: expected 8 fields, saw 9\\nSkipping line 93913: expected 8 fields, saw 9\\nSkipping line 93949: expected 8 fields, saw 9\\nSkipping line 93950: expected 8 fields, saw 9\\nSkipping line 93955: expected 8 fields, saw 9\\nSkipping line 93976: expected 8 fields, saw 9\\nSkipping line 93988: expected 8 fields, saw 11\\nSkipping line 94001: expected 8 fields, saw 9\\nSkipping line 94002: expected 8 fields, saw 9\\nSkipping line 94010: expected 8 fields, saw 9\\nSkipping line 94079: expected 8 fields, saw 9\\nSkipping line 94090: expected 8 fields, saw 9\\nSkipping line 94144: expected 8 fields, saw 10\\nSkipping line 94152: expected 8 fields, saw 9\\nSkipping line 94204: expected 8 fields, saw 9\\nSkipping line 94217: expected 8 fields, saw 9\\nSkipping line 94219: expected 8 fields, saw 10\\nSkipping line 94233: expected 8 fields, saw 9\\nSkipping line 94296: expected 8 fields, saw 9\\nSkipping line 94301: expected 8 fields, saw 9\\nSkipping line 94314: expected 8 fields, saw 9\\nSkipping line 94329: expected 8 fields, saw 9\\nSkipping line 94335: expected 8 fields, saw 9\\nSkipping line 94358: expected 8 fields, saw 10\\nSkipping line 94405: expected 8 fields, saw 9\\nSkipping line 94407: expected 8 fields, saw 9\\nSkipping line 94413: expected 8 fields, saw 9\\nSkipping line 94416: expected 8 fields, saw 9\\nSkipping line 94420: expected 8 fields, saw 9\\nSkipping line 94427: expected 8 fields, saw 9\\nSkipping line 94431: expected 8 fields, saw 9\\nSkipping line 94433: expected 8 fields, saw 9\\nSkipping line 94448: expected 8 fields, saw 9\\nSkipping line 94460: expected 8 fields, saw 9\\nSkipping line 94495: expected 8 fields, saw 9\\nSkipping line 94496: expected 8 fields, saw 9\\nSkipping line 94501: expected 8 fields, saw 9\\nSkipping line 94609: expected 8 fields, saw 9\\nSkipping line 94645: expected 8 fields, saw 9\\nSkipping line 94648: expected 8 fields, saw 9\\nSkipping line 94662: expected 8 fields, saw 9\\nSkipping line 94665: expected 8 fields, saw 9\\nSkipping line 94666: expected 8 fields, saw 9\\nSkipping line 94684: expected 8 fields, saw 9\\nSkipping line 94686: expected 8 fields, saw 9\\nSkipping line 94738: expected 8 fields, saw 9\\nSkipping line 94750: expected 8 fields, saw 9\\nSkipping line 94778: expected 8 fields, saw 9\\nSkipping line 94804: expected 8 fields, saw 9\\nSkipping line 94806: expected 8 fields, saw 9\\nSkipping line 94859: expected 8 fields, saw 9\\nSkipping line 94861: expected 8 fields, saw 9\\nSkipping line 94865: expected 8 fields, saw 9\\nSkipping line 94868: expected 8 fields, saw 9\\nSkipping line 94887: expected 8 fields, saw 9\\nSkipping line 94889: expected 8 fields, saw 9\\nSkipping line 94898: expected 8 fields, saw 9\\nSkipping line 94902: expected 8 fields, saw 9\\nSkipping line 94905: expected 8 fields, saw 9\\nSkipping line 94907: expected 8 fields, saw 9\\nSkipping line 95036: expected 8 fields, saw 9\\nSkipping line 95057: expected 8 fields, saw 9\\nSkipping line 95075: expected 8 fields, saw 9\\nSkipping line 95084: expected 8 fields, saw 9\\nSkipping line 95088: expected 8 fields, saw 9\\nSkipping line 95120: expected 8 fields, saw 10\\nSkipping line 95124: expected 8 fields, saw 9\\nSkipping line 95132: expected 8 fields, saw 9\\nSkipping line 95152: expected 8 fields, saw 9\\nSkipping line 95182: expected 8 fields, saw 9\\nSkipping line 95208: expected 8 fields, saw 9\\nSkipping line 95237: expected 8 fields, saw 9\\nSkipping line 95243: expected 8 fields, saw 9\\nSkipping line 95272: expected 8 fields, saw 9\\nSkipping line 95286: expected 8 fields, saw 9\\nSkipping line 95297: expected 8 fields, saw 9\\nSkipping line 95329: expected 8 fields, saw 9\\nSkipping line 95330: expected 8 fields, saw 9\\nSkipping line 95353: expected 8 fields, saw 9\\nSkipping line 95359: expected 8 fields, saw 9\\nSkipping line 95365: expected 8 fields, saw 9\\nSkipping line 95369: expected 8 fields, saw 10\\nSkipping line 95386: expected 8 fields, saw 9\\nSkipping line 95397: expected 8 fields, saw 9\\nSkipping line 95410: expected 8 fields, saw 9\\nSkipping line 95411: expected 8 fields, saw 9\\nSkipping line 95458: expected 8 fields, saw 9\\nSkipping line 95459: expected 8 fields, saw 9\\nSkipping line 95481: expected 8 fields, saw 9\\nSkipping line 95490: expected 8 fields, saw 9\\nSkipping line 95498: expected 8 fields, saw 10\\nSkipping line 95513: expected 8 fields, saw 9\\nSkipping line 95522: expected 8 fields, saw 9\\nSkipping line 95525: expected 8 fields, saw 9\\nSkipping line 95536: expected 8 fields, saw 9\\nSkipping line 95544: expected 8 fields, saw 9\\nSkipping line 95548: expected 8 fields, saw 9\\nSkipping line 95557: expected 8 fields, saw 9\\nSkipping line 95566: expected 8 fields, saw 9\\nSkipping line 95657: expected 8 fields, saw 9\\nSkipping line 95674: expected 8 fields, saw 9\\nSkipping line 95676: expected 8 fields, saw 9\\nSkipping line 95724: expected 8 fields, saw 9\\nSkipping line 95729: expected 8 fields, saw 9\\nSkipping line 95731: expected 8 fields, saw 9\\nSkipping line 95745: expected 8 fields, saw 9\\nSkipping line 95761: expected 8 fields, saw 9\\nSkipping line 95765: expected 8 fields, saw 9\\nSkipping line 95766: expected 8 fields, saw 9\\nSkipping line 95770: expected 8 fields, saw 9\\nSkipping line 95780: expected 8 fields, saw 9\\nSkipping line 95803: expected 8 fields, saw 9\\nSkipping line 95804: expected 8 fields, saw 9\\nSkipping line 95809: expected 8 fields, saw 9\\nSkipping line 95810: expected 8 fields, saw 9\\nSkipping line 95827: expected 8 fields, saw 9\\nSkipping line 95841: expected 8 fields, saw 10\\nSkipping line 95858: expected 8 fields, saw 9\\nSkipping line 95869: expected 8 fields, saw 9\\nSkipping line 95876: expected 8 fields, saw 9\\nSkipping line 95886: expected 8 fields, saw 9\\nSkipping line 95888: expected 8 fields, saw 9\\nSkipping line 95894: expected 8 fields, saw 10\\nSkipping line 95899: expected 8 fields, saw 9\\nSkipping line 95900: expected 8 fields, saw 9\\n'\n"
          ],
          "name": "stderr"
        }
      ]
    },
    {
      "cell_type": "code",
      "metadata": {
        "colab": {
          "base_uri": "https://localhost:8080/",
          "height": 400
        },
        "id": "OofAPAAYpNav",
        "outputId": "9136795c-dd2b-44b8-8236-97375b983d19"
      },
      "source": [
        "books.columns = ['ISBN', 'BookTitle', 'BookAuthor', 'YearOfPublication', 'Publisher', 'ImageUrlS', 'ImageUrlM', 'ImageUrlL']\n",
        "books.head()"
      ],
      "execution_count": 13,
      "outputs": [
        {
          "output_type": "execute_result",
          "data": {
            "text/html": [
              "<div>\n",
              "<style scoped>\n",
              "    .dataframe tbody tr th:only-of-type {\n",
              "        vertical-align: middle;\n",
              "    }\n",
              "\n",
              "    .dataframe tbody tr th {\n",
              "        vertical-align: top;\n",
              "    }\n",
              "\n",
              "    .dataframe thead th {\n",
              "        text-align: right;\n",
              "    }\n",
              "</style>\n",
              "<table border=\"1\" class=\"dataframe\">\n",
              "  <thead>\n",
              "    <tr style=\"text-align: right;\">\n",
              "      <th></th>\n",
              "      <th>ISBN</th>\n",
              "      <th>BookTitle</th>\n",
              "      <th>BookAuthor</th>\n",
              "      <th>YearOfPublication</th>\n",
              "      <th>Publisher</th>\n",
              "      <th>ImageUrlS</th>\n",
              "      <th>ImageUrlM</th>\n",
              "      <th>ImageUrlL</th>\n",
              "    </tr>\n",
              "  </thead>\n",
              "  <tbody>\n",
              "    <tr>\n",
              "      <th>0</th>\n",
              "      <td>\"0195153448\"</td>\n",
              "      <td>\"Classical Mythology\"</td>\n",
              "      <td>\"Mark P. O. Morford\"</td>\n",
              "      <td>\"2002\"</td>\n",
              "      <td>\"Oxford University Press\"</td>\n",
              "      <td>\"http://images.amazon.com/images/P/0195153448....</td>\n",
              "      <td>\"http://images.amazon.com/images/P/0195153448....</td>\n",
              "      <td>\"http://images.amazon.com/images/P/0195153448....</td>\n",
              "    </tr>\n",
              "    <tr>\n",
              "      <th>1</th>\n",
              "      <td>\"0002005018\"</td>\n",
              "      <td>\"Clara Callan\"</td>\n",
              "      <td>\"Richard Bruce Wright\"</td>\n",
              "      <td>\"2001\"</td>\n",
              "      <td>\"HarperFlamingo Canada\"</td>\n",
              "      <td>\"http://images.amazon.com/images/P/0002005018....</td>\n",
              "      <td>\"http://images.amazon.com/images/P/0002005018....</td>\n",
              "      <td>\"http://images.amazon.com/images/P/0002005018....</td>\n",
              "    </tr>\n",
              "    <tr>\n",
              "      <th>2</th>\n",
              "      <td>\"0060973129\"</td>\n",
              "      <td>\"Decision in Normandy\"</td>\n",
              "      <td>\"Carlo D'Este\"</td>\n",
              "      <td>\"1991\"</td>\n",
              "      <td>\"HarperPerennial\"</td>\n",
              "      <td>\"http://images.amazon.com/images/P/0060973129....</td>\n",
              "      <td>\"http://images.amazon.com/images/P/0060973129....</td>\n",
              "      <td>\"http://images.amazon.com/images/P/0060973129....</td>\n",
              "    </tr>\n",
              "    <tr>\n",
              "      <th>3</th>\n",
              "      <td>\"0374157065\"</td>\n",
              "      <td>\"Flu: The Story of the Great Influenza Pandemi...</td>\n",
              "      <td>\"Gina Bari Kolata\"</td>\n",
              "      <td>\"1999\"</td>\n",
              "      <td>\"Farrar Straus Giroux\"</td>\n",
              "      <td>\"http://images.amazon.com/images/P/0374157065....</td>\n",
              "      <td>\"http://images.amazon.com/images/P/0374157065....</td>\n",
              "      <td>\"http://images.amazon.com/images/P/0374157065....</td>\n",
              "    </tr>\n",
              "    <tr>\n",
              "      <th>4</th>\n",
              "      <td>\"0399135782\"</td>\n",
              "      <td>\"The Kitchen God's Wife\"</td>\n",
              "      <td>\"Amy Tan\"</td>\n",
              "      <td>\"1991\"</td>\n",
              "      <td>\"Putnam Pub Group\"</td>\n",
              "      <td>\"http://images.amazon.com/images/P/0399135782....</td>\n",
              "      <td>\"http://images.amazon.com/images/P/0399135782....</td>\n",
              "      <td>\"http://images.amazon.com/images/P/0399135782....</td>\n",
              "    </tr>\n",
              "  </tbody>\n",
              "</table>\n",
              "</div>"
            ],
            "text/plain": [
              "           ISBN  ...                                          ImageUrlL\n",
              "0  \"0195153448\"  ...  \"http://images.amazon.com/images/P/0195153448....\n",
              "1  \"0002005018\"  ...  \"http://images.amazon.com/images/P/0002005018....\n",
              "2  \"0060973129\"  ...  \"http://images.amazon.com/images/P/0060973129....\n",
              "3  \"0374157065\"  ...  \"http://images.amazon.com/images/P/0374157065....\n",
              "4  \"0399135782\"  ...  \"http://images.amazon.com/images/P/0399135782....\n",
              "\n",
              "[5 rows x 8 columns]"
            ]
          },
          "metadata": {
            "tags": []
          },
          "execution_count": 13
        }
      ]
    },
    {
      "cell_type": "code",
      "metadata": {
        "colab": {
          "base_uri": "https://localhost:8080/",
          "height": 206
        },
        "id": "ADu_nDHexDvh",
        "outputId": "8d98fea0-a64f-42fc-aa77-682a748aacbf"
      },
      "source": [
        "ratings.columns = ['UserID', 'ISBN', 'BookRating']\n",
        "ratings.head()"
      ],
      "execution_count": 14,
      "outputs": [
        {
          "output_type": "execute_result",
          "data": {
            "text/html": [
              "<div>\n",
              "<style scoped>\n",
              "    .dataframe tbody tr th:only-of-type {\n",
              "        vertical-align: middle;\n",
              "    }\n",
              "\n",
              "    .dataframe tbody tr th {\n",
              "        vertical-align: top;\n",
              "    }\n",
              "\n",
              "    .dataframe thead th {\n",
              "        text-align: right;\n",
              "    }\n",
              "</style>\n",
              "<table border=\"1\" class=\"dataframe\">\n",
              "  <thead>\n",
              "    <tr style=\"text-align: right;\">\n",
              "      <th></th>\n",
              "      <th>UserID</th>\n",
              "      <th>ISBN</th>\n",
              "      <th>BookRating</th>\n",
              "    </tr>\n",
              "  </thead>\n",
              "  <tbody>\n",
              "    <tr>\n",
              "      <th>0</th>\n",
              "      <td>\"276725\"</td>\n",
              "      <td>\"034545104X\"</td>\n",
              "      <td>\"0\"</td>\n",
              "    </tr>\n",
              "    <tr>\n",
              "      <th>1</th>\n",
              "      <td>\"276726\"</td>\n",
              "      <td>\"0155061224\"</td>\n",
              "      <td>\"5\"</td>\n",
              "    </tr>\n",
              "    <tr>\n",
              "      <th>2</th>\n",
              "      <td>\"276727\"</td>\n",
              "      <td>\"0446520802\"</td>\n",
              "      <td>\"0\"</td>\n",
              "    </tr>\n",
              "    <tr>\n",
              "      <th>3</th>\n",
              "      <td>\"276729\"</td>\n",
              "      <td>\"052165615X\"</td>\n",
              "      <td>\"3\"</td>\n",
              "    </tr>\n",
              "    <tr>\n",
              "      <th>4</th>\n",
              "      <td>\"276729\"</td>\n",
              "      <td>\"0521795028\"</td>\n",
              "      <td>\"6\"</td>\n",
              "    </tr>\n",
              "  </tbody>\n",
              "</table>\n",
              "</div>"
            ],
            "text/plain": [
              "     UserID          ISBN BookRating\n",
              "0  \"276725\"  \"034545104X\"        \"0\"\n",
              "1  \"276726\"  \"0155061224\"        \"5\"\n",
              "2  \"276727\"  \"0446520802\"        \"0\"\n",
              "3  \"276729\"  \"052165615X\"        \"3\"\n",
              "4  \"276729\"  \"0521795028\"        \"6\""
            ]
          },
          "metadata": {
            "tags": []
          },
          "execution_count": 14
        }
      ]
    },
    {
      "cell_type": "code",
      "metadata": {
        "id": "BEdRMHOqnZE5",
        "colab": {
          "base_uri": "https://localhost:8080/"
        },
        "outputId": "ed955dec-2c93-4bad-a9dc-f45d087b1731"
      },
      "source": [
        "print(books.shape)\n",
        "print(list(books.columns))"
      ],
      "execution_count": null,
      "outputs": [
        {
          "output_type": "stream",
          "text": [
            "(271360, 8)\n",
            "['ISBN', 'BookTitle', 'BookAuthor', 'YearOfPublication', 'Publisher', 'ImageUrlS', 'ImageUrlM', 'ImageUrlL']\n"
          ],
          "name": "stdout"
        }
      ]
    },
    {
      "cell_type": "code",
      "metadata": {
        "id": "32zQnc2Qfhe5",
        "colab": {
          "base_uri": "https://localhost:8080/"
        },
        "outputId": "6273dfa8-74e7-4951-a0f0-d7b0271dcaf6"
      },
      "source": [
        "print(ratings.shape)\n",
        "print(list(ratings.columns))"
      ],
      "execution_count": null,
      "outputs": [
        {
          "output_type": "stream",
          "text": [
            "(1149780, 3)\n",
            "['UserID', 'ISBN', 'BookRating']\n"
          ],
          "name": "stdout"
        }
      ]
    },
    {
      "cell_type": "code",
      "metadata": {
        "id": "l9vzTmkFfhe7",
        "colab": {
          "base_uri": "https://localhost:8080/",
          "height": 334
        },
        "outputId": "0540eab8-b626-4648-a7fb-65c222f2b624"
      },
      "source": [
        "plt.rc(\"font\", size=15)\n",
        "ratings.BookRating.value_counts(sort=False).plot(kind='bar')\n",
        "plt.title('Rating Distribution\\n')\n",
        "plt.xlabel('Rating')\n",
        "plt.ylabel('Count')\n",
        "# plt.savefig('system1.png', bbox_inches='tight')\n",
        "plt.show()"
      ],
      "execution_count": null,
      "outputs": [
        {
          "output_type": "display_data",
          "data": {
            "image/png": "[encoded data removed]",
            "text/plain": [
              "<Figure size 432x288 with 1 Axes>"
            ]
          },
          "metadata": {
            "tags": [],
            "needs_background": "light"
          }
        }
      ]
    },
    {
      "cell_type": "code",
      "metadata": {
        "id": "gzQpmgpVnhUx",
        "colab": {
          "base_uri": "https://localhost:8080/"
        },
        "outputId": "d1120026-520a-432d-e348-342991df1808"
      },
      "source": [
        "#Find the minimum and maximum ratings\n",
        "print('Minimum rating is: %d' %(ratings.BookRating.min()))\n",
        "print('Maximum rating is: %d' %(ratings.BookRating.max()))"
      ],
      "execution_count": null,
      "outputs": [
        {
          "output_type": "stream",
          "text": [
            "Minimum rating is: 0\n",
            "Maximum rating is: 10\n"
          ],
          "name": "stdout"
        }
      ]
    },
    {
      "cell_type": "markdown",
      "metadata": {
        "id": "WmscVHjvfhfB"
      },
      "source": [
        "## To ensure statistical significance, users with less than 200 ratings, and books with less than 100 ratings are excluded."
      ]
    },
    {
      "cell_type": "code",
      "metadata": {
        "id": "jv-YRtaTfhfC"
      },
      "source": [
        "counts1 = ratings['UserID'].value_counts()\n",
        "ratings = ratings[ratings['UserID'].isin(counts1[counts1 >= 200].index)]\n",
        "counts = ratings['BookRating'].value_counts()\n",
        "ratings = ratings[ratings['BookRating'].isin(counts[counts >= 100].index)]"
      ],
      "execution_count": null,
      "outputs": []
    },
    {
      "cell_type": "code",
      "metadata": {
        "colab": {
          "base_uri": "https://localhost:8080/"
        },
        "id": "xBV-KvjQ233j",
        "outputId": "b51f7d00-330c-4e8f-96a9-3fb01f1a7513"
      },
      "source": [
        "ratings.shape"
      ],
      "execution_count": null,
      "outputs": [
        {
          "output_type": "execute_result",
          "data": {
            "text/plain": [
              "(527556, 3)"
            ]
          },
          "metadata": {
            "tags": []
          },
          "execution_count": 26
        }
      ]
    },
    {
      "cell_type": "code",
      "metadata": {
        "colab": {
          "base_uri": "https://localhost:8080/",
          "height": 206
        },
        "id": "lmSNljg64Bsk",
        "outputId": "3076747c-4d11-44bb-afcd-0c6200a44b5f"
      },
      "source": [
        "# Combining Books with Book Ratings\n",
        "combine_book_rating = pd.merge(ratings, books, on='ISBN')\n",
        "\n",
        "# dropping the columns which are not required\n",
        "columns = ['YearOfPublication', 'Publisher', 'BookAuthor', 'ImageUrlS', 'ImageUrlM', 'ImageUrlL']\n",
        "combine_book_rating = combine_book_rating.drop(columns, axis=1)\n",
        "combine_book_rating.head()"
      ],
      "execution_count": null,
      "outputs": [
        {
          "output_type": "execute_result",
          "data": {
            "text/html": [
              "<div>\n",
              "<style scoped>\n",
              "    .dataframe tbody tr th:only-of-type {\n",
              "        vertical-align: middle;\n",
              "    }\n",
              "\n",
              "    .dataframe tbody tr th {\n",
              "        vertical-align: top;\n",
              "    }\n",
              "\n",
              "    .dataframe thead th {\n",
              "        text-align: right;\n",
              "    }\n",
              "</style>\n",
              "<table border=\"1\" class=\"dataframe\">\n",
              "  <thead>\n",
              "    <tr style=\"text-align: right;\">\n",
              "      <th></th>\n",
              "      <th>UserID</th>\n",
              "      <th>ISBN</th>\n",
              "      <th>BookRating</th>\n",
              "      <th>BookTitle</th>\n",
              "    </tr>\n",
              "  </thead>\n",
              "  <tbody>\n",
              "    <tr>\n",
              "      <th>0</th>\n",
              "      <td>277427</td>\n",
              "      <td>002542730X</td>\n",
              "      <td>10</td>\n",
              "      <td>Politically Correct Bedtime Stories: Modern Ta...</td>\n",
              "    </tr>\n",
              "    <tr>\n",
              "      <th>1</th>\n",
              "      <td>3363</td>\n",
              "      <td>002542730X</td>\n",
              "      <td>0</td>\n",
              "      <td>Politically Correct Bedtime Stories: Modern Ta...</td>\n",
              "    </tr>\n",
              "    <tr>\n",
              "      <th>2</th>\n",
              "      <td>11676</td>\n",
              "      <td>002542730X</td>\n",
              "      <td>6</td>\n",
              "      <td>Politically Correct Bedtime Stories: Modern Ta...</td>\n",
              "    </tr>\n",
              "    <tr>\n",
              "      <th>3</th>\n",
              "      <td>12538</td>\n",
              "      <td>002542730X</td>\n",
              "      <td>10</td>\n",
              "      <td>Politically Correct Bedtime Stories: Modern Ta...</td>\n",
              "    </tr>\n",
              "    <tr>\n",
              "      <th>4</th>\n",
              "      <td>13552</td>\n",
              "      <td>002542730X</td>\n",
              "      <td>0</td>\n",
              "      <td>Politically Correct Bedtime Stories: Modern Ta...</td>\n",
              "    </tr>\n",
              "  </tbody>\n",
              "</table>\n",
              "</div>"
            ],
            "text/plain": [
              "   UserID  ...                                          BookTitle\n",
              "0  277427  ...  Politically Correct Bedtime Stories: Modern Ta...\n",
              "1    3363  ...  Politically Correct Bedtime Stories: Modern Ta...\n",
              "2   11676  ...  Politically Correct Bedtime Stories: Modern Ta...\n",
              "3   12538  ...  Politically Correct Bedtime Stories: Modern Ta...\n",
              "4   13552  ...  Politically Correct Bedtime Stories: Modern Ta...\n",
              "\n",
              "[5 rows x 4 columns]"
            ]
          },
          "metadata": {
            "tags": []
          },
          "execution_count": 27
        }
      ]
    },
    {
      "cell_type": "code",
      "metadata": {
        "colab": {
          "base_uri": "https://localhost:8080/"
        },
        "id": "0YkU5F8GPZy9",
        "outputId": "df8fd408-faa9-4469-cd05-3336d80cb4c3"
      },
      "source": [
        "combine_book_rating.shape"
      ],
      "execution_count": null,
      "outputs": [
        {
          "output_type": "execute_result",
          "data": {
            "text/plain": [
              "(488742, 4)"
            ]
          },
          "metadata": {
            "tags": []
          },
          "execution_count": 64
        }
      ]
    },
    {
      "cell_type": "markdown",
      "metadata": {
        "id": "DzTWDLuBfhfJ"
      },
      "source": [
        "We then group by book titles and create a new column for total rating count."
      ]
    },
    {
      "cell_type": "code",
      "metadata": {
        "id": "d9tHEeILfhfJ",
        "colab": {
          "base_uri": "https://localhost:8080/",
          "height": 206
        },
        "outputId": "bdd7d1e5-efac-42f8-d897-d4b2d19183c6"
      },
      "source": [
        "combine_book_rating = combine_book_rating.dropna(axis = 0, subset = ['BookTitle'])  # dropping the null values\n",
        "\n",
        "ratingCount = (combine_book_rating.\n",
        "     groupby('BookTitle')['BookRating'].   # groupby(by = ['BookTitle'])['BookRating'].\n",
        "     count().\n",
        "     reset_index().\n",
        "     rename(columns = {'BookRating': 'RatingCount'})\n",
        "     [['BookTitle', 'RatingCount']]\n",
        "    )\n",
        "ratingCount.head()"
      ],
      "execution_count": null,
      "outputs": [
        {
          "output_type": "execute_result",
          "data": {
            "text/html": [
              "<div>\n",
              "<style scoped>\n",
              "    .dataframe tbody tr th:only-of-type {\n",
              "        vertical-align: middle;\n",
              "    }\n",
              "\n",
              "    .dataframe tbody tr th {\n",
              "        vertical-align: top;\n",
              "    }\n",
              "\n",
              "    .dataframe thead th {\n",
              "        text-align: right;\n",
              "    }\n",
              "</style>\n",
              "<table border=\"1\" class=\"dataframe\">\n",
              "  <thead>\n",
              "    <tr style=\"text-align: right;\">\n",
              "      <th></th>\n",
              "      <th>BookTitle</th>\n",
              "      <th>RatingCount</th>\n",
              "    </tr>\n",
              "  </thead>\n",
              "  <tbody>\n",
              "    <tr>\n",
              "      <th>0</th>\n",
              "      <td>A Light in the Storm: The Civil War Diary of ...</td>\n",
              "      <td>2</td>\n",
              "    </tr>\n",
              "    <tr>\n",
              "      <th>1</th>\n",
              "      <td>Always Have Popsicles</td>\n",
              "      <td>1</td>\n",
              "    </tr>\n",
              "    <tr>\n",
              "      <th>2</th>\n",
              "      <td>Apple Magic (The Collector's series)</td>\n",
              "      <td>1</td>\n",
              "    </tr>\n",
              "    <tr>\n",
              "      <th>3</th>\n",
              "      <td>Beyond IBM: Leadership Marketing and Finance ...</td>\n",
              "      <td>1</td>\n",
              "    </tr>\n",
              "    <tr>\n",
              "      <th>4</th>\n",
              "      <td>Clifford Visita El Hospital (Clifford El Gran...</td>\n",
              "      <td>1</td>\n",
              "    </tr>\n",
              "  </tbody>\n",
              "</table>\n",
              "</div>"
            ],
            "text/plain": [
              "                                           BookTitle  RatingCount\n",
              "0   A Light in the Storm: The Civil War Diary of ...            2\n",
              "1                              Always Have Popsicles            1\n",
              "2               Apple Magic (The Collector's series)            1\n",
              "3   Beyond IBM: Leadership Marketing and Finance ...            1\n",
              "4   Clifford Visita El Hospital (Clifford El Gran...            1"
            ]
          },
          "metadata": {
            "tags": []
          },
          "execution_count": 45
        }
      ]
    },
    {
      "cell_type": "code",
      "metadata": {
        "colab": {
          "base_uri": "https://localhost:8080/"
        },
        "id": "fVsn7pzJ9wfB",
        "outputId": "a0d838d8-7511-4e51-ff24-848066b18880"
      },
      "source": [
        "ratingCount.shape"
      ],
      "execution_count": null,
      "outputs": [
        {
          "output_type": "execute_result",
          "data": {
            "text/plain": [
              "(160576, 2)"
            ]
          },
          "metadata": {
            "tags": []
          },
          "execution_count": 34
        }
      ]
    },
    {
      "cell_type": "markdown",
      "metadata": {
        "id": "yuBiTYyG6v42"
      },
      "source": [
        "Now, we will combine cobine_book_rating data with Rating Count data, and later filter out less popular books "
      ]
    },
    {
      "cell_type": "code",
      "metadata": {
        "id": "ycNkqvdKfhfL",
        "colab": {
          "base_uri": "https://localhost:8080/",
          "height": 206
        },
        "outputId": "669d3018-6d1a-421c-dd22-41b4fd4aa1d3"
      },
      "source": [
        "book_rating_ratingCount = pd.merge(combine_book_rating, ratingCount, on='BookTitle')\n",
        "#book_rating_ratingCount = combine_book_rating.merge(ratingCount, left_on = 'BookTitle', right_on = 'BookTitle', how = 'left')\n",
        "book_rating_ratingCount.head()"
      ],
      "execution_count": null,
      "outputs": [
        {
          "output_type": "execute_result",
          "data": {
            "text/html": [
              "<div>\n",
              "<style scoped>\n",
              "    .dataframe tbody tr th:only-of-type {\n",
              "        vertical-align: middle;\n",
              "    }\n",
              "\n",
              "    .dataframe tbody tr th {\n",
              "        vertical-align: top;\n",
              "    }\n",
              "\n",
              "    .dataframe thead th {\n",
              "        text-align: right;\n",
              "    }\n",
              "</style>\n",
              "<table border=\"1\" class=\"dataframe\">\n",
              "  <thead>\n",
              "    <tr style=\"text-align: right;\">\n",
              "      <th></th>\n",
              "      <th>UserID</th>\n",
              "      <th>ISBN</th>\n",
              "      <th>BookRating</th>\n",
              "      <th>BookTitle</th>\n",
              "      <th>RatingCount</th>\n",
              "    </tr>\n",
              "  </thead>\n",
              "  <tbody>\n",
              "    <tr>\n",
              "      <th>0</th>\n",
              "      <td>277427</td>\n",
              "      <td>002542730X</td>\n",
              "      <td>10</td>\n",
              "      <td>Politically Correct Bedtime Stories: Modern Ta...</td>\n",
              "      <td>82</td>\n",
              "    </tr>\n",
              "    <tr>\n",
              "      <th>1</th>\n",
              "      <td>3363</td>\n",
              "      <td>002542730X</td>\n",
              "      <td>0</td>\n",
              "      <td>Politically Correct Bedtime Stories: Modern Ta...</td>\n",
              "      <td>82</td>\n",
              "    </tr>\n",
              "    <tr>\n",
              "      <th>2</th>\n",
              "      <td>11676</td>\n",
              "      <td>002542730X</td>\n",
              "      <td>6</td>\n",
              "      <td>Politically Correct Bedtime Stories: Modern Ta...</td>\n",
              "      <td>82</td>\n",
              "    </tr>\n",
              "    <tr>\n",
              "      <th>3</th>\n",
              "      <td>12538</td>\n",
              "      <td>002542730X</td>\n",
              "      <td>10</td>\n",
              "      <td>Politically Correct Bedtime Stories: Modern Ta...</td>\n",
              "      <td>82</td>\n",
              "    </tr>\n",
              "    <tr>\n",
              "      <th>4</th>\n",
              "      <td>13552</td>\n",
              "      <td>002542730X</td>\n",
              "      <td>0</td>\n",
              "      <td>Politically Correct Bedtime Stories: Modern Ta...</td>\n",
              "      <td>82</td>\n",
              "    </tr>\n",
              "  </tbody>\n",
              "</table>\n",
              "</div>"
            ],
            "text/plain": [
              "   UserID  ... RatingCount\n",
              "0  277427  ...          82\n",
              "1    3363  ...          82\n",
              "2   11676  ...          82\n",
              "3   12538  ...          82\n",
              "4   13552  ...          82\n",
              "\n",
              "[5 rows x 5 columns]"
            ]
          },
          "metadata": {
            "tags": []
          },
          "execution_count": 36
        }
      ]
    },
    {
      "cell_type": "code",
      "metadata": {
        "colab": {
          "base_uri": "https://localhost:8080/"
        },
        "id": "AxJkGGLS9Sa1",
        "outputId": "1a28e723-6c6e-4539-e688-7771264ddeec"
      },
      "source": [
        "book_rating_ratingCount['RatingCount'].describe()"
      ],
      "execution_count": null,
      "outputs": [
        {
          "output_type": "execute_result",
          "data": {
            "text/plain": [
              "count    488742.000000\n",
              "mean         21.173474\n",
              "std          37.189202\n",
              "min           1.000000\n",
              "25%           2.000000\n",
              "50%           6.000000\n",
              "75%          22.000000\n",
              "max         365.000000\n",
              "Name: RatingCount, dtype: float64"
            ]
          },
          "metadata": {
            "tags": []
          },
          "execution_count": 33
        }
      ]
    },
    {
      "cell_type": "markdown",
      "metadata": {
        "id": "XyBKiWwL-o64"
      },
      "source": [
        "Mean is 21, so to filter out only the popular books, we will put a threshold value, so that only the books above the threshold value shall remain in our data"
      ]
    },
    {
      "cell_type": "code",
      "metadata": {
        "id": "KlTFlpCTfhfQ",
        "colab": {
          "base_uri": "https://localhost:8080/",
          "height": 206
        },
        "outputId": "37c23b25-17ef-4279-9d10-de8eccf489ac"
      },
      "source": [
        "popularity_threshold = 50\n",
        "final_df = book_rating_ratingCount.query('RatingCount >= @popularity_threshold')\n",
        "final_df.head()"
      ],
      "execution_count": null,
      "outputs": [
        {
          "output_type": "execute_result",
          "data": {
            "text/html": [
              "<div>\n",
              "<style scoped>\n",
              "    .dataframe tbody tr th:only-of-type {\n",
              "        vertical-align: middle;\n",
              "    }\n",
              "\n",
              "    .dataframe tbody tr th {\n",
              "        vertical-align: top;\n",
              "    }\n",
              "\n",
              "    .dataframe thead th {\n",
              "        text-align: right;\n",
              "    }\n",
              "</style>\n",
              "<table border=\"1\" class=\"dataframe\">\n",
              "  <thead>\n",
              "    <tr style=\"text-align: right;\">\n",
              "      <th></th>\n",
              "      <th>UserID</th>\n",
              "      <th>ISBN</th>\n",
              "      <th>BookRating</th>\n",
              "      <th>BookTitle</th>\n",
              "      <th>RatingCount</th>\n",
              "    </tr>\n",
              "  </thead>\n",
              "  <tbody>\n",
              "    <tr>\n",
              "      <th>0</th>\n",
              "      <td>277427</td>\n",
              "      <td>002542730X</td>\n",
              "      <td>10</td>\n",
              "      <td>Politically Correct Bedtime Stories: Modern Ta...</td>\n",
              "      <td>82</td>\n",
              "    </tr>\n",
              "    <tr>\n",
              "      <th>1</th>\n",
              "      <td>3363</td>\n",
              "      <td>002542730X</td>\n",
              "      <td>0</td>\n",
              "      <td>Politically Correct Bedtime Stories: Modern Ta...</td>\n",
              "      <td>82</td>\n",
              "    </tr>\n",
              "    <tr>\n",
              "      <th>2</th>\n",
              "      <td>11676</td>\n",
              "      <td>002542730X</td>\n",
              "      <td>6</td>\n",
              "      <td>Politically Correct Bedtime Stories: Modern Ta...</td>\n",
              "      <td>82</td>\n",
              "    </tr>\n",
              "    <tr>\n",
              "      <th>3</th>\n",
              "      <td>12538</td>\n",
              "      <td>002542730X</td>\n",
              "      <td>10</td>\n",
              "      <td>Politically Correct Bedtime Stories: Modern Ta...</td>\n",
              "      <td>82</td>\n",
              "    </tr>\n",
              "    <tr>\n",
              "      <th>4</th>\n",
              "      <td>13552</td>\n",
              "      <td>002542730X</td>\n",
              "      <td>0</td>\n",
              "      <td>Politically Correct Bedtime Stories: Modern Ta...</td>\n",
              "      <td>82</td>\n",
              "    </tr>\n",
              "  </tbody>\n",
              "</table>\n",
              "</div>"
            ],
            "text/plain": [
              "   UserID  ... RatingCount\n",
              "0  277427  ...          82\n",
              "1    3363  ...          82\n",
              "2   11676  ...          82\n",
              "3   12538  ...          82\n",
              "4   13552  ...          82\n",
              "\n",
              "[5 rows x 5 columns]"
            ]
          },
          "metadata": {
            "tags": []
          },
          "execution_count": 38
        }
      ]
    },
    {
      "cell_type": "markdown",
      "metadata": {
        "id": "67h2spAXqXjZ"
      },
      "source": [
        "# **Popularity Recommender Model**"
      ]
    },
    {
      "cell_type": "code",
      "metadata": {
        "colab": {
          "base_uri": "https://localhost:8080/",
          "height": 1000
        },
        "id": "m-jzkUSzqe16",
        "outputId": "51add7e8-8eda-4393-c0da-681339e968e3"
      },
      "source": [
        "#Count of UserId for each unique product as recommendation score \n",
        "final_df_score = final_df.groupby('BookTitle').agg({'UserID': 'count'}).reset_index()\n",
        "final_df_score.rename(columns = {'UserID': 'Score'},inplace=True)\n",
        "final_df_score.head(40)"
      ],
      "execution_count": null,
      "outputs": [
        {
          "output_type": "execute_result",
          "data": {
            "text/html": [
              "<div>\n",
              "<style scoped>\n",
              "    .dataframe tbody tr th:only-of-type {\n",
              "        vertical-align: middle;\n",
              "    }\n",
              "\n",
              "    .dataframe tbody tr th {\n",
              "        vertical-align: top;\n",
              "    }\n",
              "\n",
              "    .dataframe thead th {\n",
              "        text-align: right;\n",
              "    }\n",
              "</style>\n",
              "<table border=\"1\" class=\"dataframe\">\n",
              "  <thead>\n",
              "    <tr style=\"text-align: right;\">\n",
              "      <th></th>\n",
              "      <th>BookTitle</th>\n",
              "      <th>Score</th>\n",
              "    </tr>\n",
              "  </thead>\n",
              "  <tbody>\n",
              "    <tr>\n",
              "      <th>0</th>\n",
              "      <td>1984</td>\n",
              "      <td>76</td>\n",
              "    </tr>\n",
              "    <tr>\n",
              "      <th>1</th>\n",
              "      <td>1st to Die: A Novel</td>\n",
              "      <td>162</td>\n",
              "    </tr>\n",
              "    <tr>\n",
              "      <th>2</th>\n",
              "      <td>2nd Chance</td>\n",
              "      <td>124</td>\n",
              "    </tr>\n",
              "    <tr>\n",
              "      <th>3</th>\n",
              "      <td>4 Blondes</td>\n",
              "      <td>72</td>\n",
              "    </tr>\n",
              "    <tr>\n",
              "      <th>4</th>\n",
              "      <td>84 Charing Cross Road</td>\n",
              "      <td>54</td>\n",
              "    </tr>\n",
              "    <tr>\n",
              "      <th>5</th>\n",
              "      <td>A Bend in the Road</td>\n",
              "      <td>116</td>\n",
              "    </tr>\n",
              "    <tr>\n",
              "      <th>6</th>\n",
              "      <td>A Case of Need</td>\n",
              "      <td>77</td>\n",
              "    </tr>\n",
              "    <tr>\n",
              "      <th>7</th>\n",
              "      <td>A Child Called \\It\\\": One Child's Courage to S...</td>\n",
              "      <td>85</td>\n",
              "    </tr>\n",
              "    <tr>\n",
              "      <th>8</th>\n",
              "      <td>A Civil Action</td>\n",
              "      <td>61</td>\n",
              "    </tr>\n",
              "    <tr>\n",
              "      <th>9</th>\n",
              "      <td>A Cry In The Night</td>\n",
              "      <td>50</td>\n",
              "    </tr>\n",
              "    <tr>\n",
              "      <th>10</th>\n",
              "      <td>A Darkness More Than Night</td>\n",
              "      <td>51</td>\n",
              "    </tr>\n",
              "    <tr>\n",
              "      <th>11</th>\n",
              "      <td>A Day Late and a Dollar Short</td>\n",
              "      <td>53</td>\n",
              "    </tr>\n",
              "    <tr>\n",
              "      <th>12</th>\n",
              "      <td>A Fine Balance</td>\n",
              "      <td>63</td>\n",
              "    </tr>\n",
              "    <tr>\n",
              "      <th>13</th>\n",
              "      <td>A Great Deliverance</td>\n",
              "      <td>55</td>\n",
              "    </tr>\n",
              "    <tr>\n",
              "      <th>14</th>\n",
              "      <td>A Heartbreaking Work of Staggering Genius</td>\n",
              "      <td>67</td>\n",
              "    </tr>\n",
              "    <tr>\n",
              "      <th>15</th>\n",
              "      <td>A Is for Alibi (Kinsey Millhone Mysteries (Pap...</td>\n",
              "      <td>140</td>\n",
              "    </tr>\n",
              "    <tr>\n",
              "      <th>16</th>\n",
              "      <td>A Lesson Before Dying (Vintage Contemporaries ...</td>\n",
              "      <td>61</td>\n",
              "    </tr>\n",
              "    <tr>\n",
              "      <th>17</th>\n",
              "      <td>A Man Named Dave: A Story of Triumph and Forgi...</td>\n",
              "      <td>50</td>\n",
              "    </tr>\n",
              "    <tr>\n",
              "      <th>18</th>\n",
              "      <td>A Man in Full</td>\n",
              "      <td>65</td>\n",
              "    </tr>\n",
              "    <tr>\n",
              "      <th>19</th>\n",
              "      <td>A Map of the World</td>\n",
              "      <td>120</td>\n",
              "    </tr>\n",
              "    <tr>\n",
              "      <th>20</th>\n",
              "      <td>A Painted House</td>\n",
              "      <td>228</td>\n",
              "    </tr>\n",
              "    <tr>\n",
              "      <th>21</th>\n",
              "      <td>A Patchwork Planet</td>\n",
              "      <td>57</td>\n",
              "    </tr>\n",
              "    <tr>\n",
              "      <th>22</th>\n",
              "      <td>A Prayer for Owen Meany</td>\n",
              "      <td>137</td>\n",
              "    </tr>\n",
              "    <tr>\n",
              "      <th>23</th>\n",
              "      <td>A Thin Dark Line (Mysteries &amp;amp; Horror)</td>\n",
              "      <td>61</td>\n",
              "    </tr>\n",
              "    <tr>\n",
              "      <th>24</th>\n",
              "      <td>A Thousand Acres (Ballantine Reader's Circle)</td>\n",
              "      <td>78</td>\n",
              "    </tr>\n",
              "    <tr>\n",
              "      <th>25</th>\n",
              "      <td>A Time to Kill</td>\n",
              "      <td>210</td>\n",
              "    </tr>\n",
              "    <tr>\n",
              "      <th>26</th>\n",
              "      <td>A Virtuous Woman (Oprah's Book Club (Paperback))</td>\n",
              "      <td>69</td>\n",
              "    </tr>\n",
              "    <tr>\n",
              "      <th>27</th>\n",
              "      <td>A Walk to Remember</td>\n",
              "      <td>137</td>\n",
              "    </tr>\n",
              "    <tr>\n",
              "      <th>28</th>\n",
              "      <td>A Widow for One Year</td>\n",
              "      <td>97</td>\n",
              "    </tr>\n",
              "    <tr>\n",
              "      <th>29</th>\n",
              "      <td>A Wrinkle In Time</td>\n",
              "      <td>61</td>\n",
              "    </tr>\n",
              "    <tr>\n",
              "      <th>30</th>\n",
              "      <td>A Wrinkle in Time</td>\n",
              "      <td>76</td>\n",
              "    </tr>\n",
              "    <tr>\n",
              "      <th>31</th>\n",
              "      <td>A Year in Provence</td>\n",
              "      <td>52</td>\n",
              "    </tr>\n",
              "    <tr>\n",
              "      <th>32</th>\n",
              "      <td>ANGELA'S ASHES</td>\n",
              "      <td>81</td>\n",
              "    </tr>\n",
              "    <tr>\n",
              "      <th>33</th>\n",
              "      <td>Abduction</td>\n",
              "      <td>50</td>\n",
              "    </tr>\n",
              "    <tr>\n",
              "      <th>34</th>\n",
              "      <td>About a Boy</td>\n",
              "      <td>64</td>\n",
              "    </tr>\n",
              "    <tr>\n",
              "      <th>35</th>\n",
              "      <td>Absolute Power</td>\n",
              "      <td>69</td>\n",
              "    </tr>\n",
              "    <tr>\n",
              "      <th>36</th>\n",
              "      <td>Acceptable Risk</td>\n",
              "      <td>56</td>\n",
              "    </tr>\n",
              "    <tr>\n",
              "      <th>37</th>\n",
              "      <td>Accident</td>\n",
              "      <td>64</td>\n",
              "    </tr>\n",
              "    <tr>\n",
              "      <th>38</th>\n",
              "      <td>Airframe</td>\n",
              "      <td>103</td>\n",
              "    </tr>\n",
              "    <tr>\n",
              "      <th>39</th>\n",
              "      <td>Alaska</td>\n",
              "      <td>50</td>\n",
              "    </tr>\n",
              "  </tbody>\n",
              "</table>\n",
              "</div>"
            ],
            "text/plain": [
              "                                            BookTitle  Score\n",
              "0                                                1984     76\n",
              "1                                 1st to Die: A Novel    162\n",
              "2                                          2nd Chance    124\n",
              "3                                           4 Blondes     72\n",
              "4                               84 Charing Cross Road     54\n",
              "5                                  A Bend in the Road    116\n",
              "6                                      A Case of Need     77\n",
              "7   A Child Called \\It\\\": One Child's Courage to S...     85\n",
              "8                                      A Civil Action     61\n",
              "9                                  A Cry In The Night     50\n",
              "10                         A Darkness More Than Night     51\n",
              "11                      A Day Late and a Dollar Short     53\n",
              "12                                     A Fine Balance     63\n",
              "13                                A Great Deliverance     55\n",
              "14          A Heartbreaking Work of Staggering Genius     67\n",
              "15  A Is for Alibi (Kinsey Millhone Mysteries (Pap...    140\n",
              "16  A Lesson Before Dying (Vintage Contemporaries ...     61\n",
              "17  A Man Named Dave: A Story of Triumph and Forgi...     50\n",
              "18                                      A Man in Full     65\n",
              "19                                 A Map of the World    120\n",
              "20                                    A Painted House    228\n",
              "21                                 A Patchwork Planet     57\n",
              "22                            A Prayer for Owen Meany    137\n",
              "23          A Thin Dark Line (Mysteries &amp; Horror)     61\n",
              "24      A Thousand Acres (Ballantine Reader's Circle)     78\n",
              "25                                     A Time to Kill    210\n",
              "26   A Virtuous Woman (Oprah's Book Club (Paperback))     69\n",
              "27                                 A Walk to Remember    137\n",
              "28                               A Widow for One Year     97\n",
              "29                                  A Wrinkle In Time     61\n",
              "30                                  A Wrinkle in Time     76\n",
              "31                                 A Year in Provence     52\n",
              "32                                     ANGELA'S ASHES     81\n",
              "33                                          Abduction     50\n",
              "34                                        About a Boy     64\n",
              "35                                     Absolute Power     69\n",
              "36                                    Acceptable Risk     56\n",
              "37                                           Accident     64\n",
              "38                                           Airframe    103\n",
              "39                                             Alaska     50"
            ]
          },
          "metadata": {
            "tags": []
          },
          "execution_count": 42
        }
      ]
    },
    {
      "cell_type": "code",
      "metadata": {
        "colab": {
          "base_uri": "https://localhost:8080/",
          "height": 206
        },
        "id": "VLo8xv3iqxk9",
        "outputId": "8dd773e5-522c-4ded-cbdf-ee14c8c2bafb"
      },
      "source": [
        "#Sort the products on recommendation score \n",
        "final_df_sort = final_df_score.sort_values(['Score'], ascending = False)  #final_df_sort = final_df_score.sort_values(['score', 'productId'], ascending = [0,1])\n",
        "      \n",
        "#Generate a recommendation rank based upon score \n",
        "final_df_sort['Rank'] = final_df_sort['Score'].rank(ascending=0, method='first')  #ascending=0 and ascending=False are same\n",
        "          \n",
        "#Get the top 5 recommendations \n",
        "popularity_recommendations = final_df_sort.head(5) \n",
        "popularity_recommendations"
      ],
      "execution_count": null,
      "outputs": [
        {
          "output_type": "execute_result",
          "data": {
            "text/html": [
              "<div>\n",
              "<style scoped>\n",
              "    .dataframe tbody tr th:only-of-type {\n",
              "        vertical-align: middle;\n",
              "    }\n",
              "\n",
              "    .dataframe tbody tr th {\n",
              "        vertical-align: top;\n",
              "    }\n",
              "\n",
              "    .dataframe thead th {\n",
              "        text-align: right;\n",
              "    }\n",
              "</style>\n",
              "<table border=\"1\" class=\"dataframe\">\n",
              "  <thead>\n",
              "    <tr style=\"text-align: right;\">\n",
              "      <th></th>\n",
              "      <th>BookTitle</th>\n",
              "      <th>Score</th>\n",
              "      <th>Rank</th>\n",
              "    </tr>\n",
              "  </thead>\n",
              "  <tbody>\n",
              "    <tr>\n",
              "      <th>734</th>\n",
              "      <td>Wild Animus</td>\n",
              "      <td>365</td>\n",
              "      <td>1.0</td>\n",
              "    </tr>\n",
              "    <tr>\n",
              "      <th>95</th>\n",
              "      <td>Bridget Jones's Diary</td>\n",
              "      <td>278</td>\n",
              "      <td>2.0</td>\n",
              "    </tr>\n",
              "    <tr>\n",
              "      <th>605</th>\n",
              "      <td>The Lovely Bones: A Novel</td>\n",
              "      <td>272</td>\n",
              "      <td>3.0</td>\n",
              "    </tr>\n",
              "    <tr>\n",
              "      <th>614</th>\n",
              "      <td>The Notebook</td>\n",
              "      <td>242</td>\n",
              "      <td>4.0</td>\n",
              "    </tr>\n",
              "    <tr>\n",
              "      <th>617</th>\n",
              "      <td>The Pelican Brief</td>\n",
              "      <td>236</td>\n",
              "      <td>5.0</td>\n",
              "    </tr>\n",
              "  </tbody>\n",
              "</table>\n",
              "</div>"
            ],
            "text/plain": [
              "                     BookTitle  Score  Rank\n",
              "734                Wild Animus    365   1.0\n",
              "95       Bridget Jones's Diary    278   2.0\n",
              "605  The Lovely Bones: A Novel    272   3.0\n",
              "614               The Notebook    242   4.0\n",
              "617          The Pelican Brief    236   5.0"
            ]
          },
          "metadata": {
            "tags": []
          },
          "execution_count": 51
        }
      ]
    },
    {
      "cell_type": "code",
      "metadata": {
        "id": "47bt3Ublq3-p"
      },
      "source": [
        "# Use popularity based recommender model to make predictions\n",
        "def recommend(user_id):     \n",
        "    user_recommendations = popularity_recommendations \n",
        "          \n",
        "    #Add user_id column for which the recommendations are being generated \n",
        "    user_recommendations['UserID'] = user_id \n",
        "      \n",
        "    #Bring user_id column to the front \n",
        "    cols = user_recommendations.columns.tolist() \n",
        "    cols = cols[-1:] + cols[:-1] \n",
        "    user_recommendations = user_recommendations[cols] \n",
        "          \n",
        "    return user_recommendations"
      ],
      "execution_count": null,
      "outputs": []
    },
    {
      "cell_type": "code",
      "metadata": {
        "colab": {
          "base_uri": "https://localhost:8080/"
        },
        "id": "alZGPTbwrX-5",
        "outputId": "b1f06170-f9b6-46f6-d88c-41ed002dfad3"
      },
      "source": [
        "user_index = [1,7,26,60,65,110,1000]   # This list is user choice.\n",
        "for i in user_index:\n",
        "    print(\"The list of recommendations for the userId: %d\\n\" %(i))\n",
        "    print(recommend(i))    \n",
        "    print(\"\\n\")"
      ],
      "execution_count": null,
      "outputs": [
        {
          "output_type": "stream",
          "text": [
            "The list of recommendations for the userId: 1\n",
            "\n",
            "     UserID                  BookTitle  Score  Rank\n",
            "734       1                Wild Animus    365   1.0\n",
            "95        1      Bridget Jones's Diary    278   2.0\n",
            "605       1  The Lovely Bones: A Novel    272   3.0\n",
            "614       1               The Notebook    242   4.0\n",
            "617       1          The Pelican Brief    236   5.0\n",
            "\n",
            "\n",
            "The list of recommendations for the userId: 7\n",
            "\n",
            "     UserID                  BookTitle  Score  Rank\n",
            "734       7                Wild Animus    365   1.0\n",
            "95        7      Bridget Jones's Diary    278   2.0\n",
            "605       7  The Lovely Bones: A Novel    272   3.0\n",
            "614       7               The Notebook    242   4.0\n",
            "617       7          The Pelican Brief    236   5.0\n",
            "\n",
            "\n",
            "The list of recommendations for the userId: 26\n",
            "\n",
            "     UserID                  BookTitle  Score  Rank\n",
            "734      26                Wild Animus    365   1.0\n",
            "95       26      Bridget Jones's Diary    278   2.0\n",
            "605      26  The Lovely Bones: A Novel    272   3.0\n",
            "614      26               The Notebook    242   4.0\n",
            "617      26          The Pelican Brief    236   5.0\n",
            "\n",
            "\n",
            "The list of recommendations for the userId: 60\n",
            "\n",
            "     UserID                  BookTitle  Score  Rank\n",
            "734      60                Wild Animus    365   1.0\n",
            "95       60      Bridget Jones's Diary    278   2.0\n",
            "605      60  The Lovely Bones: A Novel    272   3.0\n",
            "614      60               The Notebook    242   4.0\n",
            "617      60          The Pelican Brief    236   5.0\n",
            "\n",
            "\n",
            "The list of recommendations for the userId: 65\n",
            "\n",
            "     UserID                  BookTitle  Score  Rank\n",
            "734      65                Wild Animus    365   1.0\n",
            "95       65      Bridget Jones's Diary    278   2.0\n",
            "605      65  The Lovely Bones: A Novel    272   3.0\n",
            "614      65               The Notebook    242   4.0\n",
            "617      65          The Pelican Brief    236   5.0\n",
            "\n",
            "\n",
            "The list of recommendations for the userId: 110\n",
            "\n",
            "     UserID                  BookTitle  Score  Rank\n",
            "734     110                Wild Animus    365   1.0\n",
            "95      110      Bridget Jones's Diary    278   2.0\n",
            "605     110  The Lovely Bones: A Novel    272   3.0\n",
            "614     110               The Notebook    242   4.0\n",
            "617     110          The Pelican Brief    236   5.0\n",
            "\n",
            "\n",
            "The list of recommendations for the userId: 1000\n",
            "\n",
            "     UserID                  BookTitle  Score  Rank\n",
            "734    1000                Wild Animus    365   1.0\n",
            "95     1000      Bridget Jones's Diary    278   2.0\n",
            "605    1000  The Lovely Bones: A Novel    272   3.0\n",
            "614    1000               The Notebook    242   4.0\n",
            "617    1000          The Pelican Brief    236   5.0\n",
            "\n",
            "\n"
          ],
          "name": "stdout"
        },
        {
          "output_type": "stream",
          "text": [
            "/usr/local/lib/python3.7/dist-packages/ipykernel_launcher.py:6: SettingWithCopyWarning: \n",
            "A value is trying to be set on a copy of a slice from a DataFrame.\n",
            "Try using .loc[row_indexer,col_indexer] = value instead\n",
            "\n",
            "See the caveats in the documentation: https://pandas.pydata.org/pandas-docs/stable/user_guide/indexing.html#returning-a-view-versus-a-copy\n",
            "  \n",
            "/usr/local/lib/python3.7/dist-packages/ipykernel_launcher.py:6: SettingWithCopyWarning: \n",
            "A value is trying to be set on a copy of a slice from a DataFrame.\n",
            "Try using .loc[row_indexer,col_indexer] = value instead\n",
            "\n",
            "See the caveats in the documentation: https://pandas.pydata.org/pandas-docs/stable/user_guide/indexing.html#returning-a-view-versus-a-copy\n",
            "  \n",
            "/usr/local/lib/python3.7/dist-packages/ipykernel_launcher.py:6: SettingWithCopyWarning: \n",
            "A value is trying to be set on a copy of a slice from a DataFrame.\n",
            "Try using .loc[row_indexer,col_indexer] = value instead\n",
            "\n",
            "See the caveats in the documentation: https://pandas.pydata.org/pandas-docs/stable/user_guide/indexing.html#returning-a-view-versus-a-copy\n",
            "  \n",
            "/usr/local/lib/python3.7/dist-packages/ipykernel_launcher.py:6: SettingWithCopyWarning: \n",
            "A value is trying to be set on a copy of a slice from a DataFrame.\n",
            "Try using .loc[row_indexer,col_indexer] = value instead\n",
            "\n",
            "See the caveats in the documentation: https://pandas.pydata.org/pandas-docs/stable/user_guide/indexing.html#returning-a-view-versus-a-copy\n",
            "  \n",
            "/usr/local/lib/python3.7/dist-packages/ipykernel_launcher.py:6: SettingWithCopyWarning: \n",
            "A value is trying to be set on a copy of a slice from a DataFrame.\n",
            "Try using .loc[row_indexer,col_indexer] = value instead\n",
            "\n",
            "See the caveats in the documentation: https://pandas.pydata.org/pandas-docs/stable/user_guide/indexing.html#returning-a-view-versus-a-copy\n",
            "  \n",
            "/usr/local/lib/python3.7/dist-packages/ipykernel_launcher.py:6: SettingWithCopyWarning: \n",
            "A value is trying to be set on a copy of a slice from a DataFrame.\n",
            "Try using .loc[row_indexer,col_indexer] = value instead\n",
            "\n",
            "See the caveats in the documentation: https://pandas.pydata.org/pandas-docs/stable/user_guide/indexing.html#returning-a-view-versus-a-copy\n",
            "  \n",
            "/usr/local/lib/python3.7/dist-packages/ipykernel_launcher.py:6: SettingWithCopyWarning: \n",
            "A value is trying to be set on a copy of a slice from a DataFrame.\n",
            "Try using .loc[row_indexer,col_indexer] = value instead\n",
            "\n",
            "See the caveats in the documentation: https://pandas.pydata.org/pandas-docs/stable/user_guide/indexing.html#returning-a-view-versus-a-copy\n",
            "  \n"
          ],
          "name": "stderr"
        }
      ]
    },
    {
      "cell_type": "markdown",
      "metadata": {
        "id": "87TUMzgDrfhF"
      },
      "source": [
        "\n",
        "\n",
        "Since, it is a Popularity recommender model, so, all the users are given the same recommendations. Here, we predict the products based on the popularity. It is not personalized to particular user. It is a non-personalized recommender system.\n",
        "\n"
      ]
    },
    {
      "cell_type": "markdown",
      "metadata": {
        "id": "uyTTxtztFwLH"
      },
      "source": [
        "### Since, all the new-comer users are recommended the same Books, Accuracy is 100%"
      ]
    },
    {
      "cell_type": "markdown",
      "metadata": {
        "id": "gPU-loB5fhfF"
      },
      "source": [
        "# **Collaborative Filtering Using k-Nearest Neighbors (kNN)**\n"
      ]
    },
    {
      "cell_type": "markdown",
      "metadata": {
        "id": "cHAUfDkffhfS"
      },
      "source": [
        "## Implementing kNN\n",
        "We convert our table to a 2D matrix, and fill the missing values with zeros (since we will calculate distances between rating vectors). We then transform the values(ratings) of the matrix dataframe into a scipy sparse matrix for more efficient calculations.\n",
        "\n",
        "For finding the Nearest Neighbors, we use unsupervised algorithms with sklearn.neighbors. The algorithm we use to compute the nearest neighbors is “brute”, and we specify “metric=cosine” so that the algorithm will calculate the cosine similarity between rating vectors. Finally, we fit the model."
      ]
    },
    {
      "cell_type": "code",
      "metadata": {
        "id": "lggKcJ_HfhfT",
        "colab": {
          "base_uri": "https://localhost:8080/",
          "height": 356
        },
        "outputId": "dbb413a5-0779-4b39-97a3-bcf72e103c50"
      },
      "source": [
        "from scipy.sparse import csr_matrix\n",
        "final_df = final_df.drop_duplicates(['UserID', 'BookTitle'])\n",
        "final_df_pivot = final_df.pivot(index = 'BookTitle', columns = 'UserID', values = 'BookRating').fillna(0)\n",
        "final_df_pivot.head()"
      ],
      "execution_count": null,
      "outputs": [
        {
          "output_type": "execute_result",
          "data": {
            "text/html": [
              "<div>\n",
              "<style scoped>\n",
              "    .dataframe tbody tr th:only-of-type {\n",
              "        vertical-align: middle;\n",
              "    }\n",
              "\n",
              "    .dataframe tbody tr th {\n",
              "        vertical-align: top;\n",
              "    }\n",
              "\n",
              "    .dataframe thead th {\n",
              "        text-align: right;\n",
              "    }\n",
              "</style>\n",
              "<table border=\"1\" class=\"dataframe\">\n",
              "  <thead>\n",
              "    <tr style=\"text-align: right;\">\n",
              "      <th>UserID</th>\n",
              "      <th>254</th>\n",
              "      <th>2276</th>\n",
              "      <th>2766</th>\n",
              "      <th>2977</th>\n",
              "      <th>3363</th>\n",
              "      <th>3757</th>\n",
              "      <th>4017</th>\n",
              "      <th>4385</th>\n",
              "      <th>6242</th>\n",
              "      <th>6251</th>\n",
              "      <th>6323</th>\n",
              "      <th>6543</th>\n",
              "      <th>6563</th>\n",
              "      <th>6575</th>\n",
              "      <th>7158</th>\n",
              "      <th>7286</th>\n",
              "      <th>7346</th>\n",
              "      <th>7915</th>\n",
              "      <th>8067</th>\n",
              "      <th>8245</th>\n",
              "      <th>8681</th>\n",
              "      <th>8936</th>\n",
              "      <th>9856</th>\n",
              "      <th>10447</th>\n",
              "      <th>10819</th>\n",
              "      <th>11601</th>\n",
              "      <th>11676</th>\n",
              "      <th>11993</th>\n",
              "      <th>12538</th>\n",
              "      <th>12824</th>\n",
              "      <th>12982</th>\n",
              "      <th>13082</th>\n",
              "      <th>13273</th>\n",
              "      <th>13552</th>\n",
              "      <th>13850</th>\n",
              "      <th>14422</th>\n",
              "      <th>14521</th>\n",
              "      <th>15408</th>\n",
              "      <th>15418</th>\n",
              "      <th>15957</th>\n",
              "      <th>...</th>\n",
              "      <th>264317</th>\n",
              "      <th>264321</th>\n",
              "      <th>264637</th>\n",
              "      <th>265115</th>\n",
              "      <th>265313</th>\n",
              "      <th>265595</th>\n",
              "      <th>265889</th>\n",
              "      <th>266056</th>\n",
              "      <th>266226</th>\n",
              "      <th>266753</th>\n",
              "      <th>266865</th>\n",
              "      <th>266866</th>\n",
              "      <th>267635</th>\n",
              "      <th>268030</th>\n",
              "      <th>268032</th>\n",
              "      <th>268110</th>\n",
              "      <th>268330</th>\n",
              "      <th>268622</th>\n",
              "      <th>268932</th>\n",
              "      <th>269566</th>\n",
              "      <th>269719</th>\n",
              "      <th>269728</th>\n",
              "      <th>269890</th>\n",
              "      <th>270713</th>\n",
              "      <th>270820</th>\n",
              "      <th>271195</th>\n",
              "      <th>271284</th>\n",
              "      <th>271448</th>\n",
              "      <th>271705</th>\n",
              "      <th>273979</th>\n",
              "      <th>274004</th>\n",
              "      <th>274061</th>\n",
              "      <th>274301</th>\n",
              "      <th>274308</th>\n",
              "      <th>274808</th>\n",
              "      <th>275970</th>\n",
              "      <th>277427</th>\n",
              "      <th>277478</th>\n",
              "      <th>277639</th>\n",
              "      <th>278418</th>\n",
              "    </tr>\n",
              "    <tr>\n",
              "      <th>BookTitle</th>\n",
              "      <th></th>\n",
              "      <th></th>\n",
              "      <th></th>\n",
              "      <th></th>\n",
              "      <th></th>\n",
              "      <th></th>\n",
              "      <th></th>\n",
              "      <th></th>\n",
              "      <th></th>\n",
              "      <th></th>\n",
              "      <th></th>\n",
              "      <th></th>\n",
              "      <th></th>\n",
              "      <th></th>\n",
              "      <th></th>\n",
              "      <th></th>\n",
              "      <th></th>\n",
              "      <th></th>\n",
              "      <th></th>\n",
              "      <th></th>\n",
              "      <th></th>\n",
              "      <th></th>\n",
              "      <th></th>\n",
              "      <th></th>\n",
              "      <th></th>\n",
              "      <th></th>\n",
              "      <th></th>\n",
              "      <th></th>\n",
              "      <th></th>\n",
              "      <th></th>\n",
              "      <th></th>\n",
              "      <th></th>\n",
              "      <th></th>\n",
              "      <th></th>\n",
              "      <th></th>\n",
              "      <th></th>\n",
              "      <th></th>\n",
              "      <th></th>\n",
              "      <th></th>\n",
              "      <th></th>\n",
              "      <th></th>\n",
              "      <th></th>\n",
              "      <th></th>\n",
              "      <th></th>\n",
              "      <th></th>\n",
              "      <th></th>\n",
              "      <th></th>\n",
              "      <th></th>\n",
              "      <th></th>\n",
              "      <th></th>\n",
              "      <th></th>\n",
              "      <th></th>\n",
              "      <th></th>\n",
              "      <th></th>\n",
              "      <th></th>\n",
              "      <th></th>\n",
              "      <th></th>\n",
              "      <th></th>\n",
              "      <th></th>\n",
              "      <th></th>\n",
              "      <th></th>\n",
              "      <th></th>\n",
              "      <th></th>\n",
              "      <th></th>\n",
              "      <th></th>\n",
              "      <th></th>\n",
              "      <th></th>\n",
              "      <th></th>\n",
              "      <th></th>\n",
              "      <th></th>\n",
              "      <th></th>\n",
              "      <th></th>\n",
              "      <th></th>\n",
              "      <th></th>\n",
              "      <th></th>\n",
              "      <th></th>\n",
              "      <th></th>\n",
              "      <th></th>\n",
              "      <th></th>\n",
              "      <th></th>\n",
              "      <th></th>\n",
              "    </tr>\n",
              "  </thead>\n",
              "  <tbody>\n",
              "    <tr>\n",
              "      <th>1984</th>\n",
              "      <td>9.0</td>\n",
              "      <td>0.0</td>\n",
              "      <td>0.0</td>\n",
              "      <td>0.0</td>\n",
              "      <td>0.0</td>\n",
              "      <td>0.0</td>\n",
              "      <td>0.0</td>\n",
              "      <td>0.0</td>\n",
              "      <td>0.0</td>\n",
              "      <td>0.0</td>\n",
              "      <td>0.0</td>\n",
              "      <td>0.0</td>\n",
              "      <td>0.0</td>\n",
              "      <td>0.0</td>\n",
              "      <td>0.0</td>\n",
              "      <td>0.0</td>\n",
              "      <td>8.0</td>\n",
              "      <td>0.0</td>\n",
              "      <td>0.0</td>\n",
              "      <td>0.0</td>\n",
              "      <td>0.0</td>\n",
              "      <td>0.0</td>\n",
              "      <td>0.0</td>\n",
              "      <td>0.0</td>\n",
              "      <td>0.0</td>\n",
              "      <td>0.0</td>\n",
              "      <td>0.0</td>\n",
              "      <td>0.0</td>\n",
              "      <td>0.0</td>\n",
              "      <td>0.0</td>\n",
              "      <td>0.0</td>\n",
              "      <td>0.0</td>\n",
              "      <td>0.0</td>\n",
              "      <td>0.0</td>\n",
              "      <td>0.0</td>\n",
              "      <td>0.0</td>\n",
              "      <td>0.0</td>\n",
              "      <td>9.0</td>\n",
              "      <td>0.0</td>\n",
              "      <td>0.0</td>\n",
              "      <td>...</td>\n",
              "      <td>0.0</td>\n",
              "      <td>0.0</td>\n",
              "      <td>0.0</td>\n",
              "      <td>0.0</td>\n",
              "      <td>0.0</td>\n",
              "      <td>0.0</td>\n",
              "      <td>0.0</td>\n",
              "      <td>0.0</td>\n",
              "      <td>0.0</td>\n",
              "      <td>0.0</td>\n",
              "      <td>0.0</td>\n",
              "      <td>0.0</td>\n",
              "      <td>0.0</td>\n",
              "      <td>0.0</td>\n",
              "      <td>0.0</td>\n",
              "      <td>0.0</td>\n",
              "      <td>0.0</td>\n",
              "      <td>0.0</td>\n",
              "      <td>0.0</td>\n",
              "      <td>0.0</td>\n",
              "      <td>0.0</td>\n",
              "      <td>0.0</td>\n",
              "      <td>0.0</td>\n",
              "      <td>0.0</td>\n",
              "      <td>0.0</td>\n",
              "      <td>0.0</td>\n",
              "      <td>0.0</td>\n",
              "      <td>0.0</td>\n",
              "      <td>10.0</td>\n",
              "      <td>0.0</td>\n",
              "      <td>0.0</td>\n",
              "      <td>0.0</td>\n",
              "      <td>0.0</td>\n",
              "      <td>0.0</td>\n",
              "      <td>0.0</td>\n",
              "      <td>0.0</td>\n",
              "      <td>0.0</td>\n",
              "      <td>0.0</td>\n",
              "      <td>0.0</td>\n",
              "      <td>0.0</td>\n",
              "    </tr>\n",
              "    <tr>\n",
              "      <th>1st to Die: A Novel</th>\n",
              "      <td>0.0</td>\n",
              "      <td>0.0</td>\n",
              "      <td>0.0</td>\n",
              "      <td>0.0</td>\n",
              "      <td>0.0</td>\n",
              "      <td>0.0</td>\n",
              "      <td>0.0</td>\n",
              "      <td>0.0</td>\n",
              "      <td>0.0</td>\n",
              "      <td>0.0</td>\n",
              "      <td>0.0</td>\n",
              "      <td>9.0</td>\n",
              "      <td>0.0</td>\n",
              "      <td>0.0</td>\n",
              "      <td>0.0</td>\n",
              "      <td>0.0</td>\n",
              "      <td>0.0</td>\n",
              "      <td>0.0</td>\n",
              "      <td>0.0</td>\n",
              "      <td>0.0</td>\n",
              "      <td>0.0</td>\n",
              "      <td>0.0</td>\n",
              "      <td>0.0</td>\n",
              "      <td>0.0</td>\n",
              "      <td>0.0</td>\n",
              "      <td>0.0</td>\n",
              "      <td>10.0</td>\n",
              "      <td>0.0</td>\n",
              "      <td>0.0</td>\n",
              "      <td>0.0</td>\n",
              "      <td>0.0</td>\n",
              "      <td>0.0</td>\n",
              "      <td>0.0</td>\n",
              "      <td>0.0</td>\n",
              "      <td>0.0</td>\n",
              "      <td>0.0</td>\n",
              "      <td>0.0</td>\n",
              "      <td>0.0</td>\n",
              "      <td>0.0</td>\n",
              "      <td>0.0</td>\n",
              "      <td>...</td>\n",
              "      <td>0.0</td>\n",
              "      <td>0.0</td>\n",
              "      <td>0.0</td>\n",
              "      <td>0.0</td>\n",
              "      <td>0.0</td>\n",
              "      <td>0.0</td>\n",
              "      <td>0.0</td>\n",
              "      <td>7.0</td>\n",
              "      <td>0.0</td>\n",
              "      <td>0.0</td>\n",
              "      <td>0.0</td>\n",
              "      <td>0.0</td>\n",
              "      <td>0.0</td>\n",
              "      <td>0.0</td>\n",
              "      <td>0.0</td>\n",
              "      <td>0.0</td>\n",
              "      <td>0.0</td>\n",
              "      <td>0.0</td>\n",
              "      <td>0.0</td>\n",
              "      <td>0.0</td>\n",
              "      <td>0.0</td>\n",
              "      <td>0.0</td>\n",
              "      <td>0.0</td>\n",
              "      <td>0.0</td>\n",
              "      <td>0.0</td>\n",
              "      <td>0.0</td>\n",
              "      <td>0.0</td>\n",
              "      <td>0.0</td>\n",
              "      <td>0.0</td>\n",
              "      <td>0.0</td>\n",
              "      <td>0.0</td>\n",
              "      <td>0.0</td>\n",
              "      <td>0.0</td>\n",
              "      <td>0.0</td>\n",
              "      <td>0.0</td>\n",
              "      <td>0.0</td>\n",
              "      <td>0.0</td>\n",
              "      <td>0.0</td>\n",
              "      <td>0.0</td>\n",
              "      <td>0.0</td>\n",
              "    </tr>\n",
              "    <tr>\n",
              "      <th>2nd Chance</th>\n",
              "      <td>0.0</td>\n",
              "      <td>10.0</td>\n",
              "      <td>0.0</td>\n",
              "      <td>0.0</td>\n",
              "      <td>0.0</td>\n",
              "      <td>0.0</td>\n",
              "      <td>0.0</td>\n",
              "      <td>0.0</td>\n",
              "      <td>0.0</td>\n",
              "      <td>0.0</td>\n",
              "      <td>0.0</td>\n",
              "      <td>0.0</td>\n",
              "      <td>0.0</td>\n",
              "      <td>0.0</td>\n",
              "      <td>0.0</td>\n",
              "      <td>0.0</td>\n",
              "      <td>0.0</td>\n",
              "      <td>0.0</td>\n",
              "      <td>0.0</td>\n",
              "      <td>0.0</td>\n",
              "      <td>0.0</td>\n",
              "      <td>0.0</td>\n",
              "      <td>0.0</td>\n",
              "      <td>0.0</td>\n",
              "      <td>0.0</td>\n",
              "      <td>0.0</td>\n",
              "      <td>8.0</td>\n",
              "      <td>0.0</td>\n",
              "      <td>0.0</td>\n",
              "      <td>0.0</td>\n",
              "      <td>0.0</td>\n",
              "      <td>0.0</td>\n",
              "      <td>0.0</td>\n",
              "      <td>0.0</td>\n",
              "      <td>0.0</td>\n",
              "      <td>0.0</td>\n",
              "      <td>0.0</td>\n",
              "      <td>0.0</td>\n",
              "      <td>0.0</td>\n",
              "      <td>0.0</td>\n",
              "      <td>...</td>\n",
              "      <td>0.0</td>\n",
              "      <td>0.0</td>\n",
              "      <td>0.0</td>\n",
              "      <td>0.0</td>\n",
              "      <td>0.0</td>\n",
              "      <td>0.0</td>\n",
              "      <td>0.0</td>\n",
              "      <td>0.0</td>\n",
              "      <td>0.0</td>\n",
              "      <td>0.0</td>\n",
              "      <td>0.0</td>\n",
              "      <td>0.0</td>\n",
              "      <td>0.0</td>\n",
              "      <td>0.0</td>\n",
              "      <td>0.0</td>\n",
              "      <td>0.0</td>\n",
              "      <td>0.0</td>\n",
              "      <td>0.0</td>\n",
              "      <td>0.0</td>\n",
              "      <td>0.0</td>\n",
              "      <td>0.0</td>\n",
              "      <td>0.0</td>\n",
              "      <td>0.0</td>\n",
              "      <td>0.0</td>\n",
              "      <td>0.0</td>\n",
              "      <td>0.0</td>\n",
              "      <td>0.0</td>\n",
              "      <td>0.0</td>\n",
              "      <td>0.0</td>\n",
              "      <td>0.0</td>\n",
              "      <td>0.0</td>\n",
              "      <td>0.0</td>\n",
              "      <td>0.0</td>\n",
              "      <td>0.0</td>\n",
              "      <td>0.0</td>\n",
              "      <td>0.0</td>\n",
              "      <td>0.0</td>\n",
              "      <td>0.0</td>\n",
              "      <td>0.0</td>\n",
              "      <td>0.0</td>\n",
              "    </tr>\n",
              "    <tr>\n",
              "      <th>4 Blondes</th>\n",
              "      <td>0.0</td>\n",
              "      <td>0.0</td>\n",
              "      <td>0.0</td>\n",
              "      <td>0.0</td>\n",
              "      <td>0.0</td>\n",
              "      <td>0.0</td>\n",
              "      <td>0.0</td>\n",
              "      <td>0.0</td>\n",
              "      <td>0.0</td>\n",
              "      <td>0.0</td>\n",
              "      <td>0.0</td>\n",
              "      <td>0.0</td>\n",
              "      <td>0.0</td>\n",
              "      <td>0.0</td>\n",
              "      <td>0.0</td>\n",
              "      <td>0.0</td>\n",
              "      <td>0.0</td>\n",
              "      <td>0.0</td>\n",
              "      <td>0.0</td>\n",
              "      <td>0.0</td>\n",
              "      <td>0.0</td>\n",
              "      <td>0.0</td>\n",
              "      <td>0.0</td>\n",
              "      <td>5.0</td>\n",
              "      <td>0.0</td>\n",
              "      <td>0.0</td>\n",
              "      <td>0.0</td>\n",
              "      <td>0.0</td>\n",
              "      <td>0.0</td>\n",
              "      <td>0.0</td>\n",
              "      <td>0.0</td>\n",
              "      <td>0.0</td>\n",
              "      <td>0.0</td>\n",
              "      <td>0.0</td>\n",
              "      <td>0.0</td>\n",
              "      <td>0.0</td>\n",
              "      <td>0.0</td>\n",
              "      <td>0.0</td>\n",
              "      <td>0.0</td>\n",
              "      <td>0.0</td>\n",
              "      <td>...</td>\n",
              "      <td>0.0</td>\n",
              "      <td>5.0</td>\n",
              "      <td>0.0</td>\n",
              "      <td>0.0</td>\n",
              "      <td>0.0</td>\n",
              "      <td>0.0</td>\n",
              "      <td>0.0</td>\n",
              "      <td>0.0</td>\n",
              "      <td>0.0</td>\n",
              "      <td>0.0</td>\n",
              "      <td>0.0</td>\n",
              "      <td>0.0</td>\n",
              "      <td>0.0</td>\n",
              "      <td>0.0</td>\n",
              "      <td>0.0</td>\n",
              "      <td>0.0</td>\n",
              "      <td>0.0</td>\n",
              "      <td>0.0</td>\n",
              "      <td>0.0</td>\n",
              "      <td>0.0</td>\n",
              "      <td>0.0</td>\n",
              "      <td>0.0</td>\n",
              "      <td>0.0</td>\n",
              "      <td>0.0</td>\n",
              "      <td>0.0</td>\n",
              "      <td>0.0</td>\n",
              "      <td>0.0</td>\n",
              "      <td>0.0</td>\n",
              "      <td>0.0</td>\n",
              "      <td>0.0</td>\n",
              "      <td>0.0</td>\n",
              "      <td>0.0</td>\n",
              "      <td>0.0</td>\n",
              "      <td>0.0</td>\n",
              "      <td>0.0</td>\n",
              "      <td>0.0</td>\n",
              "      <td>0.0</td>\n",
              "      <td>0.0</td>\n",
              "      <td>0.0</td>\n",
              "      <td>0.0</td>\n",
              "    </tr>\n",
              "    <tr>\n",
              "      <th>84 Charing Cross Road</th>\n",
              "      <td>0.0</td>\n",
              "      <td>0.0</td>\n",
              "      <td>0.0</td>\n",
              "      <td>0.0</td>\n",
              "      <td>0.0</td>\n",
              "      <td>0.0</td>\n",
              "      <td>0.0</td>\n",
              "      <td>0.0</td>\n",
              "      <td>0.0</td>\n",
              "      <td>0.0</td>\n",
              "      <td>0.0</td>\n",
              "      <td>0.0</td>\n",
              "      <td>0.0</td>\n",
              "      <td>0.0</td>\n",
              "      <td>0.0</td>\n",
              "      <td>0.0</td>\n",
              "      <td>0.0</td>\n",
              "      <td>0.0</td>\n",
              "      <td>0.0</td>\n",
              "      <td>0.0</td>\n",
              "      <td>0.0</td>\n",
              "      <td>0.0</td>\n",
              "      <td>0.0</td>\n",
              "      <td>0.0</td>\n",
              "      <td>0.0</td>\n",
              "      <td>0.0</td>\n",
              "      <td>10.0</td>\n",
              "      <td>0.0</td>\n",
              "      <td>0.0</td>\n",
              "      <td>0.0</td>\n",
              "      <td>0.0</td>\n",
              "      <td>0.0</td>\n",
              "      <td>0.0</td>\n",
              "      <td>0.0</td>\n",
              "      <td>0.0</td>\n",
              "      <td>0.0</td>\n",
              "      <td>0.0</td>\n",
              "      <td>0.0</td>\n",
              "      <td>0.0</td>\n",
              "      <td>9.0</td>\n",
              "      <td>...</td>\n",
              "      <td>0.0</td>\n",
              "      <td>0.0</td>\n",
              "      <td>0.0</td>\n",
              "      <td>0.0</td>\n",
              "      <td>0.0</td>\n",
              "      <td>0.0</td>\n",
              "      <td>0.0</td>\n",
              "      <td>0.0</td>\n",
              "      <td>0.0</td>\n",
              "      <td>0.0</td>\n",
              "      <td>0.0</td>\n",
              "      <td>0.0</td>\n",
              "      <td>0.0</td>\n",
              "      <td>0.0</td>\n",
              "      <td>0.0</td>\n",
              "      <td>10.0</td>\n",
              "      <td>0.0</td>\n",
              "      <td>0.0</td>\n",
              "      <td>0.0</td>\n",
              "      <td>0.0</td>\n",
              "      <td>0.0</td>\n",
              "      <td>0.0</td>\n",
              "      <td>0.0</td>\n",
              "      <td>0.0</td>\n",
              "      <td>0.0</td>\n",
              "      <td>0.0</td>\n",
              "      <td>0.0</td>\n",
              "      <td>0.0</td>\n",
              "      <td>0.0</td>\n",
              "      <td>0.0</td>\n",
              "      <td>0.0</td>\n",
              "      <td>0.0</td>\n",
              "      <td>0.0</td>\n",
              "      <td>0.0</td>\n",
              "      <td>0.0</td>\n",
              "      <td>10.0</td>\n",
              "      <td>0.0</td>\n",
              "      <td>0.0</td>\n",
              "      <td>0.0</td>\n",
              "      <td>0.0</td>\n",
              "    </tr>\n",
              "  </tbody>\n",
              "</table>\n",
              "<p>5 rows × 894 columns</p>\n",
              "</div>"
            ],
            "text/plain": [
              "UserID                 254     2276    2766    ...  277478  277639  278418\n",
              "BookTitle                                      ...                        \n",
              "1984                      9.0     0.0     0.0  ...     0.0     0.0     0.0\n",
              "1st to Die: A Novel       0.0     0.0     0.0  ...     0.0     0.0     0.0\n",
              "2nd Chance                0.0    10.0     0.0  ...     0.0     0.0     0.0\n",
              "4 Blondes                 0.0     0.0     0.0  ...     0.0     0.0     0.0\n",
              "84 Charing Cross Road     0.0     0.0     0.0  ...     0.0     0.0     0.0\n",
              "\n",
              "[5 rows x 894 columns]"
            ]
          },
          "metadata": {
            "tags": []
          },
          "execution_count": 55
        }
      ]
    },
    {
      "cell_type": "code",
      "metadata": {
        "id": "BQkLu-GifhfU",
        "colab": {
          "base_uri": "https://localhost:8080/"
        },
        "outputId": "17e8c2f8-9f64-46ce-938c-40f220da3c08"
      },
      "source": [
        "final_df_matrix = csr_matrix(final_df_pivot.values)\n",
        "\n",
        "from sklearn.neighbors import NearestNeighbors\n",
        "\n",
        "model_knn = NearestNeighbors(metric = 'cosine', algorithm = 'brute')\n",
        "model_knn.fit(final_df_matrix)"
      ],
      "execution_count": null,
      "outputs": [
        {
          "output_type": "execute_result",
          "data": {
            "text/plain": [
              "NearestNeighbors(algorithm='brute', leaf_size=30, metric='cosine',\n",
              "                 metric_params=None, n_jobs=None, n_neighbors=5, p=2,\n",
              "                 radius=1.0)"
            ]
          },
          "metadata": {
            "tags": []
          },
          "execution_count": 57
        }
      ]
    },
    {
      "cell_type": "code",
      "metadata": {
        "id": "vl0kdBK2fhfX",
        "colab": {
          "base_uri": "https://localhost:8080/"
        },
        "outputId": "67b25710-56aa-4627-a30a-1f12e170ac1f"
      },
      "source": [
        "user_index = np.random.choice(final_df_pivot.shape[0])\n",
        "print(user_index)\n",
        "distances, indices = model_knn.kneighbors(final_df_pivot.iloc[user_index,:].values.reshape(1, -1), n_neighbors = 6)"
      ],
      "execution_count": null,
      "outputs": [
        {
          "output_type": "stream",
          "text": [
            "33\n"
          ],
          "name": "stdout"
        }
      ]
    },
    {
      "cell_type": "code",
      "metadata": {
        "id": "2mvh6WcPfhfY",
        "colab": {
          "base_uri": "https://localhost:8080/",
          "height": 36
        },
        "outputId": "4e885821-c3b9-4818-8270-c3ed2e0658ac"
      },
      "source": [
        "final_df_pivot.index[user_index]"
      ],
      "execution_count": null,
      "outputs": [
        {
          "output_type": "execute_result",
          "data": {
            "application/vnd.google.colaboratory.intrinsic+json": {
              "type": "string"
            },
            "text/plain": [
              "'Abduction'"
            ]
          },
          "metadata": {
            "tags": []
          },
          "execution_count": 62
        }
      ]
    },
    {
      "cell_type": "code",
      "metadata": {
        "id": "CML72jqsfhfY",
        "colab": {
          "base_uri": "https://localhost:8080/"
        },
        "outputId": "11373c90-2ffb-41a9-c6a6-faf590f72d7d"
      },
      "source": [
        "for i in range(0, len(distances.flatten())):\n",
        "    if i == 0:\n",
        "        print('Recommendations for {0}:\\n'.format(final_df_pivot.index[user_index]))\n",
        "    else:\n",
        "        print('{0}: {1}, with distance of {2}.'.format(i, final_df_pivot.index[indices.flatten()[i]], distances.flatten()[i]))"
      ],
      "execution_count": null,
      "outputs": [
        {
          "output_type": "stream",
          "text": [
            "Recommendations for Abduction:\n",
            "\n",
            "1: Contagion, with distance of 0.7221321631451291.\n",
            "2: Cradle and All, with distance of 0.7338326924039497.\n",
            "3: Eyes of Prey, with distance of 0.7586541858244813.\n",
            "4: The Killing Game: Only One Can Win...and the Loser Dies, with distance of 0.7750269116748811.\n",
            "5: The Bridges of Madison County, with distance of 0.7771738167413469.\n"
          ],
          "name": "stdout"
        }
      ]
    }
  ]
}